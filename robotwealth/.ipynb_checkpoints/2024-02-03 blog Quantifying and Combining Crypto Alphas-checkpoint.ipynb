{
 "cells": [
  {
   "cell_type": "markdown",
   "id": "9054de0c-7c79-4c58-99b9-598c1acc9813",
   "metadata": {},
   "source": [
    "# 2024-02-03 blog: Quantifying and Combining Crypto Alphas\n",
    "https://robotwealth.com/quantifying-and-combining-crypto-alphas/"
   ]
  }
 ],
 "metadata": {
  "kernelspec": {
   "display_name": "R",
   "language": "R",
   "name": "ir"
  },
  "language_info": {
   "codemirror_mode": "r",
   "file_extension": ".r",
   "mimetype": "text/x-r-source",
   "name": "R",
   "pygments_lexer": "r",
   "version": "4.3.3"
  }
 },
 "nbformat": 4,
 "nbformat_minor": 5
}

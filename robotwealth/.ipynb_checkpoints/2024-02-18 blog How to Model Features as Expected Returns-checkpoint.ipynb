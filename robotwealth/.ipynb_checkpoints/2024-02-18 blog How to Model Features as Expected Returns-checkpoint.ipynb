{
 "cells": [
  {
   "cell_type": "markdown",
   "id": "a30fc4d3-039c-4434-8429-eeef762d8c75",
   "metadata": {},
   "source": [
    "# 2024-03-03 blog: Quantifying and Combining Crypto Alphas\n",
    "https://robotwealth.com/quantifying-and-combining-crypto-alphas/"
   ]
  },
  {
   "cell_type": "code",
   "execution_count": 1,
   "id": "19311449-8129-4b3f-9835-5e15e7a4a8e7",
   "metadata": {},
   "outputs": [
    {
     "name": "stderr",
     "output_type": "stream",
     "text": [
      "Installing package into ‘/usr/lib64/R/library’\n",
      "(as ‘lib’ is unspecified)\n",
      "\n",
      "Updating HTML index of packages in '.Library'\n",
      "\n",
      "Making 'packages.html' ...\n",
      " done\n",
      "\n"
     ]
    }
   ],
   "source": [
    "install.packages(\"pacman\")"
   ]
  },
  {
   "cell_type": "code",
   "execution_count": 2,
   "id": "f6daa197-f69c-406e-8a4b-63b635acd703",
   "metadata": {},
   "outputs": [
    {
     "name": "stderr",
     "output_type": "stream",
     "text": [
      "── \u001b[1mAttaching core tidyverse packages\u001b[22m ──────────────────────── tidyverse 2.0.0 ──\n",
      "\u001b[32m✔\u001b[39m \u001b[34mdplyr    \u001b[39m 1.1.4     \u001b[32m✔\u001b[39m \u001b[34mreadr    \u001b[39m 2.1.5\n",
      "\u001b[32m✔\u001b[39m \u001b[34mforcats  \u001b[39m 1.0.0     \u001b[32m✔\u001b[39m \u001b[34mstringr  \u001b[39m 1.5.1\n",
      "\u001b[32m✔\u001b[39m \u001b[34mggplot2  \u001b[39m 3.5.0     \u001b[32m✔\u001b[39m \u001b[34mtibble   \u001b[39m 3.2.1\n",
      "\u001b[32m✔\u001b[39m \u001b[34mlubridate\u001b[39m 1.9.3     \u001b[32m✔\u001b[39m \u001b[34mtidyr    \u001b[39m 1.3.1\n",
      "\u001b[32m✔\u001b[39m \u001b[34mpurrr    \u001b[39m 1.0.2     \n",
      "── \u001b[1mConflicts\u001b[22m ────────────────────────────────────────── tidyverse_conflicts() ──\n",
      "\u001b[31m✖\u001b[39m \u001b[34mdplyr\u001b[39m::\u001b[32mfilter()\u001b[39m masks \u001b[34mstats\u001b[39m::filter()\n",
      "\u001b[31m✖\u001b[39m \u001b[34mdplyr\u001b[39m::\u001b[32mlag()\u001b[39m    masks \u001b[34mstats\u001b[39m::lag()\n",
      "\u001b[36mℹ\u001b[39m Use the conflicted package (\u001b[3m\u001b[34m<http://conflicted.r-lib.org/>\u001b[39m\u001b[23m) to force all conflicts to become errors\n"
     ]
    },
    {
     "ename": "ERROR",
     "evalue": "Error in library(tidyfit): there is no package called ‘tidyfit’\n",
     "output_type": "error",
     "traceback": [
      "Error in library(tidyfit): there is no package called ‘tidyfit’\nTraceback:\n",
      "1. library(tidyfit)"
     ]
    }
   ],
   "source": [
    "# session  options\n",
    "options(repr.plot.width = 14, repr.plot.height=7, warn = -1)\n",
    "\n",
    "library(tidyverse)\n",
    "library(tidyfit)\n",
    "library(tibbletime)\n",
    "library(roll)\n",
    "library(patchwork)\n",
    "pacman::p_load_current_gh(\"Robot-Wealth/rsims\", dependencies = TRUE)\n",
    "\n",
    "# chart options\n",
    "theme_set(theme_bw())\n",
    "theme_update(text = element_text(size = 20))"
   ]
  }
 ],
 "metadata": {
  "kernelspec": {
   "display_name": "R",
   "language": "R",
   "name": "ir"
  },
  "language_info": {
   "codemirror_mode": "r",
   "file_extension": ".r",
   "mimetype": "text/x-r-source",
   "name": "R",
   "pygments_lexer": "r",
   "version": "4.3.3"
  }
 },
 "nbformat": 4,
 "nbformat_minor": 5
}

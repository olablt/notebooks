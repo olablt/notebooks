{
  "nbformat": 4,
  "nbformat_minor": 0,
  "metadata": {
    "colab": {
      "name": "btc_dogshit_basket.ipynb",
      "provenance": [],
      "authorship_tag": "ABX9TyMyZdDuVqRvVuh3KQwCZg5B",
      "include_colab_link": true
    },
    "kernelspec": {
      "name": "ir",
      "display_name": "R"
    },
    "language_info": {
      "name": "R"
    }
  },
  "cells": [
    {
      "cell_type": "markdown",
      "metadata": {
        "id": "view-in-github",
        "colab_type": "text"
      },
      "source": [
        "<a href=\"https://colab.research.google.com/github/RWLab/crypto-pod/blob/main/trading/btc_dogshit_basket.ipynb\" target=\"_parent\"><img src=\"https://colab.research.google.com/assets/colab-badge.svg\" alt=\"Open In Colab\"/></a>"
      ]
    },
    {
      "cell_type": "code",
      "execution_count": 1,
      "metadata": {
        "id": "aamiQJunkO0o",
        "colab": {
          "base_uri": "https://localhost:8080/"
        },
        "outputId": "db235a3e-ea7d-4b8c-c71e-ee1e5565fe59"
      },
      "outputs": [
        {
          "output_type": "stream",
          "name": "stderr",
          "text": [
            "Installing package into ‘/usr/local/lib/R/site-library’\n",
            "(as ‘lib’ is unspecified)\n",
            "\n"
          ]
        },
        {
          "output_type": "stream",
          "name": "stdout",
          "text": [
            "\u001b[36m──\u001b[39m \u001b[36mR CMD build\u001b[39m \u001b[36m─────────────────────────────────────────────────────────────────\u001b[39m\n",
            "* checking for file ‘/tmp/RtmpQl9nET/remotes80516b8bbd/RWLab-rwRtools-9bce833/DESCRIPTION’ ... OK\n",
            "* preparing ‘rwRtools’:\n",
            "* checking DESCRIPTION meta-information ... OK\n",
            "* checking for LF line-endings in source and make files and shell scripts\n",
            "* checking for empty or unneeded directories\n",
            "Omitted ‘LazyData’ from DESCRIPTION\n",
            "  NB: this package now depends on R (>= 3.5.0)\n",
            "  WARNING: Added dependency on R >= 3.5.0 because serialized objects in\n",
            "  serialize/load version 3 cannot be read in older versions of R.\n",
            "  File(s) containing such objects:\n",
            "    ‘rwRtools/R/sysdata.rda’\n",
            "* building ‘rwRtools_0.1.34.tar.gz’\n",
            "\n"
          ]
        }
      ],
      "source": [
        "# snippet: rw load rwRtools v0.8\n",
        "source(\"https://raw.githubusercontent.com/RWLab/rwRtools/master/examples/colab/load_libraries.R\")\n",
        "debug_msg <- load_libraries(load_rsims = FALSE, extra_libraries = c('slider', 'glue', 'CVXR'), extra_dependencies = c())\n",
        "\n",
        "# cat(debug_msg)\n",
        "\n",
        "# Set chart options\n",
        "options(repr.plot.width = 14, repr.plot.height=7)\n",
        "theme_set(theme_bw())\n",
        "theme_update(text = element_text(size = 20))"
      ]
    },
    {
      "cell_type": "code",
      "source": [
        "rwRtools::rwlab_data_auth()"
      ],
      "metadata": {
        "colab": {
          "base_uri": "https://localhost:8080/"
        },
        "id": "WooAR155kdKY",
        "outputId": "ea95ab3c-c40a-44d0-ac9c-7e1dde0ad2a5"
      },
      "execution_count": 2,
      "outputs": [
        {
          "output_type": "stream",
          "name": "stdout",
          "text": [
            "Authorization successful!"
          ]
        }
      ]
    },
    {
      "cell_type": "markdown",
      "source": [
        "## Get perp data"
      ],
      "metadata": {
        "id": "eUNUxnR2koQG"
      }
    },
    {
      "cell_type": "code",
      "source": [
        "rwRtools:::transfer_lab_object(\n",
        "      pod = \"Crypto\",\n",
        "      object = \"ftx_futures_ohlc_1h.feather\",\n",
        "      path = \".\"\n",
        ")\n",
        "\n",
        "futs <- feather::read_feather('ftx_futures_ohlc_1h.feather')\n",
        "futs <- futs %>% mutate(date = lubridate::as_datetime(date)) %>%\n",
        "  filter(str_detect(ticker, \"-PERP\"))\n",
        "\n",
        "tail(futs)"
      ],
      "metadata": {
        "colab": {
          "base_uri": "https://localhost:8080/",
          "height": 425
        },
        "id": "CSWJBFCxkfha",
        "outputId": "0514ebc9-dc82-4e05-9a80-7cc05a52233e"
      },
      "execution_count": 3,
      "outputs": [
        {
          "output_type": "stream",
          "name": "stderr",
          "text": [
            "\u001b[36mℹ\u001b[39m Downloading ftx_futures_ohlc_1h.feather\n",
            "\n",
            "\u001b[32m✔\u001b[39m Saved ftx_futures_ohlc_1h.feather to ./ftx_futures_ohlc_1h.feather  ( 232.4 M…\n",
            "\n",
            "\n",
            "\n"
          ]
        },
        {
          "output_type": "stream",
          "name": "stdout",
          "text": [
            "File successfully transferred\n"
          ]
        },
        {
          "output_type": "display_data",
          "data": {
            "text/html": [
              "TRUE"
            ],
            "text/markdown": "TRUE",
            "text/latex": "TRUE",
            "text/plain": [
              "[1] TRUE"
            ]
          },
          "metadata": {}
        },
        {
          "output_type": "display_data",
          "data": {
            "text/html": [
              "<table class=\"dataframe\">\n",
              "<caption>A tibble: 6 × 7</caption>\n",
              "<thead>\n",
              "\t<tr><th scope=col>ticker</th><th scope=col>date</th><th scope=col>open</th><th scope=col>high</th><th scope=col>low</th><th scope=col>close</th><th scope=col>volume</th></tr>\n",
              "\t<tr><th scope=col>&lt;chr&gt;</th><th scope=col>&lt;dttm&gt;</th><th scope=col>&lt;dbl&gt;</th><th scope=col>&lt;dbl&gt;</th><th scope=col>&lt;dbl&gt;</th><th scope=col>&lt;dbl&gt;</th><th scope=col>&lt;dbl&gt;</th></tr>\n",
              "</thead>\n",
              "<tbody>\n",
              "\t<tr><td>ZRX-PERP</td><td>2022-11-11 19:00:00</td><td>0.180225</td><td>0.181225</td><td>0.178750</td><td>0.181225</td><td>1227.9917</td></tr>\n",
              "\t<tr><td>ZRX-PERP</td><td>2022-11-11 20:00:00</td><td>0.181225</td><td>0.181225</td><td>0.177650</td><td>0.177650</td><td>1274.5441</td></tr>\n",
              "\t<tr><td>ZRX-PERP</td><td>2022-11-11 21:00:00</td><td>0.177650</td><td>0.180725</td><td>0.177650</td><td>0.180650</td><td> 966.6679</td></tr>\n",
              "\t<tr><td>ZRX-PERP</td><td>2022-11-11 22:00:00</td><td>0.180650</td><td>0.181950</td><td>0.180475</td><td>0.181950</td><td> 263.9651</td></tr>\n",
              "\t<tr><td>ZRX-PERP</td><td>2022-11-11 23:00:00</td><td>0.181950</td><td>0.181950</td><td>0.180775</td><td>0.181925</td><td> 884.3130</td></tr>\n",
              "\t<tr><td>ZRX-PERP</td><td>2022-11-12 00:00:00</td><td>0.181925</td><td>0.182625</td><td>0.181550</td><td>0.181700</td><td> 106.2685</td></tr>\n",
              "</tbody>\n",
              "</table>\n"
            ],
            "text/markdown": "\nA tibble: 6 × 7\n\n| ticker &lt;chr&gt; | date &lt;dttm&gt; | open &lt;dbl&gt; | high &lt;dbl&gt; | low &lt;dbl&gt; | close &lt;dbl&gt; | volume &lt;dbl&gt; |\n|---|---|---|---|---|---|---|\n| ZRX-PERP | 2022-11-11 19:00:00 | 0.180225 | 0.181225 | 0.178750 | 0.181225 | 1227.9917 |\n| ZRX-PERP | 2022-11-11 20:00:00 | 0.181225 | 0.181225 | 0.177650 | 0.177650 | 1274.5441 |\n| ZRX-PERP | 2022-11-11 21:00:00 | 0.177650 | 0.180725 | 0.177650 | 0.180650 |  966.6679 |\n| ZRX-PERP | 2022-11-11 22:00:00 | 0.180650 | 0.181950 | 0.180475 | 0.181950 |  263.9651 |\n| ZRX-PERP | 2022-11-11 23:00:00 | 0.181950 | 0.181950 | 0.180775 | 0.181925 |  884.3130 |\n| ZRX-PERP | 2022-11-12 00:00:00 | 0.181925 | 0.182625 | 0.181550 | 0.181700 |  106.2685 |\n\n",
            "text/latex": "A tibble: 6 × 7\n\\begin{tabular}{lllllll}\n ticker & date & open & high & low & close & volume\\\\\n <chr> & <dttm> & <dbl> & <dbl> & <dbl> & <dbl> & <dbl>\\\\\n\\hline\n\t ZRX-PERP & 2022-11-11 19:00:00 & 0.180225 & 0.181225 & 0.178750 & 0.181225 & 1227.9917\\\\\n\t ZRX-PERP & 2022-11-11 20:00:00 & 0.181225 & 0.181225 & 0.177650 & 0.177650 & 1274.5441\\\\\n\t ZRX-PERP & 2022-11-11 21:00:00 & 0.177650 & 0.180725 & 0.177650 & 0.180650 &  966.6679\\\\\n\t ZRX-PERP & 2022-11-11 22:00:00 & 0.180650 & 0.181950 & 0.180475 & 0.181950 &  263.9651\\\\\n\t ZRX-PERP & 2022-11-11 23:00:00 & 0.181950 & 0.181950 & 0.180775 & 0.181925 &  884.3130\\\\\n\t ZRX-PERP & 2022-11-12 00:00:00 & 0.181925 & 0.182625 & 0.181550 & 0.181700 &  106.2685\\\\\n\\end{tabular}\n",
            "text/plain": [
              "  ticker   date                open     high     low      close    volume   \n",
              "1 ZRX-PERP 2022-11-11 19:00:00 0.180225 0.181225 0.178750 0.181225 1227.9917\n",
              "2 ZRX-PERP 2022-11-11 20:00:00 0.181225 0.181225 0.177650 0.177650 1274.5441\n",
              "3 ZRX-PERP 2022-11-11 21:00:00 0.177650 0.180725 0.177650 0.180650  966.6679\n",
              "4 ZRX-PERP 2022-11-11 22:00:00 0.180650 0.181950 0.180475 0.181950  263.9651\n",
              "5 ZRX-PERP 2022-11-11 23:00:00 0.181950 0.181950 0.180775 0.181925  884.3130\n",
              "6 ZRX-PERP 2022-11-12 00:00:00 0.181925 0.182625 0.181550 0.181700  106.2685"
            ]
          },
          "metadata": {}
        }
      ]
    },
    {
      "cell_type": "code",
      "source": [
        "# make daily OHLCV (UTC midnight - UTC midnight)\n",
        "daily_futs <- futs %>%\n",
        "  separate(date, into = c(\"date\", \"time\"), sep = \" \") %>%\n",
        "  group_by(ticker, date) %>%\n",
        "  summarise(\n",
        "    open = first(open),\n",
        "    high = max(high),\n",
        "    low = min(low),\n",
        "    close = last(close),\n",
        "    volume = sum(volume)\n",
        "  ) %>%\n",
        "  mutate(date = as_date(date))\n",
        "\n",
        "tail(daily_futs)\n",
        "\n",
        "daily_futs %>%\n",
        "  filter(ticker %in% c(\"BTC-PERP\", \"ETH-PERP\")) %>%\n",
        "  ggplot(aes(x = date, y = close)) +\n",
        "    geom_line() +\n",
        "    facet_wrap(~ticker, ncol = 1, scales = \"free_y\")"
      ],
      "metadata": {
        "colab": {
          "base_uri": "https://localhost:8080/",
          "height": 741
        },
        "id": "5FVYuDedkvn0",
        "outputId": "d7163003-d705-4619-dfbb-d8d8ca656796"
      },
      "execution_count": 4,
      "outputs": [
        {
          "output_type": "stream",
          "name": "stderr",
          "text": [
            "\u001b[1m\u001b[22m`summarise()` has grouped output by 'ticker'. You can override using the\n",
            "`.groups` argument.\n"
          ]
        },
        {
          "output_type": "display_data",
          "data": {
            "text/html": [
              "<table class=\"dataframe\">\n",
              "<caption>A grouped_df: 6 × 7</caption>\n",
              "<thead>\n",
              "\t<tr><th scope=col>ticker</th><th scope=col>date</th><th scope=col>open</th><th scope=col>high</th><th scope=col>low</th><th scope=col>close</th><th scope=col>volume</th></tr>\n",
              "\t<tr><th scope=col>&lt;chr&gt;</th><th scope=col>&lt;date&gt;</th><th scope=col>&lt;dbl&gt;</th><th scope=col>&lt;dbl&gt;</th><th scope=col>&lt;dbl&gt;</th><th scope=col>&lt;dbl&gt;</th><th scope=col>&lt;dbl&gt;</th></tr>\n",
              "</thead>\n",
              "<tbody>\n",
              "\t<tr><td>ZRX-PERP</td><td>2022-11-07</td><td>0.256250</td><td>0.263350</td><td>0.25110</td><td>0.258050</td><td>7.735182e+05</td></tr>\n",
              "\t<tr><td>ZRX-PERP</td><td>2022-11-08</td><td>0.258050</td><td>0.261650</td><td>0.19185</td><td>0.210100</td><td>1.739116e+07</td></tr>\n",
              "\t<tr><td>ZRX-PERP</td><td>2022-11-09</td><td>0.210100</td><td>0.213425</td><td>0.15965</td><td>0.163425</td><td>2.691925e+06</td></tr>\n",
              "\t<tr><td>ZRX-PERP</td><td>2022-11-10</td><td>0.163425</td><td>0.196250</td><td>0.15965</td><td>0.188800</td><td>6.549381e+05</td></tr>\n",
              "\t<tr><td>ZRX-PERP</td><td>2022-11-11</td><td>0.188800</td><td>0.196450</td><td>0.17155</td><td>0.181925</td><td>1.322139e+05</td></tr>\n",
              "\t<tr><td>ZRX-PERP</td><td>2022-11-12</td><td>0.181925</td><td>0.182625</td><td>0.18155</td><td>0.181700</td><td>1.062685e+02</td></tr>\n",
              "</tbody>\n",
              "</table>\n"
            ],
            "text/markdown": "\nA grouped_df: 6 × 7\n\n| ticker &lt;chr&gt; | date &lt;date&gt; | open &lt;dbl&gt; | high &lt;dbl&gt; | low &lt;dbl&gt; | close &lt;dbl&gt; | volume &lt;dbl&gt; |\n|---|---|---|---|---|---|---|\n| ZRX-PERP | 2022-11-07 | 0.256250 | 0.263350 | 0.25110 | 0.258050 | 7.735182e+05 |\n| ZRX-PERP | 2022-11-08 | 0.258050 | 0.261650 | 0.19185 | 0.210100 | 1.739116e+07 |\n| ZRX-PERP | 2022-11-09 | 0.210100 | 0.213425 | 0.15965 | 0.163425 | 2.691925e+06 |\n| ZRX-PERP | 2022-11-10 | 0.163425 | 0.196250 | 0.15965 | 0.188800 | 6.549381e+05 |\n| ZRX-PERP | 2022-11-11 | 0.188800 | 0.196450 | 0.17155 | 0.181925 | 1.322139e+05 |\n| ZRX-PERP | 2022-11-12 | 0.181925 | 0.182625 | 0.18155 | 0.181700 | 1.062685e+02 |\n\n",
            "text/latex": "A grouped\\_df: 6 × 7\n\\begin{tabular}{lllllll}\n ticker & date & open & high & low & close & volume\\\\\n <chr> & <date> & <dbl> & <dbl> & <dbl> & <dbl> & <dbl>\\\\\n\\hline\n\t ZRX-PERP & 2022-11-07 & 0.256250 & 0.263350 & 0.25110 & 0.258050 & 7.735182e+05\\\\\n\t ZRX-PERP & 2022-11-08 & 0.258050 & 0.261650 & 0.19185 & 0.210100 & 1.739116e+07\\\\\n\t ZRX-PERP & 2022-11-09 & 0.210100 & 0.213425 & 0.15965 & 0.163425 & 2.691925e+06\\\\\n\t ZRX-PERP & 2022-11-10 & 0.163425 & 0.196250 & 0.15965 & 0.188800 & 6.549381e+05\\\\\n\t ZRX-PERP & 2022-11-11 & 0.188800 & 0.196450 & 0.17155 & 0.181925 & 1.322139e+05\\\\\n\t ZRX-PERP & 2022-11-12 & 0.181925 & 0.182625 & 0.18155 & 0.181700 & 1.062685e+02\\\\\n\\end{tabular}\n",
            "text/plain": [
              "  ticker   date       open     high     low     close    volume      \n",
              "1 ZRX-PERP 2022-11-07 0.256250 0.263350 0.25110 0.258050 7.735182e+05\n",
              "2 ZRX-PERP 2022-11-08 0.258050 0.261650 0.19185 0.210100 1.739116e+07\n",
              "3 ZRX-PERP 2022-11-09 0.210100 0.213425 0.15965 0.163425 2.691925e+06\n",
              "4 ZRX-PERP 2022-11-10 0.163425 0.196250 0.15965 0.188800 6.549381e+05\n",
              "5 ZRX-PERP 2022-11-11 0.188800 0.196450 0.17155 0.181925 1.322139e+05\n",
              "6 ZRX-PERP 2022-11-12 0.181925 0.182625 0.18155 0.181700 1.062685e+02"
            ]
          },
          "metadata": {}
        },
        {
          "output_type": "display_data",
          "data": {
            "text/plain": [
              "plot without title"
            ],
            "image/png": "[encoded data removed]"
          },
          "metadata": {
            "image/png": {
              "width": 840,
              "height": 420
            }
          }
        }
      ]
    },
    {
      "cell_type": "markdown",
      "source": [
        "## Make returns"
      ],
      "metadata": {
        "id": "ew_iF5aBk87T"
      }
    },
    {
      "cell_type": "code",
      "source": [
        "returns <- daily_futs %>%\n",
        "  group_by(ticker) %>%\n",
        "  arrange(date) %>%\n",
        "  select(ticker, date, close) %>%\n",
        "  mutate(log_return = log(close / lag(close, n = 1))) %>%\n",
        "  mutate(simple_return = close / lag(close, n = 1) - 1) %>%\n",
        "  na.omit() %>%\n",
        "  ungroup()\n",
        "\n",
        "tail(returns)"
      ],
      "metadata": {
        "colab": {
          "base_uri": "https://localhost:8080/",
          "height": 286
        },
        "id": "9hY1QHQuk3xa",
        "outputId": "6bc4d7a2-d86b-451a-a800-9e60c59ea0ba"
      },
      "execution_count": 5,
      "outputs": [
        {
          "output_type": "display_data",
          "data": {
            "text/html": [
              "<table class=\"dataframe\">\n",
              "<caption>A tibble: 6 × 5</caption>\n",
              "<thead>\n",
              "\t<tr><th scope=col>ticker</th><th scope=col>date</th><th scope=col>close</th><th scope=col>log_return</th><th scope=col>simple_return</th></tr>\n",
              "\t<tr><th scope=col>&lt;chr&gt;</th><th scope=col>&lt;date&gt;</th><th scope=col>&lt;dbl&gt;</th><th scope=col>&lt;dbl&gt;</th><th scope=col>&lt;dbl&gt;</th></tr>\n",
              "</thead>\n",
              "<tbody>\n",
              "\t<tr><td>XTZ-PERP </td><td>2022-11-12</td><td>   1.01570</td><td> 0.024013509</td><td> 0.024304155</td></tr>\n",
              "\t<tr><td>YFI-PERP </td><td>2022-11-12</td><td>6195.00000</td><td> 0.029486166</td><td> 0.029925187</td></tr>\n",
              "\t<tr><td>YFII-PERP</td><td>2022-11-12</td><td>1745.00000</td><td>-0.010829402</td><td>-0.010770975</td></tr>\n",
              "\t<tr><td>ZEC-PERP </td><td>2022-11-12</td><td>  39.18000</td><td>-0.005091661</td><td>-0.005078720</td></tr>\n",
              "\t<tr><td>ZIL-PERP </td><td>2022-11-12</td><td>   0.02186</td><td> 0.009191241</td><td> 0.009233610</td></tr>\n",
              "\t<tr><td>ZRX-PERP </td><td>2022-11-12</td><td>   0.18170</td><td>-0.001237539</td><td>-0.001236773</td></tr>\n",
              "</tbody>\n",
              "</table>\n"
            ],
            "text/markdown": "\nA tibble: 6 × 5\n\n| ticker &lt;chr&gt; | date &lt;date&gt; | close &lt;dbl&gt; | log_return &lt;dbl&gt; | simple_return &lt;dbl&gt; |\n|---|---|---|---|---|\n| XTZ-PERP  | 2022-11-12 |    1.01570 |  0.024013509 |  0.024304155 |\n| YFI-PERP  | 2022-11-12 | 6195.00000 |  0.029486166 |  0.029925187 |\n| YFII-PERP | 2022-11-12 | 1745.00000 | -0.010829402 | -0.010770975 |\n| ZEC-PERP  | 2022-11-12 |   39.18000 | -0.005091661 | -0.005078720 |\n| ZIL-PERP  | 2022-11-12 |    0.02186 |  0.009191241 |  0.009233610 |\n| ZRX-PERP  | 2022-11-12 |    0.18170 | -0.001237539 | -0.001236773 |\n\n",
            "text/latex": "A tibble: 6 × 5\n\\begin{tabular}{lllll}\n ticker & date & close & log\\_return & simple\\_return\\\\\n <chr> & <date> & <dbl> & <dbl> & <dbl>\\\\\n\\hline\n\t XTZ-PERP  & 2022-11-12 &    1.01570 &  0.024013509 &  0.024304155\\\\\n\t YFI-PERP  & 2022-11-12 & 6195.00000 &  0.029486166 &  0.029925187\\\\\n\t YFII-PERP & 2022-11-12 & 1745.00000 & -0.010829402 & -0.010770975\\\\\n\t ZEC-PERP  & 2022-11-12 &   39.18000 & -0.005091661 & -0.005078720\\\\\n\t ZIL-PERP  & 2022-11-12 &    0.02186 &  0.009191241 &  0.009233610\\\\\n\t ZRX-PERP  & 2022-11-12 &    0.18170 & -0.001237539 & -0.001236773\\\\\n\\end{tabular}\n",
            "text/plain": [
              "  ticker    date       close      log_return   simple_return\n",
              "1 XTZ-PERP  2022-11-12    1.01570  0.024013509  0.024304155 \n",
              "2 YFI-PERP  2022-11-12 6195.00000  0.029486166  0.029925187 \n",
              "3 YFII-PERP 2022-11-12 1745.00000 -0.010829402 -0.010770975 \n",
              "4 ZEC-PERP  2022-11-12   39.18000 -0.005091661 -0.005078720 \n",
              "5 ZIL-PERP  2022-11-12    0.02186  0.009191241  0.009233610 \n",
              "6 ZRX-PERP  2022-11-12    0.18170 -0.001237539 -0.001236773 "
            ]
          },
          "metadata": {}
        }
      ]
    },
    {
      "cell_type": "markdown",
      "source": [
        "Ditch stuff we wouldn't trade:\n",
        "\n",
        "Any others? Probably get rid of the non-shit ones. (ETH, LTC etc)\n",
        "\n"
      ],
      "metadata": {
        "id": "G37-dh2Ovh2e"
      }
    },
    {
      "cell_type": "code",
      "source": [
        "to_ditch = c('CUSDT-PERP','USDT-PERP','BRZ-PERP','XAUT-PERP','TRYB-PERP','AMPL-PERP')\n",
        "returns <- returns %>%\n",
        "  filter(!ticker %in% to_ditch)"
      ],
      "metadata": {
        "id": "pUU-MKOhvpq3"
      },
      "execution_count": 6,
      "outputs": []
    },
    {
      "cell_type": "markdown",
      "source": [
        "## Calculate beta to BTC\n",
        "\n",
        "$\\beta = \\frac{Cov(R_{BTC}, R_{dogshit})}{Var(R_{BTC}}$"
      ],
      "metadata": {
        "id": "T_EkTiZ3k-4c"
      }
    },
    {
      "cell_type": "code",
      "source": [
        "# make a long df with the btc-perp return in a column\n",
        "beta_returns <- returns %>%\n",
        "  # filter(ticker %in% c(\"BTC-PERP\", \"ETH-PERP\", \"LTC-PERP\")) %>%\n",
        "  select(ticker, date, log_return) %>%\n",
        "  pivot_wider(id_cols = date, names_from = ticker, values_from = log_return) %>%\n",
        "  pivot_longer(cols = c(-date, -`BTC-PERP`), names_to = \"ticker\", values_to = \"log_return\") %>%\n",
        "  rename(\"BTC_return\" = `BTC-PERP`)\n",
        "\n",
        "tail(beta_returns)"
      ],
      "metadata": {
        "colab": {
          "base_uri": "https://localhost:8080/",
          "height": 286
        },
        "id": "ucJddGMtk-vn",
        "outputId": "360a49d8-a45c-449d-9fcb-6beaa85f6144"
      },
      "execution_count": 7,
      "outputs": [
        {
          "output_type": "display_data",
          "data": {
            "text/html": [
              "<table class=\"dataframe\">\n",
              "<caption>A tibble: 6 × 4</caption>\n",
              "<thead>\n",
              "\t<tr><th scope=col>date</th><th scope=col>BTC_return</th><th scope=col>ticker</th><th scope=col>log_return</th></tr>\n",
              "\t<tr><th scope=col>&lt;date&gt;</th><th scope=col>&lt;dbl&gt;</th><th scope=col>&lt;chr&gt;</th><th scope=col>&lt;dbl&gt;</th></tr>\n",
              "</thead>\n",
              "<tbody>\n",
              "\t<tr><td>2022-11-12</td><td>-0.001892372</td><td>FTXDXY-PERP</td><td> 0.0000000000</td></tr>\n",
              "\t<tr><td>2022-11-12</td><td>-0.001892372</td><td>APT-PERP   </td><td> 0.0079712934</td></tr>\n",
              "\t<tr><td>2022-11-12</td><td>-0.001892372</td><td>KLAY-PERP  </td><td> 0.0046911736</td></tr>\n",
              "\t<tr><td>2022-11-12</td><td>-0.001892372</td><td>INJ-PERP   </td><td>-0.0006015942</td></tr>\n",
              "\t<tr><td>2022-11-12</td><td>-0.001892372</td><td>JPY-PERP   </td><td>-0.0298198366</td></tr>\n",
              "\t<tr><td>2022-11-12</td><td>-0.001892372</td><td>MASK-PERP  </td><td> 0.0025848916</td></tr>\n",
              "</tbody>\n",
              "</table>\n"
            ],
            "text/markdown": "\nA tibble: 6 × 4\n\n| date &lt;date&gt; | BTC_return &lt;dbl&gt; | ticker &lt;chr&gt; | log_return &lt;dbl&gt; |\n|---|---|---|---|\n| 2022-11-12 | -0.001892372 | FTXDXY-PERP |  0.0000000000 |\n| 2022-11-12 | -0.001892372 | APT-PERP    |  0.0079712934 |\n| 2022-11-12 | -0.001892372 | KLAY-PERP   |  0.0046911736 |\n| 2022-11-12 | -0.001892372 | INJ-PERP    | -0.0006015942 |\n| 2022-11-12 | -0.001892372 | JPY-PERP    | -0.0298198366 |\n| 2022-11-12 | -0.001892372 | MASK-PERP   |  0.0025848916 |\n\n",
            "text/latex": "A tibble: 6 × 4\n\\begin{tabular}{llll}\n date & BTC\\_return & ticker & log\\_return\\\\\n <date> & <dbl> & <chr> & <dbl>\\\\\n\\hline\n\t 2022-11-12 & -0.001892372 & FTXDXY-PERP &  0.0000000000\\\\\n\t 2022-11-12 & -0.001892372 & APT-PERP    &  0.0079712934\\\\\n\t 2022-11-12 & -0.001892372 & KLAY-PERP   &  0.0046911736\\\\\n\t 2022-11-12 & -0.001892372 & INJ-PERP    & -0.0006015942\\\\\n\t 2022-11-12 & -0.001892372 & JPY-PERP    & -0.0298198366\\\\\n\t 2022-11-12 & -0.001892372 & MASK-PERP   &  0.0025848916\\\\\n\\end{tabular}\n",
            "text/plain": [
              "  date       BTC_return   ticker      log_return   \n",
              "1 2022-11-12 -0.001892372 FTXDXY-PERP  0.0000000000\n",
              "2 2022-11-12 -0.001892372 APT-PERP     0.0079712934\n",
              "3 2022-11-12 -0.001892372 KLAY-PERP    0.0046911736\n",
              "4 2022-11-12 -0.001892372 INJ-PERP    -0.0006015942\n",
              "5 2022-11-12 -0.001892372 JPY-PERP    -0.0298198366\n",
              "6 2022-11-12 -0.001892372 MASK-PERP    0.0025848916"
            ]
          },
          "metadata": {}
        }
      ]
    },
    {
      "cell_type": "code",
      "source": [
        "# BTC variance\n",
        "var_btc <- beta_returns %>%\n",
        "  select(date, BTC_return) %>%\n",
        "  distinct() %>%\n",
        "  pull(BTC_return) %>%\n",
        "  var()\n",
        "\n",
        "var_btc"
      ],
      "metadata": {
        "colab": {
          "base_uri": "https://localhost:8080/",
          "height": 34
        },
        "id": "eDJNgCWKIvaU",
        "outputId": "f1a6bc27-7f64-402f-ee86-3a7333414b38"
      },
      "execution_count": 8,
      "outputs": [
        {
          "output_type": "display_data",
          "data": {
            "text/html": [
              "0.00157181807884958"
            ],
            "text/markdown": "0.00157181807884958",
            "text/latex": "0.00157181807884958",
            "text/plain": [
              "[1] 0.001571818"
            ]
          },
          "metadata": {}
        }
      ]
    },
    {
      "cell_type": "code",
      "source": [
        "# calculate beta of everything to BTC\n",
        "# \"pairwise.complete.obs\" uses complete observations for each pair of variables\n",
        "beta <- beta_returns %>%\n",
        "  group_by(ticker) %>%\n",
        "  summarise(beta = cov(BTC_return, log_return, use = \"pairwise.complete.obs\")/var_btc) %>%\n",
        "  bind_rows(data.frame(ticker = \"BTC-PERP\", beta = 1)) %>%\n",
        "  arrange(desc(beta))\n",
        "\n",
        "head(beta)"
      ],
      "metadata": {
        "colab": {
          "base_uri": "https://localhost:8080/",
          "height": 286
        },
        "id": "Ap_Erao2oYZd",
        "outputId": "60ba4343-c65e-4cbc-abd2-b69c10e77342"
      },
      "execution_count": 9,
      "outputs": [
        {
          "output_type": "display_data",
          "data": {
            "text/html": [
              "<table class=\"dataframe\">\n",
              "<caption>A tibble: 6 × 2</caption>\n",
              "<thead>\n",
              "\t<tr><th scope=col>ticker</th><th scope=col>beta</th></tr>\n",
              "\t<tr><th scope=col>&lt;chr&gt;</th><th scope=col>&lt;dbl&gt;</th></tr>\n",
              "</thead>\n",
              "<tbody>\n",
              "\t<tr><td>MASK-PERP </td><td>5.982726</td></tr>\n",
              "\t<tr><td>INJ-PERP  </td><td>3.781378</td></tr>\n",
              "\t<tr><td>APT-PERP  </td><td>3.313235</td></tr>\n",
              "\t<tr><td>KLAY-PERP </td><td>2.945787</td></tr>\n",
              "\t<tr><td>OP-PERP   </td><td>1.517170</td></tr>\n",
              "\t<tr><td>LOOKS-PERP</td><td>1.440509</td></tr>\n",
              "</tbody>\n",
              "</table>\n"
            ],
            "text/markdown": "\nA tibble: 6 × 2\n\n| ticker &lt;chr&gt; | beta &lt;dbl&gt; |\n|---|---|\n| MASK-PERP  | 5.982726 |\n| INJ-PERP   | 3.781378 |\n| APT-PERP   | 3.313235 |\n| KLAY-PERP  | 2.945787 |\n| OP-PERP    | 1.517170 |\n| LOOKS-PERP | 1.440509 |\n\n",
            "text/latex": "A tibble: 6 × 2\n\\begin{tabular}{ll}\n ticker & beta\\\\\n <chr> & <dbl>\\\\\n\\hline\n\t MASK-PERP  & 5.982726\\\\\n\t INJ-PERP   & 3.781378\\\\\n\t APT-PERP   & 3.313235\\\\\n\t KLAY-PERP  & 2.945787\\\\\n\t OP-PERP    & 1.517170\\\\\n\t LOOKS-PERP & 1.440509\\\\\n\\end{tabular}\n",
            "text/plain": [
              "  ticker     beta    \n",
              "1 MASK-PERP  5.982726\n",
              "2 INJ-PERP   3.781378\n",
              "3 APT-PERP   3.313235\n",
              "4 KLAY-PERP  2.945787\n",
              "5 OP-PERP    1.517170\n",
              "6 LOOKS-PERP 1.440509"
            ]
          },
          "metadata": {}
        }
      ]
    },
    {
      "cell_type": "markdown",
      "source": [
        "## Approach 1\n",
        "\n",
        "One way to sovle this problem is to pick a basket of dogshit, assume an equal beta-contribution, and then fudge the weights so that the sum of the betas is minus 1, ensuring that stuff with a higher absolute beta gets a lower weight:\n",
        "\n",
        "(betas are additive in the portfolio sense)"
      ],
      "metadata": {
        "id": "TFjDuLFZx25U"
      }
    },
    {
      "cell_type": "code",
      "source": [
        "to_trade <- c('UNISWAP-PERP', 'MANGO-PERP', 'MAPS-PERP', 'POLIS-PERP', 'OXY-PERP', 'FIDA-PERP', 'BADGER-PERP', 'RON-PERP', 'CEL-PERP', \n",
        "'AUDIO-PERP', 'SPELL-PERP', 'ALPHA-PERP', 'DEFI-PERP', 'SHIT-PERP', 'OMG-PERP', 'OP-PERP', 'GAL-PERP', 'GST-PERP', 'ALGO-PERP', 'JASMY-PERP')\n"
      ],
      "metadata": {
        "id": "LeMAc0YsxwaX"
      },
      "execution_count": 10,
      "outputs": []
    },
    {
      "cell_type": "markdown",
      "source": [
        "$\\beta_{port} = \\sum w_i*\\beta_i$\n",
        "\n",
        "$w_i = \\frac{-1}{\\beta_i*n}$\n"
      ],
      "metadata": {
        "id": "MIOhNbAob7ex"
      }
    },
    {
      "cell_type": "code",
      "source": [
        "equal_beta_weight <- beta %>%\n",
        "  filter(ticker %in% to_trade) %>%\n",
        "  # set OP and MANGO beta to 1 - don't have data\n",
        "  bind_rows(\n",
        "    data.frame(\n",
        "      ticker = c(\"OP-PERP\", \"MANGO-PERP\"),\n",
        "      beta = c(1)\n",
        "    )\n",
        "  ) %>%\n",
        "  mutate(\n",
        "    weight = -1/(beta*n()), \n",
        "    beta_contib = weight*beta\n",
        "  ) %>%\n",
        "  arrange(ticker)\n",
        "\n",
        "equal_beta_weight"
      ],
      "metadata": {
        "colab": {
          "base_uri": "https://localhost:8080/",
          "height": 757
        },
        "id": "X5GZmnHbyR1D",
        "outputId": "43b38e38-2ef7-4d64-d977-69e8f1a3d967"
      },
      "execution_count": 11,
      "outputs": [
        {
          "output_type": "display_data",
          "data": {
            "text/html": [
              "<table class=\"dataframe\">\n",
              "<caption>A tibble: 21 × 4</caption>\n",
              "<thead>\n",
              "\t<tr><th scope=col>ticker</th><th scope=col>beta</th><th scope=col>weight</th><th scope=col>beta_contib</th></tr>\n",
              "\t<tr><th scope=col>&lt;chr&gt;</th><th scope=col>&lt;dbl&gt;</th><th scope=col>&lt;dbl&gt;</th><th scope=col>&lt;dbl&gt;</th></tr>\n",
              "</thead>\n",
              "<tbody>\n",
              "\t<tr><td>ALGO-PERP   </td><td>1.1058085</td><td>-0.04306265</td><td>-0.04761905</td></tr>\n",
              "\t<tr><td>ALPHA-PERP  </td><td>1.2798730</td><td>-0.03720607</td><td>-0.04761905</td></tr>\n",
              "\t<tr><td>AUDIO-PERP  </td><td>1.2369022</td><td>-0.03849864</td><td>-0.04761905</td></tr>\n",
              "\t<tr><td>BADGER-PERP </td><td>1.3860789</td><td>-0.03435522</td><td>-0.04761905</td></tr>\n",
              "\t<tr><td>CEL-PERP    </td><td>0.8054455</td><td>-0.05912138</td><td>-0.04761905</td></tr>\n",
              "\t<tr><td>DEFI-PERP   </td><td>1.0167004</td><td>-0.04683685</td><td>-0.04761905</td></tr>\n",
              "\t<tr><td>FIDA-PERP   </td><td>1.0148656</td><td>-0.04692153</td><td>-0.04761905</td></tr>\n",
              "\t<tr><td>GAL-PERP    </td><td>1.1835984</td><td>-0.04023244</td><td>-0.04761905</td></tr>\n",
              "\t<tr><td>GST-PERP    </td><td>0.7914224</td><td>-0.06016894</td><td>-0.04761905</td></tr>\n",
              "\t<tr><td>JASMY-PERP  </td><td>0.8059462</td><td>-0.05908465</td><td>-0.04761905</td></tr>\n",
              "\t<tr><td>MANGO-PERP  </td><td>1.0000000</td><td>-0.04761905</td><td>-0.04761905</td></tr>\n",
              "\t<tr><td>MAPS-PERP   </td><td>1.0085336</td><td>-0.04721613</td><td>-0.04761905</td></tr>\n",
              "\t<tr><td>OMG-PERP    </td><td>1.1149849</td><td>-0.04270825</td><td>-0.04761905</td></tr>\n",
              "\t<tr><td>OP-PERP     </td><td>1.5171698</td><td>-0.03138676</td><td>-0.04761905</td></tr>\n",
              "\t<tr><td>OP-PERP     </td><td>1.0000000</td><td>-0.04761905</td><td>-0.04761905</td></tr>\n",
              "\t<tr><td>OXY-PERP    </td><td>0.7671210</td><td>-0.06207502</td><td>-0.04761905</td></tr>\n",
              "\t<tr><td>POLIS-PERP  </td><td>1.1034325</td><td>-0.04315538</td><td>-0.04761905</td></tr>\n",
              "\t<tr><td>RON-PERP    </td><td>1.0706562</td><td>-0.04447651</td><td>-0.04761905</td></tr>\n",
              "\t<tr><td>SHIT-PERP   </td><td>1.1131421</td><td>-0.04277895</td><td>-0.04761905</td></tr>\n",
              "\t<tr><td>SPELL-PERP  </td><td>1.0735845</td><td>-0.04435519</td><td>-0.04761905</td></tr>\n",
              "\t<tr><td>UNISWAP-PERP</td><td>0.9225348</td><td>-0.05161762</td><td>-0.04761905</td></tr>\n",
              "</tbody>\n",
              "</table>\n"
            ],
            "text/markdown": "\nA tibble: 21 × 4\n\n| ticker &lt;chr&gt; | beta &lt;dbl&gt; | weight &lt;dbl&gt; | beta_contib &lt;dbl&gt; |\n|---|---|---|---|\n| ALGO-PERP    | 1.1058085 | -0.04306265 | -0.04761905 |\n| ALPHA-PERP   | 1.2798730 | -0.03720607 | -0.04761905 |\n| AUDIO-PERP   | 1.2369022 | -0.03849864 | -0.04761905 |\n| BADGER-PERP  | 1.3860789 | -0.03435522 | -0.04761905 |\n| CEL-PERP     | 0.8054455 | -0.05912138 | -0.04761905 |\n| DEFI-PERP    | 1.0167004 | -0.04683685 | -0.04761905 |\n| FIDA-PERP    | 1.0148656 | -0.04692153 | -0.04761905 |\n| GAL-PERP     | 1.1835984 | -0.04023244 | -0.04761905 |\n| GST-PERP     | 0.7914224 | -0.06016894 | -0.04761905 |\n| JASMY-PERP   | 0.8059462 | -0.05908465 | -0.04761905 |\n| MANGO-PERP   | 1.0000000 | -0.04761905 | -0.04761905 |\n| MAPS-PERP    | 1.0085336 | -0.04721613 | -0.04761905 |\n| OMG-PERP     | 1.1149849 | -0.04270825 | -0.04761905 |\n| OP-PERP      | 1.5171698 | -0.03138676 | -0.04761905 |\n| OP-PERP      | 1.0000000 | -0.04761905 | -0.04761905 |\n| OXY-PERP     | 0.7671210 | -0.06207502 | -0.04761905 |\n| POLIS-PERP   | 1.1034325 | -0.04315538 | -0.04761905 |\n| RON-PERP     | 1.0706562 | -0.04447651 | -0.04761905 |\n| SHIT-PERP    | 1.1131421 | -0.04277895 | -0.04761905 |\n| SPELL-PERP   | 1.0735845 | -0.04435519 | -0.04761905 |\n| UNISWAP-PERP | 0.9225348 | -0.05161762 | -0.04761905 |\n\n",
            "text/latex": "A tibble: 21 × 4\n\\begin{tabular}{llll}\n ticker & beta & weight & beta\\_contib\\\\\n <chr> & <dbl> & <dbl> & <dbl>\\\\\n\\hline\n\t ALGO-PERP    & 1.1058085 & -0.04306265 & -0.04761905\\\\\n\t ALPHA-PERP   & 1.2798730 & -0.03720607 & -0.04761905\\\\\n\t AUDIO-PERP   & 1.2369022 & -0.03849864 & -0.04761905\\\\\n\t BADGER-PERP  & 1.3860789 & -0.03435522 & -0.04761905\\\\\n\t CEL-PERP     & 0.8054455 & -0.05912138 & -0.04761905\\\\\n\t DEFI-PERP    & 1.0167004 & -0.04683685 & -0.04761905\\\\\n\t FIDA-PERP    & 1.0148656 & -0.04692153 & -0.04761905\\\\\n\t GAL-PERP     & 1.1835984 & -0.04023244 & -0.04761905\\\\\n\t GST-PERP     & 0.7914224 & -0.06016894 & -0.04761905\\\\\n\t JASMY-PERP   & 0.8059462 & -0.05908465 & -0.04761905\\\\\n\t MANGO-PERP   & 1.0000000 & -0.04761905 & -0.04761905\\\\\n\t MAPS-PERP    & 1.0085336 & -0.04721613 & -0.04761905\\\\\n\t OMG-PERP     & 1.1149849 & -0.04270825 & -0.04761905\\\\\n\t OP-PERP      & 1.5171698 & -0.03138676 & -0.04761905\\\\\n\t OP-PERP      & 1.0000000 & -0.04761905 & -0.04761905\\\\\n\t OXY-PERP     & 0.7671210 & -0.06207502 & -0.04761905\\\\\n\t POLIS-PERP   & 1.1034325 & -0.04315538 & -0.04761905\\\\\n\t RON-PERP     & 1.0706562 & -0.04447651 & -0.04761905\\\\\n\t SHIT-PERP    & 1.1131421 & -0.04277895 & -0.04761905\\\\\n\t SPELL-PERP   & 1.0735845 & -0.04435519 & -0.04761905\\\\\n\t UNISWAP-PERP & 0.9225348 & -0.05161762 & -0.04761905\\\\\n\\end{tabular}\n",
            "text/plain": [
              "   ticker       beta      weight      beta_contib\n",
              "1  ALGO-PERP    1.1058085 -0.04306265 -0.04761905\n",
              "2  ALPHA-PERP   1.2798730 -0.03720607 -0.04761905\n",
              "3  AUDIO-PERP   1.2369022 -0.03849864 -0.04761905\n",
              "4  BADGER-PERP  1.3860789 -0.03435522 -0.04761905\n",
              "5  CEL-PERP     0.8054455 -0.05912138 -0.04761905\n",
              "6  DEFI-PERP    1.0167004 -0.04683685 -0.04761905\n",
              "7  FIDA-PERP    1.0148656 -0.04692153 -0.04761905\n",
              "8  GAL-PERP     1.1835984 -0.04023244 -0.04761905\n",
              "9  GST-PERP     0.7914224 -0.06016894 -0.04761905\n",
              "10 JASMY-PERP   0.8059462 -0.05908465 -0.04761905\n",
              "11 MANGO-PERP   1.0000000 -0.04761905 -0.04761905\n",
              "12 MAPS-PERP    1.0085336 -0.04721613 -0.04761905\n",
              "13 OMG-PERP     1.1149849 -0.04270825 -0.04761905\n",
              "14 OP-PERP      1.5171698 -0.03138676 -0.04761905\n",
              "15 OP-PERP      1.0000000 -0.04761905 -0.04761905\n",
              "16 OXY-PERP     0.7671210 -0.06207502 -0.04761905\n",
              "17 POLIS-PERP   1.1034325 -0.04315538 -0.04761905\n",
              "18 RON-PERP     1.0706562 -0.04447651 -0.04761905\n",
              "19 SHIT-PERP    1.1131421 -0.04277895 -0.04761905\n",
              "20 SPELL-PERP   1.0735845 -0.04435519 -0.04761905\n",
              "21 UNISWAP-PERP 0.9225348 -0.05161762 -0.04761905"
            ]
          },
          "metadata": {}
        }
      ]
    },
    {
      "cell_type": "markdown",
      "source": [
        "What's the allocation to this basket of dogshit (the stuff we're shorting) to achieve beta-neutrality?"
      ],
      "metadata": {
        "id": "a8KNEEvgFSob"
      }
    },
    {
      "cell_type": "code",
      "source": [
        "equal_beta_weight %>%\n",
        "  summarise(sum(weight))"
      ],
      "metadata": {
        "colab": {
          "base_uri": "https://localhost:8080/",
          "height": 129
        },
        "id": "9EZtnjyrFLhF",
        "outputId": "fa4c3d8a-2c7b-4e19-d094-7d710c46ed9b"
      },
      "execution_count": 12,
      "outputs": [
        {
          "output_type": "display_data",
          "data": {
            "text/html": [
              "<table class=\"dataframe\">\n",
              "<caption>A tibble: 1 × 1</caption>\n",
              "<thead>\n",
              "\t<tr><th scope=col>sum(weight)</th></tr>\n",
              "\t<tr><th scope=col>&lt;dbl&gt;</th></tr>\n",
              "</thead>\n",
              "<tbody>\n",
              "\t<tr><td>-0.9704963</td></tr>\n",
              "</tbody>\n",
              "</table>\n"
            ],
            "text/markdown": "\nA tibble: 1 × 1\n\n| sum(weight) &lt;dbl&gt; |\n|---|\n| -0.9704963 |\n\n",
            "text/latex": "A tibble: 1 × 1\n\\begin{tabular}{l}\n sum(weight)\\\\\n <dbl>\\\\\n\\hline\n\t -0.9704963\\\\\n\\end{tabular}\n",
            "text/plain": [
              "  sum(weight)\n",
              "1 -0.9704963 "
            ]
          },
          "metadata": {}
        }
      ]
    },
    {
      "cell_type": "markdown",
      "source": [
        "We can do it with leverage < 1 as many of these shitcoins have a beta > 1"
      ],
      "metadata": {
        "id": "Jtjv9CeSFYfQ"
      }
    },
    {
      "cell_type": "markdown",
      "source": [
        "## Approach 2\n",
        "\n",
        "Can pose this as an optimisation problem:\n",
        "- Find the weights that maximise return and minimise variance given\n",
        "  - basket is beta neutral \n",
        "  - BTC weight is 1\n",
        "  - other weights < 1\n",
        "\n",
        "Maybe start with just maximising returns, don't worry about portfolio variance "
      ],
      "metadata": {
        "id": "Q7tpURm5wgWB"
      }
    },
    {
      "cell_type": "code",
      "source": [
        "to_trade <- c('BTC-PERP', to_trade)"
      ],
      "metadata": {
        "id": "jiqWSCct2Arn"
      },
      "execution_count": 13,
      "outputs": []
    },
    {
      "cell_type": "code",
      "source": [
        "returns_vec <- returns %>%\n",
        "  filter(ticker %in% to_trade) %>%\n",
        "  select(date, ticker, log_return) %>%\n",
        "  group_by(ticker) %>%\n",
        "  summarise(returns = sum(log_return)) \n",
        "\n",
        "returns_vec"
      ],
      "metadata": {
        "colab": {
          "base_uri": "https://localhost:8080/",
          "height": 725
        },
        "id": "BfJHFx5XxeHu",
        "outputId": "91c4f3eb-eb6d-42ba-9a12-14ffbada9762"
      },
      "execution_count": 14,
      "outputs": [
        {
          "output_type": "display_data",
          "data": {
            "text/html": [
              "<table class=\"dataframe\">\n",
              "<caption>A tibble: 20 × 2</caption>\n",
              "<thead>\n",
              "\t<tr><th scope=col>ticker</th><th scope=col>returns</th></tr>\n",
              "\t<tr><th scope=col>&lt;chr&gt;</th><th scope=col>&lt;dbl&gt;</th></tr>\n",
              "</thead>\n",
              "<tbody>\n",
              "\t<tr><td>ALGO-PERP   </td><td>-0.8336573</td></tr>\n",
              "\t<tr><td>ALPHA-PERP  </td><td>-1.4476024</td></tr>\n",
              "\t<tr><td>AUDIO-PERP  </td><td>-3.1250166</td></tr>\n",
              "\t<tr><td>BADGER-PERP </td><td>-2.9833919</td></tr>\n",
              "\t<tr><td>BTC-PERP    </td><td> 0.4505887</td></tr>\n",
              "\t<tr><td>CEL-PERP    </td><td>-2.4319016</td></tr>\n",
              "\t<tr><td>DEFI-PERP   </td><td> 0.6258440</td></tr>\n",
              "\t<tr><td>FIDA-PERP   </td><td>-2.5463502</td></tr>\n",
              "\t<tr><td>GAL-PERP    </td><td>-2.4530858</td></tr>\n",
              "\t<tr><td>GST-PERP    </td><td>-5.5166047</td></tr>\n",
              "\t<tr><td>JASMY-PERP  </td><td>-2.1383863</td></tr>\n",
              "\t<tr><td>MAPS-PERP   </td><td>-3.0299307</td></tr>\n",
              "\t<tr><td>OMG-PERP    </td><td>-1.1594236</td></tr>\n",
              "\t<tr><td>OP-PERP     </td><td>-0.2444128</td></tr>\n",
              "\t<tr><td>OXY-PERP    </td><td>-5.5776616</td></tr>\n",
              "\t<tr><td>POLIS-PERP  </td><td>-4.2498131</td></tr>\n",
              "\t<tr><td>RON-PERP    </td><td>-3.0813844</td></tr>\n",
              "\t<tr><td>SHIT-PERP   </td><td> 0.8344468</td></tr>\n",
              "\t<tr><td>SPELL-PERP  </td><td>-3.6597973</td></tr>\n",
              "\t<tr><td>UNISWAP-PERP</td><td>-0.7871712</td></tr>\n",
              "</tbody>\n",
              "</table>\n"
            ],
            "text/markdown": "\nA tibble: 20 × 2\n\n| ticker &lt;chr&gt; | returns &lt;dbl&gt; |\n|---|---|\n| ALGO-PERP    | -0.8336573 |\n| ALPHA-PERP   | -1.4476024 |\n| AUDIO-PERP   | -3.1250166 |\n| BADGER-PERP  | -2.9833919 |\n| BTC-PERP     |  0.4505887 |\n| CEL-PERP     | -2.4319016 |\n| DEFI-PERP    |  0.6258440 |\n| FIDA-PERP    | -2.5463502 |\n| GAL-PERP     | -2.4530858 |\n| GST-PERP     | -5.5166047 |\n| JASMY-PERP   | -2.1383863 |\n| MAPS-PERP    | -3.0299307 |\n| OMG-PERP     | -1.1594236 |\n| OP-PERP      | -0.2444128 |\n| OXY-PERP     | -5.5776616 |\n| POLIS-PERP   | -4.2498131 |\n| RON-PERP     | -3.0813844 |\n| SHIT-PERP    |  0.8344468 |\n| SPELL-PERP   | -3.6597973 |\n| UNISWAP-PERP | -0.7871712 |\n\n",
            "text/latex": "A tibble: 20 × 2\n\\begin{tabular}{ll}\n ticker & returns\\\\\n <chr> & <dbl>\\\\\n\\hline\n\t ALGO-PERP    & -0.8336573\\\\\n\t ALPHA-PERP   & -1.4476024\\\\\n\t AUDIO-PERP   & -3.1250166\\\\\n\t BADGER-PERP  & -2.9833919\\\\\n\t BTC-PERP     &  0.4505887\\\\\n\t CEL-PERP     & -2.4319016\\\\\n\t DEFI-PERP    &  0.6258440\\\\\n\t FIDA-PERP    & -2.5463502\\\\\n\t GAL-PERP     & -2.4530858\\\\\n\t GST-PERP     & -5.5166047\\\\\n\t JASMY-PERP   & -2.1383863\\\\\n\t MAPS-PERP    & -3.0299307\\\\\n\t OMG-PERP     & -1.1594236\\\\\n\t OP-PERP      & -0.2444128\\\\\n\t OXY-PERP     & -5.5776616\\\\\n\t POLIS-PERP   & -4.2498131\\\\\n\t RON-PERP     & -3.0813844\\\\\n\t SHIT-PERP    &  0.8344468\\\\\n\t SPELL-PERP   & -3.6597973\\\\\n\t UNISWAP-PERP & -0.7871712\\\\\n\\end{tabular}\n",
            "text/plain": [
              "   ticker       returns   \n",
              "1  ALGO-PERP    -0.8336573\n",
              "2  ALPHA-PERP   -1.4476024\n",
              "3  AUDIO-PERP   -3.1250166\n",
              "4  BADGER-PERP  -2.9833919\n",
              "5  BTC-PERP      0.4505887\n",
              "6  CEL-PERP     -2.4319016\n",
              "7  DEFI-PERP     0.6258440\n",
              "8  FIDA-PERP    -2.5463502\n",
              "9  GAL-PERP     -2.4530858\n",
              "10 GST-PERP     -5.5166047\n",
              "11 JASMY-PERP   -2.1383863\n",
              "12 MAPS-PERP    -3.0299307\n",
              "13 OMG-PERP     -1.1594236\n",
              "14 OP-PERP      -0.2444128\n",
              "15 OXY-PERP     -5.5776616\n",
              "16 POLIS-PERP   -4.2498131\n",
              "17 RON-PERP     -3.0813844\n",
              "18 SHIT-PERP     0.8344468\n",
              "19 SPELL-PERP   -3.6597973\n",
              "20 UNISWAP-PERP -0.7871712"
            ]
          },
          "metadata": {}
        }
      ]
    },
    {
      "cell_type": "code",
      "source": [
        "betas_vec <- beta %>%\n",
        "  filter(ticker %in% to_trade) %>%\n",
        "  arrange(ticker) %>%  #important so that they're in the same order as returns \n",
        "  arrange(ticker)\n",
        "\n",
        "betas_vec"
      ],
      "metadata": {
        "colab": {
          "base_uri": "https://localhost:8080/",
          "height": 725
        },
        "id": "tQ613GUp7hTu",
        "outputId": "fcc8e9af-48c1-48b6-e6a6-d4adcbcce71d"
      },
      "execution_count": 15,
      "outputs": [
        {
          "output_type": "display_data",
          "data": {
            "text/html": [
              "<table class=\"dataframe\">\n",
              "<caption>A tibble: 20 × 2</caption>\n",
              "<thead>\n",
              "\t<tr><th scope=col>ticker</th><th scope=col>beta</th></tr>\n",
              "\t<tr><th scope=col>&lt;chr&gt;</th><th scope=col>&lt;dbl&gt;</th></tr>\n",
              "</thead>\n",
              "<tbody>\n",
              "\t<tr><td>ALGO-PERP   </td><td>1.1058085</td></tr>\n",
              "\t<tr><td>ALPHA-PERP  </td><td>1.2798730</td></tr>\n",
              "\t<tr><td>AUDIO-PERP  </td><td>1.2369022</td></tr>\n",
              "\t<tr><td>BADGER-PERP </td><td>1.3860789</td></tr>\n",
              "\t<tr><td>BTC-PERP    </td><td>1.0000000</td></tr>\n",
              "\t<tr><td>CEL-PERP    </td><td>0.8054455</td></tr>\n",
              "\t<tr><td>DEFI-PERP   </td><td>1.0167004</td></tr>\n",
              "\t<tr><td>FIDA-PERP   </td><td>1.0148656</td></tr>\n",
              "\t<tr><td>GAL-PERP    </td><td>1.1835984</td></tr>\n",
              "\t<tr><td>GST-PERP    </td><td>0.7914224</td></tr>\n",
              "\t<tr><td>JASMY-PERP  </td><td>0.8059462</td></tr>\n",
              "\t<tr><td>MAPS-PERP   </td><td>1.0085336</td></tr>\n",
              "\t<tr><td>OMG-PERP    </td><td>1.1149849</td></tr>\n",
              "\t<tr><td>OP-PERP     </td><td>1.5171698</td></tr>\n",
              "\t<tr><td>OXY-PERP    </td><td>0.7671210</td></tr>\n",
              "\t<tr><td>POLIS-PERP  </td><td>1.1034325</td></tr>\n",
              "\t<tr><td>RON-PERP    </td><td>1.0706562</td></tr>\n",
              "\t<tr><td>SHIT-PERP   </td><td>1.1131421</td></tr>\n",
              "\t<tr><td>SPELL-PERP  </td><td>1.0735845</td></tr>\n",
              "\t<tr><td>UNISWAP-PERP</td><td>0.9225348</td></tr>\n",
              "</tbody>\n",
              "</table>\n"
            ],
            "text/markdown": "\nA tibble: 20 × 2\n\n| ticker &lt;chr&gt; | beta &lt;dbl&gt; |\n|---|---|\n| ALGO-PERP    | 1.1058085 |\n| ALPHA-PERP   | 1.2798730 |\n| AUDIO-PERP   | 1.2369022 |\n| BADGER-PERP  | 1.3860789 |\n| BTC-PERP     | 1.0000000 |\n| CEL-PERP     | 0.8054455 |\n| DEFI-PERP    | 1.0167004 |\n| FIDA-PERP    | 1.0148656 |\n| GAL-PERP     | 1.1835984 |\n| GST-PERP     | 0.7914224 |\n| JASMY-PERP   | 0.8059462 |\n| MAPS-PERP    | 1.0085336 |\n| OMG-PERP     | 1.1149849 |\n| OP-PERP      | 1.5171698 |\n| OXY-PERP     | 0.7671210 |\n| POLIS-PERP   | 1.1034325 |\n| RON-PERP     | 1.0706562 |\n| SHIT-PERP    | 1.1131421 |\n| SPELL-PERP   | 1.0735845 |\n| UNISWAP-PERP | 0.9225348 |\n\n",
            "text/latex": "A tibble: 20 × 2\n\\begin{tabular}{ll}\n ticker & beta\\\\\n <chr> & <dbl>\\\\\n\\hline\n\t ALGO-PERP    & 1.1058085\\\\\n\t ALPHA-PERP   & 1.2798730\\\\\n\t AUDIO-PERP   & 1.2369022\\\\\n\t BADGER-PERP  & 1.3860789\\\\\n\t BTC-PERP     & 1.0000000\\\\\n\t CEL-PERP     & 0.8054455\\\\\n\t DEFI-PERP    & 1.0167004\\\\\n\t FIDA-PERP    & 1.0148656\\\\\n\t GAL-PERP     & 1.1835984\\\\\n\t GST-PERP     & 0.7914224\\\\\n\t JASMY-PERP   & 0.8059462\\\\\n\t MAPS-PERP    & 1.0085336\\\\\n\t OMG-PERP     & 1.1149849\\\\\n\t OP-PERP      & 1.5171698\\\\\n\t OXY-PERP     & 0.7671210\\\\\n\t POLIS-PERP   & 1.1034325\\\\\n\t RON-PERP     & 1.0706562\\\\\n\t SHIT-PERP    & 1.1131421\\\\\n\t SPELL-PERP   & 1.0735845\\\\\n\t UNISWAP-PERP & 0.9225348\\\\\n\\end{tabular}\n",
            "text/plain": [
              "   ticker       beta     \n",
              "1  ALGO-PERP    1.1058085\n",
              "2  ALPHA-PERP   1.2798730\n",
              "3  AUDIO-PERP   1.2369022\n",
              "4  BADGER-PERP  1.3860789\n",
              "5  BTC-PERP     1.0000000\n",
              "6  CEL-PERP     0.8054455\n",
              "7  DEFI-PERP    1.0167004\n",
              "8  FIDA-PERP    1.0148656\n",
              "9  GAL-PERP     1.1835984\n",
              "10 GST-PERP     0.7914224\n",
              "11 JASMY-PERP   0.8059462\n",
              "12 MAPS-PERP    1.0085336\n",
              "13 OMG-PERP     1.1149849\n",
              "14 OP-PERP      1.5171698\n",
              "15 OXY-PERP     0.7671210\n",
              "16 POLIS-PERP   1.1034325\n",
              "17 RON-PERP     1.0706562\n",
              "18 SHIT-PERP    1.1131421\n",
              "19 SPELL-PERP   1.0735845\n",
              "20 UNISWAP-PERP 0.9225348"
            ]
          },
          "metadata": {}
        }
      ]
    },
    {
      "cell_type": "code",
      "source": [
        "btc_idx <- which(betas_vec$ticker == \"BTC-PERP\")\n",
        "btc_idx"
      ],
      "metadata": {
        "colab": {
          "base_uri": "https://localhost:8080/",
          "height": 34
        },
        "id": "wW637KimTkKv",
        "outputId": "084c61eb-e173-4e6d-ea3d-8e1d35828c7f"
      },
      "execution_count": 16,
      "outputs": [
        {
          "output_type": "display_data",
          "data": {
            "text/html": [
              "5"
            ],
            "text/markdown": "5",
            "text/latex": "5",
            "text/plain": [
              "[1] 5"
            ]
          },
          "metadata": {}
        }
      ]
    },
    {
      "cell_type": "code",
      "source": [
        "cov_mat <- returns %>%\n",
        "  filter(ticker %in% to_trade) %>%\n",
        "  arrange(ticker) %>%\n",
        "  select(date, ticker, log_return) %>%\n",
        "  pivot_wider(date, names_from = ticker, values_from = log_return) %>%\n",
        "  na.omit() %>%\n",
        "  select(-date) %>%\n",
        "  data.matrix() %>%\n",
        "  cov()\n",
        "\n",
        "cov_mat[1:3, 1:3]"
      ],
      "metadata": {
        "colab": {
          "base_uri": "https://localhost:8080/",
          "height": 213
        },
        "id": "MdU9fDxx6L_9",
        "outputId": "fdc736e7-875b-4d98-c201-e46468fe9dc2"
      },
      "execution_count": 17,
      "outputs": [
        {
          "output_type": "stream",
          "name": "stderr",
          "text": [
            "Warning message:\n",
            "“\u001b[1m\u001b[22mSpecifying the `id_cols` argument by position was deprecated in tidyr 1.3.0.\n",
            "\u001b[36mℹ\u001b[39m Please explicitly name `id_cols`, like `id_cols = date`.”\n"
          ]
        },
        {
          "output_type": "display_data",
          "data": {
            "text/html": [
              "<table class=\"dataframe\">\n",
              "<caption>A matrix: 3 × 3 of type dbl</caption>\n",
              "<thead>\n",
              "\t<tr><th></th><th scope=col>ALGO-PERP</th><th scope=col>ALPHA-PERP</th><th scope=col>AUDIO-PERP</th></tr>\n",
              "</thead>\n",
              "<tbody>\n",
              "\t<tr><th scope=row>ALGO-PERP</th><td>0.002499715</td><td>0.002314597</td><td>0.002115682</td></tr>\n",
              "\t<tr><th scope=row>ALPHA-PERP</th><td>0.002314597</td><td>0.003502954</td><td>0.002417366</td></tr>\n",
              "\t<tr><th scope=row>AUDIO-PERP</th><td>0.002115682</td><td>0.002417366</td><td>0.002907073</td></tr>\n",
              "</tbody>\n",
              "</table>\n"
            ],
            "text/markdown": "\nA matrix: 3 × 3 of type dbl\n\n| <!--/--> | ALGO-PERP | ALPHA-PERP | AUDIO-PERP |\n|---|---|---|---|\n| ALGO-PERP | 0.002499715 | 0.002314597 | 0.002115682 |\n| ALPHA-PERP | 0.002314597 | 0.003502954 | 0.002417366 |\n| AUDIO-PERP | 0.002115682 | 0.002417366 | 0.002907073 |\n\n",
            "text/latex": "A matrix: 3 × 3 of type dbl\n\\begin{tabular}{r|lll}\n  & ALGO-PERP & ALPHA-PERP & AUDIO-PERP\\\\\n\\hline\n\tALGO-PERP & 0.002499715 & 0.002314597 & 0.002115682\\\\\n\tALPHA-PERP & 0.002314597 & 0.003502954 & 0.002417366\\\\\n\tAUDIO-PERP & 0.002115682 & 0.002417366 & 0.002907073\\\\\n\\end{tabular}\n",
            "text/plain": [
              "           ALGO-PERP   ALPHA-PERP  AUDIO-PERP \n",
              "ALGO-PERP  0.002499715 0.002314597 0.002115682\n",
              "ALPHA-PERP 0.002314597 0.003502954 0.002417366\n",
              "AUDIO-PERP 0.002115682 0.002417366 0.002907073"
            ]
          },
          "metadata": {}
        }
      ]
    },
    {
      "cell_type": "code",
      "source": [
        "returns_vec <- returns_vec$returns\n",
        "betas_vec <- betas_vec$beta"
      ],
      "metadata": {
        "id": "hL2tbr950fUi"
      },
      "execution_count": 18,
      "outputs": []
    },
    {
      "cell_type": "code",
      "source": [
        "# trivial case to replicate equal beta contribution above\n",
        "# maximise historical returns but have hard constraint on equal beta contribution\n",
        "\n",
        "beta_contrib <- -1/(betas_vec*(length(betas_vec) - 1))  # less one because we have BTC-PERP\n",
        "\n",
        "weights <- Variable(rows = length(returns_vec))\n",
        "objective <- Maximize(t(weights) %*% returns_vec)\n",
        "constraints <- list(weights[btc_idx] == 1, weights[-btc_idx] == beta_contrib[-btc_idx])\n",
        "problem <- Problem(objective, constraints)\n",
        "result <- solve(problem)\n",
        "\n",
        "w <- result$getValue(weights)\n",
        "w"
      ],
      "metadata": {
        "colab": {
          "base_uri": "https://localhost:8080/",
          "height": 679
        },
        "id": "H-i8hSozKLdo",
        "outputId": "2c5e352f-bdf8-4c8f-937d-4aef5728605c"
      },
      "execution_count": 19,
      "outputs": [
        {
          "output_type": "display_data",
          "data": {
            "text/html": [
              "<table class=\"dataframe\">\n",
              "<caption>A matrix: 20 × 1 of type dbl</caption>\n",
              "<tbody>\n",
              "\t<tr><td>-0.04759556</td></tr>\n",
              "\t<tr><td>-0.04112250</td></tr>\n",
              "\t<tr><td>-0.04255112</td></tr>\n",
              "\t<tr><td>-0.03797156</td></tr>\n",
              "\t<tr><td> 1.00000000</td></tr>\n",
              "\t<tr><td>-0.06534468</td></tr>\n",
              "\t<tr><td>-0.05176705</td></tr>\n",
              "\t<tr><td>-0.05186064</td></tr>\n",
              "\t<tr><td>-0.04446743</td></tr>\n",
              "\t<tr><td>-0.06650251</td></tr>\n",
              "\t<tr><td>-0.06530408</td></tr>\n",
              "\t<tr><td>-0.05218625</td></tr>\n",
              "\t<tr><td>-0.04720385</td></tr>\n",
              "\t<tr><td>-0.03469063</td></tr>\n",
              "\t<tr><td>-0.06860923</td></tr>\n",
              "\t<tr><td>-0.04769805</td></tr>\n",
              "\t<tr><td>-0.04915824</td></tr>\n",
              "\t<tr><td>-0.04728199</td></tr>\n",
              "\t<tr><td>-0.04902416</td></tr>\n",
              "\t<tr><td>-0.05705105</td></tr>\n",
              "</tbody>\n",
              "</table>\n"
            ],
            "text/markdown": "\nA matrix: 20 × 1 of type dbl\n\n| -0.04759556 |\n| -0.04112250 |\n| -0.04255112 |\n| -0.03797156 |\n|  1.00000000 |\n| -0.06534468 |\n| -0.05176705 |\n| -0.05186064 |\n| -0.04446743 |\n| -0.06650251 |\n| -0.06530408 |\n| -0.05218625 |\n| -0.04720385 |\n| -0.03469063 |\n| -0.06860923 |\n| -0.04769805 |\n| -0.04915824 |\n| -0.04728199 |\n| -0.04902416 |\n| -0.05705105 |\n\n",
            "text/latex": "A matrix: 20 × 1 of type dbl\n\\begin{tabular}{l}\n\t -0.04759556\\\\\n\t -0.04112250\\\\\n\t -0.04255112\\\\\n\t -0.03797156\\\\\n\t  1.00000000\\\\\n\t -0.06534468\\\\\n\t -0.05176705\\\\\n\t -0.05186064\\\\\n\t -0.04446743\\\\\n\t -0.06650251\\\\\n\t -0.06530408\\\\\n\t -0.05218625\\\\\n\t -0.04720385\\\\\n\t -0.03469063\\\\\n\t -0.06860923\\\\\n\t -0.04769805\\\\\n\t -0.04915824\\\\\n\t -0.04728199\\\\\n\t -0.04902416\\\\\n\t -0.05705105\\\\\n\\end{tabular}\n",
            "text/plain": [
              "      [,1]       \n",
              " [1,] -0.04759556\n",
              " [2,] -0.04112250\n",
              " [3,] -0.04255112\n",
              " [4,] -0.03797156\n",
              " [5,]  1.00000000\n",
              " [6,] -0.06534468\n",
              " [7,] -0.05176705\n",
              " [8,] -0.05186064\n",
              " [9,] -0.04446743\n",
              "[10,] -0.06650251\n",
              "[11,] -0.06530408\n",
              "[12,] -0.05218625\n",
              "[13,] -0.04720385\n",
              "[14,] -0.03469063\n",
              "[15,] -0.06860923\n",
              "[16,] -0.04769805\n",
              "[17,] -0.04915824\n",
              "[18,] -0.04728199\n",
              "[19,] -0.04902416\n",
              "[20,] -0.05705105"
            ]
          },
          "metadata": {}
        }
      ]
    },
    {
      "cell_type": "code",
      "source": [
        "beta %>%\n",
        "  filter(ticker %in% to_trade) %>%\n",
        "  arrange(ticker) %>%\n",
        "  mutate(weight = w)\n",
        "\n",
        "# total net beta\n",
        "beta %>%\n",
        "  filter(ticker %in% to_trade) %>%\n",
        "  arrange(ticker) %>%\n",
        "  mutate(weight = w) %>%\n",
        "  summarise(net_beta = sum(beta*weight))\n",
        "\n",
        "# total allocation\n",
        "beta %>%\n",
        "  filter(ticker %in% to_trade) %>%\n",
        "  arrange(ticker) %>%\n",
        "  mutate(weight = w) %>%\n",
        "  summarise(total_alloaction = sum(weight))"
      ],
      "metadata": {
        "colab": {
          "base_uri": "https://localhost:8080/",
          "height": 950
        },
        "id": "hdxohV2nKo8w",
        "outputId": "ea711079-3f03-48cb-cde8-48b828d8b3f1"
      },
      "execution_count": 20,
      "outputs": [
        {
          "output_type": "display_data",
          "data": {
            "text/html": [
              "<table class=\"dataframe\">\n",
              "<caption>A tibble: 20 × 3</caption>\n",
              "<thead>\n",
              "\t<tr><th scope=col>ticker</th><th scope=col>beta</th><th scope=col>weight</th></tr>\n",
              "\t<tr><th scope=col>&lt;chr&gt;</th><th scope=col>&lt;dbl&gt;</th><th scope=col>&lt;dbl[,1]&gt;</th></tr>\n",
              "</thead>\n",
              "<tbody>\n",
              "\t<tr><td>ALGO-PERP   </td><td>1.1058085</td><td>-0.04759556</td></tr>\n",
              "\t<tr><td>ALPHA-PERP  </td><td>1.2798730</td><td>-0.04112250</td></tr>\n",
              "\t<tr><td>AUDIO-PERP  </td><td>1.2369022</td><td>-0.04255112</td></tr>\n",
              "\t<tr><td>BADGER-PERP </td><td>1.3860789</td><td>-0.03797156</td></tr>\n",
              "\t<tr><td>BTC-PERP    </td><td>1.0000000</td><td> 1.00000000</td></tr>\n",
              "\t<tr><td>CEL-PERP    </td><td>0.8054455</td><td>-0.06534468</td></tr>\n",
              "\t<tr><td>DEFI-PERP   </td><td>1.0167004</td><td>-0.05176705</td></tr>\n",
              "\t<tr><td>FIDA-PERP   </td><td>1.0148656</td><td>-0.05186064</td></tr>\n",
              "\t<tr><td>GAL-PERP    </td><td>1.1835984</td><td>-0.04446743</td></tr>\n",
              "\t<tr><td>GST-PERP    </td><td>0.7914224</td><td>-0.06650251</td></tr>\n",
              "\t<tr><td>JASMY-PERP  </td><td>0.8059462</td><td>-0.06530408</td></tr>\n",
              "\t<tr><td>MAPS-PERP   </td><td>1.0085336</td><td>-0.05218625</td></tr>\n",
              "\t<tr><td>OMG-PERP    </td><td>1.1149849</td><td>-0.04720385</td></tr>\n",
              "\t<tr><td>OP-PERP     </td><td>1.5171698</td><td>-0.03469063</td></tr>\n",
              "\t<tr><td>OXY-PERP    </td><td>0.7671210</td><td>-0.06860923</td></tr>\n",
              "\t<tr><td>POLIS-PERP  </td><td>1.1034325</td><td>-0.04769805</td></tr>\n",
              "\t<tr><td>RON-PERP    </td><td>1.0706562</td><td>-0.04915824</td></tr>\n",
              "\t<tr><td>SHIT-PERP   </td><td>1.1131421</td><td>-0.04728199</td></tr>\n",
              "\t<tr><td>SPELL-PERP  </td><td>1.0735845</td><td>-0.04902416</td></tr>\n",
              "\t<tr><td>UNISWAP-PERP</td><td>0.9225348</td><td>-0.05705105</td></tr>\n",
              "</tbody>\n",
              "</table>\n"
            ],
            "text/markdown": "\nA tibble: 20 × 3\n\n| ticker &lt;chr&gt; | beta &lt;dbl&gt; | weight &lt;dbl[,1]&gt; |\n|---|---|---|\n| ALGO-PERP    | 1.1058085 | -0.04759556 |\n| ALPHA-PERP   | 1.2798730 | -0.04112250 |\n| AUDIO-PERP   | 1.2369022 | -0.04255112 |\n| BADGER-PERP  | 1.3860789 | -0.03797156 |\n| BTC-PERP     | 1.0000000 |  1.00000000 |\n| CEL-PERP     | 0.8054455 | -0.06534468 |\n| DEFI-PERP    | 1.0167004 | -0.05176705 |\n| FIDA-PERP    | 1.0148656 | -0.05186064 |\n| GAL-PERP     | 1.1835984 | -0.04446743 |\n| GST-PERP     | 0.7914224 | -0.06650251 |\n| JASMY-PERP   | 0.8059462 | -0.06530408 |\n| MAPS-PERP    | 1.0085336 | -0.05218625 |\n| OMG-PERP     | 1.1149849 | -0.04720385 |\n| OP-PERP      | 1.5171698 | -0.03469063 |\n| OXY-PERP     | 0.7671210 | -0.06860923 |\n| POLIS-PERP   | 1.1034325 | -0.04769805 |\n| RON-PERP     | 1.0706562 | -0.04915824 |\n| SHIT-PERP    | 1.1131421 | -0.04728199 |\n| SPELL-PERP   | 1.0735845 | -0.04902416 |\n| UNISWAP-PERP | 0.9225348 | -0.05705105 |\n\n",
            "text/latex": "A tibble: 20 × 3\n\\begin{tabular}{lll}\n ticker & beta & weight\\\\\n <chr> & <dbl> & <dbl{[},1{]}>\\\\\n\\hline\n\t ALGO-PERP    & 1.1058085 & -0.04759556\\\\\n\t ALPHA-PERP   & 1.2798730 & -0.04112250\\\\\n\t AUDIO-PERP   & 1.2369022 & -0.04255112\\\\\n\t BADGER-PERP  & 1.3860789 & -0.03797156\\\\\n\t BTC-PERP     & 1.0000000 &  1.00000000\\\\\n\t CEL-PERP     & 0.8054455 & -0.06534468\\\\\n\t DEFI-PERP    & 1.0167004 & -0.05176705\\\\\n\t FIDA-PERP    & 1.0148656 & -0.05186064\\\\\n\t GAL-PERP     & 1.1835984 & -0.04446743\\\\\n\t GST-PERP     & 0.7914224 & -0.06650251\\\\\n\t JASMY-PERP   & 0.8059462 & -0.06530408\\\\\n\t MAPS-PERP    & 1.0085336 & -0.05218625\\\\\n\t OMG-PERP     & 1.1149849 & -0.04720385\\\\\n\t OP-PERP      & 1.5171698 & -0.03469063\\\\\n\t OXY-PERP     & 0.7671210 & -0.06860923\\\\\n\t POLIS-PERP   & 1.1034325 & -0.04769805\\\\\n\t RON-PERP     & 1.0706562 & -0.04915824\\\\\n\t SHIT-PERP    & 1.1131421 & -0.04728199\\\\\n\t SPELL-PERP   & 1.0735845 & -0.04902416\\\\\n\t UNISWAP-PERP & 0.9225348 & -0.05705105\\\\\n\\end{tabular}\n",
            "text/plain": [
              "   ticker       beta      weight     \n",
              "1  ALGO-PERP    1.1058085 -0.04759556\n",
              "2  ALPHA-PERP   1.2798730 -0.04112250\n",
              "3  AUDIO-PERP   1.2369022 -0.04255112\n",
              "4  BADGER-PERP  1.3860789 -0.03797156\n",
              "5  BTC-PERP     1.0000000  1.00000000\n",
              "6  CEL-PERP     0.8054455 -0.06534468\n",
              "7  DEFI-PERP    1.0167004 -0.05176705\n",
              "8  FIDA-PERP    1.0148656 -0.05186064\n",
              "9  GAL-PERP     1.1835984 -0.04446743\n",
              "10 GST-PERP     0.7914224 -0.06650251\n",
              "11 JASMY-PERP   0.8059462 -0.06530408\n",
              "12 MAPS-PERP    1.0085336 -0.05218625\n",
              "13 OMG-PERP     1.1149849 -0.04720385\n",
              "14 OP-PERP      1.5171698 -0.03469063\n",
              "15 OXY-PERP     0.7671210 -0.06860923\n",
              "16 POLIS-PERP   1.1034325 -0.04769805\n",
              "17 RON-PERP     1.0706562 -0.04915824\n",
              "18 SHIT-PERP    1.1131421 -0.04728199\n",
              "19 SPELL-PERP   1.0735845 -0.04902416\n",
              "20 UNISWAP-PERP 0.9225348 -0.05705105"
            ]
          },
          "metadata": {}
        },
        {
          "output_type": "display_data",
          "data": {
            "text/html": [
              "<table class=\"dataframe\">\n",
              "<caption>A tibble: 1 × 1</caption>\n",
              "<thead>\n",
              "\t<tr><th scope=col>net_beta</th></tr>\n",
              "\t<tr><th scope=col>&lt;dbl&gt;</th></tr>\n",
              "</thead>\n",
              "<tbody>\n",
              "\t<tr><td>2.775558e-17</td></tr>\n",
              "</tbody>\n",
              "</table>\n"
            ],
            "text/markdown": "\nA tibble: 1 × 1\n\n| net_beta &lt;dbl&gt; |\n|---|\n| 2.775558e-17 |\n\n",
            "text/latex": "A tibble: 1 × 1\n\\begin{tabular}{l}\n net\\_beta\\\\\n <dbl>\\\\\n\\hline\n\t 2.775558e-17\\\\\n\\end{tabular}\n",
            "text/plain": [
              "  net_beta    \n",
              "1 2.775558e-17"
            ]
          },
          "metadata": {}
        },
        {
          "output_type": "display_data",
          "data": {
            "text/html": [
              "<table class=\"dataframe\">\n",
              "<caption>A tibble: 1 × 1</caption>\n",
              "<thead>\n",
              "\t<tr><th scope=col>total_alloaction</th></tr>\n",
              "\t<tr><th scope=col>&lt;dbl&gt;</th></tr>\n",
              "</thead>\n",
              "<tbody>\n",
              "\t<tr><td>0.0326094</td></tr>\n",
              "</tbody>\n",
              "</table>\n"
            ],
            "text/markdown": "\nA tibble: 1 × 1\n\n| total_alloaction &lt;dbl&gt; |\n|---|\n| 0.0326094 |\n\n",
            "text/latex": "A tibble: 1 × 1\n\\begin{tabular}{l}\n total\\_alloaction\\\\\n <dbl>\\\\\n\\hline\n\t 0.0326094\\\\\n\\end{tabular}\n",
            "text/plain": [
              "  total_alloaction\n",
              "1 0.0326094       "
            ]
          },
          "metadata": {}
        }
      ]
    },
    {
      "cell_type": "code",
      "source": [
        "# maximise historical returns less sum of betas\n",
        "# ie treat beta of basket as a soft constraint\n",
        "\n",
        "weights <- Variable(rows = length(returns_vec))\n",
        "objective <- Maximize(t(weights) %*% returns_vec - abs(sum(multiply(weights, betas_vec))))\n",
        "constraints <- list(weights[btc_idx] == 1, weights[-btc_idx] <= 0, sum(weights[-btc_idx]) == -1)\n",
        "problem <- Problem(objective, constraints)\n",
        "result <- solve(problem)\n",
        "\n",
        "w <- result$getValue(weights)\n",
        "w"
      ],
      "metadata": {
        "colab": {
          "base_uri": "https://localhost:8080/",
          "height": 679
        },
        "id": "m87Yx3yO-_Tt",
        "outputId": "181816fd-7275-448c-fab0-c095518515e4"
      },
      "execution_count": 21,
      "outputs": [
        {
          "output_type": "display_data",
          "data": {
            "text/html": [
              "<table class=\"dataframe\">\n",
              "<caption>A matrix: 20 × 1 of type dbl</caption>\n",
              "<tbody>\n",
              "\t<tr><td> 1.874484e-22</td></tr>\n",
              "\t<tr><td>-1.345651e-22</td></tr>\n",
              "\t<tr><td>-3.045252e-23</td></tr>\n",
              "\t<tr><td>-8.216897e-23</td></tr>\n",
              "\t<tr><td> 1.000000e+00</td></tr>\n",
              "\t<tr><td>-2.775552e-23</td></tr>\n",
              "\t<tr><td> 8.257999e-23</td></tr>\n",
              "\t<tr><td> 1.379614e-22</td></tr>\n",
              "\t<tr><td>-2.990452e-23</td></tr>\n",
              "\t<tr><td>-2.168398e-23</td></tr>\n",
              "\t<tr><td>-2.775552e-23</td></tr>\n",
              "\t<tr><td>-1.386597e-22</td></tr>\n",
              "\t<tr><td> 1.868984e-22</td></tr>\n",
              "\t<tr><td>-3.528088e-23</td></tr>\n",
              "\t<tr><td>-1.000000e+00</td></tr>\n",
              "\t<tr><td> 7.926806e-23</td></tr>\n",
              "\t<tr><td>-1.378147e-22</td></tr>\n",
              "\t<tr><td> 7.892158e-23</td></tr>\n",
              "\t<tr><td>-8.324101e-23</td></tr>\n",
              "\t<tr><td>-1.387779e-22</td></tr>\n",
              "</tbody>\n",
              "</table>\n"
            ],
            "text/markdown": "\nA matrix: 20 × 1 of type dbl\n\n|  1.874484e-22 |\n| -1.345651e-22 |\n| -3.045252e-23 |\n| -8.216897e-23 |\n|  1.000000e+00 |\n| -2.775552e-23 |\n|  8.257999e-23 |\n|  1.379614e-22 |\n| -2.990452e-23 |\n| -2.168398e-23 |\n| -2.775552e-23 |\n| -1.386597e-22 |\n|  1.868984e-22 |\n| -3.528088e-23 |\n| -1.000000e+00 |\n|  7.926806e-23 |\n| -1.378147e-22 |\n|  7.892158e-23 |\n| -8.324101e-23 |\n| -1.387779e-22 |\n\n",
            "text/latex": "A matrix: 20 × 1 of type dbl\n\\begin{tabular}{l}\n\t  1.874484e-22\\\\\n\t -1.345651e-22\\\\\n\t -3.045252e-23\\\\\n\t -8.216897e-23\\\\\n\t  1.000000e+00\\\\\n\t -2.775552e-23\\\\\n\t  8.257999e-23\\\\\n\t  1.379614e-22\\\\\n\t -2.990452e-23\\\\\n\t -2.168398e-23\\\\\n\t -2.775552e-23\\\\\n\t -1.386597e-22\\\\\n\t  1.868984e-22\\\\\n\t -3.528088e-23\\\\\n\t -1.000000e+00\\\\\n\t  7.926806e-23\\\\\n\t -1.378147e-22\\\\\n\t  7.892158e-23\\\\\n\t -8.324101e-23\\\\\n\t -1.387779e-22\\\\\n\\end{tabular}\n",
            "text/plain": [
              "      [,1]         \n",
              " [1,]  1.874484e-22\n",
              " [2,] -1.345651e-22\n",
              " [3,] -3.045252e-23\n",
              " [4,] -8.216897e-23\n",
              " [5,]  1.000000e+00\n",
              " [6,] -2.775552e-23\n",
              " [7,]  8.257999e-23\n",
              " [8,]  1.379614e-22\n",
              " [9,] -2.990452e-23\n",
              "[10,] -2.168398e-23\n",
              "[11,] -2.775552e-23\n",
              "[12,] -1.386597e-22\n",
              "[13,]  1.868984e-22\n",
              "[14,] -3.528088e-23\n",
              "[15,] -1.000000e+00\n",
              "[16,]  7.926806e-23\n",
              "[17,] -1.378147e-22\n",
              "[18,]  7.892158e-23\n",
              "[19,] -8.324101e-23\n",
              "[20,] -1.387779e-22"
            ]
          },
          "metadata": {}
        }
      ]
    },
    {
      "cell_type": "code",
      "source": [
        "beta %>%\n",
        "  filter(ticker %in% to_trade) %>%\n",
        "  arrange(ticker) %>%\n",
        "  mutate(weight = w)"
      ],
      "metadata": {
        "colab": {
          "base_uri": "https://localhost:8080/",
          "height": 725
        },
        "id": "5IKJc7ePBIH0",
        "outputId": "8c92fe62-88f9-41bd-e784-ea2e349816e1"
      },
      "execution_count": 22,
      "outputs": [
        {
          "output_type": "display_data",
          "data": {
            "text/html": [
              "<table class=\"dataframe\">\n",
              "<caption>A tibble: 20 × 3</caption>\n",
              "<thead>\n",
              "\t<tr><th scope=col>ticker</th><th scope=col>beta</th><th scope=col>weight</th></tr>\n",
              "\t<tr><th scope=col>&lt;chr&gt;</th><th scope=col>&lt;dbl&gt;</th><th scope=col>&lt;dbl[,1]&gt;</th></tr>\n",
              "</thead>\n",
              "<tbody>\n",
              "\t<tr><td>ALGO-PERP   </td><td>1.1058085</td><td> 1.874484e-22</td></tr>\n",
              "\t<tr><td>ALPHA-PERP  </td><td>1.2798730</td><td>-1.345651e-22</td></tr>\n",
              "\t<tr><td>AUDIO-PERP  </td><td>1.2369022</td><td>-3.045252e-23</td></tr>\n",
              "\t<tr><td>BADGER-PERP </td><td>1.3860789</td><td>-8.216897e-23</td></tr>\n",
              "\t<tr><td>BTC-PERP    </td><td>1.0000000</td><td> 1.000000e+00</td></tr>\n",
              "\t<tr><td>CEL-PERP    </td><td>0.8054455</td><td>-2.775552e-23</td></tr>\n",
              "\t<tr><td>DEFI-PERP   </td><td>1.0167004</td><td> 8.257999e-23</td></tr>\n",
              "\t<tr><td>FIDA-PERP   </td><td>1.0148656</td><td> 1.379614e-22</td></tr>\n",
              "\t<tr><td>GAL-PERP    </td><td>1.1835984</td><td>-2.990452e-23</td></tr>\n",
              "\t<tr><td>GST-PERP    </td><td>0.7914224</td><td>-2.168398e-23</td></tr>\n",
              "\t<tr><td>JASMY-PERP  </td><td>0.8059462</td><td>-2.775552e-23</td></tr>\n",
              "\t<tr><td>MAPS-PERP   </td><td>1.0085336</td><td>-1.386597e-22</td></tr>\n",
              "\t<tr><td>OMG-PERP    </td><td>1.1149849</td><td> 1.868984e-22</td></tr>\n",
              "\t<tr><td>OP-PERP     </td><td>1.5171698</td><td>-3.528088e-23</td></tr>\n",
              "\t<tr><td>OXY-PERP    </td><td>0.7671210</td><td>-1.000000e+00</td></tr>\n",
              "\t<tr><td>POLIS-PERP  </td><td>1.1034325</td><td> 7.926806e-23</td></tr>\n",
              "\t<tr><td>RON-PERP    </td><td>1.0706562</td><td>-1.378147e-22</td></tr>\n",
              "\t<tr><td>SHIT-PERP   </td><td>1.1131421</td><td> 7.892158e-23</td></tr>\n",
              "\t<tr><td>SPELL-PERP  </td><td>1.0735845</td><td>-8.324101e-23</td></tr>\n",
              "\t<tr><td>UNISWAP-PERP</td><td>0.9225348</td><td>-1.387779e-22</td></tr>\n",
              "</tbody>\n",
              "</table>\n"
            ],
            "text/markdown": "\nA tibble: 20 × 3\n\n| ticker &lt;chr&gt; | beta &lt;dbl&gt; | weight &lt;dbl[,1]&gt; |\n|---|---|---|\n| ALGO-PERP    | 1.1058085 |  1.874484e-22 |\n| ALPHA-PERP   | 1.2798730 | -1.345651e-22 |\n| AUDIO-PERP   | 1.2369022 | -3.045252e-23 |\n| BADGER-PERP  | 1.3860789 | -8.216897e-23 |\n| BTC-PERP     | 1.0000000 |  1.000000e+00 |\n| CEL-PERP     | 0.8054455 | -2.775552e-23 |\n| DEFI-PERP    | 1.0167004 |  8.257999e-23 |\n| FIDA-PERP    | 1.0148656 |  1.379614e-22 |\n| GAL-PERP     | 1.1835984 | -2.990452e-23 |\n| GST-PERP     | 0.7914224 | -2.168398e-23 |\n| JASMY-PERP   | 0.8059462 | -2.775552e-23 |\n| MAPS-PERP    | 1.0085336 | -1.386597e-22 |\n| OMG-PERP     | 1.1149849 |  1.868984e-22 |\n| OP-PERP      | 1.5171698 | -3.528088e-23 |\n| OXY-PERP     | 0.7671210 | -1.000000e+00 |\n| POLIS-PERP   | 1.1034325 |  7.926806e-23 |\n| RON-PERP     | 1.0706562 | -1.378147e-22 |\n| SHIT-PERP    | 1.1131421 |  7.892158e-23 |\n| SPELL-PERP   | 1.0735845 | -8.324101e-23 |\n| UNISWAP-PERP | 0.9225348 | -1.387779e-22 |\n\n",
            "text/latex": "A tibble: 20 × 3\n\\begin{tabular}{lll}\n ticker & beta & weight\\\\\n <chr> & <dbl> & <dbl{[},1{]}>\\\\\n\\hline\n\t ALGO-PERP    & 1.1058085 &  1.874484e-22\\\\\n\t ALPHA-PERP   & 1.2798730 & -1.345651e-22\\\\\n\t AUDIO-PERP   & 1.2369022 & -3.045252e-23\\\\\n\t BADGER-PERP  & 1.3860789 & -8.216897e-23\\\\\n\t BTC-PERP     & 1.0000000 &  1.000000e+00\\\\\n\t CEL-PERP     & 0.8054455 & -2.775552e-23\\\\\n\t DEFI-PERP    & 1.0167004 &  8.257999e-23\\\\\n\t FIDA-PERP    & 1.0148656 &  1.379614e-22\\\\\n\t GAL-PERP     & 1.1835984 & -2.990452e-23\\\\\n\t GST-PERP     & 0.7914224 & -2.168398e-23\\\\\n\t JASMY-PERP   & 0.8059462 & -2.775552e-23\\\\\n\t MAPS-PERP    & 1.0085336 & -1.386597e-22\\\\\n\t OMG-PERP     & 1.1149849 &  1.868984e-22\\\\\n\t OP-PERP      & 1.5171698 & -3.528088e-23\\\\\n\t OXY-PERP     & 0.7671210 & -1.000000e+00\\\\\n\t POLIS-PERP   & 1.1034325 &  7.926806e-23\\\\\n\t RON-PERP     & 1.0706562 & -1.378147e-22\\\\\n\t SHIT-PERP    & 1.1131421 &  7.892158e-23\\\\\n\t SPELL-PERP   & 1.0735845 & -8.324101e-23\\\\\n\t UNISWAP-PERP & 0.9225348 & -1.387779e-22\\\\\n\\end{tabular}\n",
            "text/plain": [
              "   ticker       beta      weight       \n",
              "1  ALGO-PERP    1.1058085  1.874484e-22\n",
              "2  ALPHA-PERP   1.2798730 -1.345651e-22\n",
              "3  AUDIO-PERP   1.2369022 -3.045252e-23\n",
              "4  BADGER-PERP  1.3860789 -8.216897e-23\n",
              "5  BTC-PERP     1.0000000  1.000000e+00\n",
              "6  CEL-PERP     0.8054455 -2.775552e-23\n",
              "7  DEFI-PERP    1.0167004  8.257999e-23\n",
              "8  FIDA-PERP    1.0148656  1.379614e-22\n",
              "9  GAL-PERP     1.1835984 -2.990452e-23\n",
              "10 GST-PERP     0.7914224 -2.168398e-23\n",
              "11 JASMY-PERP   0.8059462 -2.775552e-23\n",
              "12 MAPS-PERP    1.0085336 -1.386597e-22\n",
              "13 OMG-PERP     1.1149849  1.868984e-22\n",
              "14 OP-PERP      1.5171698 -3.528088e-23\n",
              "15 OXY-PERP     0.7671210 -1.000000e+00\n",
              "16 POLIS-PERP   1.1034325  7.926806e-23\n",
              "17 RON-PERP     1.0706562 -1.378147e-22\n",
              "18 SHIT-PERP    1.1131421  7.892158e-23\n",
              "19 SPELL-PERP   1.0735845 -8.324101e-23\n",
              "20 UNISWAP-PERP 0.9225348 -1.387779e-22"
            ]
          },
          "metadata": {}
        }
      ]
    },
    {
      "cell_type": "markdown",
      "source": [
        "This gets us a fully short position in only a single ticker, and it's not beta-neutral to BTC (slightly net short)."
      ],
      "metadata": {
        "id": "24ICBFKfDEk_"
      }
    },
    {
      "cell_type": "code",
      "source": [
        "# maximise historical returns but treat beta of basket as a hard constraint\n",
        "\n",
        "weights <- Variable(rows = length(returns_vec))\n",
        "objective <- Maximize(t(weights) %*% returns_vec)\n",
        "constraints <- list(weights[btc_idx] == 1, weights[-btc_idx] <= 0, sum(weights[-btc_idx]) == -1, sum(multiply(weights, betas_vec)) == 0)\n",
        "problem <- Problem(objective, constraints)\n",
        "result <- solve(problem)\n",
        "\n",
        "w <- result$getValue(weights)\n",
        "w"
      ],
      "metadata": {
        "colab": {
          "base_uri": "https://localhost:8080/",
          "height": 679
        },
        "outputId": "ced34c96-c910-4a72-d799-aeb46dd2ad99",
        "id": "nI8nN4TIC2Tm"
      },
      "execution_count": 23,
      "outputs": [
        {
          "output_type": "display_data",
          "data": {
            "text/html": [
              "<table class=\"dataframe\">\n",
              "<caption>A matrix: 20 × 1 of type dbl</caption>\n",
              "<tbody>\n",
              "\t<tr><td>-7.642268e-25</td></tr>\n",
              "\t<tr><td> 5.230374e-23</td></tr>\n",
              "\t<tr><td>-6.689709e-23</td></tr>\n",
              "\t<tr><td> 2.662936e-23</td></tr>\n",
              "\t<tr><td> 1.000000e+00</td></tr>\n",
              "\t<tr><td>-5.115735e-24</td></tr>\n",
              "\t<tr><td>-8.147917e-23</td></tr>\n",
              "\t<tr><td>-1.361953e-22</td></tr>\n",
              "\t<tr><td>-2.502065e-23</td></tr>\n",
              "\t<tr><td>-3.315037e-01</td></tr>\n",
              "\t<tr><td>-5.298327e-24</td></tr>\n",
              "\t<tr><td> 3.194398e-23</td></tr>\n",
              "\t<tr><td> 1.043348e-22</td></tr>\n",
              "\t<tr><td> 5.092947e-23</td></tr>\n",
              "\t<tr><td> 5.222864e-23</td></tr>\n",
              "\t<tr><td>-6.684963e-01</td></tr>\n",
              "\t<tr><td>-1.655836e-23</td></tr>\n",
              "\t<tr><td>-1.112049e-22</td></tr>\n",
              "\t<tr><td>-9.931231e-23</td></tr>\n",
              "\t<tr><td> 6.320613e-23</td></tr>\n",
              "</tbody>\n",
              "</table>\n"
            ],
            "text/markdown": "\nA matrix: 20 × 1 of type dbl\n\n| -7.642268e-25 |\n|  5.230374e-23 |\n| -6.689709e-23 |\n|  2.662936e-23 |\n|  1.000000e+00 |\n| -5.115735e-24 |\n| -8.147917e-23 |\n| -1.361953e-22 |\n| -2.502065e-23 |\n| -3.315037e-01 |\n| -5.298327e-24 |\n|  3.194398e-23 |\n|  1.043348e-22 |\n|  5.092947e-23 |\n|  5.222864e-23 |\n| -6.684963e-01 |\n| -1.655836e-23 |\n| -1.112049e-22 |\n| -9.931231e-23 |\n|  6.320613e-23 |\n\n",
            "text/latex": "A matrix: 20 × 1 of type dbl\n\\begin{tabular}{l}\n\t -7.642268e-25\\\\\n\t  5.230374e-23\\\\\n\t -6.689709e-23\\\\\n\t  2.662936e-23\\\\\n\t  1.000000e+00\\\\\n\t -5.115735e-24\\\\\n\t -8.147917e-23\\\\\n\t -1.361953e-22\\\\\n\t -2.502065e-23\\\\\n\t -3.315037e-01\\\\\n\t -5.298327e-24\\\\\n\t  3.194398e-23\\\\\n\t  1.043348e-22\\\\\n\t  5.092947e-23\\\\\n\t  5.222864e-23\\\\\n\t -6.684963e-01\\\\\n\t -1.655836e-23\\\\\n\t -1.112049e-22\\\\\n\t -9.931231e-23\\\\\n\t  6.320613e-23\\\\\n\\end{tabular}\n",
            "text/plain": [
              "      [,1]         \n",
              " [1,] -7.642268e-25\n",
              " [2,]  5.230374e-23\n",
              " [3,] -6.689709e-23\n",
              " [4,]  2.662936e-23\n",
              " [5,]  1.000000e+00\n",
              " [6,] -5.115735e-24\n",
              " [7,] -8.147917e-23\n",
              " [8,] -1.361953e-22\n",
              " [9,] -2.502065e-23\n",
              "[10,] -3.315037e-01\n",
              "[11,] -5.298327e-24\n",
              "[12,]  3.194398e-23\n",
              "[13,]  1.043348e-22\n",
              "[14,]  5.092947e-23\n",
              "[15,]  5.222864e-23\n",
              "[16,] -6.684963e-01\n",
              "[17,] -1.655836e-23\n",
              "[18,] -1.112049e-22\n",
              "[19,] -9.931231e-23\n",
              "[20,]  6.320613e-23"
            ]
          },
          "metadata": {}
        }
      ]
    },
    {
      "cell_type": "code",
      "source": [
        "# portfolio weights and betas\n",
        "beta %>%\n",
        "  filter(ticker %in% to_trade) %>%\n",
        "  arrange(ticker) %>%\n",
        "  mutate(weight = w)\n",
        "\n",
        "# total net beta\n",
        "beta %>%\n",
        "  filter(ticker %in% to_trade) %>%\n",
        "  arrange(ticker) %>%\n",
        "  mutate(weight = w) %>%\n",
        "  summarise(net_beta = sum(beta*weight))\n",
        "\n",
        "# total allocation\n",
        "beta %>%\n",
        "  filter(ticker %in% to_trade) %>%\n",
        "  arrange(ticker) %>%\n",
        "  mutate(weight = w) %>%\n",
        "  summarise(total_alloaction = sum(weight))"
      ],
      "metadata": {
        "colab": {
          "base_uri": "https://localhost:8080/",
          "height": 950
        },
        "outputId": "92a54e7e-b583-4f55-cc21-1b1c22332205",
        "id": "vsOZWYjCC2Tn"
      },
      "execution_count": 24,
      "outputs": [
        {
          "output_type": "display_data",
          "data": {
            "text/html": [
              "<table class=\"dataframe\">\n",
              "<caption>A tibble: 20 × 3</caption>\n",
              "<thead>\n",
              "\t<tr><th scope=col>ticker</th><th scope=col>beta</th><th scope=col>weight</th></tr>\n",
              "\t<tr><th scope=col>&lt;chr&gt;</th><th scope=col>&lt;dbl&gt;</th><th scope=col>&lt;dbl[,1]&gt;</th></tr>\n",
              "</thead>\n",
              "<tbody>\n",
              "\t<tr><td>ALGO-PERP   </td><td>1.1058085</td><td>-7.642268e-25</td></tr>\n",
              "\t<tr><td>ALPHA-PERP  </td><td>1.2798730</td><td> 5.230374e-23</td></tr>\n",
              "\t<tr><td>AUDIO-PERP  </td><td>1.2369022</td><td>-6.689709e-23</td></tr>\n",
              "\t<tr><td>BADGER-PERP </td><td>1.3860789</td><td> 2.662936e-23</td></tr>\n",
              "\t<tr><td>BTC-PERP    </td><td>1.0000000</td><td> 1.000000e+00</td></tr>\n",
              "\t<tr><td>CEL-PERP    </td><td>0.8054455</td><td>-5.115735e-24</td></tr>\n",
              "\t<tr><td>DEFI-PERP   </td><td>1.0167004</td><td>-8.147917e-23</td></tr>\n",
              "\t<tr><td>FIDA-PERP   </td><td>1.0148656</td><td>-1.361953e-22</td></tr>\n",
              "\t<tr><td>GAL-PERP    </td><td>1.1835984</td><td>-2.502065e-23</td></tr>\n",
              "\t<tr><td>GST-PERP    </td><td>0.7914224</td><td>-3.315037e-01</td></tr>\n",
              "\t<tr><td>JASMY-PERP  </td><td>0.8059462</td><td>-5.298327e-24</td></tr>\n",
              "\t<tr><td>MAPS-PERP   </td><td>1.0085336</td><td> 3.194398e-23</td></tr>\n",
              "\t<tr><td>OMG-PERP    </td><td>1.1149849</td><td> 1.043348e-22</td></tr>\n",
              "\t<tr><td>OP-PERP     </td><td>1.5171698</td><td> 5.092947e-23</td></tr>\n",
              "\t<tr><td>OXY-PERP    </td><td>0.7671210</td><td> 5.222864e-23</td></tr>\n",
              "\t<tr><td>POLIS-PERP  </td><td>1.1034325</td><td>-6.684963e-01</td></tr>\n",
              "\t<tr><td>RON-PERP    </td><td>1.0706562</td><td>-1.655836e-23</td></tr>\n",
              "\t<tr><td>SHIT-PERP   </td><td>1.1131421</td><td>-1.112049e-22</td></tr>\n",
              "\t<tr><td>SPELL-PERP  </td><td>1.0735845</td><td>-9.931231e-23</td></tr>\n",
              "\t<tr><td>UNISWAP-PERP</td><td>0.9225348</td><td> 6.320613e-23</td></tr>\n",
              "</tbody>\n",
              "</table>\n"
            ],
            "text/markdown": "\nA tibble: 20 × 3\n\n| ticker &lt;chr&gt; | beta &lt;dbl&gt; | weight &lt;dbl[,1]&gt; |\n|---|---|---|\n| ALGO-PERP    | 1.1058085 | -7.642268e-25 |\n| ALPHA-PERP   | 1.2798730 |  5.230374e-23 |\n| AUDIO-PERP   | 1.2369022 | -6.689709e-23 |\n| BADGER-PERP  | 1.3860789 |  2.662936e-23 |\n| BTC-PERP     | 1.0000000 |  1.000000e+00 |\n| CEL-PERP     | 0.8054455 | -5.115735e-24 |\n| DEFI-PERP    | 1.0167004 | -8.147917e-23 |\n| FIDA-PERP    | 1.0148656 | -1.361953e-22 |\n| GAL-PERP     | 1.1835984 | -2.502065e-23 |\n| GST-PERP     | 0.7914224 | -3.315037e-01 |\n| JASMY-PERP   | 0.8059462 | -5.298327e-24 |\n| MAPS-PERP    | 1.0085336 |  3.194398e-23 |\n| OMG-PERP     | 1.1149849 |  1.043348e-22 |\n| OP-PERP      | 1.5171698 |  5.092947e-23 |\n| OXY-PERP     | 0.7671210 |  5.222864e-23 |\n| POLIS-PERP   | 1.1034325 | -6.684963e-01 |\n| RON-PERP     | 1.0706562 | -1.655836e-23 |\n| SHIT-PERP    | 1.1131421 | -1.112049e-22 |\n| SPELL-PERP   | 1.0735845 | -9.931231e-23 |\n| UNISWAP-PERP | 0.9225348 |  6.320613e-23 |\n\n",
            "text/latex": "A tibble: 20 × 3\n\\begin{tabular}{lll}\n ticker & beta & weight\\\\\n <chr> & <dbl> & <dbl{[},1{]}>\\\\\n\\hline\n\t ALGO-PERP    & 1.1058085 & -7.642268e-25\\\\\n\t ALPHA-PERP   & 1.2798730 &  5.230374e-23\\\\\n\t AUDIO-PERP   & 1.2369022 & -6.689709e-23\\\\\n\t BADGER-PERP  & 1.3860789 &  2.662936e-23\\\\\n\t BTC-PERP     & 1.0000000 &  1.000000e+00\\\\\n\t CEL-PERP     & 0.8054455 & -5.115735e-24\\\\\n\t DEFI-PERP    & 1.0167004 & -8.147917e-23\\\\\n\t FIDA-PERP    & 1.0148656 & -1.361953e-22\\\\\n\t GAL-PERP     & 1.1835984 & -2.502065e-23\\\\\n\t GST-PERP     & 0.7914224 & -3.315037e-01\\\\\n\t JASMY-PERP   & 0.8059462 & -5.298327e-24\\\\\n\t MAPS-PERP    & 1.0085336 &  3.194398e-23\\\\\n\t OMG-PERP     & 1.1149849 &  1.043348e-22\\\\\n\t OP-PERP      & 1.5171698 &  5.092947e-23\\\\\n\t OXY-PERP     & 0.7671210 &  5.222864e-23\\\\\n\t POLIS-PERP   & 1.1034325 & -6.684963e-01\\\\\n\t RON-PERP     & 1.0706562 & -1.655836e-23\\\\\n\t SHIT-PERP    & 1.1131421 & -1.112049e-22\\\\\n\t SPELL-PERP   & 1.0735845 & -9.931231e-23\\\\\n\t UNISWAP-PERP & 0.9225348 &  6.320613e-23\\\\\n\\end{tabular}\n",
            "text/plain": [
              "   ticker       beta      weight       \n",
              "1  ALGO-PERP    1.1058085 -7.642268e-25\n",
              "2  ALPHA-PERP   1.2798730  5.230374e-23\n",
              "3  AUDIO-PERP   1.2369022 -6.689709e-23\n",
              "4  BADGER-PERP  1.3860789  2.662936e-23\n",
              "5  BTC-PERP     1.0000000  1.000000e+00\n",
              "6  CEL-PERP     0.8054455 -5.115735e-24\n",
              "7  DEFI-PERP    1.0167004 -8.147917e-23\n",
              "8  FIDA-PERP    1.0148656 -1.361953e-22\n",
              "9  GAL-PERP     1.1835984 -2.502065e-23\n",
              "10 GST-PERP     0.7914224 -3.315037e-01\n",
              "11 JASMY-PERP   0.8059462 -5.298327e-24\n",
              "12 MAPS-PERP    1.0085336  3.194398e-23\n",
              "13 OMG-PERP     1.1149849  1.043348e-22\n",
              "14 OP-PERP      1.5171698  5.092947e-23\n",
              "15 OXY-PERP     0.7671210  5.222864e-23\n",
              "16 POLIS-PERP   1.1034325 -6.684963e-01\n",
              "17 RON-PERP     1.0706562 -1.655836e-23\n",
              "18 SHIT-PERP    1.1131421 -1.112049e-22\n",
              "19 SPELL-PERP   1.0735845 -9.931231e-23\n",
              "20 UNISWAP-PERP 0.9225348  6.320613e-23"
            ]
          },
          "metadata": {}
        },
        {
          "output_type": "display_data",
          "data": {
            "text/html": [
              "<table class=\"dataframe\">\n",
              "<caption>A tibble: 1 × 1</caption>\n",
              "<thead>\n",
              "\t<tr><th scope=col>net_beta</th></tr>\n",
              "\t<tr><th scope=col>&lt;dbl&gt;</th></tr>\n",
              "</thead>\n",
              "<tbody>\n",
              "\t<tr><td>-1.665336e-16</td></tr>\n",
              "</tbody>\n",
              "</table>\n"
            ],
            "text/markdown": "\nA tibble: 1 × 1\n\n| net_beta &lt;dbl&gt; |\n|---|\n| -1.665336e-16 |\n\n",
            "text/latex": "A tibble: 1 × 1\n\\begin{tabular}{l}\n net\\_beta\\\\\n <dbl>\\\\\n\\hline\n\t -1.665336e-16\\\\\n\\end{tabular}\n",
            "text/plain": [
              "  net_beta     \n",
              "1 -1.665336e-16"
            ]
          },
          "metadata": {}
        },
        {
          "output_type": "display_data",
          "data": {
            "text/html": [
              "<table class=\"dataframe\">\n",
              "<caption>A tibble: 1 × 1</caption>\n",
              "<thead>\n",
              "\t<tr><th scope=col>total_alloaction</th></tr>\n",
              "\t<tr><th scope=col>&lt;dbl&gt;</th></tr>\n",
              "</thead>\n",
              "<tbody>\n",
              "\t<tr><td>-1.110225e-16</td></tr>\n",
              "</tbody>\n",
              "</table>\n"
            ],
            "text/markdown": "\nA tibble: 1 × 1\n\n| total_alloaction &lt;dbl&gt; |\n|---|\n| -1.110225e-16 |\n\n",
            "text/latex": "A tibble: 1 × 1\n\\begin{tabular}{l}\n total\\_alloaction\\\\\n <dbl>\\\\\n\\hline\n\t -1.110225e-16\\\\\n\\end{tabular}\n",
            "text/plain": [
              "  total_alloaction\n",
              "1 -1.110225e-16   "
            ]
          },
          "metadata": {}
        }
      ]
    },
    {
      "cell_type": "markdown",
      "source": [
        "This approach gets into an additional position, and net beta is zero.\n",
        "\n",
        "Another approach would be to maximise $return - variance$, subject to a hard beta-neutrality constraint. \n",
        "\n",
        "Idea would be to force some non-zero weights on some other usefully uncorrelated assets in the basket. \n",
        "\n",
        "Need to tune the lambda parameter for this one. "
      ],
      "metadata": {
        "id": "Se936ApvAuIt"
      }
    },
    {
      "cell_type": "code",
      "source": [
        "lambda <- 500\n",
        "\n",
        "weights <- Variable(rows = length(returns_vec))\n",
        "objective <- Maximize(t(weights) %*% returns_vec - lambda*quad_form(weights, cov_mat))\n",
        "# constraints <- list(sum(weights) == 0)\n",
        "constraints <- list(weights[btc_idx] == 1, weights[-btc_idx] <= 0, sum(weights[-btc_idx]) == -1, sum(multiply(weights, betas_vec)) == 0)\n",
        "problem <- Problem(objective, constraints)\n",
        "result <- solve(problem)\n",
        "\n",
        "w <- result$getValue(weights)\n",
        "w"
      ],
      "metadata": {
        "colab": {
          "base_uri": "https://localhost:8080/",
          "height": 679
        },
        "id": "y_BB76UUu829",
        "outputId": "a6a403bf-1120-451f-d0a7-bf5e3a72ea49"
      },
      "execution_count": 25,
      "outputs": [
        {
          "output_type": "display_data",
          "data": {
            "text/html": [
              "<table class=\"dataframe\">\n",
              "<caption>A matrix: 20 × 1 of type dbl</caption>\n",
              "<tbody>\n",
              "\t<tr><td>-5.001304e-23</td></tr>\n",
              "\t<tr><td>-1.489230e-22</td></tr>\n",
              "\t<tr><td>-8.710504e-02</td></tr>\n",
              "\t<tr><td>-1.586736e-01</td></tr>\n",
              "\t<tr><td> 1.000000e+00</td></tr>\n",
              "\t<tr><td> 6.840573e-23</td></tr>\n",
              "\t<tr><td> 2.071371e-22</td></tr>\n",
              "\t<tr><td> 8.974297e-23</td></tr>\n",
              "\t<tr><td> 1.360059e-22</td></tr>\n",
              "\t<tr><td>-1.551253e-01</td></tr>\n",
              "\t<tr><td> 9.389669e-23</td></tr>\n",
              "\t<tr><td>-3.402725e-22</td></tr>\n",
              "\t<tr><td> 1.287634e-22</td></tr>\n",
              "\t<tr><td> 3.139448e-23</td></tr>\n",
              "\t<tr><td>-3.031810e-01</td></tr>\n",
              "\t<tr><td> 7.572631e-23</td></tr>\n",
              "\t<tr><td>-2.426366e-01</td></tr>\n",
              "\t<tr><td> 2.177690e-22</td></tr>\n",
              "\t<tr><td>-5.327843e-02</td></tr>\n",
              "\t<tr><td> 7.627986e-24</td></tr>\n",
              "</tbody>\n",
              "</table>\n"
            ],
            "text/markdown": "\nA matrix: 20 × 1 of type dbl\n\n| -5.001304e-23 |\n| -1.489230e-22 |\n| -8.710504e-02 |\n| -1.586736e-01 |\n|  1.000000e+00 |\n|  6.840573e-23 |\n|  2.071371e-22 |\n|  8.974297e-23 |\n|  1.360059e-22 |\n| -1.551253e-01 |\n|  9.389669e-23 |\n| -3.402725e-22 |\n|  1.287634e-22 |\n|  3.139448e-23 |\n| -3.031810e-01 |\n|  7.572631e-23 |\n| -2.426366e-01 |\n|  2.177690e-22 |\n| -5.327843e-02 |\n|  7.627986e-24 |\n\n",
            "text/latex": "A matrix: 20 × 1 of type dbl\n\\begin{tabular}{l}\n\t -5.001304e-23\\\\\n\t -1.489230e-22\\\\\n\t -8.710504e-02\\\\\n\t -1.586736e-01\\\\\n\t  1.000000e+00\\\\\n\t  6.840573e-23\\\\\n\t  2.071371e-22\\\\\n\t  8.974297e-23\\\\\n\t  1.360059e-22\\\\\n\t -1.551253e-01\\\\\n\t  9.389669e-23\\\\\n\t -3.402725e-22\\\\\n\t  1.287634e-22\\\\\n\t  3.139448e-23\\\\\n\t -3.031810e-01\\\\\n\t  7.572631e-23\\\\\n\t -2.426366e-01\\\\\n\t  2.177690e-22\\\\\n\t -5.327843e-02\\\\\n\t  7.627986e-24\\\\\n\\end{tabular}\n",
            "text/plain": [
              "      [,1]         \n",
              " [1,] -5.001304e-23\n",
              " [2,] -1.489230e-22\n",
              " [3,] -8.710504e-02\n",
              " [4,] -1.586736e-01\n",
              " [5,]  1.000000e+00\n",
              " [6,]  6.840573e-23\n",
              " [7,]  2.071371e-22\n",
              " [8,]  8.974297e-23\n",
              " [9,]  1.360059e-22\n",
              "[10,] -1.551253e-01\n",
              "[11,]  9.389669e-23\n",
              "[12,] -3.402725e-22\n",
              "[13,]  1.287634e-22\n",
              "[14,]  3.139448e-23\n",
              "[15,] -3.031810e-01\n",
              "[16,]  7.572631e-23\n",
              "[17,] -2.426366e-01\n",
              "[18,]  2.177690e-22\n",
              "[19,] -5.327843e-02\n",
              "[20,]  7.627986e-24"
            ]
          },
          "metadata": {}
        }
      ]
    },
    {
      "cell_type": "code",
      "source": [
        "beta %>%\n",
        "  filter(ticker %in% to_trade) %>%\n",
        "  arrange(ticker) %>%\n",
        "  mutate(weight = w)"
      ],
      "metadata": {
        "colab": {
          "base_uri": "https://localhost:8080/",
          "height": 725
        },
        "id": "o6ICNYBz4Hgc",
        "outputId": "278cc57f-0266-42ba-e0b9-61f75a02dcb1"
      },
      "execution_count": 26,
      "outputs": [
        {
          "output_type": "display_data",
          "data": {
            "text/html": [
              "<table class=\"dataframe\">\n",
              "<caption>A tibble: 20 × 3</caption>\n",
              "<thead>\n",
              "\t<tr><th scope=col>ticker</th><th scope=col>beta</th><th scope=col>weight</th></tr>\n",
              "\t<tr><th scope=col>&lt;chr&gt;</th><th scope=col>&lt;dbl&gt;</th><th scope=col>&lt;dbl[,1]&gt;</th></tr>\n",
              "</thead>\n",
              "<tbody>\n",
              "\t<tr><td>ALGO-PERP   </td><td>1.1058085</td><td>-5.001304e-23</td></tr>\n",
              "\t<tr><td>ALPHA-PERP  </td><td>1.2798730</td><td>-1.489230e-22</td></tr>\n",
              "\t<tr><td>AUDIO-PERP  </td><td>1.2369022</td><td>-8.710504e-02</td></tr>\n",
              "\t<tr><td>BADGER-PERP </td><td>1.3860789</td><td>-1.586736e-01</td></tr>\n",
              "\t<tr><td>BTC-PERP    </td><td>1.0000000</td><td> 1.000000e+00</td></tr>\n",
              "\t<tr><td>CEL-PERP    </td><td>0.8054455</td><td> 6.840573e-23</td></tr>\n",
              "\t<tr><td>DEFI-PERP   </td><td>1.0167004</td><td> 2.071371e-22</td></tr>\n",
              "\t<tr><td>FIDA-PERP   </td><td>1.0148656</td><td> 8.974297e-23</td></tr>\n",
              "\t<tr><td>GAL-PERP    </td><td>1.1835984</td><td> 1.360059e-22</td></tr>\n",
              "\t<tr><td>GST-PERP    </td><td>0.7914224</td><td>-1.551253e-01</td></tr>\n",
              "\t<tr><td>JASMY-PERP  </td><td>0.8059462</td><td> 9.389669e-23</td></tr>\n",
              "\t<tr><td>MAPS-PERP   </td><td>1.0085336</td><td>-3.402725e-22</td></tr>\n",
              "\t<tr><td>OMG-PERP    </td><td>1.1149849</td><td> 1.287634e-22</td></tr>\n",
              "\t<tr><td>OP-PERP     </td><td>1.5171698</td><td> 3.139448e-23</td></tr>\n",
              "\t<tr><td>OXY-PERP    </td><td>0.7671210</td><td>-3.031810e-01</td></tr>\n",
              "\t<tr><td>POLIS-PERP  </td><td>1.1034325</td><td> 7.572631e-23</td></tr>\n",
              "\t<tr><td>RON-PERP    </td><td>1.0706562</td><td>-2.426366e-01</td></tr>\n",
              "\t<tr><td>SHIT-PERP   </td><td>1.1131421</td><td> 2.177690e-22</td></tr>\n",
              "\t<tr><td>SPELL-PERP  </td><td>1.0735845</td><td>-5.327843e-02</td></tr>\n",
              "\t<tr><td>UNISWAP-PERP</td><td>0.9225348</td><td> 7.627986e-24</td></tr>\n",
              "</tbody>\n",
              "</table>\n"
            ],
            "text/markdown": "\nA tibble: 20 × 3\n\n| ticker &lt;chr&gt; | beta &lt;dbl&gt; | weight &lt;dbl[,1]&gt; |\n|---|---|---|\n| ALGO-PERP    | 1.1058085 | -5.001304e-23 |\n| ALPHA-PERP   | 1.2798730 | -1.489230e-22 |\n| AUDIO-PERP   | 1.2369022 | -8.710504e-02 |\n| BADGER-PERP  | 1.3860789 | -1.586736e-01 |\n| BTC-PERP     | 1.0000000 |  1.000000e+00 |\n| CEL-PERP     | 0.8054455 |  6.840573e-23 |\n| DEFI-PERP    | 1.0167004 |  2.071371e-22 |\n| FIDA-PERP    | 1.0148656 |  8.974297e-23 |\n| GAL-PERP     | 1.1835984 |  1.360059e-22 |\n| GST-PERP     | 0.7914224 | -1.551253e-01 |\n| JASMY-PERP   | 0.8059462 |  9.389669e-23 |\n| MAPS-PERP    | 1.0085336 | -3.402725e-22 |\n| OMG-PERP     | 1.1149849 |  1.287634e-22 |\n| OP-PERP      | 1.5171698 |  3.139448e-23 |\n| OXY-PERP     | 0.7671210 | -3.031810e-01 |\n| POLIS-PERP   | 1.1034325 |  7.572631e-23 |\n| RON-PERP     | 1.0706562 | -2.426366e-01 |\n| SHIT-PERP    | 1.1131421 |  2.177690e-22 |\n| SPELL-PERP   | 1.0735845 | -5.327843e-02 |\n| UNISWAP-PERP | 0.9225348 |  7.627986e-24 |\n\n",
            "text/latex": "A tibble: 20 × 3\n\\begin{tabular}{lll}\n ticker & beta & weight\\\\\n <chr> & <dbl> & <dbl{[},1{]}>\\\\\n\\hline\n\t ALGO-PERP    & 1.1058085 & -5.001304e-23\\\\\n\t ALPHA-PERP   & 1.2798730 & -1.489230e-22\\\\\n\t AUDIO-PERP   & 1.2369022 & -8.710504e-02\\\\\n\t BADGER-PERP  & 1.3860789 & -1.586736e-01\\\\\n\t BTC-PERP     & 1.0000000 &  1.000000e+00\\\\\n\t CEL-PERP     & 0.8054455 &  6.840573e-23\\\\\n\t DEFI-PERP    & 1.0167004 &  2.071371e-22\\\\\n\t FIDA-PERP    & 1.0148656 &  8.974297e-23\\\\\n\t GAL-PERP     & 1.1835984 &  1.360059e-22\\\\\n\t GST-PERP     & 0.7914224 & -1.551253e-01\\\\\n\t JASMY-PERP   & 0.8059462 &  9.389669e-23\\\\\n\t MAPS-PERP    & 1.0085336 & -3.402725e-22\\\\\n\t OMG-PERP     & 1.1149849 &  1.287634e-22\\\\\n\t OP-PERP      & 1.5171698 &  3.139448e-23\\\\\n\t OXY-PERP     & 0.7671210 & -3.031810e-01\\\\\n\t POLIS-PERP   & 1.1034325 &  7.572631e-23\\\\\n\t RON-PERP     & 1.0706562 & -2.426366e-01\\\\\n\t SHIT-PERP    & 1.1131421 &  2.177690e-22\\\\\n\t SPELL-PERP   & 1.0735845 & -5.327843e-02\\\\\n\t UNISWAP-PERP & 0.9225348 &  7.627986e-24\\\\\n\\end{tabular}\n",
            "text/plain": [
              "   ticker       beta      weight       \n",
              "1  ALGO-PERP    1.1058085 -5.001304e-23\n",
              "2  ALPHA-PERP   1.2798730 -1.489230e-22\n",
              "3  AUDIO-PERP   1.2369022 -8.710504e-02\n",
              "4  BADGER-PERP  1.3860789 -1.586736e-01\n",
              "5  BTC-PERP     1.0000000  1.000000e+00\n",
              "6  CEL-PERP     0.8054455  6.840573e-23\n",
              "7  DEFI-PERP    1.0167004  2.071371e-22\n",
              "8  FIDA-PERP    1.0148656  8.974297e-23\n",
              "9  GAL-PERP     1.1835984  1.360059e-22\n",
              "10 GST-PERP     0.7914224 -1.551253e-01\n",
              "11 JASMY-PERP   0.8059462  9.389669e-23\n",
              "12 MAPS-PERP    1.0085336 -3.402725e-22\n",
              "13 OMG-PERP     1.1149849  1.287634e-22\n",
              "14 OP-PERP      1.5171698  3.139448e-23\n",
              "15 OXY-PERP     0.7671210 -3.031810e-01\n",
              "16 POLIS-PERP   1.1034325  7.572631e-23\n",
              "17 RON-PERP     1.0706562 -2.426366e-01\n",
              "18 SHIT-PERP    1.1131421  2.177690e-22\n",
              "19 SPELL-PERP   1.0735845 -5.327843e-02\n",
              "20 UNISWAP-PERP 0.9225348  7.627986e-24"
            ]
          },
          "metadata": {}
        }
      ]
    },
    {
      "cell_type": "markdown",
      "source": [
        "This spreads some allocation around the basket a little more. \n",
        "\n",
        "Check beta-neutrality:"
      ],
      "metadata": {
        "id": "z7MLaptFBzpB"
      }
    },
    {
      "cell_type": "code",
      "source": [
        "beta %>%\n",
        "  filter(ticker %in% to_trade) %>%\n",
        "  arrange(ticker) %>%\n",
        "  mutate(weight = w) %>%\n",
        "  summarise(port_beta = sum(weight*beta))"
      ],
      "metadata": {
        "colab": {
          "base_uri": "https://localhost:8080/",
          "height": 129
        },
        "id": "6TVCfijPB9B2",
        "outputId": "686f0a05-55b9-4128-b3bf-c69846b354db"
      },
      "execution_count": 27,
      "outputs": [
        {
          "output_type": "display_data",
          "data": {
            "text/html": [
              "<table class=\"dataframe\">\n",
              "<caption>A tibble: 1 × 1</caption>\n",
              "<thead>\n",
              "\t<tr><th scope=col>port_beta</th></tr>\n",
              "\t<tr><th scope=col>&lt;dbl&gt;</th></tr>\n",
              "</thead>\n",
              "<tbody>\n",
              "\t<tr><td>-3.469446e-17</td></tr>\n",
              "</tbody>\n",
              "</table>\n"
            ],
            "text/markdown": "\nA tibble: 1 × 1\n\n| port_beta &lt;dbl&gt; |\n|---|\n| -3.469446e-17 |\n\n",
            "text/latex": "A tibble: 1 × 1\n\\begin{tabular}{l}\n port\\_beta\\\\\n <dbl>\\\\\n\\hline\n\t -3.469446e-17\\\\\n\\end{tabular}\n",
            "text/plain": [
              "  port_beta    \n",
              "1 -3.469446e-17"
            ]
          },
          "metadata": {}
        }
      ]
    },
    {
      "cell_type": "code",
      "source": [
        "# total allocation\n",
        "beta %>%\n",
        "  filter(ticker %in% to_trade) %>%\n",
        "  arrange(ticker) %>%\n",
        "  mutate(weight = w) %>%\n",
        "  summarise(total_alloaction = sum(weight))"
      ],
      "metadata": {
        "colab": {
          "base_uri": "https://localhost:8080/",
          "height": 129
        },
        "id": "rBdmhuQcGGTe",
        "outputId": "e563cc09-dae6-4ddf-feac-02a4c130e116"
      },
      "execution_count": 28,
      "outputs": [
        {
          "output_type": "display_data",
          "data": {
            "text/html": [
              "<table class=\"dataframe\">\n",
              "<caption>A tibble: 1 × 1</caption>\n",
              "<thead>\n",
              "\t<tr><th scope=col>total_alloaction</th></tr>\n",
              "\t<tr><th scope=col>&lt;dbl&gt;</th></tr>\n",
              "</thead>\n",
              "<tbody>\n",
              "\t<tr><td>-9.714451e-17</td></tr>\n",
              "</tbody>\n",
              "</table>\n"
            ],
            "text/markdown": "\nA tibble: 1 × 1\n\n| total_alloaction &lt;dbl&gt; |\n|---|\n| -9.714451e-17 |\n\n",
            "text/latex": "A tibble: 1 × 1\n\\begin{tabular}{l}\n total\\_alloaction\\\\\n <dbl>\\\\\n\\hline\n\t -9.714451e-17\\\\\n\\end{tabular}\n",
            "text/plain": [
              "  total_alloaction\n",
              "1 -9.714451e-17   "
            ]
          },
          "metadata": {}
        }
      ]
    },
    {
      "cell_type": "markdown",
      "source": [
        "Thing to note here is that returns, betas, covariances are all calculated on historical data. So you don't want to kid yourself that this approach will lead to any sort of precision out of sample. \n",
        "\n",
        "It's probably no better than allocating an equal-beta weight to everything in the basket...\n",
        "\n",
        "Also I don't really like this approach for this application because the main goal isn't minimising variance... it's diversifying across as many dogshit coins as possible."
      ],
      "metadata": {
        "id": "ISR0LQw-CEOV"
      }
    },
    {
      "cell_type": "code",
      "source": [],
      "metadata": {
        "id": "WO4Y8DTVCeWy"
      },
      "execution_count": 29,
      "outputs": []
    }
  ]
}
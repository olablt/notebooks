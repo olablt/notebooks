{
  "nbformat": 4,
  "nbformat_minor": 0,
  "metadata": {
    "colab": {
      "name": "Markouts.ipynb",
      "provenance": [],
      "include_colab_link": true
    },
    "kernelspec": {
      "name": "ir",
      "display_name": "R"
    },
    "language_info": {
      "name": "R"
    }
  },
  "cells": [
    {
      "cell_type": "markdown",
      "metadata": {
        "id": "view-in-github",
        "colab_type": "text"
      },
      "source": [
        "<a href=\"https://colab.research.google.com/github/RWLab/crypto-pod/blob/main/research/Providing_Liquidity_To_All_Trades.ipynb\" target=\"_parent\"><img src=\"https://colab.research.google.com/assets/colab-badge.svg\" alt=\"Open In Colab\"/></a>"
      ]
    },
    {
      "cell_type": "markdown",
      "source": [
        "# Markouts\n",
        "\n",
        "see: https://robotwealth.com/courses/statistical-arbitrage-2022/lessons/statistical-arbitrage-in-cryptocurrencies/topic/assorted-fun-things-and-a-simple-extreme-shitcoin-perp-carry-trade/\n",
        "\n",
        "We investigate whether providing liquidity to all trades on BTC-PERP on FTX would have made money."
      ],
      "metadata": {
        "id": "9zShHk9Ouw0j"
      }
    },
    {
      "cell_type": "code",
      "execution_count": 1,
      "metadata": {
        "id": "0dmVoPY6ur2x",
        "colab": {
          "base_uri": "https://localhost:8080/"
        },
        "outputId": "fe7e929e-a08e-4aad-e9e6-a257b147faba"
      },
      "outputs": [
        {
          "output_type": "stream",
          "name": "stderr",
          "text": [
            "Installing package into ‘/usr/local/lib/R/site-library’\n",
            "(as ‘lib’ is unspecified)\n",
            "\n"
          ]
        },
        {
          "output_type": "stream",
          "name": "stdout",
          "text": [
            "\u001b[36m──\u001b[39m \u001b[36mR CMD build\u001b[39m \u001b[36m─────────────────────────────────────────────────────────────────\u001b[39m\n",
            "* checking for file ‘/tmp/RtmpkTyvgD/remotesbf244bc95a/RWLab-rwRtools-1924b0b/DESCRIPTION’ ... OK\n",
            "* preparing ‘rwRtools’:\n",
            "* checking DESCRIPTION meta-information ... OK\n",
            "* checking for LF line-endings in source and make files and shell scripts\n",
            "* checking for empty or unneeded directories\n",
            "Omitted ‘LazyData’ from DESCRIPTION\n",
            "  NB: this package now depends on R (>= 3.5.0)\n",
            "  WARNING: Added dependency on R >= 3.5.0 because serialized objects in\n",
            "  serialize/load version 3 cannot be read in older versions of R.\n",
            "  File(s) containing such objects:\n",
            "    ‘rwRtools/R/sysdata.rda’\n",
            "* building ‘rwRtools_0.1.33.tar.gz’\n",
            "\n"
          ]
        }
      ],
      "source": [
        "# snippet: rw load rwRtools v0.8\n",
        "source(\"https://raw.githubusercontent.com/RWLab/rwRtools/master/examples/colab/load_libraries.R\")\n",
        "debug_msg <- load_libraries(load_rsims = FALSE, extra_libraries = c('lubridate', 'roll'), extra_dependencies = c('RcppParallel'))\n",
        "\n",
        "# cat(debug_msg)\n",
        "\n",
        "# Set chart options\n",
        "options(repr.plot.width = 14, repr.plot.height=7)\n",
        "theme_set(theme_bw())\n",
        "theme_update(text = element_text(size = 20))"
      ]
    },
    {
      "cell_type": "markdown",
      "source": [
        "# What data do we want?\n",
        "\n",
        "Top of book quotes for BTC-PERP for four days in March 2022. "
      ],
      "metadata": {
        "id": "_MRMwuctu2Fh"
      }
    },
    {
      "cell_type": "code",
      "source": [
        "rwlab_data_auth()"
      ],
      "metadata": {
        "colab": {
          "base_uri": "https://localhost:8080/"
        },
        "id": "vubhsFBeu4RD",
        "outputId": "9b5c03e4-2c0e-4bae-a8d2-3694f19b8fc5"
      },
      "execution_count": 2,
      "outputs": [
        {
          "output_type": "stream",
          "name": "stdout",
          "text": [
            "Authorization successful!"
          ]
        }
      ]
    },
    {
      "cell_type": "code",
      "source": [
        "bbo <- crypto_get_top_of_book_sample(path = '.')\n",
        "bbo %>% head()"
      ],
      "metadata": {
        "colab": {
          "base_uri": "https://localhost:8080/",
          "height": 425
        },
        "id": "Uly4gXWBu-LV",
        "outputId": "f91feb9f-4961-4261-f1f3-1ed4d5996694"
      },
      "execution_count": 3,
      "outputs": [
        {
          "output_type": "stream",
          "name": "stdout",
          "text": [
            "[1] \"Please Wait. This is a large dataset.\"\n"
          ]
        },
        {
          "output_type": "stream",
          "name": "stderr",
          "text": [
            "\u001b[36mℹ\u001b[39m Downloading ftx_btc_perp_bbo_sample.feather\n",
            "\n",
            "\u001b[32m✔\u001b[39m Saved ftx_btc_perp_bbo_sample.feather to ./ftx_btc_perp_bbo_sample.feather  (…\n",
            "\n",
            "\n",
            "\n"
          ]
        },
        {
          "output_type": "stream",
          "name": "stdout",
          "text": [
            "File successfully transferred\n"
          ]
        },
        {
          "output_type": "display_data",
          "data": {
            "text/html": [
              "<table class=\"dataframe\">\n",
              "<caption>A tibble: 6 × 6</caption>\n",
              "<thead>\n",
              "\t<tr><th scope=col>symbol</th><th scope=col>timestamp</th><th scope=col>ask_amount</th><th scope=col>ask_price</th><th scope=col>bid_price</th><th scope=col>bid_amount</th></tr>\n",
              "\t<tr><th scope=col>&lt;chr&gt;</th><th scope=col>&lt;dttm&gt;</th><th scope=col>&lt;dbl&gt;</th><th scope=col>&lt;dbl&gt;</th><th scope=col>&lt;dbl&gt;</th><th scope=col>&lt;dbl&gt;</th></tr>\n",
              "</thead>\n",
              "<tbody>\n",
              "\t<tr><td>BTC-PERP</td><td>2022-03-01 00:00:00</td><td>0.6911</td><td>43194</td><td>43193</td><td>0.5710</td></tr>\n",
              "\t<tr><td>BTC-PERP</td><td>2022-03-01 00:00:00</td><td>1.1411</td><td>43194</td><td>43193</td><td>0.2000</td></tr>\n",
              "\t<tr><td>BTC-PERP</td><td>2022-03-01 00:00:00</td><td>0.1727</td><td>43193</td><td>43189</td><td>0.3650</td></tr>\n",
              "\t<tr><td>BTC-PERP</td><td>2022-03-01 00:00:00</td><td>0.7359</td><td>43190</td><td>43188</td><td>0.1000</td></tr>\n",
              "\t<tr><td>BTC-PERP</td><td>2022-03-01 00:00:00</td><td>0.9454</td><td>43190</td><td>43188</td><td>0.1000</td></tr>\n",
              "\t<tr><td>BTC-PERP</td><td>2022-03-01 00:00:00</td><td>1.2183</td><td>43189</td><td>43179</td><td>0.0042</td></tr>\n",
              "</tbody>\n",
              "</table>\n"
            ],
            "text/markdown": "\nA tibble: 6 × 6\n\n| symbol &lt;chr&gt; | timestamp &lt;dttm&gt; | ask_amount &lt;dbl&gt; | ask_price &lt;dbl&gt; | bid_price &lt;dbl&gt; | bid_amount &lt;dbl&gt; |\n|---|---|---|---|---|---|\n| BTC-PERP | 2022-03-01 00:00:00 | 0.6911 | 43194 | 43193 | 0.5710 |\n| BTC-PERP | 2022-03-01 00:00:00 | 1.1411 | 43194 | 43193 | 0.2000 |\n| BTC-PERP | 2022-03-01 00:00:00 | 0.1727 | 43193 | 43189 | 0.3650 |\n| BTC-PERP | 2022-03-01 00:00:00 | 0.7359 | 43190 | 43188 | 0.1000 |\n| BTC-PERP | 2022-03-01 00:00:00 | 0.9454 | 43190 | 43188 | 0.1000 |\n| BTC-PERP | 2022-03-01 00:00:00 | 1.2183 | 43189 | 43179 | 0.0042 |\n\n",
            "text/latex": "A tibble: 6 × 6\n\\begin{tabular}{llllll}\n symbol & timestamp & ask\\_amount & ask\\_price & bid\\_price & bid\\_amount\\\\\n <chr> & <dttm> & <dbl> & <dbl> & <dbl> & <dbl>\\\\\n\\hline\n\t BTC-PERP & 2022-03-01 00:00:00 & 0.6911 & 43194 & 43193 & 0.5710\\\\\n\t BTC-PERP & 2022-03-01 00:00:00 & 1.1411 & 43194 & 43193 & 0.2000\\\\\n\t BTC-PERP & 2022-03-01 00:00:00 & 0.1727 & 43193 & 43189 & 0.3650\\\\\n\t BTC-PERP & 2022-03-01 00:00:00 & 0.7359 & 43190 & 43188 & 0.1000\\\\\n\t BTC-PERP & 2022-03-01 00:00:00 & 0.9454 & 43190 & 43188 & 0.1000\\\\\n\t BTC-PERP & 2022-03-01 00:00:00 & 1.2183 & 43189 & 43179 & 0.0042\\\\\n\\end{tabular}\n",
            "text/plain": [
              "  symbol   timestamp           ask_amount ask_price bid_price bid_amount\n",
              "1 BTC-PERP 2022-03-01 00:00:00 0.6911     43194     43193     0.5710    \n",
              "2 BTC-PERP 2022-03-01 00:00:00 1.1411     43194     43193     0.2000    \n",
              "3 BTC-PERP 2022-03-01 00:00:00 0.1727     43193     43189     0.3650    \n",
              "4 BTC-PERP 2022-03-01 00:00:00 0.7359     43190     43188     0.1000    \n",
              "5 BTC-PERP 2022-03-01 00:00:00 0.9454     43190     43188     0.1000    \n",
              "6 BTC-PERP 2022-03-01 00:00:00 1.2183     43189     43179     0.0042    "
            ]
          },
          "metadata": {}
        }
      ]
    },
    {
      "cell_type": "markdown",
      "source": [
        "Plot the first couple of seconds"
      ],
      "metadata": {
        "id": "Hz5-eMxL-wCf"
      }
    },
    {
      "cell_type": "code",
      "source": [
        "bbo %>%\n",
        "  head(2500) %>% \n",
        "  pivot_longer(cols = c(ask_price, bid_price), names_to = 'side', values_to = 'price') %>%\n",
        "  mutate(side = stringr::word(side, sep='_')) %>%\n",
        "  ggplot(aes(x=timestamp, y=price, colour=side)) +\n",
        "    geom_line()\n"
      ],
      "metadata": {
        "colab": {
          "base_uri": "https://localhost:8080/",
          "height": 437
        },
        "id": "FG-ubYe2_XkC",
        "outputId": "ec609f3b-35e9-4c71-d998-36af7245c433"
      },
      "execution_count": 4,
      "outputs": [
        {
          "output_type": "display_data",
          "data": {
            "text/plain": [
              "plot without title"
            ],
            "image/png": "[encoded data removed]"
          },
          "metadata": {
            "image/png": {
              "width": 840,
              "height": 420
            }
          }
        }
      ]
    },
    {
      "cell_type": "markdown",
      "source": [
        "How many records do we have?"
      ],
      "metadata": {
        "id": "XdoSzfMEAGP4"
      }
    },
    {
      "cell_type": "code",
      "source": [
        "bbo %>% nrow()"
      ],
      "metadata": {
        "colab": {
          "base_uri": "https://localhost:8080/",
          "height": 34
        },
        "id": "kmamHx84AJRn",
        "outputId": "7d7a4b7c-55e1-4f9c-8d15-284d6f4a47e9"
      },
      "execution_count": 5,
      "outputs": [
        {
          "output_type": "display_data",
          "data": {
            "text/html": [
              "4157110"
            ],
            "text/markdown": "4157110",
            "text/latex": "4157110",
            "text/plain": [
              "[1] 4157110"
            ]
          },
          "metadata": {}
        }
      ]
    },
    {
      "cell_type": "markdown",
      "source": [
        "We want to mark trades to the midpoint 1 minute later.\n",
        "\n",
        "Let's deal in ticks for now, cos it's easier.\n",
        "\n",
        "On average, how many ticks in a minute?"
      ],
      "metadata": {
        "id": "6Jha9gaPA6S0"
      }
    },
    {
      "cell_type": "code",
      "source": [
        "bbo %>% \n",
        "  mutate(minutes = lubridate::floor_date(timestamp, 'minute')) %>%\n",
        "  group_by(minutes) %>%\n",
        "  summarize(n()) %>% \n",
        "  head()"
      ],
      "metadata": {
        "colab": {
          "base_uri": "https://localhost:8080/",
          "height": 286
        },
        "id": "6jbxPg3UA8LI",
        "outputId": "13e3ebda-da47-4f78-9f54-91f19cdad261"
      },
      "execution_count": 6,
      "outputs": [
        {
          "output_type": "display_data",
          "data": {
            "text/html": [
              "<table class=\"dataframe\">\n",
              "<caption>A tibble: 6 × 2</caption>\n",
              "<thead>\n",
              "\t<tr><th scope=col>minutes</th><th scope=col>n()</th></tr>\n",
              "\t<tr><th scope=col>&lt;dttm&gt;</th><th scope=col>&lt;int&gt;</th></tr>\n",
              "</thead>\n",
              "<tbody>\n",
              "\t<tr><td>2022-03-01 00:00:00</td><td>1098</td></tr>\n",
              "\t<tr><td>2022-03-01 00:01:00</td><td>1279</td></tr>\n",
              "\t<tr><td>2022-03-01 00:02:00</td><td>1362</td></tr>\n",
              "\t<tr><td>2022-03-01 00:03:00</td><td>1486</td></tr>\n",
              "\t<tr><td>2022-03-01 00:04:00</td><td>1491</td></tr>\n",
              "\t<tr><td>2022-03-01 00:05:00</td><td>1254</td></tr>\n",
              "</tbody>\n",
              "</table>\n"
            ],
            "text/markdown": "\nA tibble: 6 × 2\n\n| minutes &lt;dttm&gt; | n() &lt;int&gt; |\n|---|---|\n| 2022-03-01 00:00:00 | 1098 |\n| 2022-03-01 00:01:00 | 1279 |\n| 2022-03-01 00:02:00 | 1362 |\n| 2022-03-01 00:03:00 | 1486 |\n| 2022-03-01 00:04:00 | 1491 |\n| 2022-03-01 00:05:00 | 1254 |\n\n",
            "text/latex": "A tibble: 6 × 2\n\\begin{tabular}{ll}\n minutes & n()\\\\\n <dttm> & <int>\\\\\n\\hline\n\t 2022-03-01 00:00:00 & 1098\\\\\n\t 2022-03-01 00:01:00 & 1279\\\\\n\t 2022-03-01 00:02:00 & 1362\\\\\n\t 2022-03-01 00:03:00 & 1486\\\\\n\t 2022-03-01 00:04:00 & 1491\\\\\n\t 2022-03-01 00:05:00 & 1254\\\\\n\\end{tabular}\n",
            "text/plain": [
              "  minutes             n() \n",
              "1 2022-03-01 00:00:00 1098\n",
              "2 2022-03-01 00:01:00 1279\n",
              "3 2022-03-01 00:02:00 1362\n",
              "4 2022-03-01 00:03:00 1486\n",
              "5 2022-03-01 00:04:00 1491\n",
              "6 2022-03-01 00:05:00 1254"
            ]
          },
          "metadata": {}
        }
      ]
    },
    {
      "cell_type": "markdown",
      "source": [
        "About 1000 ticks so let's use that.\n",
        "\n",
        "Imagine for now that we can buy at the ask or the bid. (We can't but bear with me.)\n",
        "\n",
        "We'd expect to make -0.5 * bid/ask trading at the ask and 0.5 * bid/ask trading at the bid."
      ],
      "metadata": {
        "id": "eNTgQtcXB49p"
      }
    },
    {
      "cell_type": "code",
      "source": [
        "markouts  <- bbo %>%\n",
        "  arrange(timestamp) %>%\n",
        "  mutate(\n",
        "    bidask = (ask_price / bid_price - 1) * 100,\n",
        "    mid_price = (bid_price + ask_price) / 2,\n",
        "    mid_1000 = lead(mid_price, 1000),\n",
        "    markout_mid = log(mid_1000 / mid_price) * 100,\n",
        "    markout_bid = log(mid_1000 / bid_price) * 100,\n",
        "    markout_ask = log(mid_1000 / ask_price) * 100\n",
        "  ) %>% \n",
        "  na.omit()\n",
        "\n",
        "markouts %>% head()"
      ],
      "metadata": {
        "colab": {
          "base_uri": "https://localhost:8080/",
          "height": 286
        },
        "id": "ahsJDbRQAc6T",
        "outputId": "2c9eb930-e0fb-4a0e-add9-dfc26a70813c"
      },
      "execution_count": 7,
      "outputs": [
        {
          "output_type": "display_data",
          "data": {
            "text/html": [
              "<table class=\"dataframe\">\n",
              "<caption>A tibble: 6 × 12</caption>\n",
              "<thead>\n",
              "\t<tr><th scope=col>symbol</th><th scope=col>timestamp</th><th scope=col>ask_amount</th><th scope=col>ask_price</th><th scope=col>bid_price</th><th scope=col>bid_amount</th><th scope=col>bidask</th><th scope=col>mid_price</th><th scope=col>mid_1000</th><th scope=col>markout_mid</th><th scope=col>markout_bid</th><th scope=col>markout_ask</th></tr>\n",
              "\t<tr><th scope=col>&lt;chr&gt;</th><th scope=col>&lt;dttm&gt;</th><th scope=col>&lt;dbl&gt;</th><th scope=col>&lt;dbl&gt;</th><th scope=col>&lt;dbl&gt;</th><th scope=col>&lt;dbl&gt;</th><th scope=col>&lt;dbl&gt;</th><th scope=col>&lt;dbl&gt;</th><th scope=col>&lt;dbl&gt;</th><th scope=col>&lt;dbl&gt;</th><th scope=col>&lt;dbl&gt;</th><th scope=col>&lt;dbl&gt;</th></tr>\n",
              "</thead>\n",
              "<tbody>\n",
              "\t<tr><td>BTC-PERP</td><td>2022-03-01 00:00:00</td><td>0.6911</td><td>43194</td><td>43193</td><td>0.5710</td><td>0.002315190</td><td>43193.5</td><td>43196.5</td><td>0.006945248</td><td>0.008102837</td><td> 0.005787673</td></tr>\n",
              "\t<tr><td>BTC-PERP</td><td>2022-03-01 00:00:00</td><td>1.1411</td><td>43194</td><td>43193</td><td>0.2000</td><td>0.002315190</td><td>43193.5</td><td>43194.0</td><td>0.001157575</td><td>0.002315163</td><td> 0.000000000</td></tr>\n",
              "\t<tr><td>BTC-PERP</td><td>2022-03-01 00:00:00</td><td>0.1727</td><td>43193</td><td>43189</td><td>0.3650</td><td>0.009261618</td><td>43191.0</td><td>43192.5</td><td>0.003472885</td><td>0.008103587</td><td>-0.001157602</td></tr>\n",
              "\t<tr><td>BTC-PERP</td><td>2022-03-01 00:00:00</td><td>0.7359</td><td>43190</td><td>43188</td><td>0.1000</td><td>0.004630916</td><td>43189.0</td><td>43192.5</td><td>0.008103587</td><td>0.010419018</td><td> 0.005788209</td></tr>\n",
              "\t<tr><td>BTC-PERP</td><td>2022-03-01 00:00:00</td><td>0.9454</td><td>43190</td><td>43188</td><td>0.1000</td><td>0.004630916</td><td>43189.0</td><td>43192.5</td><td>0.008103587</td><td>0.010419018</td><td> 0.005788209</td></tr>\n",
              "\t<tr><td>BTC-PERP</td><td>2022-03-01 00:00:00</td><td>1.2183</td><td>43189</td><td>43179</td><td>0.0042</td><td>0.023159406</td><td>43184.0</td><td>43194.5</td><td>0.024311605</td><td>0.035890638</td><td> 0.012733913</td></tr>\n",
              "</tbody>\n",
              "</table>\n"
            ],
            "text/markdown": "\nA tibble: 6 × 12\n\n| symbol &lt;chr&gt; | timestamp &lt;dttm&gt; | ask_amount &lt;dbl&gt; | ask_price &lt;dbl&gt; | bid_price &lt;dbl&gt; | bid_amount &lt;dbl&gt; | bidask &lt;dbl&gt; | mid_price &lt;dbl&gt; | mid_1000 &lt;dbl&gt; | markout_mid &lt;dbl&gt; | markout_bid &lt;dbl&gt; | markout_ask &lt;dbl&gt; |\n|---|---|---|---|---|---|---|---|---|---|---|---|\n| BTC-PERP | 2022-03-01 00:00:00 | 0.6911 | 43194 | 43193 | 0.5710 | 0.002315190 | 43193.5 | 43196.5 | 0.006945248 | 0.008102837 |  0.005787673 |\n| BTC-PERP | 2022-03-01 00:00:00 | 1.1411 | 43194 | 43193 | 0.2000 | 0.002315190 | 43193.5 | 43194.0 | 0.001157575 | 0.002315163 |  0.000000000 |\n| BTC-PERP | 2022-03-01 00:00:00 | 0.1727 | 43193 | 43189 | 0.3650 | 0.009261618 | 43191.0 | 43192.5 | 0.003472885 | 0.008103587 | -0.001157602 |\n| BTC-PERP | 2022-03-01 00:00:00 | 0.7359 | 43190 | 43188 | 0.1000 | 0.004630916 | 43189.0 | 43192.5 | 0.008103587 | 0.010419018 |  0.005788209 |\n| BTC-PERP | 2022-03-01 00:00:00 | 0.9454 | 43190 | 43188 | 0.1000 | 0.004630916 | 43189.0 | 43192.5 | 0.008103587 | 0.010419018 |  0.005788209 |\n| BTC-PERP | 2022-03-01 00:00:00 | 1.2183 | 43189 | 43179 | 0.0042 | 0.023159406 | 43184.0 | 43194.5 | 0.024311605 | 0.035890638 |  0.012733913 |\n\n",
            "text/latex": "A tibble: 6 × 12\n\\begin{tabular}{llllllllllll}\n symbol & timestamp & ask\\_amount & ask\\_price & bid\\_price & bid\\_amount & bidask & mid\\_price & mid\\_1000 & markout\\_mid & markout\\_bid & markout\\_ask\\\\\n <chr> & <dttm> & <dbl> & <dbl> & <dbl> & <dbl> & <dbl> & <dbl> & <dbl> & <dbl> & <dbl> & <dbl>\\\\\n\\hline\n\t BTC-PERP & 2022-03-01 00:00:00 & 0.6911 & 43194 & 43193 & 0.5710 & 0.002315190 & 43193.5 & 43196.5 & 0.006945248 & 0.008102837 &  0.005787673\\\\\n\t BTC-PERP & 2022-03-01 00:00:00 & 1.1411 & 43194 & 43193 & 0.2000 & 0.002315190 & 43193.5 & 43194.0 & 0.001157575 & 0.002315163 &  0.000000000\\\\\n\t BTC-PERP & 2022-03-01 00:00:00 & 0.1727 & 43193 & 43189 & 0.3650 & 0.009261618 & 43191.0 & 43192.5 & 0.003472885 & 0.008103587 & -0.001157602\\\\\n\t BTC-PERP & 2022-03-01 00:00:00 & 0.7359 & 43190 & 43188 & 0.1000 & 0.004630916 & 43189.0 & 43192.5 & 0.008103587 & 0.010419018 &  0.005788209\\\\\n\t BTC-PERP & 2022-03-01 00:00:00 & 0.9454 & 43190 & 43188 & 0.1000 & 0.004630916 & 43189.0 & 43192.5 & 0.008103587 & 0.010419018 &  0.005788209\\\\\n\t BTC-PERP & 2022-03-01 00:00:00 & 1.2183 & 43189 & 43179 & 0.0042 & 0.023159406 & 43184.0 & 43194.5 & 0.024311605 & 0.035890638 &  0.012733913\\\\\n\\end{tabular}\n",
            "text/plain": [
              "  symbol   timestamp           ask_amount ask_price bid_price bid_amount\n",
              "1 BTC-PERP 2022-03-01 00:00:00 0.6911     43194     43193     0.5710    \n",
              "2 BTC-PERP 2022-03-01 00:00:00 1.1411     43194     43193     0.2000    \n",
              "3 BTC-PERP 2022-03-01 00:00:00 0.1727     43193     43189     0.3650    \n",
              "4 BTC-PERP 2022-03-01 00:00:00 0.7359     43190     43188     0.1000    \n",
              "5 BTC-PERP 2022-03-01 00:00:00 0.9454     43190     43188     0.1000    \n",
              "6 BTC-PERP 2022-03-01 00:00:00 1.2183     43189     43179     0.0042    \n",
              "  bidask      mid_price mid_1000 markout_mid markout_bid markout_ask \n",
              "1 0.002315190 43193.5   43196.5  0.006945248 0.008102837  0.005787673\n",
              "2 0.002315190 43193.5   43194.0  0.001157575 0.002315163  0.000000000\n",
              "3 0.009261618 43191.0   43192.5  0.003472885 0.008103587 -0.001157602\n",
              "4 0.004630916 43189.0   43192.5  0.008103587 0.010419018  0.005788209\n",
              "5 0.004630916 43189.0   43192.5  0.008103587 0.010419018  0.005788209\n",
              "6 0.023159406 43184.0   43194.5  0.024311605 0.035890638  0.012733913"
            ]
          },
          "metadata": {}
        }
      ]
    },
    {
      "cell_type": "markdown",
      "source": [
        "What is the averages over the sample?"
      ],
      "metadata": {
        "id": "xblHVXf1B9v5"
      }
    },
    {
      "cell_type": "code",
      "source": [
        "markouts %>%\n",
        "  summarize(\n",
        "    mid = mean(markout_mid),\n",
        "    bid = mean(markout_bid),\n",
        "    ask = mean(markout_ask),\n",
        "    half_bidask = mean(bidask) / 2\n",
        "  )"
      ],
      "metadata": {
        "colab": {
          "base_uri": "https://localhost:8080/",
          "height": 129
        },
        "id": "pPgCpXHqCBl2",
        "outputId": "82f10523-8387-4cc9-981f-e39a7fbe0124"
      },
      "execution_count": 8,
      "outputs": [
        {
          "output_type": "display_data",
          "data": {
            "text/html": [
              "<table class=\"dataframe\">\n",
              "<caption>A tibble: 1 × 4</caption>\n",
              "<thead>\n",
              "\t<tr><th scope=col>mid</th><th scope=col>bid</th><th scope=col>ask</th><th scope=col>half_bidask</th></tr>\n",
              "\t<tr><th scope=col>&lt;dbl&gt;</th><th scope=col>&lt;dbl&gt;</th><th scope=col>&lt;dbl&gt;</th><th scope=col>&lt;dbl&gt;</th></tr>\n",
              "</thead>\n",
              "<tbody>\n",
              "\t<tr><td>-0.000418724</td><td>0.00107569</td><td>-0.001913095</td><td>0.001494435</td></tr>\n",
              "</tbody>\n",
              "</table>\n"
            ],
            "text/markdown": "\nA tibble: 1 × 4\n\n| mid &lt;dbl&gt; | bid &lt;dbl&gt; | ask &lt;dbl&gt; | half_bidask &lt;dbl&gt; |\n|---|---|---|---|\n| -0.000418724 | 0.00107569 | -0.001913095 | 0.001494435 |\n\n",
            "text/latex": "A tibble: 1 × 4\n\\begin{tabular}{llll}\n mid & bid & ask & half\\_bidask\\\\\n <dbl> & <dbl> & <dbl> & <dbl>\\\\\n\\hline\n\t -0.000418724 & 0.00107569 & -0.001913095 & 0.001494435\\\\\n\\end{tabular}\n",
            "text/plain": [
              "  mid          bid        ask          half_bidask\n",
              "1 -0.000418724 0.00107569 -0.001913095 0.001494435"
            ]
          },
          "metadata": {}
        }
      ]
    },
    {
      "cell_type": "markdown",
      "source": [
        "On average price went down slightly during that period.\n",
        "\n",
        "If you could trade costlessly at the bid, you'd have made money - unsurprisingly.\n",
        "\n",
        "If you could trade costlessly on the ask, you'd have lost money too.\n",
        "\n",
        "We can take the drift away"
      ],
      "metadata": {
        "id": "mH6sWBHuCPWH"
      }
    },
    {
      "cell_type": "code",
      "source": [
        "markouts %>%\n",
        "  summarize(\n",
        "    mid = mean(markout_mid),\n",
        "    bid_less_drift = mean(markout_bid) - mid,\n",
        "    ask_less_drift = mean(markout_ask) - mid,\n",
        "    half_bidask = mean(bidask) / 2\n",
        "  )"
      ],
      "metadata": {
        "id": "IE9dor95EZtk",
        "colab": {
          "base_uri": "https://localhost:8080/",
          "height": 129
        },
        "outputId": "b1240a90-1cd6-466c-edc1-e95e62a26684"
      },
      "execution_count": 9,
      "outputs": [
        {
          "output_type": "display_data",
          "data": {
            "text/html": [
              "<table class=\"dataframe\">\n",
              "<caption>A tibble: 1 × 4</caption>\n",
              "<thead>\n",
              "\t<tr><th scope=col>mid</th><th scope=col>bid_less_drift</th><th scope=col>ask_less_drift</th><th scope=col>half_bidask</th></tr>\n",
              "\t<tr><th scope=col>&lt;dbl&gt;</th><th scope=col>&lt;dbl&gt;</th><th scope=col>&lt;dbl&gt;</th><th scope=col>&lt;dbl&gt;</th></tr>\n",
              "</thead>\n",
              "<tbody>\n",
              "\t<tr><td>-0.000418724</td><td>0.001494414</td><td>-0.001494371</td><td>0.001494435</td></tr>\n",
              "</tbody>\n",
              "</table>\n"
            ],
            "text/markdown": "\nA tibble: 1 × 4\n\n| mid &lt;dbl&gt; | bid_less_drift &lt;dbl&gt; | ask_less_drift &lt;dbl&gt; | half_bidask &lt;dbl&gt; |\n|---|---|---|---|\n| -0.000418724 | 0.001494414 | -0.001494371 | 0.001494435 |\n\n",
            "text/latex": "A tibble: 1 × 4\n\\begin{tabular}{llll}\n mid & bid\\_less\\_drift & ask\\_less\\_drift & half\\_bidask\\\\\n <dbl> & <dbl> & <dbl> & <dbl>\\\\\n\\hline\n\t -0.000418724 & 0.001494414 & -0.001494371 & 0.001494435\\\\\n\\end{tabular}\n",
            "text/plain": [
              "  mid          bid_less_drift ask_less_drift half_bidask\n",
              "1 -0.000418724 0.001494414    -0.001494371   0.001494435"
            ]
          },
          "metadata": {}
        }
      ]
    },
    {
      "cell_type": "markdown",
      "source": [
        "And we see exactly what we expect."
      ],
      "metadata": {
        "id": "243T3RzWJKLV"
      }
    },
    {
      "cell_type": "markdown",
      "source": [
        "# Now let's look at the trades.\n",
        "\n",
        "You can't buy on the bid until someone wants to sell to you.\n",
        "\n",
        "Let's see if the trades look different."
      ],
      "metadata": {
        "id": "7p_nkdu6JdmM"
      }
    },
    {
      "cell_type": "code",
      "source": [
        "trades <- crypto_get_trades_sample()\n",
        "trades %>% head()"
      ],
      "metadata": {
        "colab": {
          "base_uri": "https://localhost:8080/",
          "height": 425
        },
        "id": "E9ZKhk-qJl17",
        "outputId": "86073958-8869-426d-a6ab-8ca54adddc4f"
      },
      "execution_count": 10,
      "outputs": [
        {
          "output_type": "stream",
          "name": "stdout",
          "text": [
            "[1] \"Please Wait. This is a large dataset.\"\n"
          ]
        },
        {
          "output_type": "stream",
          "name": "stderr",
          "text": [
            "\u001b[36mℹ\u001b[39m Downloading ftx_btc_perp_trades_sample.feather\n",
            "\n",
            "\u001b[32m✔\u001b[39m Saved ftx_btc_perp_trades_sample.feather to ftx/ftx_btc_perp_trades_sample.fe…\n",
            "\n",
            "\n",
            "\n"
          ]
        },
        {
          "output_type": "stream",
          "name": "stdout",
          "text": [
            "File successfully transferred\n"
          ]
        },
        {
          "output_type": "display_data",
          "data": {
            "text/html": [
              "<table class=\"dataframe\">\n",
              "<caption>A tibble: 6 × 6</caption>\n",
              "<thead>\n",
              "\t<tr><th scope=col>symbol</th><th scope=col>timestamp</th><th scope=col>id</th><th scope=col>side</th><th scope=col>price</th><th scope=col>amount</th></tr>\n",
              "\t<tr><th scope=col>&lt;chr&gt;</th><th scope=col>&lt;dttm&gt;</th><th scope=col>&lt;dbl&gt;</th><th scope=col>&lt;chr&gt;</th><th scope=col>&lt;dbl&gt;</th><th scope=col>&lt;dbl&gt;</th></tr>\n",
              "</thead>\n",
              "<tbody>\n",
              "\t<tr><td>BTC-PERP</td><td>2022-03-01 00:00:00</td><td>3439320725</td><td>buy</td><td>43183</td><td>0.1600</td></tr>\n",
              "\t<tr><td>BTC-PERP</td><td>2022-03-01 00:00:00</td><td>3439320726</td><td>buy</td><td>43183</td><td>0.2404</td></tr>\n",
              "\t<tr><td>BTC-PERP</td><td>2022-03-01 00:00:00</td><td>3439320736</td><td>buy</td><td>43187</td><td>0.2000</td></tr>\n",
              "\t<tr><td>BTC-PERP</td><td>2022-03-01 00:00:00</td><td>3439320737</td><td>buy</td><td>43187</td><td>0.2000</td></tr>\n",
              "\t<tr><td>BTC-PERP</td><td>2022-03-01 00:00:00</td><td>3439320738</td><td>buy</td><td>43187</td><td>0.2000</td></tr>\n",
              "\t<tr><td>BTC-PERP</td><td>2022-03-01 00:00:00</td><td>3439320739</td><td>buy</td><td>43187</td><td>0.2000</td></tr>\n",
              "</tbody>\n",
              "</table>\n"
            ],
            "text/markdown": "\nA tibble: 6 × 6\n\n| symbol &lt;chr&gt; | timestamp &lt;dttm&gt; | id &lt;dbl&gt; | side &lt;chr&gt; | price &lt;dbl&gt; | amount &lt;dbl&gt; |\n|---|---|---|---|---|---|\n| BTC-PERP | 2022-03-01 00:00:00 | 3439320725 | buy | 43183 | 0.1600 |\n| BTC-PERP | 2022-03-01 00:00:00 | 3439320726 | buy | 43183 | 0.2404 |\n| BTC-PERP | 2022-03-01 00:00:00 | 3439320736 | buy | 43187 | 0.2000 |\n| BTC-PERP | 2022-03-01 00:00:00 | 3439320737 | buy | 43187 | 0.2000 |\n| BTC-PERP | 2022-03-01 00:00:00 | 3439320738 | buy | 43187 | 0.2000 |\n| BTC-PERP | 2022-03-01 00:00:00 | 3439320739 | buy | 43187 | 0.2000 |\n\n",
            "text/latex": "A tibble: 6 × 6\n\\begin{tabular}{llllll}\n symbol & timestamp & id & side & price & amount\\\\\n <chr> & <dttm> & <dbl> & <chr> & <dbl> & <dbl>\\\\\n\\hline\n\t BTC-PERP & 2022-03-01 00:00:00 & 3439320725 & buy & 43183 & 0.1600\\\\\n\t BTC-PERP & 2022-03-01 00:00:00 & 3439320726 & buy & 43183 & 0.2404\\\\\n\t BTC-PERP & 2022-03-01 00:00:00 & 3439320736 & buy & 43187 & 0.2000\\\\\n\t BTC-PERP & 2022-03-01 00:00:00 & 3439320737 & buy & 43187 & 0.2000\\\\\n\t BTC-PERP & 2022-03-01 00:00:00 & 3439320738 & buy & 43187 & 0.2000\\\\\n\t BTC-PERP & 2022-03-01 00:00:00 & 3439320739 & buy & 43187 & 0.2000\\\\\n\\end{tabular}\n",
            "text/plain": [
              "  symbol   timestamp           id         side price amount\n",
              "1 BTC-PERP 2022-03-01 00:00:00 3439320725 buy  43183 0.1600\n",
              "2 BTC-PERP 2022-03-01 00:00:00 3439320726 buy  43183 0.2404\n",
              "3 BTC-PERP 2022-03-01 00:00:00 3439320736 buy  43187 0.2000\n",
              "4 BTC-PERP 2022-03-01 00:00:00 3439320737 buy  43187 0.2000\n",
              "5 BTC-PERP 2022-03-01 00:00:00 3439320738 buy  43187 0.2000\n",
              "6 BTC-PERP 2022-03-01 00:00:00 3439320739 buy  43187 0.2000"
            ]
          },
          "metadata": {}
        }
      ]
    },
    {
      "cell_type": "markdown",
      "source": [
        "We need to align trades to  1m ahead midprice, so let's calculate that first.\n",
        "\n",
        "First sample to second resolution data.\n",
        "\n",
        "Then lead the data 60 observations to get the mark 60 seconds later."
      ],
      "metadata": {
        "id": "aLM5LxCvKACg"
      }
    },
    {
      "cell_type": "code",
      "source": [
        "fwd_mid <- bbo %>% \n",
        "  mutate(\n",
        "    timestamp_second = lubridate::floor_date(timestamp, 'second'),\n",
        "    mid_price = (bid_price + ask_price) / 2,\n",
        "  ) %>%\n",
        "  group_by(timestamp_second) %>%\n",
        "  summarize(mid = first(mid_price)) %>%\n",
        "  arrange(timestamp_second) %>%\n",
        "  mutate(fwd_mid = lead(mid, 60)) %>%\n",
        "  na.omit()\n",
        "\n",
        "fwd_mid %>% head()\n"
      ],
      "metadata": {
        "colab": {
          "base_uri": "https://localhost:8080/",
          "height": 286
        },
        "id": "5_hK2YTtKIkR",
        "outputId": "532edc5d-41ce-4109-e1f4-ee544433f8e5"
      },
      "execution_count": 11,
      "outputs": [
        {
          "output_type": "display_data",
          "data": {
            "text/html": [
              "<table class=\"dataframe\">\n",
              "<caption>A tibble: 6 × 3</caption>\n",
              "<thead>\n",
              "\t<tr><th scope=col>timestamp_second</th><th scope=col>mid</th><th scope=col>fwd_mid</th></tr>\n",
              "\t<tr><th scope=col>&lt;dttm&gt;</th><th scope=col>&lt;dbl&gt;</th><th scope=col>&lt;dbl&gt;</th></tr>\n",
              "</thead>\n",
              "<tbody>\n",
              "\t<tr><td>2022-03-01 00:00:00</td><td>43193.5</td><td>43201.5</td></tr>\n",
              "\t<tr><td>2022-03-01 00:00:01</td><td>43184.5</td><td>43197.5</td></tr>\n",
              "\t<tr><td>2022-03-01 00:00:02</td><td>43197.0</td><td>43195.5</td></tr>\n",
              "\t<tr><td>2022-03-01 00:00:03</td><td>43197.5</td><td>43197.5</td></tr>\n",
              "\t<tr><td>2022-03-01 00:00:04</td><td>43192.5</td><td>43204.5</td></tr>\n",
              "\t<tr><td>2022-03-01 00:00:05</td><td>43204.5</td><td>43204.5</td></tr>\n",
              "</tbody>\n",
              "</table>\n"
            ],
            "text/markdown": "\nA tibble: 6 × 3\n\n| timestamp_second &lt;dttm&gt; | mid &lt;dbl&gt; | fwd_mid &lt;dbl&gt; |\n|---|---|---|\n| 2022-03-01 00:00:00 | 43193.5 | 43201.5 |\n| 2022-03-01 00:00:01 | 43184.5 | 43197.5 |\n| 2022-03-01 00:00:02 | 43197.0 | 43195.5 |\n| 2022-03-01 00:00:03 | 43197.5 | 43197.5 |\n| 2022-03-01 00:00:04 | 43192.5 | 43204.5 |\n| 2022-03-01 00:00:05 | 43204.5 | 43204.5 |\n\n",
            "text/latex": "A tibble: 6 × 3\n\\begin{tabular}{lll}\n timestamp\\_second & mid & fwd\\_mid\\\\\n <dttm> & <dbl> & <dbl>\\\\\n\\hline\n\t 2022-03-01 00:00:00 & 43193.5 & 43201.5\\\\\n\t 2022-03-01 00:00:01 & 43184.5 & 43197.5\\\\\n\t 2022-03-01 00:00:02 & 43197.0 & 43195.5\\\\\n\t 2022-03-01 00:00:03 & 43197.5 & 43197.5\\\\\n\t 2022-03-01 00:00:04 & 43192.5 & 43204.5\\\\\n\t 2022-03-01 00:00:05 & 43204.5 & 43204.5\\\\\n\\end{tabular}\n",
            "text/plain": [
              "  timestamp_second    mid     fwd_mid\n",
              "1 2022-03-01 00:00:00 43193.5 43201.5\n",
              "2 2022-03-01 00:00:01 43184.5 43197.5\n",
              "3 2022-03-01 00:00:02 43197.0 43195.5\n",
              "4 2022-03-01 00:00:03 43197.5 43197.5\n",
              "5 2022-03-01 00:00:04 43192.5 43204.5\n",
              "6 2022-03-01 00:00:05 43204.5 43204.5"
            ]
          },
          "metadata": {}
        }
      ]
    },
    {
      "cell_type": "markdown",
      "source": [
        "Now we join this to the passive buy trades"
      ],
      "metadata": {
        "id": "ZbUBYUkNQEeH"
      }
    },
    {
      "cell_type": "code",
      "source": [
        "trades %>% \n",
        "  filter(side == 'sell') %>%\n",
        "  mutate(timestamp_second = lubridate::floor_date(timestamp, 'second')) %>%\n",
        "  inner_join(fwd_mid, by = 'timestamp_second') %>%\n",
        "  mutate(pnl = log(fwd_mid / price) * 100) %>%\n",
        "  summarize(mean_passive_pnl = mean(pnl))"
      ],
      "metadata": {
        "colab": {
          "base_uri": "https://localhost:8080/",
          "height": 129
        },
        "id": "khoLkkhuQIRT",
        "outputId": "37ac89af-59a5-4e6f-fb2c-cb49b62cd7e1"
      },
      "execution_count": 12,
      "outputs": [
        {
          "output_type": "display_data",
          "data": {
            "text/html": [
              "<table class=\"dataframe\">\n",
              "<caption>A tibble: 1 × 1</caption>\n",
              "<thead>\n",
              "\t<tr><th scope=col>mean_passive_pnl</th></tr>\n",
              "\t<tr><th scope=col>&lt;dbl&gt;</th></tr>\n",
              "</thead>\n",
              "<tbody>\n",
              "\t<tr><td>-0.004845244</td></tr>\n",
              "</tbody>\n",
              "</table>\n"
            ],
            "text/markdown": "\nA tibble: 1 × 1\n\n| mean_passive_pnl &lt;dbl&gt; |\n|---|\n| -0.004845244 |\n\n",
            "text/latex": "A tibble: 1 × 1\n\\begin{tabular}{l}\n mean\\_passive\\_pnl\\\\\n <dbl>\\\\\n\\hline\n\t -0.004845244\\\\\n\\end{tabular}\n",
            "text/plain": [
              "  mean_passive_pnl\n",
              "1 -0.004845244    "
            ]
          },
          "metadata": {}
        }
      ]
    },
    {
      "cell_type": "markdown",
      "source": [
        "Best available maker rebate is -0.0030% - so you'd still lose money providing liquidity to every trade on the best tier."
      ],
      "metadata": {
        "id": "IJop-4BqSAW2"
      }
    },
    {
      "cell_type": "markdown",
      "source": [
        "And do the same for the aggressive buy trades"
      ],
      "metadata": {
        "id": "GBFojyyeRnBQ"
      }
    },
    {
      "cell_type": "code",
      "source": [
        "trades %>% \n",
        "  filter(side == 'buy') %>%\n",
        "  mutate(timestamp_second = lubridate::floor_date(timestamp, 'second')) %>%\n",
        "  inner_join(fwd_mid, by = 'timestamp_second') %>%\n",
        "  mutate(pnl = log(fwd_mid / price) * 100) %>%\n",
        "  summarize(mean_passive_pnl = mean(pnl))"
      ],
      "metadata": {
        "colab": {
          "base_uri": "https://localhost:8080/",
          "height": 129
        },
        "id": "g8-0KUKNRswf",
        "outputId": "d66bad16-2069-48c9-f2ff-5401b45f6eb4"
      },
      "execution_count": 13,
      "outputs": [
        {
          "output_type": "display_data",
          "data": {
            "text/html": [
              "<table class=\"dataframe\">\n",
              "<caption>A tibble: 1 × 1</caption>\n",
              "<thead>\n",
              "\t<tr><th scope=col>mean_passive_pnl</th></tr>\n",
              "\t<tr><th scope=col>&lt;dbl&gt;</th></tr>\n",
              "</thead>\n",
              "<tbody>\n",
              "\t<tr><td>0.007351205</td></tr>\n",
              "</tbody>\n",
              "</table>\n"
            ],
            "text/markdown": "\nA tibble: 1 × 1\n\n| mean_passive_pnl &lt;dbl&gt; |\n|---|\n| 0.007351205 |\n\n",
            "text/latex": "A tibble: 1 × 1\n\\begin{tabular}{l}\n mean\\_passive\\_pnl\\\\\n <dbl>\\\\\n\\hline\n\t 0.007351205\\\\\n\\end{tabular}\n",
            "text/plain": [
              "  mean_passive_pnl\n",
              "1 0.007351205     "
            ]
          },
          "metadata": {}
        }
      ]
    },
    {
      "cell_type": "markdown",
      "source": [
        "Best general taker fee available is 0.04%. \n",
        "\n",
        "So you'd lose money doing both."
      ],
      "metadata": {
        "id": "2MLdchBNSM63"
      }
    }
  ]
}
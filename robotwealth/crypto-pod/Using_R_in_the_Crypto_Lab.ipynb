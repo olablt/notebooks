{
  "cells": [
    {
      "cell_type": "markdown",
      "metadata": {
        "colab_type": "text",
        "id": "view-in-github"
      },
      "source": [
        "<a href=\"https://colab.research.google.com/github/RWLab/crypto-pod/blob/main/Using_R_in_the_Crypto_Lab.ipynb\" target=\"_parent\"><img src=\"https://colab.research.google.com/assets/colab-badge.svg\" alt=\"Open In Colab\"/></a>"
      ]
    },
    {
      "cell_type": "markdown",
      "metadata": {
        "id": "J4SQWtD7G-Lw"
      },
      "source": [
        "# Using R in the Crypto Lab\n",
        "\n",
        "This is a Jupyter notebook in the cloud with an R kernel.\n",
        "\n",
        "You can type text into it like this. "
      ]
    },
    {
      "cell_type": "code",
      "execution_count": null,
      "metadata": {
        "colab": {
          "base_uri": "https://localhost:8080/"
        },
        "id": "iaQh6VP3Jme5",
        "outputId": "3b7e6681-ab0c-4a16-cd9b-836a85b466f5",
        "vscode": {
          "languageId": "r"
        }
      },
      "outputs": [
        {
          "name": "stdout",
          "output_type": "stream",
          "text": [
            "[1] \"hello\"\n"
          ]
        }
      ],
      "source": [
        "# And you can type code into it like this\n",
        "print(\"hello\")"
      ]
    },
    {
      "cell_type": "markdown",
      "metadata": {
        "id": "Z23_kvWNHCTL"
      },
      "source": [
        "It's not as good as an RNotebook - so if you are used to using RNotebooks in RStudio you will find it quite clunky at first. \n",
        "\n",
        "But it has the huge advantage that we can run it easily in the cloud on our datasets, so anyone in the community can reproduce your research.\n"
      ]
    },
    {
      "cell_type": "markdown",
      "metadata": {
        "id": "QQ6Dl3-cWlB4"
      },
      "source": [
        "# R Basics\n",
        "\n",
        "You'll mostly use R interactively. Kinda like you're talking to it and it's doing what you say, step by step. \n",
        "\n",
        "## What happens when R starts?\n",
        "\n",
        "When R starts, some `packages` are `attached` to your session. \n",
        "\n",
        "They become a `search list` that R looks at whenever you ask it to do something. \n",
        "\n",
        "You can see those with the `search()` command"
      ]
    },
    {
      "cell_type": "code",
      "execution_count": null,
      "metadata": {
        "colab": {
          "base_uri": "https://localhost:8080/",
          "height": 34
        },
        "id": "jvHFLvA7Xyut",
        "outputId": "b1ef8e47-0b31-42de-9bec-ad2f25a9113a",
        "vscode": {
          "languageId": "r"
        }
      },
      "outputs": [
        {
          "data": {
            "text/html": [
              "<style>\n",
              ".list-inline {list-style: none; margin:0; padding: 0}\n",
              ".list-inline>li {display: inline-block}\n",
              ".list-inline>li:not(:last-child)::after {content: \"\\00b7\"; padding: 0 .5ex}\n",
              "</style>\n",
              "<ol class=list-inline><li>'.GlobalEnv'</li><li>'jupyter:irkernel'</li><li>'package:stats'</li><li>'package:graphics'</li><li>'package:grDevices'</li><li>'package:utils'</li><li>'package:datasets'</li><li>'package:methods'</li><li>'Autoloads'</li><li>'package:base'</li></ol>\n"
            ],
            "text/latex": [
              "\\begin{enumerate*}\n",
              "\\item '.GlobalEnv'\n",
              "\\item 'jupyter:irkernel'\n",
              "\\item 'package:stats'\n",
              "\\item 'package:graphics'\n",
              "\\item 'package:grDevices'\n",
              "\\item 'package:utils'\n",
              "\\item 'package:datasets'\n",
              "\\item 'package:methods'\n",
              "\\item 'Autoloads'\n",
              "\\item 'package:base'\n",
              "\\end{enumerate*}\n"
            ],
            "text/markdown": [
              "1. '.GlobalEnv'\n",
              "2. 'jupyter:irkernel'\n",
              "3. 'package:stats'\n",
              "4. 'package:graphics'\n",
              "5. 'package:grDevices'\n",
              "6. 'package:utils'\n",
              "7. 'package:datasets'\n",
              "8. 'package:methods'\n",
              "9. 'Autoloads'\n",
              "10. 'package:base'\n",
              "\n",
              "\n"
            ],
            "text/plain": [
              " [1] \".GlobalEnv\"        \"jupyter:irkernel\"  \"package:stats\"    \n",
              " [4] \"package:graphics\"  \"package:grDevices\" \"package:utils\"    \n",
              " [7] \"package:datasets\"  \"package:methods\"   \"Autoloads\"        \n",
              "[10] \"package:base\"     "
            ]
          },
          "metadata": {
            "tags": []
          },
          "output_type": "display_data"
        }
      ],
      "source": [
        "search()"
      ]
    },
    {
      "cell_type": "markdown",
      "metadata": {
        "id": "BMyw0Qv5X5AG"
      },
      "source": [
        "The first item `.GlobalEnv` is the \"global environment\". This is where the stuff you create will live.\n",
        "\n",
        "The other `packages` are the packages that contain base R packages. And the jupyter kernel colab needs.  "
      ]
    },
    {
      "cell_type": "markdown",
      "metadata": {
        "id": "1J_fQ_BMKHeC"
      },
      "source": [
        "## Objects\n",
        "\n",
        "Everything in R is an object. \n",
        "\n",
        "Let's make an object x and set its value to 10. \n",
        "\n",
        "`<-` is the assignment operator which is used to assign a value to an object.\n"
      ]
    },
    {
      "cell_type": "code",
      "execution_count": null,
      "metadata": {
        "id": "Iw0e9EN_K14-",
        "vscode": {
          "languageId": "r"
        }
      },
      "outputs": [],
      "source": [
        "x <- 10"
      ]
    },
    {
      "cell_type": "markdown",
      "metadata": {
        "id": "vnF6O2SOLBOS"
      },
      "source": [
        "By default, objects get created in a \"global environment\". You can list the objects in your global environment using `ls()`"
      ]
    },
    {
      "cell_type": "code",
      "execution_count": null,
      "metadata": {
        "colab": {
          "base_uri": "https://localhost:8080/",
          "height": 34
        },
        "id": "d2q0QByVK4WL",
        "outputId": "2ab7e936-5426-48f6-c2fd-08d5692610f3",
        "vscode": {
          "languageId": "r"
        }
      },
      "outputs": [
        {
          "data": {
            "text/html": [
              "'x'"
            ],
            "text/latex": [
              "'x'"
            ],
            "text/markdown": [
              "'x'"
            ],
            "text/plain": [
              "[1] \"x\""
            ]
          },
          "metadata": {
            "tags": []
          },
          "output_type": "display_data"
        }
      ],
      "source": [
        "ls()"
      ]
    },
    {
      "cell_type": "markdown",
      "metadata": {
        "id": "xOwl-BgWLYPc"
      },
      "source": [
        "We can use `str()` to look at the type of the object."
      ]
    },
    {
      "cell_type": "code",
      "execution_count": null,
      "metadata": {
        "colab": {
          "base_uri": "https://localhost:8080/"
        },
        "id": "NHvtVxW9LXet",
        "outputId": "63dd8ee0-f2a3-44d4-9bb3-e61fe32b47e7",
        "vscode": {
          "languageId": "r"
        }
      },
      "outputs": [
        {
          "name": "stdout",
          "output_type": "stream",
          "text": [
            " num 10\n"
          ]
        }
      ],
      "source": [
        "str(x)"
      ]
    },
    {
      "cell_type": "markdown",
      "metadata": {
        "id": "LhDRYQWmPJ7U"
      },
      "source": [
        "It's a number. \n",
        "\n",
        "And we can display the value of `x` like this"
      ]
    },
    {
      "cell_type": "code",
      "execution_count": null,
      "metadata": {
        "colab": {
          "base_uri": "https://localhost:8080/",
          "height": 34
        },
        "id": "pJuLFwIWPOLF",
        "outputId": "62419a08-b891-4616-df20-b32427f3f5c9",
        "vscode": {
          "languageId": "r"
        }
      },
      "outputs": [
        {
          "data": {
            "text/html": [
              "10"
            ],
            "text/latex": [
              "10"
            ],
            "text/markdown": [
              "10"
            ],
            "text/plain": [
              "[1] 10"
            ]
          },
          "metadata": {
            "tags": []
          },
          "output_type": "display_data"
        }
      ],
      "source": [
        "x"
      ]
    },
    {
      "cell_type": "markdown",
      "metadata": {
        "id": "qfviRw6FLlqO"
      },
      "source": [
        "## Functions are also objects\n",
        "\n",
        "Having an object is only useful if I can interact with it and do something with it. Functions let me do this. \n",
        "\n",
        "Functions operate on objects and return other objects.\n",
        "(Sometimes they also transform existing objects. This is called a \"side-effect\")\n",
        "\n",
        "Let's use the function `sum()` to add up some numbers.\n"
      ]
    },
    {
      "cell_type": "code",
      "execution_count": null,
      "metadata": {
        "colab": {
          "base_uri": "https://localhost:8080/",
          "height": 34
        },
        "id": "Rf23hZB6LV_N",
        "outputId": "6cfe5a4c-ec3b-4193-8d88-61d8da9a1ef7",
        "vscode": {
          "languageId": "r"
        }
      },
      "outputs": [
        {
          "data": {
            "text/html": [
              "6"
            ],
            "text/latex": [
              "6"
            ],
            "text/markdown": [
              "6"
            ],
            "text/plain": [
              "[1] 6"
            ]
          },
          "metadata": {
            "tags": []
          },
          "output_type": "display_data"
        }
      ],
      "source": [
        "sum(1,2,3)"
      ]
    },
    {
      "cell_type": "markdown",
      "metadata": {
        "id": "p_QnkLfnMcyW"
      },
      "source": [
        "We call the numbers in the brackets \"arguments\". \n",
        "\n",
        "In this case, we didn't do anything with the result of that function, so R just returns the result to the \"console\". You see it below the cell in the notebook.\n",
        "\n",
        "We could also have used the assignment operator to assign the value of x to the result of the function."
      ]
    },
    {
      "cell_type": "code",
      "execution_count": null,
      "metadata": {
        "id": "rxHCBCkWMMVC",
        "vscode": {
          "languageId": "r"
        }
      },
      "outputs": [],
      "source": [
        "x <- sum(1,2,3)"
      ]
    },
    {
      "cell_type": "markdown",
      "metadata": {
        "id": "bI9Lq3aZR8Dp"
      },
      "source": [
        "No output was sent to the console because we put it in the object x instead. "
      ]
    },
    {
      "cell_type": "code",
      "execution_count": null,
      "metadata": {
        "colab": {
          "base_uri": "https://localhost:8080/",
          "height": 34
        },
        "id": "XihsNj3QR4HS",
        "outputId": "d1d90259-1d27-4642-93c7-bafa82acc753",
        "vscode": {
          "languageId": "r"
        }
      },
      "outputs": [
        {
          "data": {
            "text/html": [
              "6"
            ],
            "text/latex": [
              "6"
            ],
            "text/markdown": [
              "6"
            ],
            "text/plain": [
              "[1] 6"
            ]
          },
          "metadata": {
            "tags": []
          },
          "output_type": "display_data"
        }
      ],
      "source": [
        "x"
      ]
    },
    {
      "cell_type": "markdown",
      "metadata": {
        "id": "FV22T7OcSJOx"
      },
      "source": [
        "If we try to assign it to an object that doesn't exit, R will create that object for us. Let's try to set it to `y`. "
      ]
    },
    {
      "cell_type": "code",
      "execution_count": null,
      "metadata": {
        "colab": {
          "base_uri": "https://localhost:8080/",
          "height": 34
        },
        "id": "25QPUdEJSHoP",
        "outputId": "9ab2c084-a9c7-431e-961a-7446dadedd4f",
        "vscode": {
          "languageId": "r"
        }
      },
      "outputs": [
        {
          "data": {
            "text/html": [
              "<style>\n",
              ".list-inline {list-style: none; margin:0; padding: 0}\n",
              ".list-inline>li {display: inline-block}\n",
              ".list-inline>li:not(:last-child)::after {content: \"\\00b7\"; padding: 0 .5ex}\n",
              "</style>\n",
              "<ol class=list-inline><li>'x'</li><li>'y'</li></ol>\n"
            ],
            "text/latex": [
              "\\begin{enumerate*}\n",
              "\\item 'x'\n",
              "\\item 'y'\n",
              "\\end{enumerate*}\n"
            ],
            "text/markdown": [
              "1. 'x'\n",
              "2. 'y'\n",
              "\n",
              "\n"
            ],
            "text/plain": [
              "[1] \"x\" \"y\""
            ]
          },
          "metadata": {
            "tags": []
          },
          "output_type": "display_data"
        }
      ],
      "source": [
        "y <- sum(1,2,3)\n",
        "ls()"
      ]
    },
    {
      "cell_type": "markdown",
      "metadata": {
        "id": "PE7yOpuCT2d1"
      },
      "source": [
        "A function is actually an object."
      ]
    },
    {
      "cell_type": "code",
      "execution_count": null,
      "metadata": {
        "colab": {
          "base_uri": "https://localhost:8080/"
        },
        "id": "NIVfyHa-TwpW",
        "outputId": "73d7802e-1ac1-407b-a9df-227d7ed03ffa",
        "vscode": {
          "languageId": "r"
        }
      },
      "outputs": [
        {
          "name": "stdout",
          "output_type": "stream",
          "text": [
            "function (..., na.rm = FALSE)  \n"
          ]
        }
      ],
      "source": [
        "str(sum)"
      ]
    },
    {
      "cell_type": "markdown",
      "metadata": {
        "id": "Jwh-76LXauES"
      },
      "source": [
        "To see help on a function use the `?` command"
      ]
    },
    {
      "cell_type": "code",
      "execution_count": null,
      "metadata": {
        "id": "st4LbLIKatia",
        "vscode": {
          "languageId": "r"
        }
      },
      "outputs": [],
      "source": [
        "?sum"
      ]
    },
    {
      "cell_type": "markdown",
      "metadata": {
        "id": "xCERL4QhbHQs"
      },
      "source": [
        "R help text doesn't always render particularly well in Colab. So google (or a local R installation) can be useful. \n",
        "\n",
        "Don't feel compelled to read all the help text. The examples are usually the most useful thing."
      ]
    },
    {
      "cell_type": "markdown",
      "metadata": {
        "id": "ntXspRJ-Unfi"
      },
      "source": [
        "### Creating your own functions\n",
        "\n",
        "We can create our own function.\n"
      ]
    },
    {
      "cell_type": "code",
      "execution_count": null,
      "metadata": {
        "colab": {
          "base_uri": "https://localhost:8080/",
          "height": 34
        },
        "id": "lnlBOPkHUGdi",
        "outputId": "91af39c4-0726-4a9c-d2f4-6b4905a1f5c1",
        "vscode": {
          "languageId": "r"
        }
      },
      "outputs": [
        {
          "data": {
            "text/html": [
              "<style>\n",
              ".list-inline {list-style: none; margin:0; padding: 0}\n",
              ".list-inline>li {display: inline-block}\n",
              ".list-inline>li:not(:last-child)::after {content: \"\\00b7\"; padding: 0 .5ex}\n",
              "</style>\n",
              "<ol class=list-inline><li>'bettersum'</li><li>'x'</li><li>'y'</li></ol>\n"
            ],
            "text/latex": [
              "\\begin{enumerate*}\n",
              "\\item 'bettersum'\n",
              "\\item 'x'\n",
              "\\item 'y'\n",
              "\\end{enumerate*}\n"
            ],
            "text/markdown": [
              "1. 'bettersum'\n",
              "2. 'x'\n",
              "3. 'y'\n",
              "\n",
              "\n"
            ],
            "text/plain": [
              "[1] \"bettersum\" \"x\"         \"y\"        "
            ]
          },
          "metadata": {
            "tags": []
          },
          "output_type": "display_data"
        }
      ],
      "source": [
        "bettersum <- function(a,b) {\n",
        "  return(a+b+1)\n",
        "}\n",
        "\n",
        "ls()"
      ]
    },
    {
      "cell_type": "code",
      "execution_count": null,
      "metadata": {
        "colab": {
          "base_uri": "https://localhost:8080/",
          "height": 34
        },
        "id": "ZTgPrD0nV1FW",
        "outputId": "292b019d-f9f6-44ca-8196-7975fb6d5b82",
        "vscode": {
          "languageId": "r"
        }
      },
      "outputs": [
        {
          "data": {
            "text/html": [
              "4"
            ],
            "text/latex": [
              "4"
            ],
            "text/markdown": [
              "4"
            ],
            "text/plain": [
              "[1] 4"
            ]
          },
          "metadata": {
            "tags": []
          },
          "output_type": "display_data"
        }
      ],
      "source": [
        "bettersum(1,2)"
      ]
    },
    {
      "cell_type": "markdown",
      "metadata": {
        "id": "npvvMm_qYnHT"
      },
      "source": [
        "# Vectors and Lists\n",
        "\n",
        "There are really only two important `basic types` of object in R\n",
        "*   vectors\n",
        "*   lists\n",
        "\n",
        "## Vectors\n",
        "\n",
        "Vectors contains multiple elements of the same type. We create a vector using the ` c()` function."
      ]
    },
    {
      "cell_type": "code",
      "execution_count": null,
      "metadata": {
        "colab": {
          "base_uri": "https://localhost:8080/"
        },
        "id": "u3B7CIfEZOF2",
        "outputId": "27b28f52-0c04-45d3-f7df-88f297503558",
        "vscode": {
          "languageId": "r"
        }
      },
      "outputs": [
        {
          "name": "stdout",
          "output_type": "stream",
          "text": [
            " num [1:4] 1 2 3 4\n"
          ]
        }
      ],
      "source": [
        "num_vector <- c(1,2,3,4)\n",
        "str(num_vector)"
      ]
    },
    {
      "cell_type": "code",
      "execution_count": null,
      "metadata": {
        "colab": {
          "base_uri": "https://localhost:8080/"
        },
        "id": "umwB0GdlZPN2",
        "outputId": "5cd32587-f31f-4630-a8bf-87ea15e467d1",
        "vscode": {
          "languageId": "r"
        }
      },
      "outputs": [
        {
          "name": "stdout",
          "output_type": "stream",
          "text": [
            " chr [1:4] \"a\" \"b\" \"c\" \"d\"\n"
          ]
        }
      ],
      "source": [
        "char_vector <- c('a','b','c','d')\n",
        "str(char_vector)"
      ]
    },
    {
      "cell_type": "code",
      "execution_count": null,
      "metadata": {
        "colab": {
          "base_uri": "https://localhost:8080/"
        },
        "id": "YkcD2ua9ZrKI",
        "outputId": "edf2924e-bd52-4d2d-cd99-038e22ed75b8",
        "vscode": {
          "languageId": "r"
        }
      },
      "outputs": [
        {
          "name": "stdout",
          "output_type": "stream",
          "text": [
            " logi [1:4] TRUE FALSE TRUE FALSE\n"
          ]
        }
      ],
      "source": [
        "boolean_vector <- c(TRUE, FALSE, TRUE, FALSE)\n",
        "str(boolean_vector)"
      ]
    },
    {
      "cell_type": "markdown",
      "metadata": {
        "id": "jFHLvqKPZ66B"
      },
      "source": [
        "If we try to define a vector with multiple types in it then it gets created as a character vector."
      ]
    },
    {
      "cell_type": "code",
      "execution_count": null,
      "metadata": {
        "colab": {
          "base_uri": "https://localhost:8080/"
        },
        "id": "P1Kua9fhZ1_D",
        "outputId": "36c9c1bd-ab89-4b01-9593-d3dab3a1eed9",
        "vscode": {
          "languageId": "r"
        }
      },
      "outputs": [
        {
          "name": "stdout",
          "output_type": "stream",
          "text": [
            " chr [1:4] \"1\" \"b\" \"TRUE\" \"5\"\n"
          ]
        }
      ],
      "source": [
        "mult_vector <- c(1,'b', TRUE, 5)\n",
        "str(mult_vector)"
      ]
    },
    {
      "cell_type": "markdown",
      "metadata": {
        "id": "zUGJfPkTafG6"
      },
      "source": [
        "Often you need to create a sequence of numbers. You can do this using the `:` operator or the `seq()` function."
      ]
    },
    {
      "cell_type": "code",
      "execution_count": null,
      "metadata": {
        "colab": {
          "base_uri": "https://localhost:8080/",
          "height": 34
        },
        "id": "Mg7AvzjiaNsD",
        "outputId": "ef08e393-34bc-4a38-92fa-4a5dbb2ca763",
        "vscode": {
          "languageId": "r"
        }
      },
      "outputs": [
        {
          "data": {
            "text/html": [
              "<style>\n",
              ".list-inline {list-style: none; margin:0; padding: 0}\n",
              ".list-inline>li {display: inline-block}\n",
              ".list-inline>li:not(:last-child)::after {content: \"\\00b7\"; padding: 0 .5ex}\n",
              "</style>\n",
              "<ol class=list-inline><li>1</li><li>2</li><li>3</li><li>4</li><li>5</li><li>6</li><li>7</li><li>8</li><li>9</li><li>10</li></ol>\n"
            ],
            "text/latex": [
              "\\begin{enumerate*}\n",
              "\\item 1\n",
              "\\item 2\n",
              "\\item 3\n",
              "\\item 4\n",
              "\\item 5\n",
              "\\item 6\n",
              "\\item 7\n",
              "\\item 8\n",
              "\\item 9\n",
              "\\item 10\n",
              "\\end{enumerate*}\n"
            ],
            "text/markdown": [
              "1. 1\n",
              "2. 2\n",
              "3. 3\n",
              "4. 4\n",
              "5. 5\n",
              "6. 6\n",
              "7. 7\n",
              "8. 8\n",
              "9. 9\n",
              "10. 10\n",
              "\n",
              "\n"
            ],
            "text/plain": [
              " [1]  1  2  3  4  5  6  7  8  9 10"
            ]
          },
          "metadata": {
            "tags": []
          },
          "output_type": "display_data"
        }
      ],
      "source": [
        "1:10"
      ]
    },
    {
      "cell_type": "code",
      "execution_count": null,
      "metadata": {
        "colab": {
          "base_uri": "https://localhost:8080/",
          "height": 34
        },
        "id": "_hk_SSIaaohs",
        "outputId": "e192e3fa-3d88-440c-fcee-92594df81a87",
        "vscode": {
          "languageId": "r"
        }
      },
      "outputs": [
        {
          "data": {
            "text/html": [
              "<style>\n",
              ".list-inline {list-style: none; margin:0; padding: 0}\n",
              ".list-inline>li {display: inline-block}\n",
              ".list-inline>li:not(:last-child)::after {content: \"\\00b7\"; padding: 0 .5ex}\n",
              "</style>\n",
              "<ol class=list-inline><li>1</li><li>3</li><li>5</li><li>7</li><li>9</li></ol>\n"
            ],
            "text/latex": [
              "\\begin{enumerate*}\n",
              "\\item 1\n",
              "\\item 3\n",
              "\\item 5\n",
              "\\item 7\n",
              "\\item 9\n",
              "\\end{enumerate*}\n"
            ],
            "text/markdown": [
              "1. 1\n",
              "2. 3\n",
              "3. 5\n",
              "4. 7\n",
              "5. 9\n",
              "\n",
              "\n"
            ],
            "text/plain": [
              "[1] 1 3 5 7 9"
            ]
          },
          "metadata": {
            "tags": []
          },
          "output_type": "display_data"
        }
      ],
      "source": [
        "seq(1, 10, by = 2)"
      ]
    },
    {
      "cell_type": "markdown",
      "metadata": {
        "id": "nAqVLQRXb-qD"
      },
      "source": [
        "### Subscripting\n",
        "\n",
        "#### Accessing elements of a **vector**\n",
        "\n",
        "How do we get at the numbers in a vector? By subscripting."
      ]
    },
    {
      "cell_type": "code",
      "execution_count": null,
      "metadata": {
        "colab": {
          "base_uri": "https://localhost:8080/",
          "height": 51
        },
        "id": "nO3XYyUHbgw6",
        "outputId": "a28bd1cc-5db6-404d-ec01-8538313b7ba8",
        "vscode": {
          "languageId": "r"
        }
      },
      "outputs": [
        {
          "data": {
            "text/html": [
              "<style>\n",
              ".list-inline {list-style: none; margin:0; padding: 0}\n",
              ".list-inline>li {display: inline-block}\n",
              ".list-inline>li:not(:last-child)::after {content: \"\\00b7\"; padding: 0 .5ex}\n",
              "</style>\n",
              "<ol class=list-inline><li>1</li><li>2</li><li>3</li><li>4</li></ol>\n"
            ],
            "text/latex": [
              "\\begin{enumerate*}\n",
              "\\item 1\n",
              "\\item 2\n",
              "\\item 3\n",
              "\\item 4\n",
              "\\end{enumerate*}\n"
            ],
            "text/markdown": [
              "1. 1\n",
              "2. 2\n",
              "3. 3\n",
              "4. 4\n",
              "\n",
              "\n"
            ],
            "text/plain": [
              "[1] 1 2 3 4"
            ]
          },
          "metadata": {
            "tags": []
          },
          "output_type": "display_data"
        },
        {
          "data": {
            "text/html": [
              "1"
            ],
            "text/latex": [
              "1"
            ],
            "text/markdown": [
              "1"
            ],
            "text/plain": [
              "[1] 1"
            ]
          },
          "metadata": {
            "tags": []
          },
          "output_type": "display_data"
        }
      ],
      "source": [
        "num_vector\n",
        "num_vector[1]"
      ]
    },
    {
      "cell_type": "markdown",
      "metadata": {
        "id": "tdE9QFz0cMYT"
      },
      "source": [
        "Yeah, the first element of a vector is 1. This usually upsets people who like python. You'll cope.\n",
        "\n"
      ]
    },
    {
      "cell_type": "code",
      "execution_count": null,
      "metadata": {
        "colab": {
          "base_uri": "https://localhost:8080/",
          "height": 51
        },
        "id": "8S300CFMcKf6",
        "outputId": "1e2ab893-3b9b-49db-9c17-289cd5f662a3",
        "vscode": {
          "languageId": "r"
        }
      },
      "outputs": [
        {
          "data": {
            "text/html": [
              "<style>\n",
              ".list-inline {list-style: none; margin:0; padding: 0}\n",
              ".list-inline>li {display: inline-block}\n",
              ".list-inline>li:not(:last-child)::after {content: \"\\00b7\"; padding: 0 .5ex}\n",
              "</style>\n",
              "<ol class=list-inline><li>1</li><li>2</li><li>3</li><li>4</li></ol>\n"
            ],
            "text/latex": [
              "\\begin{enumerate*}\n",
              "\\item 1\n",
              "\\item 2\n",
              "\\item 3\n",
              "\\item 4\n",
              "\\end{enumerate*}\n"
            ],
            "text/markdown": [
              "1. 1\n",
              "2. 2\n",
              "3. 3\n",
              "4. 4\n",
              "\n",
              "\n"
            ],
            "text/plain": [
              "[1] 1 2 3 4"
            ]
          },
          "metadata": {
            "tags": []
          },
          "output_type": "display_data"
        },
        {
          "data": {
            "text/html": [
              "4"
            ],
            "text/latex": [
              "4"
            ],
            "text/markdown": [
              "4"
            ],
            "text/plain": [
              "[1] 4"
            ]
          },
          "metadata": {
            "tags": []
          },
          "output_type": "display_data"
        }
      ],
      "source": [
        "num_vector\n",
        "num_vector[4]"
      ]
    },
    {
      "cell_type": "markdown",
      "metadata": {
        "id": "X42BrLOEchtA"
      },
      "source": [
        "We can also subscript using a vector of elements to get a part of the vector back. \n",
        "\n",
        "For example, if we want to pull out the 2nd and 3rd element..."
      ]
    },
    {
      "cell_type": "code",
      "execution_count": null,
      "metadata": {
        "colab": {
          "base_uri": "https://localhost:8080/",
          "height": 51
        },
        "id": "c3_0GYXsceT3",
        "outputId": "dc862120-1259-4e45-9eb9-6e45e6ae4c29",
        "vscode": {
          "languageId": "r"
        }
      },
      "outputs": [
        {
          "data": {
            "text/html": [
              "<style>\n",
              ".list-inline {list-style: none; margin:0; padding: 0}\n",
              ".list-inline>li {display: inline-block}\n",
              ".list-inline>li:not(:last-child)::after {content: \"\\00b7\"; padding: 0 .5ex}\n",
              "</style>\n",
              "<ol class=list-inline><li>1</li><li>2</li><li>3</li><li>4</li></ol>\n"
            ],
            "text/latex": [
              "\\begin{enumerate*}\n",
              "\\item 1\n",
              "\\item 2\n",
              "\\item 3\n",
              "\\item 4\n",
              "\\end{enumerate*}\n"
            ],
            "text/markdown": [
              "1. 1\n",
              "2. 2\n",
              "3. 3\n",
              "4. 4\n",
              "\n",
              "\n"
            ],
            "text/plain": [
              "[1] 1 2 3 4"
            ]
          },
          "metadata": {
            "tags": []
          },
          "output_type": "display_data"
        },
        {
          "data": {
            "text/html": [
              "<style>\n",
              ".list-inline {list-style: none; margin:0; padding: 0}\n",
              ".list-inline>li {display: inline-block}\n",
              ".list-inline>li:not(:last-child)::after {content: \"\\00b7\"; padding: 0 .5ex}\n",
              "</style>\n",
              "<ol class=list-inline><li>2</li><li>3</li></ol>\n"
            ],
            "text/latex": [
              "\\begin{enumerate*}\n",
              "\\item 2\n",
              "\\item 3\n",
              "\\end{enumerate*}\n"
            ],
            "text/markdown": [
              "1. 2\n",
              "2. 3\n",
              "\n",
              "\n"
            ],
            "text/plain": [
              "[1] 2 3"
            ]
          },
          "metadata": {
            "tags": []
          },
          "output_type": "display_data"
        }
      ],
      "source": [
        "num_vector\n",
        "num_vector[2:3]"
      ]
    },
    {
      "cell_type": "code",
      "execution_count": null,
      "metadata": {
        "colab": {
          "base_uri": "https://localhost:8080/",
          "height": 51
        },
        "id": "vemZ6Pcuc4Ey",
        "outputId": "f133642d-4269-4773-e27f-b924c3def1f5",
        "vscode": {
          "languageId": "r"
        }
      },
      "outputs": [
        {
          "data": {
            "text/html": [
              "<style>\n",
              ".list-inline {list-style: none; margin:0; padding: 0}\n",
              ".list-inline>li {display: inline-block}\n",
              ".list-inline>li:not(:last-child)::after {content: \"\\00b7\"; padding: 0 .5ex}\n",
              "</style>\n",
              "<ol class=list-inline><li>1</li><li>2</li><li>3</li><li>4</li></ol>\n"
            ],
            "text/latex": [
              "\\begin{enumerate*}\n",
              "\\item 1\n",
              "\\item 2\n",
              "\\item 3\n",
              "\\item 4\n",
              "\\end{enumerate*}\n"
            ],
            "text/markdown": [
              "1. 1\n",
              "2. 2\n",
              "3. 3\n",
              "4. 4\n",
              "\n",
              "\n"
            ],
            "text/plain": [
              "[1] 1 2 3 4"
            ]
          },
          "metadata": {
            "tags": []
          },
          "output_type": "display_data"
        },
        {
          "data": {
            "text/html": [
              "<style>\n",
              ".list-inline {list-style: none; margin:0; padding: 0}\n",
              ".list-inline>li {display: inline-block}\n",
              ".list-inline>li:not(:last-child)::after {content: \"\\00b7\"; padding: 0 .5ex}\n",
              "</style>\n",
              "<ol class=list-inline><li>2</li><li>3</li></ol>\n"
            ],
            "text/latex": [
              "\\begin{enumerate*}\n",
              "\\item 2\n",
              "\\item 3\n",
              "\\end{enumerate*}\n"
            ],
            "text/markdown": [
              "1. 2\n",
              "2. 3\n",
              "\n",
              "\n"
            ],
            "text/plain": [
              "[1] 2 3"
            ]
          },
          "metadata": {
            "tags": []
          },
          "output_type": "display_data"
        }
      ],
      "source": [
        "num_vector\n",
        "num_vector[c(2,3)]"
      ]
    },
    {
      "cell_type": "markdown",
      "metadata": {
        "id": "o9RB0qK6dnWi"
      },
      "source": [
        "We can use a logical vector to return elements of a vector too."
      ]
    },
    {
      "cell_type": "code",
      "execution_count": null,
      "metadata": {
        "colab": {
          "base_uri": "https://localhost:8080/",
          "height": 51
        },
        "id": "vLEBk0dVdst-",
        "outputId": "70f41b27-f727-447c-b2d6-98149ed40643",
        "vscode": {
          "languageId": "r"
        }
      },
      "outputs": [
        {
          "data": {
            "text/html": [
              "<style>\n",
              ".list-inline {list-style: none; margin:0; padding: 0}\n",
              ".list-inline>li {display: inline-block}\n",
              ".list-inline>li:not(:last-child)::after {content: \"\\00b7\"; padding: 0 .5ex}\n",
              "</style>\n",
              "<ol class=list-inline><li>1</li><li>2</li><li>3</li><li>4</li></ol>\n"
            ],
            "text/latex": [
              "\\begin{enumerate*}\n",
              "\\item 1\n",
              "\\item 2\n",
              "\\item 3\n",
              "\\item 4\n",
              "\\end{enumerate*}\n"
            ],
            "text/markdown": [
              "1. 1\n",
              "2. 2\n",
              "3. 3\n",
              "4. 4\n",
              "\n",
              "\n"
            ],
            "text/plain": [
              "[1] 1 2 3 4"
            ]
          },
          "metadata": {
            "tags": []
          },
          "output_type": "display_data"
        },
        {
          "data": {
            "text/html": [
              "<style>\n",
              ".list-inline {list-style: none; margin:0; padding: 0}\n",
              ".list-inline>li {display: inline-block}\n",
              ".list-inline>li:not(:last-child)::after {content: \"\\00b7\"; padding: 0 .5ex}\n",
              "</style>\n",
              "<ol class=list-inline><li>3</li><li>4</li></ol>\n"
            ],
            "text/latex": [
              "\\begin{enumerate*}\n",
              "\\item 3\n",
              "\\item 4\n",
              "\\end{enumerate*}\n"
            ],
            "text/markdown": [
              "1. 3\n",
              "2. 4\n",
              "\n",
              "\n"
            ],
            "text/plain": [
              "[1] 3 4"
            ]
          },
          "metadata": {
            "tags": []
          },
          "output_type": "display_data"
        }
      ],
      "source": [
        "num_vector\n",
        "num_vector[c(FALSE,FALSE,TRUE,TRUE)]"
      ]
    },
    {
      "cell_type": "markdown",
      "metadata": {
        "id": "KPVBTqjueckQ"
      },
      "source": [
        "If you try to access an element that doesn't exist, you'll get NA back"
      ]
    },
    {
      "cell_type": "code",
      "execution_count": null,
      "metadata": {
        "colab": {
          "base_uri": "https://localhost:8080/",
          "height": 51
        },
        "id": "uCiz3sFmeioX",
        "outputId": "f9e55f64-f650-4da2-d66a-7a58dbe696ee",
        "vscode": {
          "languageId": "r"
        }
      },
      "outputs": [
        {
          "data": {
            "text/html": [
              "<style>\n",
              ".list-inline {list-style: none; margin:0; padding: 0}\n",
              ".list-inline>li {display: inline-block}\n",
              ".list-inline>li:not(:last-child)::after {content: \"\\00b7\"; padding: 0 .5ex}\n",
              "</style>\n",
              "<ol class=list-inline><li>1</li><li>2</li><li>3</li><li>4</li></ol>\n"
            ],
            "text/latex": [
              "\\begin{enumerate*}\n",
              "\\item 1\n",
              "\\item 2\n",
              "\\item 3\n",
              "\\item 4\n",
              "\\end{enumerate*}\n"
            ],
            "text/markdown": [
              "1. 1\n",
              "2. 2\n",
              "3. 3\n",
              "4. 4\n",
              "\n",
              "\n"
            ],
            "text/plain": [
              "[1] 1 2 3 4"
            ]
          },
          "metadata": {
            "tags": []
          },
          "output_type": "display_data"
        },
        {
          "data": {
            "text/html": [
              "&lt;NA&gt;"
            ],
            "text/latex": [
              "<NA>"
            ],
            "text/markdown": [
              "&lt;NA&gt;"
            ],
            "text/plain": [
              "[1] NA"
            ]
          },
          "metadata": {
            "tags": []
          },
          "output_type": "display_data"
        }
      ],
      "source": [
        "num_vector\n",
        "num_vector[99]"
      ]
    },
    {
      "cell_type": "markdown",
      "metadata": {
        "id": "dk3Mvhknc-OH"
      },
      "source": [
        "#### Replacing elements of a vector\n",
        "\n",
        "We can also use subscripting to replace elements of a vector, like this:"
      ]
    },
    {
      "cell_type": "code",
      "execution_count": null,
      "metadata": {
        "colab": {
          "base_uri": "https://localhost:8080/",
          "height": 51
        },
        "id": "o14irZ2kc9k9",
        "outputId": "5e7d1fdf-c4d9-45e3-9a9e-11e4cbe3ce36",
        "vscode": {
          "languageId": "r"
        }
      },
      "outputs": [
        {
          "data": {
            "text/html": [
              "<style>\n",
              ".list-inline {list-style: none; margin:0; padding: 0}\n",
              ".list-inline>li {display: inline-block}\n",
              ".list-inline>li:not(:last-child)::after {content: \"\\00b7\"; padding: 0 .5ex}\n",
              "</style>\n",
              "<ol class=list-inline><li>1</li><li>2</li><li>3</li><li>4</li></ol>\n"
            ],
            "text/latex": [
              "\\begin{enumerate*}\n",
              "\\item 1\n",
              "\\item 2\n",
              "\\item 3\n",
              "\\item 4\n",
              "\\end{enumerate*}\n"
            ],
            "text/markdown": [
              "1. 1\n",
              "2. 2\n",
              "3. 3\n",
              "4. 4\n",
              "\n",
              "\n"
            ],
            "text/plain": [
              "[1] 1 2 3 4"
            ]
          },
          "metadata": {
            "tags": []
          },
          "output_type": "display_data"
        },
        {
          "data": {
            "text/html": [
              "<style>\n",
              ".list-inline {list-style: none; margin:0; padding: 0}\n",
              ".list-inline>li {display: inline-block}\n",
              ".list-inline>li:not(:last-child)::after {content: \"\\00b7\"; padding: 0 .5ex}\n",
              "</style>\n",
              "<ol class=list-inline><li>1</li><li>100</li><li>3</li><li>4</li></ol>\n"
            ],
            "text/latex": [
              "\\begin{enumerate*}\n",
              "\\item 1\n",
              "\\item 100\n",
              "\\item 3\n",
              "\\item 4\n",
              "\\end{enumerate*}\n"
            ],
            "text/markdown": [
              "1. 1\n",
              "2. 100\n",
              "3. 3\n",
              "4. 4\n",
              "\n",
              "\n"
            ],
            "text/plain": [
              "[1]   1 100   3   4"
            ]
          },
          "metadata": {
            "tags": []
          },
          "output_type": "display_data"
        }
      ],
      "source": [
        "num_vector\n",
        "num_vector[2] <- 100\n",
        "num_vector"
      ]
    },
    {
      "cell_type": "markdown",
      "metadata": {
        "id": "_jVWhz2eeow6"
      },
      "source": [
        "You can do multiple at the same time, if you like..."
      ]
    },
    {
      "cell_type": "code",
      "execution_count": null,
      "metadata": {
        "colab": {
          "base_uri": "https://localhost:8080/",
          "height": 51
        },
        "id": "9x64XaPCeqzt",
        "outputId": "6060b33b-eef1-4883-c000-bdff206d93c2",
        "vscode": {
          "languageId": "r"
        }
      },
      "outputs": [
        {
          "data": {
            "text/html": [
              "<style>\n",
              ".list-inline {list-style: none; margin:0; padding: 0}\n",
              ".list-inline>li {display: inline-block}\n",
              ".list-inline>li:not(:last-child)::after {content: \"\\00b7\"; padding: 0 .5ex}\n",
              "</style>\n",
              "<ol class=list-inline><li>1</li><li>100</li><li>3</li><li>4</li></ol>\n"
            ],
            "text/latex": [
              "\\begin{enumerate*}\n",
              "\\item 1\n",
              "\\item 100\n",
              "\\item 3\n",
              "\\item 4\n",
              "\\end{enumerate*}\n"
            ],
            "text/markdown": [
              "1. 1\n",
              "2. 100\n",
              "3. 3\n",
              "4. 4\n",
              "\n",
              "\n"
            ],
            "text/plain": [
              "[1]   1 100   3   4"
            ]
          },
          "metadata": {
            "tags": []
          },
          "output_type": "display_data"
        },
        {
          "data": {
            "text/html": [
              "<style>\n",
              ".list-inline {list-style: none; margin:0; padding: 0}\n",
              ".list-inline>li {display: inline-block}\n",
              ".list-inline>li:not(:last-child)::after {content: \"\\00b7\"; padding: 0 .5ex}\n",
              "</style>\n",
              "<ol class=list-inline><li>1</li><li>99</li><li>100</li><li>4</li></ol>\n"
            ],
            "text/latex": [
              "\\begin{enumerate*}\n",
              "\\item 1\n",
              "\\item 99\n",
              "\\item 100\n",
              "\\item 4\n",
              "\\end{enumerate*}\n"
            ],
            "text/markdown": [
              "1. 1\n",
              "2. 99\n",
              "3. 100\n",
              "4. 4\n",
              "\n",
              "\n"
            ],
            "text/plain": [
              "[1]   1  99 100   4"
            ]
          },
          "metadata": {
            "tags": []
          },
          "output_type": "display_data"
        }
      ],
      "source": [
        "num_vector\n",
        "num_vector[2:3] <- 99:100\n",
        "num_vector"
      ]
    },
    {
      "cell_type": "markdown",
      "metadata": {
        "id": "PQiaAUuLd9gr"
      },
      "source": [
        "#### Operating on a Vector\n",
        "\n",
        "When you interact with any number or character object in R, you are actually interacting with a vector. \n",
        "\n",
        "When we created an object `x <- 10` earlier, we actually created a vector with only one element in it."
      ]
    },
    {
      "cell_type": "code",
      "execution_count": null,
      "metadata": {
        "colab": {
          "base_uri": "https://localhost:8080/"
        },
        "id": "CEfQVvT0eSuW",
        "outputId": "93fc88e9-8305-4b34-c58f-075fa9c6241e",
        "vscode": {
          "languageId": "r"
        }
      },
      "outputs": [
        {
          "name": "stdout",
          "output_type": "stream",
          "text": [
            " num 10\n",
            " num 10\n"
          ]
        }
      ],
      "source": [
        "x <- 10\n",
        "xvec <- c(10)\n",
        "\n",
        "str(x)\n",
        "str(xvec)"
      ]
    },
    {
      "cell_type": "markdown",
      "metadata": {
        "id": "o7ziU_8Ke2VV"
      },
      "source": [
        "You can see this because you can subset it like a vector."
      ]
    },
    {
      "cell_type": "code",
      "execution_count": null,
      "metadata": {
        "colab": {
          "base_uri": "https://localhost:8080/",
          "height": 51
        },
        "id": "GsX-OcuqeXLC",
        "outputId": "c058161d-396d-411a-8c47-bc6710bddcda",
        "vscode": {
          "languageId": "r"
        }
      },
      "outputs": [
        {
          "data": {
            "text/html": [
              "10"
            ],
            "text/latex": [
              "10"
            ],
            "text/markdown": [
              "10"
            ],
            "text/plain": [
              "[1] 10"
            ]
          },
          "metadata": {
            "tags": []
          },
          "output_type": "display_data"
        },
        {
          "data": {
            "text/html": [
              "10"
            ],
            "text/latex": [
              "10"
            ],
            "text/markdown": [
              "10"
            ],
            "text/plain": [
              "[1] 10"
            ]
          },
          "metadata": {
            "tags": []
          },
          "output_type": "display_data"
        }
      ],
      "source": [
        "x[1]\n",
        "xvec[1]"
      ]
    },
    {
      "cell_type": "markdown",
      "metadata": {
        "id": "kuhJ67B5e-jb"
      },
      "source": [
        "Because R treats a vector as a primary type, most functions will operate on all the elements in a vector. \n",
        "\n",
        "Let's create a vector and then add 100."
      ]
    },
    {
      "cell_type": "code",
      "execution_count": null,
      "metadata": {
        "colab": {
          "base_uri": "https://localhost:8080/",
          "height": 34
        },
        "id": "sMKeApDwfJ6-",
        "outputId": "993ddbac-b296-4e0c-8e5c-f2b86a35fb80",
        "vscode": {
          "languageId": "r"
        }
      },
      "outputs": [
        {
          "data": {
            "text/html": [
              "<style>\n",
              ".list-inline {list-style: none; margin:0; padding: 0}\n",
              ".list-inline>li {display: inline-block}\n",
              ".list-inline>li:not(:last-child)::after {content: \"\\00b7\"; padding: 0 .5ex}\n",
              "</style>\n",
              "<ol class=list-inline><li>110</li><li>120</li><li>130</li><li>140</li></ol>\n"
            ],
            "text/latex": [
              "\\begin{enumerate*}\n",
              "\\item 110\n",
              "\\item 120\n",
              "\\item 130\n",
              "\\item 140\n",
              "\\end{enumerate*}\n"
            ],
            "text/markdown": [
              "1. 110\n",
              "2. 120\n",
              "3. 130\n",
              "4. 140\n",
              "\n",
              "\n"
            ],
            "text/plain": [
              "[1] 110 120 130 140"
            ]
          },
          "metadata": {
            "tags": []
          },
          "output_type": "display_data"
        }
      ],
      "source": [
        "x <- c(10,20,30,40)\n",
        "x + 100"
      ]
    },
    {
      "cell_type": "markdown",
      "metadata": {
        "id": "-3pvCwvzf2FS"
      },
      "source": [
        "Each individual element gets 100 added to it.\n",
        "\n",
        "Most functions will operate elementwise on vectors, including the one we created earlier.\n"
      ]
    },
    {
      "cell_type": "code",
      "execution_count": null,
      "metadata": {
        "colab": {
          "base_uri": "https://localhost:8080/",
          "height": 102
        },
        "id": "1vBwzHhLf0-b",
        "outputId": "8e71a50b-66fc-4af9-c980-c2c1501ca706",
        "vscode": {
          "languageId": "r"
        }
      },
      "outputs": [
        {
          "data": {
            "text/html": [
              "<pre class=language-r><code>function (a, b) \n",
              "{\n",
              "<span style=white-space:pre-wrap>    return(a + b + 1)</span>\n",
              "}</code></pre>"
            ],
            "text/latex": [
              "\\begin{minted}{r}\n",
              "function (a, b) \n",
              "\\{\n",
              "    return(a + b + 1)\n",
              "\\}\n",
              "\\end{minted}"
            ],
            "text/markdown": [
              "```r\n",
              "function (a, b) \n",
              "{\n",
              "    return(a + b + 1)\n",
              "}\n",
              "```"
            ],
            "text/plain": [
              "function(a,b) {\n",
              "  return(a+b+1)\n",
              "}\n",
              "<bytecode: 0x563674aa1770>"
            ]
          },
          "metadata": {
            "tags": []
          },
          "output_type": "display_data"
        },
        {
          "data": {
            "text/html": [
              "<style>\n",
              ".list-inline {list-style: none; margin:0; padding: 0}\n",
              ".list-inline>li {display: inline-block}\n",
              ".list-inline>li:not(:last-child)::after {content: \"\\00b7\"; padding: 0 .5ex}\n",
              "</style>\n",
              "<ol class=list-inline><li>111</li><li>121</li><li>131</li><li>141</li></ol>\n"
            ],
            "text/latex": [
              "\\begin{enumerate*}\n",
              "\\item 111\n",
              "\\item 121\n",
              "\\item 131\n",
              "\\item 141\n",
              "\\end{enumerate*}\n"
            ],
            "text/markdown": [
              "1. 111\n",
              "2. 121\n",
              "3. 131\n",
              "4. 141\n",
              "\n",
              "\n"
            ],
            "text/plain": [
              "[1] 111 121 131 141"
            ]
          },
          "metadata": {
            "tags": []
          },
          "output_type": "display_data"
        }
      ],
      "source": [
        "bettersum\n",
        "bettersum(x, 100)"
      ]
    },
    {
      "cell_type": "markdown",
      "metadata": {
        "id": "jvaLKxyDgfr3"
      },
      "source": [
        "What happens if we try to add two vectors of the same length together?\n",
        "\n"
      ]
    },
    {
      "cell_type": "code",
      "execution_count": null,
      "metadata": {
        "colab": {
          "base_uri": "https://localhost:8080/",
          "height": 34
        },
        "id": "kRHvb_WmgDeS",
        "outputId": "cdfc7f2f-4c39-48d4-9311-f01cd058d40c",
        "vscode": {
          "languageId": "r"
        }
      },
      "outputs": [
        {
          "data": {
            "text/html": [
              "<style>\n",
              ".list-inline {list-style: none; margin:0; padding: 0}\n",
              ".list-inline>li {display: inline-block}\n",
              ".list-inline>li:not(:last-child)::after {content: \"\\00b7\"; padding: 0 .5ex}\n",
              "</style>\n",
              "<ol class=list-inline><li>2</li><li>4</li><li>6</li><li>8</li></ol>\n"
            ],
            "text/latex": [
              "\\begin{enumerate*}\n",
              "\\item 2\n",
              "\\item 4\n",
              "\\item 6\n",
              "\\item 8\n",
              "\\end{enumerate*}\n"
            ],
            "text/markdown": [
              "1. 2\n",
              "2. 4\n",
              "3. 6\n",
              "4. 8\n",
              "\n",
              "\n"
            ],
            "text/plain": [
              "[1] 2 4 6 8"
            ]
          },
          "metadata": {
            "tags": []
          },
          "output_type": "display_data"
        }
      ],
      "source": [
        "c(1,2,3,4) + c(1,2,3,4)"
      ]
    },
    {
      "cell_type": "markdown",
      "metadata": {
        "id": "4h-zmYOFgzmm"
      },
      "source": [
        "It adds the `nth` element of each vector together and returns a vector of the same size.\n",
        "\n",
        "What if we try to add vectors of different length? \n",
        "\n",
        "Well, we did that earlier when we added 100 to the vector. What that did was this... "
      ]
    },
    {
      "cell_type": "code",
      "execution_count": null,
      "metadata": {
        "colab": {
          "base_uri": "https://localhost:8080/",
          "height": 68
        },
        "id": "E-ak8USKgr9f",
        "outputId": "7250fce9-0b68-485c-892e-3a830af54038",
        "vscode": {
          "languageId": "r"
        }
      },
      "outputs": [
        {
          "data": {
            "text/html": [
              "<style>\n",
              ".list-inline {list-style: none; margin:0; padding: 0}\n",
              ".list-inline>li {display: inline-block}\n",
              ".list-inline>li:not(:last-child)::after {content: \"\\00b7\"; padding: 0 .5ex}\n",
              "</style>\n",
              "<ol class=list-inline><li>10</li><li>20</li><li>30</li><li>40</li></ol>\n"
            ],
            "text/latex": [
              "\\begin{enumerate*}\n",
              "\\item 10\n",
              "\\item 20\n",
              "\\item 30\n",
              "\\item 40\n",
              "\\end{enumerate*}\n"
            ],
            "text/markdown": [
              "1. 10\n",
              "2. 20\n",
              "3. 30\n",
              "4. 40\n",
              "\n",
              "\n"
            ],
            "text/plain": [
              "[1] 10 20 30 40"
            ]
          },
          "metadata": {
            "tags": []
          },
          "output_type": "display_data"
        },
        {
          "data": {
            "text/html": [
              "<style>\n",
              ".list-inline {list-style: none; margin:0; padding: 0}\n",
              ".list-inline>li {display: inline-block}\n",
              ".list-inline>li:not(:last-child)::after {content: \"\\00b7\"; padding: 0 .5ex}\n",
              "</style>\n",
              "<ol class=list-inline><li>110</li><li>120</li><li>130</li><li>140</li></ol>\n"
            ],
            "text/latex": [
              "\\begin{enumerate*}\n",
              "\\item 110\n",
              "\\item 120\n",
              "\\item 130\n",
              "\\item 140\n",
              "\\end{enumerate*}\n"
            ],
            "text/markdown": [
              "1. 110\n",
              "2. 120\n",
              "3. 130\n",
              "4. 140\n",
              "\n",
              "\n"
            ],
            "text/plain": [
              "[1] 110 120 130 140"
            ]
          },
          "metadata": {
            "tags": []
          },
          "output_type": "display_data"
        },
        {
          "data": {
            "text/html": [
              "<style>\n",
              ".list-inline {list-style: none; margin:0; padding: 0}\n",
              ".list-inline>li {display: inline-block}\n",
              ".list-inline>li:not(:last-child)::after {content: \"\\00b7\"; padding: 0 .5ex}\n",
              "</style>\n",
              "<ol class=list-inline><li>110</li><li>120</li><li>130</li><li>140</li></ol>\n"
            ],
            "text/latex": [
              "\\begin{enumerate*}\n",
              "\\item 110\n",
              "\\item 120\n",
              "\\item 130\n",
              "\\item 140\n",
              "\\end{enumerate*}\n"
            ],
            "text/markdown": [
              "1. 110\n",
              "2. 120\n",
              "3. 130\n",
              "4. 140\n",
              "\n",
              "\n"
            ],
            "text/plain": [
              "[1] 110 120 130 140"
            ]
          },
          "metadata": {
            "tags": []
          },
          "output_type": "display_data"
        }
      ],
      "source": [
        "x\n",
        "x + 100\n",
        "x + c(100, 100, 100, 100)"
      ]
    },
    {
      "cell_type": "markdown",
      "metadata": {
        "id": "VzzlqbeVhgrR"
      },
      "source": [
        "It repeated the value to be the same length as the vector it was adding to. It does the same thing with any vector which is shorter than the first vector."
      ]
    },
    {
      "cell_type": "code",
      "execution_count": null,
      "metadata": {
        "colab": {
          "base_uri": "https://localhost:8080/",
          "height": 68
        },
        "id": "MGO6EMgDgnx_",
        "outputId": "54e92eb3-5e27-4a0d-af29-df96813951fc",
        "vscode": {
          "languageId": "r"
        }
      },
      "outputs": [
        {
          "data": {
            "text/html": [
              "<style>\n",
              ".list-inline {list-style: none; margin:0; padding: 0}\n",
              ".list-inline>li {display: inline-block}\n",
              ".list-inline>li:not(:last-child)::after {content: \"\\00b7\"; padding: 0 .5ex}\n",
              "</style>\n",
              "<ol class=list-inline><li>10</li><li>20</li><li>30</li><li>40</li></ol>\n"
            ],
            "text/latex": [
              "\\begin{enumerate*}\n",
              "\\item 10\n",
              "\\item 20\n",
              "\\item 30\n",
              "\\item 40\n",
              "\\end{enumerate*}\n"
            ],
            "text/markdown": [
              "1. 10\n",
              "2. 20\n",
              "3. 30\n",
              "4. 40\n",
              "\n",
              "\n"
            ],
            "text/plain": [
              "[1] 10 20 30 40"
            ]
          },
          "metadata": {
            "tags": []
          },
          "output_type": "display_data"
        },
        {
          "data": {
            "text/html": [
              "<style>\n",
              ".list-inline {list-style: none; margin:0; padding: 0}\n",
              ".list-inline>li {display: inline-block}\n",
              ".list-inline>li:not(:last-child)::after {content: \"\\00b7\"; padding: 0 .5ex}\n",
              "</style>\n",
              "<ol class=list-inline><li>11</li><li>120</li><li>31</li><li>140</li></ol>\n"
            ],
            "text/latex": [
              "\\begin{enumerate*}\n",
              "\\item 11\n",
              "\\item 120\n",
              "\\item 31\n",
              "\\item 140\n",
              "\\end{enumerate*}\n"
            ],
            "text/markdown": [
              "1. 11\n",
              "2. 120\n",
              "3. 31\n",
              "4. 140\n",
              "\n",
              "\n"
            ],
            "text/plain": [
              "[1]  11 120  31 140"
            ]
          },
          "metadata": {
            "tags": []
          },
          "output_type": "display_data"
        },
        {
          "data": {
            "text/html": [
              "<style>\n",
              ".list-inline {list-style: none; margin:0; padding: 0}\n",
              ".list-inline>li {display: inline-block}\n",
              ".list-inline>li:not(:last-child)::after {content: \"\\00b7\"; padding: 0 .5ex}\n",
              "</style>\n",
              "<ol class=list-inline><li>11</li><li>120</li><li>31</li><li>140</li></ol>\n"
            ],
            "text/latex": [
              "\\begin{enumerate*}\n",
              "\\item 11\n",
              "\\item 120\n",
              "\\item 31\n",
              "\\item 140\n",
              "\\end{enumerate*}\n"
            ],
            "text/markdown": [
              "1. 11\n",
              "2. 120\n",
              "3. 31\n",
              "4. 140\n",
              "\n",
              "\n"
            ],
            "text/plain": [
              "[1]  11 120  31 140"
            ]
          },
          "metadata": {
            "tags": []
          },
          "output_type": "display_data"
        }
      ],
      "source": [
        "x\n",
        "x + c(1, 100)\n",
        "x + c(1, 100, 1, 100)"
      ]
    },
    {
      "cell_type": "markdown",
      "metadata": {
        "id": "OTjU92rEiBOG"
      },
      "source": [
        "It will error if the vector lengths are not a multiple of one another."
      ]
    },
    {
      "cell_type": "code",
      "execution_count": null,
      "metadata": {
        "colab": {
          "base_uri": "https://localhost:8080/",
          "height": 85
        },
        "id": "UV8cMHUqh2z9",
        "outputId": "89e59109-6282-4231-dd4a-c7e1ba650c7c",
        "vscode": {
          "languageId": "r"
        }
      },
      "outputs": [
        {
          "data": {
            "text/html": [
              "<style>\n",
              ".list-inline {list-style: none; margin:0; padding: 0}\n",
              ".list-inline>li {display: inline-block}\n",
              ".list-inline>li:not(:last-child)::after {content: \"\\00b7\"; padding: 0 .5ex}\n",
              "</style>\n",
              "<ol class=list-inline><li>10</li><li>20</li><li>30</li><li>40</li></ol>\n"
            ],
            "text/latex": [
              "\\begin{enumerate*}\n",
              "\\item 10\n",
              "\\item 20\n",
              "\\item 30\n",
              "\\item 40\n",
              "\\end{enumerate*}\n"
            ],
            "text/markdown": [
              "1. 10\n",
              "2. 20\n",
              "3. 30\n",
              "4. 40\n",
              "\n",
              "\n"
            ],
            "text/plain": [
              "[1] 10 20 30 40"
            ]
          },
          "metadata": {
            "tags": []
          },
          "output_type": "display_data"
        },
        {
          "name": "stderr",
          "output_type": "stream",
          "text": [
            "Warning message in x + c(1, 100, 9):\n",
            "“longer object length is not a multiple of shorter object length”\n"
          ]
        },
        {
          "data": {
            "text/html": [
              "<style>\n",
              ".list-inline {list-style: none; margin:0; padding: 0}\n",
              ".list-inline>li {display: inline-block}\n",
              ".list-inline>li:not(:last-child)::after {content: \"\\00b7\"; padding: 0 .5ex}\n",
              "</style>\n",
              "<ol class=list-inline><li>11</li><li>120</li><li>39</li><li>41</li></ol>\n"
            ],
            "text/latex": [
              "\\begin{enumerate*}\n",
              "\\item 11\n",
              "\\item 120\n",
              "\\item 39\n",
              "\\item 41\n",
              "\\end{enumerate*}\n"
            ],
            "text/markdown": [
              "1. 11\n",
              "2. 120\n",
              "3. 39\n",
              "4. 41\n",
              "\n",
              "\n"
            ],
            "text/plain": [
              "[1]  11 120  39  41"
            ]
          },
          "metadata": {
            "tags": []
          },
          "output_type": "display_data"
        }
      ],
      "source": [
        "x \n",
        "x + c(1, 100, 9) "
      ]
    },
    {
      "cell_type": "markdown",
      "metadata": {
        "id": "TdtaMhwZiZL-"
      },
      "source": [
        "The order of the vectors isn't important. The bigger one doesn't have to be first. If the smaller one is first, then the first will repeat to match the length of the longer one."
      ]
    },
    {
      "cell_type": "code",
      "execution_count": null,
      "metadata": {
        "colab": {
          "base_uri": "https://localhost:8080/",
          "height": 51
        },
        "id": "tRQIYkakiJ18",
        "outputId": "30f96aab-9826-4a71-ce12-995417299c00",
        "vscode": {
          "languageId": "r"
        }
      },
      "outputs": [
        {
          "data": {
            "text/html": [
              "<style>\n",
              ".list-inline {list-style: none; margin:0; padding: 0}\n",
              ".list-inline>li {display: inline-block}\n",
              ".list-inline>li:not(:last-child)::after {content: \"\\00b7\"; padding: 0 .5ex}\n",
              "</style>\n",
              "<ol class=list-inline><li>11</li><li>22</li><li>31</li><li>42</li></ol>\n"
            ],
            "text/latex": [
              "\\begin{enumerate*}\n",
              "\\item 11\n",
              "\\item 22\n",
              "\\item 31\n",
              "\\item 42\n",
              "\\end{enumerate*}\n"
            ],
            "text/markdown": [
              "1. 11\n",
              "2. 22\n",
              "3. 31\n",
              "4. 42\n",
              "\n",
              "\n"
            ],
            "text/plain": [
              "[1] 11 22 31 42"
            ]
          },
          "metadata": {
            "tags": []
          },
          "output_type": "display_data"
        },
        {
          "data": {
            "text/html": [
              "<style>\n",
              ".list-inline {list-style: none; margin:0; padding: 0}\n",
              ".list-inline>li {display: inline-block}\n",
              ".list-inline>li:not(:last-child)::after {content: \"\\00b7\"; padding: 0 .5ex}\n",
              "</style>\n",
              "<ol class=list-inline><li>11</li><li>22</li><li>31</li><li>42</li></ol>\n"
            ],
            "text/latex": [
              "\\begin{enumerate*}\n",
              "\\item 11\n",
              "\\item 22\n",
              "\\item 31\n",
              "\\item 42\n",
              "\\end{enumerate*}\n"
            ],
            "text/markdown": [
              "1. 11\n",
              "2. 22\n",
              "3. 31\n",
              "4. 42\n",
              "\n",
              "\n"
            ],
            "text/plain": [
              "[1] 11 22 31 42"
            ]
          },
          "metadata": {
            "tags": []
          },
          "output_type": "display_data"
        }
      ],
      "source": [
        "c(1,2) + c(10,20,30,40)\n",
        "c(1,2,1,2) + c(10,20,30,40)"
      ]
    },
    {
      "cell_type": "markdown",
      "metadata": {
        "id": "zWI6lYHmiu8q"
      },
      "source": [
        "This can be useful for replacing elements of vectors too. For example, you can set all or some elements of a vector to a certain value."
      ]
    },
    {
      "cell_type": "code",
      "execution_count": null,
      "metadata": {
        "colab": {
          "base_uri": "https://localhost:8080/",
          "height": 34
        },
        "id": "1tRBb4G1i_OE",
        "outputId": "3993955a-9d60-4606-fd10-0008b073ae7d",
        "vscode": {
          "languageId": "r"
        }
      },
      "outputs": [
        {
          "data": {
            "text/html": [
              "<style>\n",
              ".list-inline {list-style: none; margin:0; padding: 0}\n",
              ".list-inline>li {display: inline-block}\n",
              ".list-inline>li:not(:last-child)::after {content: \"\\00b7\"; padding: 0 .5ex}\n",
              "</style>\n",
              "<ol class=list-inline><li>10</li><li>10</li><li>10</li></ol>\n"
            ],
            "text/latex": [
              "\\begin{enumerate*}\n",
              "\\item 10\n",
              "\\item 10\n",
              "\\item 10\n",
              "\\end{enumerate*}\n"
            ],
            "text/markdown": [
              "1. 10\n",
              "2. 10\n",
              "3. 10\n",
              "\n",
              "\n"
            ],
            "text/plain": [
              "[1] 10 10 10"
            ]
          },
          "metadata": {
            "tags": []
          },
          "output_type": "display_data"
        }
      ],
      "source": [
        "x <- c(1,2,3)\n",
        "x[] <- 10\n",
        "x"
      ]
    },
    {
      "cell_type": "code",
      "execution_count": null,
      "metadata": {
        "colab": {
          "base_uri": "https://localhost:8080/",
          "height": 34
        },
        "id": "qTGW822CjMq7",
        "outputId": "6f531b74-0200-4145-b1b8-c232162d13f3",
        "vscode": {
          "languageId": "r"
        }
      },
      "outputs": [
        {
          "data": {
            "text/html": [
              "<style>\n",
              ".list-inline {list-style: none; margin:0; padding: 0}\n",
              ".list-inline>li {display: inline-block}\n",
              ".list-inline>li:not(:last-child)::after {content: \"\\00b7\"; padding: 0 .5ex}\n",
              "</style>\n",
              "<ol class=list-inline><li>99</li><li>99</li><li>10</li></ol>\n"
            ],
            "text/latex": [
              "\\begin{enumerate*}\n",
              "\\item 99\n",
              "\\item 99\n",
              "\\item 10\n",
              "\\end{enumerate*}\n"
            ],
            "text/markdown": [
              "1. 99\n",
              "2. 99\n",
              "3. 10\n",
              "\n",
              "\n"
            ],
            "text/plain": [
              "[1] 99 99 10"
            ]
          },
          "metadata": {
            "tags": []
          },
          "output_type": "display_data"
        }
      ],
      "source": [
        "x[1:2] <- 99\n",
        "x"
      ]
    },
    {
      "cell_type": "markdown",
      "metadata": {
        "id": "SnnppbShikoW"
      },
      "source": [
        "Some of this will feel a bit magical to start with but you'll find that R often has exactly the default behaviour you want. "
      ]
    },
    {
      "cell_type": "markdown",
      "metadata": {
        "id": "W5_lUW8qjbMR"
      },
      "source": [
        "## Lists\n",
        "\n",
        "The other important `basic type` is a list. \n",
        "\n",
        "This is just like a vector, but the component of the list can be different types of object - including complicated ones.\n",
        "\n",
        "You won't deal with lists much to start with, so I just want you to know they exist."
      ]
    },
    {
      "cell_type": "code",
      "execution_count": null,
      "metadata": {
        "colab": {
          "base_uri": "https://localhost:8080/",
          "height": 113
        },
        "id": "L-B29oMEkMYx",
        "outputId": "e947370c-98dd-42b4-f54e-aa124c0438d3",
        "vscode": {
          "languageId": "r"
        }
      },
      "outputs": [
        {
          "data": {
            "text/html": [
              "<ol>\n",
              "\t<li>'Hello'</li>\n",
              "\t<li>2</li>\n",
              "\t<li>TRUE</li>\n",
              "\t<li><style>\n",
              ".list-inline {list-style: none; margin:0; padding: 0}\n",
              ".list-inline>li {display: inline-block}\n",
              ".list-inline>li:not(:last-child)::after {content: \"\\00b7\"; padding: 0 .5ex}\n",
              "</style>\n",
              "<ol class=list-inline><li>1</li><li>2</li><li>4</li><li>5</li></ol>\n",
              "</li>\n",
              "</ol>\n"
            ],
            "text/latex": [
              "\\begin{enumerate}\n",
              "\\item 'Hello'\n",
              "\\item 2\n",
              "\\item TRUE\n",
              "\\item \\begin{enumerate*}\n",
              "\\item 1\n",
              "\\item 2\n",
              "\\item 4\n",
              "\\item 5\n",
              "\\end{enumerate*}\n",
              "\n",
              "\\end{enumerate}\n"
            ],
            "text/markdown": [
              "1. 'Hello'\n",
              "2. 2\n",
              "3. TRUE\n",
              "4. 1. 1\n",
              "2. 2\n",
              "3. 4\n",
              "4. 5\n",
              "\n",
              "\n",
              "\n",
              "\n",
              "\n"
            ],
            "text/plain": [
              "[[1]]\n",
              "[1] \"Hello\"\n",
              "\n",
              "[[2]]\n",
              "[1] 2\n",
              "\n",
              "[[3]]\n",
              "[1] TRUE\n",
              "\n",
              "[[4]]\n",
              "[1] 1 2 4 5\n"
            ]
          },
          "metadata": {
            "tags": []
          },
          "output_type": "display_data"
        }
      ],
      "source": [
        "mylist <- list(\"Hello\", 2, TRUE, c(1,2,4,5))\n",
        "mylist"
      ]
    },
    {
      "cell_type": "code",
      "execution_count": null,
      "metadata": {
        "colab": {
          "base_uri": "https://localhost:8080/",
          "height": 34
        },
        "id": "bCFe0XJNkUTA",
        "outputId": "a5fd08e7-1f60-4706-a2fc-e4df2210cf60",
        "vscode": {
          "languageId": "r"
        }
      },
      "outputs": [
        {
          "data": {
            "text/html": [
              "<strong>$word</strong> = 'Hello'"
            ],
            "text/latex": [
              "\\textbf{\\$word} = 'Hello'"
            ],
            "text/markdown": [
              "**$word** = 'Hello'"
            ],
            "text/plain": [
              "$word\n",
              "[1] \"Hello\"\n"
            ]
          },
          "metadata": {
            "tags": []
          },
          "output_type": "display_data"
        }
      ],
      "source": [
        "mylist[1]"
      ]
    },
    {
      "cell_type": "markdown",
      "metadata": {
        "id": "woUhIg3_lAmA"
      },
      "source": [
        "This returns a list... you can get the element like this."
      ]
    },
    {
      "cell_type": "code",
      "execution_count": null,
      "metadata": {
        "colab": {
          "base_uri": "https://localhost:8080/",
          "height": 34
        },
        "id": "RwFAZUFjlF54",
        "outputId": "bf2b2a01-3902-4771-edc8-5733a4e027e5",
        "vscode": {
          "languageId": "r"
        }
      },
      "outputs": [
        {
          "data": {
            "text/html": [
              "'Hello'"
            ],
            "text/latex": [
              "'Hello'"
            ],
            "text/markdown": [
              "'Hello'"
            ],
            "text/plain": [
              "[1] \"Hello\""
            ]
          },
          "metadata": {
            "tags": []
          },
          "output_type": "display_data"
        }
      ],
      "source": [
        "mylist[[1]]"
      ]
    },
    {
      "cell_type": "code",
      "execution_count": null,
      "metadata": {
        "colab": {
          "base_uri": "https://localhost:8080/",
          "height": 34
        },
        "id": "uTWY3g3RkYu-",
        "outputId": "978ba2ff-db84-4a1d-9c35-3b57c396f37a",
        "vscode": {
          "languageId": "r"
        }
      },
      "outputs": [
        {
          "data": {
            "text/html": [
              "<style>\n",
              ".list-inline {list-style: none; margin:0; padding: 0}\n",
              ".list-inline>li {display: inline-block}\n",
              ".list-inline>li:not(:last-child)::after {content: \"\\00b7\"; padding: 0 .5ex}\n",
              "</style>\n",
              "<ol class=list-inline><li>1</li><li>2</li><li>4</li><li>5</li></ol>\n"
            ],
            "text/latex": [
              "\\begin{enumerate*}\n",
              "\\item 1\n",
              "\\item 2\n",
              "\\item 4\n",
              "\\item 5\n",
              "\\end{enumerate*}\n"
            ],
            "text/markdown": [
              "1. 1\n",
              "2. 2\n",
              "3. 4\n",
              "4. 5\n",
              "\n",
              "\n"
            ],
            "text/plain": [
              "[1] 1 2 4 5"
            ]
          },
          "metadata": {
            "tags": []
          },
          "output_type": "display_data"
        }
      ],
      "source": [
        "mylist[[4]]"
      ]
    },
    {
      "cell_type": "markdown",
      "metadata": {
        "id": "C2fMJZsekob3"
      },
      "source": [
        "Elements in lists can also have names"
      ]
    },
    {
      "cell_type": "code",
      "execution_count": null,
      "metadata": {
        "colab": {
          "base_uri": "https://localhost:8080/",
          "height": 181
        },
        "id": "-c0mt3_YkaZd",
        "outputId": "6e3654a2-c17e-426b-b8df-de36cfb0fb5c",
        "vscode": {
          "languageId": "r"
        }
      },
      "outputs": [
        {
          "data": {
            "text/html": [
              "<dl>\n",
              "\t<dt>$word</dt>\n",
              "\t\t<dd>'Hello'</dd>\n",
              "\t<dt>$number</dt>\n",
              "\t\t<dd>2</dd>\n",
              "\t<dt>$boolean</dt>\n",
              "\t\t<dd>TRUE</dd>\n",
              "\t<dt>$vector</dt>\n",
              "\t\t<dd><style>\n",
              ".list-inline {list-style: none; margin:0; padding: 0}\n",
              ".list-inline>li {display: inline-block}\n",
              ".list-inline>li:not(:last-child)::after {content: \"\\00b7\"; padding: 0 .5ex}\n",
              "</style>\n",
              "<ol class=list-inline><li>1</li><li>2</li><li>4</li><li>5</li></ol>\n",
              "</dd>\n",
              "</dl>\n"
            ],
            "text/latex": [
              "\\begin{description}\n",
              "\\item[\\$word] 'Hello'\n",
              "\\item[\\$number] 2\n",
              "\\item[\\$boolean] TRUE\n",
              "\\item[\\$vector] \\begin{enumerate*}\n",
              "\\item 1\n",
              "\\item 2\n",
              "\\item 4\n",
              "\\item 5\n",
              "\\end{enumerate*}\n",
              "\n",
              "\\end{description}\n"
            ],
            "text/markdown": [
              "$word\n",
              ":   'Hello'\n",
              "$number\n",
              ":   2\n",
              "$boolean\n",
              ":   TRUE\n",
              "$vector\n",
              ":   1. 1\n",
              "2. 2\n",
              "3. 4\n",
              "4. 5\n",
              "\n",
              "\n",
              "\n",
              "\n",
              "\n"
            ],
            "text/plain": [
              "$word\n",
              "[1] \"Hello\"\n",
              "\n",
              "$number\n",
              "[1] 2\n",
              "\n",
              "$boolean\n",
              "[1] TRUE\n",
              "\n",
              "$vector\n",
              "[1] 1 2 4 5\n"
            ]
          },
          "metadata": {
            "tags": []
          },
          "output_type": "display_data"
        }
      ],
      "source": [
        "names(mylist) <- c('word', 'number', 'boolean', 'vector')\n",
        "mylist"
      ]
    },
    {
      "cell_type": "markdown",
      "metadata": {
        "id": "7-XlmIOFligS"
      },
      "source": []
    },
    {
      "cell_type": "code",
      "execution_count": null,
      "metadata": {
        "colab": {
          "base_uri": "https://localhost:8080/",
          "height": 34
        },
        "id": "z_j-fvyJkzMS",
        "outputId": "73a7213f-1369-4387-c59e-4b5a88c6a68d",
        "vscode": {
          "languageId": "r"
        }
      },
      "outputs": [
        {
          "data": {
            "text/html": [
              "<strong>$word</strong> = 'Hello'"
            ],
            "text/latex": [
              "\\textbf{\\$word} = 'Hello'"
            ],
            "text/markdown": [
              "**$word** = 'Hello'"
            ],
            "text/plain": [
              "$word\n",
              "[1] \"Hello\"\n"
            ]
          },
          "metadata": {
            "tags": []
          },
          "output_type": "display_data"
        }
      ],
      "source": [
        "mylist['word']"
      ]
    },
    {
      "cell_type": "code",
      "execution_count": null,
      "metadata": {
        "colab": {
          "base_uri": "https://localhost:8080/",
          "height": 51
        },
        "id": "s6sS8XeQk2JE",
        "outputId": "ae59dbbe-b0c3-4c7e-9d57-1604a504417d",
        "vscode": {
          "languageId": "r"
        }
      },
      "outputs": [
        {
          "data": {
            "text/html": [
              "'Hello'"
            ],
            "text/latex": [
              "'Hello'"
            ],
            "text/markdown": [
              "'Hello'"
            ],
            "text/plain": [
              "[1] \"Hello\""
            ]
          },
          "metadata": {
            "tags": []
          },
          "output_type": "display_data"
        },
        {
          "data": {
            "text/html": [
              "'Hello'"
            ],
            "text/latex": [
              "'Hello'"
            ],
            "text/markdown": [
              "'Hello'"
            ],
            "text/plain": [
              "[1] \"Hello\""
            ]
          },
          "metadata": {
            "tags": []
          },
          "output_type": "display_data"
        }
      ],
      "source": [
        "mylist[['word']]\n",
        "mylist$word"
      ]
    },
    {
      "cell_type": "markdown",
      "metadata": {
        "id": "65lQVtmamXGE"
      },
      "source": [
        "## Matrix and Data Frame\n",
        "\n",
        "Matrices and data frames are rectangular tables of data.\n",
        "\n",
        "All elements of a matrix are the same type. \n",
        "In a data frame each column has to be the same type, but columns can be different types.\n",
        "\n",
        "You'll mostly work with data frames.\n",
        "\n",
        "You can think of them as vectors glued side by side.\n",
        "\n",
        "For example, let's create a data frame containing fake price data."
      ]
    },
    {
      "cell_type": "code",
      "execution_count": null,
      "metadata": {
        "colab": {
          "base_uri": "https://localhost:8080/",
          "height": 221
        },
        "id": "RXlFwlbfm-mp",
        "outputId": "94497155-abbd-4b57-c5fa-b33461c35e6c",
        "vscode": {
          "languageId": "r"
        }
      },
      "outputs": [
        {
          "data": {
            "text/html": [
              "<table class=\"dataframe\">\n",
              "<caption>A data.frame: 4 × 3</caption>\n",
              "<thead>\n",
              "\t<tr><th scope=col>day_col</th><th scope=col>price_col</th><th scope=col>volume_col</th></tr>\n",
              "\t<tr><th scope=col>&lt;chr&gt;</th><th scope=col>&lt;dbl&gt;</th><th scope=col>&lt;dbl&gt;</th></tr>\n",
              "</thead>\n",
              "<tbody>\n",
              "\t<tr><td>Mon</td><td>100</td><td>10000</td></tr>\n",
              "\t<tr><td>Tue</td><td> 99</td><td>10001</td></tr>\n",
              "\t<tr><td>Wed</td><td> 96</td><td>10100</td></tr>\n",
              "\t<tr><td>Thr</td><td>101</td><td> 9999</td></tr>\n",
              "</tbody>\n",
              "</table>\n"
            ],
            "text/latex": [
              "A data.frame: 4 × 3\n",
              "\\begin{tabular}{lll}\n",
              " day\\_col & price\\_col & volume\\_col\\\\\n",
              " <chr> & <dbl> & <dbl>\\\\\n",
              "\\hline\n",
              "\t Mon & 100 & 10000\\\\\n",
              "\t Tue &  99 & 10001\\\\\n",
              "\t Wed &  96 & 10100\\\\\n",
              "\t Thr & 101 &  9999\\\\\n",
              "\\end{tabular}\n"
            ],
            "text/markdown": [
              "\n",
              "A data.frame: 4 × 3\n",
              "\n",
              "| day_col &lt;chr&gt; | price_col &lt;dbl&gt; | volume_col &lt;dbl&gt; |\n",
              "|---|---|---|\n",
              "| Mon | 100 | 10000 |\n",
              "| Tue |  99 | 10001 |\n",
              "| Wed |  96 | 10100 |\n",
              "| Thr | 101 |  9999 |\n",
              "\n"
            ],
            "text/plain": [
              "  day_col price_col volume_col\n",
              "1 Mon     100       10000     \n",
              "2 Tue      99       10001     \n",
              "3 Wed      96       10100     \n",
              "4 Thr     101        9999     "
            ]
          },
          "metadata": {
            "tags": []
          },
          "output_type": "display_data"
        }
      ],
      "source": [
        "day_col <- c('Mon', 'Tue', 'Wed', 'Thr')\n",
        "price_col <- c(100, 99, 96, 101)\n",
        "volume_col <- c(10000, 10001, 10100, 9999)\n",
        "\n",
        "df <- data.frame(day_col, price_col, volume_col)\n",
        "\n",
        "df"
      ]
    },
    {
      "cell_type": "code",
      "execution_count": null,
      "metadata": {
        "colab": {
          "base_uri": "https://localhost:8080/",
          "height": 102
        },
        "id": "bdmXe2yEnYMm",
        "outputId": "ec66e1ef-8446-46e5-ff39-1faea040f849",
        "vscode": {
          "languageId": "r"
        }
      },
      "outputs": [
        {
          "name": "stdout",
          "output_type": "stream",
          "text": [
            "'data.frame':\t4 obs. of  3 variables:\n",
            " $ day_col   : chr  \"Mon\" \"Tue\" \"Wed\" \"Thr\"\n",
            " $ price_col : num  100 99 96 101\n",
            " $ volume_col: num  10000 10001 10100 9999\n"
          ]
        },
        {
          "data": {
            "text/html": [
              "4"
            ],
            "text/latex": [
              "4"
            ],
            "text/markdown": [
              "4"
            ],
            "text/plain": [
              "[1] 4"
            ]
          },
          "metadata": {
            "tags": []
          },
          "output_type": "display_data"
        }
      ],
      "source": [
        "# Look at the structure of the data frame\n",
        "str(df)\n",
        "\n",
        "# Get the number of rows\n",
        "nrow(df)\n",
        "\n",
        "# Get the number of columns"
      ]
    },
    {
      "cell_type": "markdown",
      "metadata": {
        "id": "5gOfGaFhnxVw"
      },
      "source": [
        "In the lab, you'll interact with data frames using the `dplyr` package."
      ]
    },
    {
      "cell_type": "markdown",
      "metadata": {
        "id": "0HkevYAllWCM"
      },
      "source": [
        "# Using R in the Lab\n",
        "\n",
        "When you're using R in the Lab, you'll mostly be using the `tidyverse` package and the functions in the `rwRTools` package, rather than base R.\n",
        "\n",
        "You'll mostly be \"chaining tidyverse API calls together\" rather than writing base R code.\n",
        "\n",
        "The first thing you need to do is to install the libraries you need. You can do this using the `rw crypto load data utils libraries` snippet.  "
      ]
    },
    {
      "cell_type": "code",
      "execution_count": null,
      "metadata": {
        "id": "EDNDGNPCqA_A",
        "vscode": {
          "languageId": "r"
        }
      },
      "outputs": [],
      "source": [
        "# snippet: rw load rwrtools for crypto pod\n",
        "if(!require(\"pacman\")) install.packages(\"pacman\")\n",
        "pacman::p_load_current_gh(\"RWLab/rwRtools\", dependencies = TRUE)\n",
        "pacman::p_load(tidyverse, lubridate, purrr, zoo)"
      ]
    },
    {
      "cell_type": "markdown",
      "metadata": {
        "id": "UOK4egegqcNM"
      },
      "source": [
        "\n",
        "It will take a minute or so to install the packages you need into your environment. Good time to make a cup of tea\n",
        "\n",
        "## Getting Data\n",
        "\n",
        "We need data to do data analysis. \n",
        "\n",
        "The first thing you need to do is authorize so we know you are a lab member and you can pull our datasets.'\n",
        "\n",
        "USe the `rw data auth` snippet for this job. \n",
        "\n",
        "Cick the link, sign into your account, paste the authorisation code into the box below, and press enter.\n"
      ]
    },
    {
      "cell_type": "code",
      "execution_count": null,
      "metadata": {
        "colab": {
          "base_uri": "https://localhost:8080/"
        },
        "id": "OTzbQ8SMsJf7",
        "outputId": "d676ab90-3043-41e5-87fb-6c8cb984095b",
        "vscode": {
          "languageId": "r"
        }
      },
      "outputs": [
        {
          "name": "stderr",
          "output_type": "stream",
          "text": [
            "Please point your browser to the following url: \n",
            "\n",
            "https://accounts.google.com/o/oauth2/auth?client_id=603366585132-0l5tra7gl2i20iftqangp7iskte4f3s0.apps.googleusercontent.com&scope=https%3A%2F%2Fwww.googleapis.com%2Fauth%2Fcloud-platform%20https%3A%2F%2Fwww.googleapis.com%2Fauth%2Fuserinfo.email&redirect_uri=urn%3Aietf%3Awg%3Aoauth%3A2.0%3Aoob&response_type=code\n",
            "\n"
          ]
        },
        {
          "name": "stdout",
          "output_type": "stream",
          "text": [
            "Enter authorization code:  4/1AY0e-g7WUkyirD40L5uuSPGqO4MW9pkMtR-9EaYmD8vtiEI_eQTJH4N4_SM\n"
          ]
        }
      ],
      "source": [
        "# snippet: rw data auth v.0.1\n",
        "rwlab_data_auth()"
      ]
    },
    {
      "cell_type": "markdown",
      "metadata": {
        "id": "NsvKq2T-qf9-"
      },
      "source": [
        "Now we can use the `rw crypto load coinmetrics` snippet to pull daily price and market cap data for a number of cryptocurrencies.\n",
        "\n"
      ]
    },
    {
      "cell_type": "code",
      "execution_count": null,
      "metadata": {
        "colab": {
          "base_uri": "https://localhost:8080/",
          "height": 504
        },
        "id": "s6UcTtYbuPTa",
        "outputId": "643364b4-b99e-4198-a41b-ccb2725ea5d2",
        "vscode": {
          "languageId": "r"
        }
      },
      "outputs": [
        {
          "name": "stderr",
          "output_type": "stream",
          "text": [
            "2021-06-24 02:15:12 -- Saved coinmetrics.csv to coinmetrics/coinmetrics.csv (6.1 Mb)\n",
            "\n"
          ]
        },
        {
          "name": "stdout",
          "output_type": "stream",
          "text": [
            "File successfully transferred\n"
          ]
        },
        {
          "name": "stderr",
          "output_type": "stream",
          "text": [
            "\n",
            "\u001b[36m──\u001b[39m \u001b[1m\u001b[1mColumn specification\u001b[1m\u001b[22m \u001b[36m────────────────────────────────────────────────────────\u001b[39m\n",
            "cols(\n",
            "  ticker = \u001b[31mcol_character()\u001b[39m,\n",
            "  date = \u001b[34mcol_date(format = \"\")\u001b[39m,\n",
            "  price_usd = \u001b[32mcol_double()\u001b[39m,\n",
            "  market_cap = \u001b[32mcol_double()\u001b[39m\n",
            ")\n",
            "\n",
            "\n"
          ]
        },
        {
          "data": {
            "text/html": [
              "<table class=\"dataframe\">\n",
              "<caption>A tibble: 6 × 4</caption>\n",
              "<thead>\n",
              "\t<tr><th scope=col>ticker</th><th scope=col>date</th><th scope=col>price_usd</th><th scope=col>market_cap</th></tr>\n",
              "\t<tr><th scope=col>&lt;chr&gt;</th><th scope=col>&lt;date&gt;</th><th scope=col>&lt;dbl&gt;</th><th scope=col>&lt;dbl&gt;</th></tr>\n",
              "</thead>\n",
              "<tbody>\n",
              "\t<tr><td>1INCH</td><td>2020-12-26</td><td>1.6193281</td><td>2428992153</td></tr>\n",
              "\t<tr><td>1INCH</td><td>2020-12-27</td><td>1.0723502</td><td>1608525301</td></tr>\n",
              "\t<tr><td>1INCH</td><td>2020-12-28</td><td>1.1046742</td><td>1657011227</td></tr>\n",
              "\t<tr><td>1INCH</td><td>2020-12-29</td><td>0.8937904</td><td>1340685538</td></tr>\n",
              "\t<tr><td>1INCH</td><td>2020-12-30</td><td>1.1013066</td><td>1651959828</td></tr>\n",
              "\t<tr><td>1INCH</td><td>2020-12-31</td><td>1.3652374</td><td>2047856106</td></tr>\n",
              "</tbody>\n",
              "</table>\n"
            ],
            "text/latex": [
              "A tibble: 6 × 4\n",
              "\\begin{tabular}{llll}\n",
              " ticker & date & price\\_usd & market\\_cap\\\\\n",
              " <chr> & <date> & <dbl> & <dbl>\\\\\n",
              "\\hline\n",
              "\t 1INCH & 2020-12-26 & 1.6193281 & 2428992153\\\\\n",
              "\t 1INCH & 2020-12-27 & 1.0723502 & 1608525301\\\\\n",
              "\t 1INCH & 2020-12-28 & 1.1046742 & 1657011227\\\\\n",
              "\t 1INCH & 2020-12-29 & 0.8937904 & 1340685538\\\\\n",
              "\t 1INCH & 2020-12-30 & 1.1013066 & 1651959828\\\\\n",
              "\t 1INCH & 2020-12-31 & 1.3652374 & 2047856106\\\\\n",
              "\\end{tabular}\n"
            ],
            "text/markdown": [
              "\n",
              "A tibble: 6 × 4\n",
              "\n",
              "| ticker &lt;chr&gt; | date &lt;date&gt; | price_usd &lt;dbl&gt; | market_cap &lt;dbl&gt; |\n",
              "|---|---|---|---|\n",
              "| 1INCH | 2020-12-26 | 1.6193281 | 2428992153 |\n",
              "| 1INCH | 2020-12-27 | 1.0723502 | 1608525301 |\n",
              "| 1INCH | 2020-12-28 | 1.1046742 | 1657011227 |\n",
              "| 1INCH | 2020-12-29 | 0.8937904 | 1340685538 |\n",
              "| 1INCH | 2020-12-30 | 1.1013066 | 1651959828 |\n",
              "| 1INCH | 2020-12-31 | 1.3652374 | 2047856106 |\n",
              "\n"
            ],
            "text/plain": [
              "  ticker date       price_usd market_cap\n",
              "1 1INCH  2020-12-26 1.6193281 2428992153\n",
              "2 1INCH  2020-12-27 1.0723502 1608525301\n",
              "3 1INCH  2020-12-28 1.1046742 1657011227\n",
              "4 1INCH  2020-12-29 0.8937904 1340685538\n",
              "5 1INCH  2020-12-30 1.1013066 1651959828\n",
              "6 1INCH  2020-12-31 1.3652374 2047856106"
            ]
          },
          "metadata": {
            "tags": []
          },
          "output_type": "display_data"
        }
      ],
      "source": [
        "# snippet: load coinmetrics data v0.1\n",
        "prices <- rwRtools::crypto_get_coinmetrics(force_update = TRUE)\n",
        "prices %>%\n",
        "  head()"
      ]
    },
    {
      "cell_type": "markdown",
      "metadata": {
        "id": "WA8O_wijw7co"
      },
      "source": [
        "You can see we got a nice table of price data.\n",
        "\n",
        "*But, woah there a sec, how did that happen?!*\n",
        "\n",
        "First we used the rwRtools function to populate an object called `coinmetrics`. Let's look at that guy."
      ]
    },
    {
      "cell_type": "code",
      "execution_count": null,
      "metadata": {
        "colab": {
          "base_uri": "https://localhost:8080/"
        },
        "id": "8L0AE0dtxR7D",
        "outputId": "1872a723-a81e-4338-825d-287413455a2f",
        "vscode": {
          "languageId": "r"
        }
      },
      "outputs": [
        {
          "name": "stdout",
          "output_type": "stream",
          "text": [
            "spec_tbl_df [123,285 × 4] (S3: spec_tbl_df/tbl_df/tbl/data.frame)\n",
            " $ ticker    : chr [1:123285] \"1INCH\" \"1INCH\" \"1INCH\" \"1INCH\" ...\n",
            " $ date      : Date[1:123285], format: \"2020-12-26\" \"2020-12-27\" ...\n",
            " $ price_usd : num [1:123285] 1.619 1.072 1.105 0.894 1.101 ...\n",
            " $ market_cap: num [1:123285] 2.43e+09 1.61e+09 1.66e+09 1.34e+09 1.65e+09 ...\n",
            " - attr(*, \"spec\")=\n",
            "  .. cols(\n",
            "  ..   ticker = \u001b[31mcol_character()\u001b[39m,\n",
            "  ..   date = \u001b[34mcol_date(format = \"\")\u001b[39m,\n",
            "  ..   price_usd = \u001b[32mcol_double()\u001b[39m,\n",
            "  ..   market_cap = \u001b[32mcol_double()\u001b[39m\n",
            "  .. )\n"
          ]
        }
      ],
      "source": [
        "str(coinmetrics)"
      ]
    },
    {
      "cell_type": "markdown",
      "metadata": {
        "id": "6-fnT-DTyYb_"
      },
      "source": [
        "It's a dataframe with four columns, just like you imagined it was. This was pulled from our google cloud storage bucket (https://storage.cloud.google.com/crypto_research_pod/coinmetrics.csv: "
      ]
    },
    {
      "cell_type": "markdown",
      "metadata": {
        "id": "Kn6aimI5ymdp"
      },
      "source": [
        "## What the hell is \"%>%\"?"
      ]
    },
    {
      "cell_type": "markdown",
      "metadata": {
        "id": "Yd7zETv7yvHT"
      },
      "source": [
        "Then we used the following code to display the first few rows of the data frame. What on earth was going on there?"
      ]
    },
    {
      "cell_type": "code",
      "execution_count": null,
      "metadata": {
        "colab": {
          "base_uri": "https://localhost:8080/",
          "height": 283
        },
        "id": "EM0MXJWHyl_X",
        "outputId": "7c2fd393-c514-499a-fa2b-2b14177b5e88",
        "vscode": {
          "languageId": "r"
        }
      },
      "outputs": [
        {
          "data": {
            "text/html": [
              "<table class=\"dataframe\">\n",
              "<caption>A tibble: 6 × 4</caption>\n",
              "<thead>\n",
              "\t<tr><th scope=col>ticker</th><th scope=col>date</th><th scope=col>price_usd</th><th scope=col>market_cap</th></tr>\n",
              "\t<tr><th scope=col>&lt;chr&gt;</th><th scope=col>&lt;date&gt;</th><th scope=col>&lt;dbl&gt;</th><th scope=col>&lt;dbl&gt;</th></tr>\n",
              "</thead>\n",
              "<tbody>\n",
              "\t<tr><td>1INCH</td><td>2020-12-26</td><td>1.6193281</td><td>2428992153</td></tr>\n",
              "\t<tr><td>1INCH</td><td>2020-12-27</td><td>1.0723502</td><td>1608525301</td></tr>\n",
              "\t<tr><td>1INCH</td><td>2020-12-28</td><td>1.1046742</td><td>1657011227</td></tr>\n",
              "\t<tr><td>1INCH</td><td>2020-12-29</td><td>0.8937904</td><td>1340685538</td></tr>\n",
              "\t<tr><td>1INCH</td><td>2020-12-30</td><td>1.1013066</td><td>1651959828</td></tr>\n",
              "\t<tr><td>1INCH</td><td>2020-12-31</td><td>1.3652374</td><td>2047856106</td></tr>\n",
              "</tbody>\n",
              "</table>\n"
            ],
            "text/latex": [
              "A tibble: 6 × 4\n",
              "\\begin{tabular}{llll}\n",
              " ticker & date & price\\_usd & market\\_cap\\\\\n",
              " <chr> & <date> & <dbl> & <dbl>\\\\\n",
              "\\hline\n",
              "\t 1INCH & 2020-12-26 & 1.6193281 & 2428992153\\\\\n",
              "\t 1INCH & 2020-12-27 & 1.0723502 & 1608525301\\\\\n",
              "\t 1INCH & 2020-12-28 & 1.1046742 & 1657011227\\\\\n",
              "\t 1INCH & 2020-12-29 & 0.8937904 & 1340685538\\\\\n",
              "\t 1INCH & 2020-12-30 & 1.1013066 & 1651959828\\\\\n",
              "\t 1INCH & 2020-12-31 & 1.3652374 & 2047856106\\\\\n",
              "\\end{tabular}\n"
            ],
            "text/markdown": [
              "\n",
              "A tibble: 6 × 4\n",
              "\n",
              "| ticker &lt;chr&gt; | date &lt;date&gt; | price_usd &lt;dbl&gt; | market_cap &lt;dbl&gt; |\n",
              "|---|---|---|---|\n",
              "| 1INCH | 2020-12-26 | 1.6193281 | 2428992153 |\n",
              "| 1INCH | 2020-12-27 | 1.0723502 | 1608525301 |\n",
              "| 1INCH | 2020-12-28 | 1.1046742 | 1657011227 |\n",
              "| 1INCH | 2020-12-29 | 0.8937904 | 1340685538 |\n",
              "| 1INCH | 2020-12-30 | 1.1013066 | 1651959828 |\n",
              "| 1INCH | 2020-12-31 | 1.3652374 | 2047856106 |\n",
              "\n"
            ],
            "text/plain": [
              "  ticker date       price_usd market_cap\n",
              "1 1INCH  2020-12-26 1.6193281 2428992153\n",
              "2 1INCH  2020-12-27 1.0723502 1608525301\n",
              "3 1INCH  2020-12-28 1.1046742 1657011227\n",
              "4 1INCH  2020-12-29 0.8937904 1340685538\n",
              "5 1INCH  2020-12-30 1.1013066 1651959828\n",
              "6 1INCH  2020-12-31 1.3652374 2047856106"
            ]
          },
          "metadata": {
            "tags": []
          },
          "output_type": "display_data"
        }
      ],
      "source": [
        "prices %>%\n",
        "  head()"
      ]
    },
    {
      "cell_type": "markdown",
      "metadata": {
        "id": "a3lWn_Xvzo6U"
      },
      "source": [
        "That `%>%` guy is a \"pipe\". \n",
        "\n",
        "You'll seem him all over the place in the Lab. He's very useful for writing nice easy legible code.\n",
        "\n",
        "And legible code is very important, because we're sharing research here. You will likely spend more time reading other people's code than writing your own. So we want to be kind to each other and write things in the cleanest, most transparent way possible.\n",
        "\n",
        "When we call a function we use usually write it as `verb(object)`\n",
        "\n",
        "Pick up the cat ==> `pickup(cat)`\n",
        "\n",
        "This makes sense when you are only doing one thing to that object. But often we are doing multiple things to the cat. We might say...\n",
        "\n",
        "Get the cat\n",
        "  - then pick it up\n",
        "  - then put it on your lap\n",
        "  - then stroke it.\n",
        "\n",
        "In our normal syntax this might look like this:\n",
        "\n",
        "`stroke(put_on_lap(pick_up(cat)))`\n",
        "\n",
        "Which looks backwards and confusing. \n",
        "\n",
        "Now, you could write it like this: \n",
        "\n",
        "```\n",
        "result <- pickup(cat)\n",
        "result <- put_on_lap(cat)\n",
        "stroke(result)\n",
        "```\n",
        "\n",
        "The pipe operator %>% lets us chain together these steps in a clear way without the intermediate steps. And it looks just like how we'd say it. \n",
        "\n",
        "Get the cat\n",
        "  - then pick it up\n",
        "  - then put it on your lap\n",
        "  - then stroke it.\n",
        "\n",
        "\n",
        "\n",
        "```\n",
        "cat %>%\n",
        "  pick_up() %>%\n",
        "  put_on_lap() %>%\n",
        "  stroke()\n",
        "```\n",
        "\n",
        "The pipe operator lets us chain together operations on the same object - which is a thing that we do a lot in data analysis. \n",
        "\n",
        "And the `tidyverse` functions we use in Lab are written in a consistent way that makes it easy to chain things together. \n",
        "\n",
        "### What exactly is the pipe operator doing?\n",
        "\n",
        "Rememver our sum function? We can use it to add up numbers.\n"
      ]
    },
    {
      "cell_type": "code",
      "execution_count": null,
      "metadata": {
        "colab": {
          "base_uri": "https://localhost:8080/",
          "height": 34
        },
        "id": "pZby-zhR3S9F",
        "outputId": "62cd559a-e0ea-4b3a-92cb-68612e28c1c6",
        "vscode": {
          "languageId": "r"
        }
      },
      "outputs": [
        {
          "data": {
            "text/html": [
              "6"
            ],
            "text/latex": [
              "6"
            ],
            "text/markdown": [
              "6"
            ],
            "text/plain": [
              "[1] 6"
            ]
          },
          "metadata": {
            "tags": []
          },
          "output_type": "display_data"
        }
      ],
      "source": [
        "sum(1,2,3)"
      ]
    },
    {
      "cell_type": "markdown",
      "metadata": {
        "id": "REz1Pe1Z5cgR"
      },
      "source": []
    },
    {
      "cell_type": "markdown",
      "metadata": {
        "id": "WhYf5A8n3xsp"
      },
      "source": [
        "Those things we passed to the function are called arguments. \n",
        "\n",
        "The pipe operator lets us insert the first of those arguments from outside the function itself."
      ]
    },
    {
      "cell_type": "code",
      "execution_count": null,
      "metadata": {
        "colab": {
          "base_uri": "https://localhost:8080/",
          "height": 51
        },
        "id": "uaK2jpyP3eTs",
        "outputId": "4072d820-8140-4156-c43f-0505bd5a85f6",
        "vscode": {
          "languageId": "r"
        }
      },
      "outputs": [
        {
          "data": {
            "text/html": [
              "6"
            ],
            "text/latex": [
              "6"
            ],
            "text/markdown": [
              "6"
            ],
            "text/plain": [
              "[1] 6"
            ]
          },
          "metadata": {
            "tags": []
          },
          "output_type": "display_data"
        },
        {
          "data": {
            "text/html": [
              "6"
            ],
            "text/latex": [
              "6"
            ],
            "text/markdown": [
              "6"
            ],
            "text/plain": [
              "[1] 6"
            ]
          },
          "metadata": {
            "tags": []
          },
          "output_type": "display_data"
        }
      ],
      "source": [
        "1 %>% sum(2,3)\n",
        "sum(1,2,3)"
      ]
    },
    {
      "cell_type": "markdown",
      "metadata": {
        "id": "2WuxriaZ4tey"
      },
      "source": [
        "We've taken the first argument of the future outside of the function and we \"pipe it into it\" from outside it.\n",
        "\n",
        "This makes it very easy to chain operations together, which is a thing you do a lot in data science operations.\n",
        "\n",
        "Let's first go step-by-step through a simple example so you internalize what's going on, then we'll go through a real life example on some crypto data.\n",
        "\n",
        "#### Example: Counting donuts in a contrived way\n",
        "\n",
        "Get all real numbers between 1 and 10\n",
        "   - take the mean of those numbers\n",
        "   - multiply the result by 10\n",
        "   - output it as a character string with \"donuts\" appended on the end.\n",
        "\n",
        "We'll build it up bit by bit.\n"
      ]
    },
    {
      "cell_type": "code",
      "execution_count": null,
      "metadata": {
        "colab": {
          "base_uri": "https://localhost:8080/",
          "height": 34
        },
        "id": "tfD9b1lM5_me",
        "outputId": "3f87696d-4cf2-4cd4-d2ec-c0bfb7577598",
        "vscode": {
          "languageId": "r"
        }
      },
      "outputs": [
        {
          "data": {
            "text/html": [
              "<style>\n",
              ".list-inline {list-style: none; margin:0; padding: 0}\n",
              ".list-inline>li {display: inline-block}\n",
              ".list-inline>li:not(:last-child)::after {content: \"\\00b7\"; padding: 0 .5ex}\n",
              "</style>\n",
              "<ol class=list-inline><li>1</li><li>2</li><li>3</li><li>4</li><li>5</li><li>6</li><li>7</li><li>8</li><li>9</li><li>10</li></ol>\n"
            ],
            "text/latex": [
              "\\begin{enumerate*}\n",
              "\\item 1\n",
              "\\item 2\n",
              "\\item 3\n",
              "\\item 4\n",
              "\\item 5\n",
              "\\item 6\n",
              "\\item 7\n",
              "\\item 8\n",
              "\\item 9\n",
              "\\item 10\n",
              "\\end{enumerate*}\n"
            ],
            "text/markdown": [
              "1. 1\n",
              "2. 2\n",
              "3. 3\n",
              "4. 4\n",
              "5. 5\n",
              "6. 6\n",
              "7. 7\n",
              "8. 8\n",
              "9. 9\n",
              "10. 10\n",
              "\n",
              "\n"
            ],
            "text/plain": [
              " [1]  1  2  3  4  5  6  7  8  9 10"
            ]
          },
          "metadata": {
            "tags": []
          },
          "output_type": "display_data"
        }
      ],
      "source": [
        "1:10"
      ]
    },
    {
      "cell_type": "code",
      "execution_count": null,
      "metadata": {
        "colab": {
          "base_uri": "https://localhost:8080/",
          "height": 34
        },
        "id": "6PtHFc3i6CJf",
        "outputId": "7d1d659c-3e12-4830-c2fe-4571bcc7a7f5",
        "vscode": {
          "languageId": "r"
        }
      },
      "outputs": [
        {
          "data": {
            "text/html": [
              "5.5"
            ],
            "text/latex": [
              "5.5"
            ],
            "text/markdown": [
              "5.5"
            ],
            "text/plain": [
              "[1] 5.5"
            ]
          },
          "metadata": {
            "tags": []
          },
          "output_type": "display_data"
        }
      ],
      "source": [
        "1:10 %>%\n",
        "  mean()"
      ]
    },
    {
      "cell_type": "markdown",
      "metadata": {
        "id": "T1r-FLot6_4m"
      },
      "source": []
    },
    {
      "cell_type": "code",
      "execution_count": null,
      "metadata": {
        "colab": {
          "base_uri": "https://localhost:8080/",
          "height": 34
        },
        "id": "qWgOjxby6Ja8",
        "outputId": "79fed079-e47a-46e2-f58e-48a018845a5c",
        "vscode": {
          "languageId": "r"
        }
      },
      "outputs": [
        {
          "data": {
            "text/html": [
              "55"
            ],
            "text/latex": [
              "55"
            ],
            "text/markdown": [
              "55"
            ],
            "text/plain": [
              "[1] 55"
            ]
          },
          "metadata": {
            "tags": []
          },
          "output_type": "display_data"
        }
      ],
      "source": [
        "1:10 %>%\n",
        "  mean() %>%\n",
        "  prod(10)\n"
      ]
    },
    {
      "cell_type": "code",
      "execution_count": null,
      "metadata": {
        "colab": {
          "base_uri": "https://localhost:8080/",
          "height": 34
        },
        "id": "1nIYxn9D6ZKo",
        "outputId": "f6c99bad-7510-4e35-8e19-087029b488bf",
        "vscode": {
          "languageId": "r"
        }
      },
      "outputs": [
        {
          "data": {
            "text/html": [
              "'55 donuts'"
            ],
            "text/latex": [
              "'55 donuts'"
            ],
            "text/markdown": [
              "'55 donuts'"
            ],
            "text/plain": [
              "[1] \"55 donuts\""
            ]
          },
          "metadata": {
            "tags": []
          },
          "output_type": "display_data"
        }
      ],
      "source": [
        "1:10 %>%\n",
        "  mean() %>%\n",
        "  prod(10) %>%\n",
        "  paste(\"donuts\")"
      ]
    },
    {
      "cell_type": "markdown",
      "metadata": {
        "id": "t82o_Nbc61y-"
      },
      "source": [
        "You'll want to build your chains up step by step like this, so you can ensure each component is doing what you expect it to do.\n",
        "\n",
        "Now let's look at a real use case."
      ]
    },
    {
      "cell_type": "markdown",
      "metadata": {
        "id": "bA2ekzv97D7f"
      },
      "source": [
        "# Using `dplyr` for Financial Data Analysis"
      ]
    },
    {
      "cell_type": "markdown",
      "metadata": {
        "id": "xtEPctT-9-Ax"
      },
      "source": [
        "## Tidy data\n",
        "\n",
        "Life gets way easier if your data is in a nice \"tidy\" shape. \n",
        "\n",
        "Lab datasets are pre-prepared in a nice tidy state for analysis. \n",
        "\n",
        "Let's look at our `prices` data. The `head()` function is very useful to display the top of the data in a data frame. Let's use that. "
      ]
    },
    {
      "cell_type": "code",
      "execution_count": null,
      "metadata": {
        "colab": {
          "base_uri": "https://localhost:8080/",
          "height": 283
        },
        "id": "QAf1QAzD-VSQ",
        "outputId": "4afa437a-b952-416e-ad81-5275290c2c87",
        "vscode": {
          "languageId": "r"
        }
      },
      "outputs": [
        {
          "data": {
            "text/html": [
              "<table class=\"dataframe\">\n",
              "<caption>A tibble: 6 × 4</caption>\n",
              "<thead>\n",
              "\t<tr><th scope=col>ticker</th><th scope=col>date</th><th scope=col>price_usd</th><th scope=col>market_cap</th></tr>\n",
              "\t<tr><th scope=col>&lt;chr&gt;</th><th scope=col>&lt;date&gt;</th><th scope=col>&lt;dbl&gt;</th><th scope=col>&lt;dbl&gt;</th></tr>\n",
              "</thead>\n",
              "<tbody>\n",
              "\t<tr><td>1INCH</td><td>2020-12-26</td><td>1.6193281</td><td>2428992153</td></tr>\n",
              "\t<tr><td>1INCH</td><td>2020-12-27</td><td>1.0723502</td><td>1608525301</td></tr>\n",
              "\t<tr><td>1INCH</td><td>2020-12-28</td><td>1.1046742</td><td>1657011227</td></tr>\n",
              "\t<tr><td>1INCH</td><td>2020-12-29</td><td>0.8937904</td><td>1340685538</td></tr>\n",
              "\t<tr><td>1INCH</td><td>2020-12-30</td><td>1.1013066</td><td>1651959828</td></tr>\n",
              "\t<tr><td>1INCH</td><td>2020-12-31</td><td>1.3652374</td><td>2047856106</td></tr>\n",
              "</tbody>\n",
              "</table>\n"
            ],
            "text/latex": [
              "A tibble: 6 × 4\n",
              "\\begin{tabular}{llll}\n",
              " ticker & date & price\\_usd & market\\_cap\\\\\n",
              " <chr> & <date> & <dbl> & <dbl>\\\\\n",
              "\\hline\n",
              "\t 1INCH & 2020-12-26 & 1.6193281 & 2428992153\\\\\n",
              "\t 1INCH & 2020-12-27 & 1.0723502 & 1608525301\\\\\n",
              "\t 1INCH & 2020-12-28 & 1.1046742 & 1657011227\\\\\n",
              "\t 1INCH & 2020-12-29 & 0.8937904 & 1340685538\\\\\n",
              "\t 1INCH & 2020-12-30 & 1.1013066 & 1651959828\\\\\n",
              "\t 1INCH & 2020-12-31 & 1.3652374 & 2047856106\\\\\n",
              "\\end{tabular}\n"
            ],
            "text/markdown": [
              "\n",
              "A tibble: 6 × 4\n",
              "\n",
              "| ticker &lt;chr&gt; | date &lt;date&gt; | price_usd &lt;dbl&gt; | market_cap &lt;dbl&gt; |\n",
              "|---|---|---|---|\n",
              "| 1INCH | 2020-12-26 | 1.6193281 | 2428992153 |\n",
              "| 1INCH | 2020-12-27 | 1.0723502 | 1608525301 |\n",
              "| 1INCH | 2020-12-28 | 1.1046742 | 1657011227 |\n",
              "| 1INCH | 2020-12-29 | 0.8937904 | 1340685538 |\n",
              "| 1INCH | 2020-12-30 | 1.1013066 | 1651959828 |\n",
              "| 1INCH | 2020-12-31 | 1.3652374 | 2047856106 |\n",
              "\n"
            ],
            "text/plain": [
              "  ticker date       price_usd market_cap\n",
              "1 1INCH  2020-12-26 1.6193281 2428992153\n",
              "2 1INCH  2020-12-27 1.0723502 1608525301\n",
              "3 1INCH  2020-12-28 1.1046742 1657011227\n",
              "4 1INCH  2020-12-29 0.8937904 1340685538\n",
              "5 1INCH  2020-12-30 1.1013066 1651959828\n",
              "6 1INCH  2020-12-31 1.3652374 2047856106"
            ]
          },
          "metadata": {
            "tags": []
          },
          "output_type": "display_data"
        }
      ],
      "source": [
        "head(prices)"
      ]
    },
    {
      "cell_type": "markdown",
      "metadata": {
        "id": "4pb-E6slAm1t"
      },
      "source": [
        "Of course, you've just learned that you could also have piped the `prices` object into the `head()` function like this "
      ]
    },
    {
      "cell_type": "code",
      "execution_count": null,
      "metadata": {
        "colab": {
          "base_uri": "https://localhost:8080/",
          "height": 283
        },
        "id": "kHIBPXwxAmeG",
        "outputId": "89980efb-39bc-461b-e1e6-ef2e4b7b1ee5",
        "vscode": {
          "languageId": "r"
        }
      },
      "outputs": [
        {
          "data": {
            "text/html": [
              "<table class=\"dataframe\">\n",
              "<caption>A tibble: 6 × 4</caption>\n",
              "<thead>\n",
              "\t<tr><th scope=col>ticker</th><th scope=col>date</th><th scope=col>price_usd</th><th scope=col>market_cap</th></tr>\n",
              "\t<tr><th scope=col>&lt;chr&gt;</th><th scope=col>&lt;date&gt;</th><th scope=col>&lt;dbl&gt;</th><th scope=col>&lt;dbl&gt;</th></tr>\n",
              "</thead>\n",
              "<tbody>\n",
              "\t<tr><td>1INCH</td><td>2020-12-26</td><td>1.6193281</td><td>2428992153</td></tr>\n",
              "\t<tr><td>1INCH</td><td>2020-12-27</td><td>1.0723502</td><td>1608525301</td></tr>\n",
              "\t<tr><td>1INCH</td><td>2020-12-28</td><td>1.1046742</td><td>1657011227</td></tr>\n",
              "\t<tr><td>1INCH</td><td>2020-12-29</td><td>0.8937904</td><td>1340685538</td></tr>\n",
              "\t<tr><td>1INCH</td><td>2020-12-30</td><td>1.1013066</td><td>1651959828</td></tr>\n",
              "\t<tr><td>1INCH</td><td>2020-12-31</td><td>1.3652374</td><td>2047856106</td></tr>\n",
              "</tbody>\n",
              "</table>\n"
            ],
            "text/latex": [
              "A tibble: 6 × 4\n",
              "\\begin{tabular}{llll}\n",
              " ticker & date & price\\_usd & market\\_cap\\\\\n",
              " <chr> & <date> & <dbl> & <dbl>\\\\\n",
              "\\hline\n",
              "\t 1INCH & 2020-12-26 & 1.6193281 & 2428992153\\\\\n",
              "\t 1INCH & 2020-12-27 & 1.0723502 & 1608525301\\\\\n",
              "\t 1INCH & 2020-12-28 & 1.1046742 & 1657011227\\\\\n",
              "\t 1INCH & 2020-12-29 & 0.8937904 & 1340685538\\\\\n",
              "\t 1INCH & 2020-12-30 & 1.1013066 & 1651959828\\\\\n",
              "\t 1INCH & 2020-12-31 & 1.3652374 & 2047856106\\\\\n",
              "\\end{tabular}\n"
            ],
            "text/markdown": [
              "\n",
              "A tibble: 6 × 4\n",
              "\n",
              "| ticker &lt;chr&gt; | date &lt;date&gt; | price_usd &lt;dbl&gt; | market_cap &lt;dbl&gt; |\n",
              "|---|---|---|---|\n",
              "| 1INCH | 2020-12-26 | 1.6193281 | 2428992153 |\n",
              "| 1INCH | 2020-12-27 | 1.0723502 | 1608525301 |\n",
              "| 1INCH | 2020-12-28 | 1.1046742 | 1657011227 |\n",
              "| 1INCH | 2020-12-29 | 0.8937904 | 1340685538 |\n",
              "| 1INCH | 2020-12-30 | 1.1013066 | 1651959828 |\n",
              "| 1INCH | 2020-12-31 | 1.3652374 | 2047856106 |\n",
              "\n"
            ],
            "text/plain": [
              "  ticker date       price_usd market_cap\n",
              "1 1INCH  2020-12-26 1.6193281 2428992153\n",
              "2 1INCH  2020-12-27 1.0723502 1608525301\n",
              "3 1INCH  2020-12-28 1.1046742 1657011227\n",
              "4 1INCH  2020-12-29 0.8937904 1340685538\n",
              "5 1INCH  2020-12-30 1.1013066 1651959828\n",
              "6 1INCH  2020-12-31 1.3652374 2047856106"
            ]
          },
          "metadata": {
            "tags": []
          },
          "output_type": "display_data"
        }
      ],
      "source": [
        "prices %>% head()"
      ]
    },
    {
      "cell_type": "markdown",
      "metadata": {
        "id": "6ZSuwJNYA1oS"
      },
      "source": [
        "Our data has been organized such that:\n",
        "\n",
        "\n",
        "*   Every column is a variable\n",
        "*   Every row is a unique observation \n",
        "\n",
        "Each row represents a price and market cap observation for a given coin (ticker) and stock.\n",
        "\n",
        "`ticker` and `date` uniquely identify an observation.\n",
        "\n",
        "`price_usd` and `market_cap` are measurements for each observation.\n"
      ]
    },
    {
      "cell_type": "markdown",
      "metadata": {
        "id": "Ith1fCErCSs-"
      },
      "source": [
        "## The main dplyr verbs\n",
        "\n",
        "\n",
        "\n",
        "*  `filter()` picks outs observations (rows) by some filter criteria\n",
        "*  `arrange()` reorders the observations (rows)\n",
        "*  `select()` picks out the variables (columns)\n",
        "*  `mutate()` creates new variables (columns) by applying transformations to existing variables\n",
        "*   `summarise()` allows you to group and summarise data – reducing the data into a grouped summary with fewer rows.\n",
        "\n",
        "```\n",
        "# This is formatted as code\n",
        "```\n",
        "\n",
        "\n",
        "\n",
        "Finally, the `group_by()` causes the verbs above to act on a group at a time, rather than the whole dataset.\n",
        "\n",
        "We’ll go through them one by one."
      ]
    },
    {
      "cell_type": "markdown",
      "metadata": {
        "id": "UtoK3S6IEqN-"
      },
      "source": [
        "### The `filter()` dplyr verb"
      ]
    },
    {
      "cell_type": "markdown",
      "metadata": {
        "id": "VjsLAOLrEwjg"
      },
      "source": [
        "![dplyr-filter.png](data:image/png;base64,iVBORw0KGgoAAAANSUhEUgAAAbAAAABSCAIAAAC61xZAAAAAAXNSR0IArs4c6QAAAARnQU1BAACxjwv8YQUAAB3QSURBVHja7Z0HVBPp9/dpoZfQhSCgKOpaEXexK7pid40IotixoKgrilhQFHtBBRsrVlwRFRVcG6+IXSx4UJT6InWRthBiSJaEyfzmfyYFkjAzlEVw1/s5c46SufPUeb7ztLmjhAEAAAAilKAIAAAAQBABAABAEAEAAEAQAQAAQBABAABAEAEAAEAQAQAAQBABAABAEAEAAEAQAQAAQBABAABAEAEAAEAQAQAAQBABAADaWxDLystv3btLcRR9LiouLaG2KSktLSoqorYp+6u8VfLz9PkzilgeP3uKYdijp08obJ69eI5h2INHDylsXrx+BbcOAHx3glhcUnLp6hWKI68gv7DoT2qbP4uK8vLzqW2KS0taJT/37v8/iljuxN3DMOz2vbsUNnHx9zEMi719i8Im/tFDuHUAAAQRBBEEEQBAEEEQQRABAAQRBBEEEQBAEEEQQRABAAQRBLENBBFFUfwfpKogu4gj/Ao1KyxIfpnLbdRKKBR+C/chN/dlcqEQ2iN5NaGQ6raIEwSxrQURyY1e7dzZgKaipmM769fJZqrKNKsFMSwMq4nx7tm1q/2Atff5/7wc0JJIN3NVPZcTBVS3B++Ku4He9Kj2bjho/vExeqodZkSVNkwsyi5I+5Aiw4f0ourvSw3RwlBnra6rnwq+n1QL82MCFnifeM1t85ICQWxbQURLI5iGKkrKKnpWPXpO3rrrFxNVZTXG3OssDONd+EVDSUnFaPaNGnGnKW7z+NE/u+5/2YLqRd4H9ldXMZ0eWUb5uGyCIApeHPIK/KPk6z7p0bLI6aYq6o5BHxDFUzUxc0xUaNoGdRj2WJ3A/9pJbZNcNzX+5jfzNk0+SWT/SJyQ5P0u3RyW3ShHQRD/24LIT1huo6qkpD7ysLjrJqj4lJbLEo0VFQRRmLZjAE1JxXzBrZoW3KNru6mpmM66xqG2a1wQ0dITP+sO3pf9tUeznOueZipqPfxfCQgEUWtKRBO6Cq2Y1LbKddPib3Yzb9Pkk0XWHv3a70wQY27evh5z6+8aKoF48eplXPx9suN54gsMw569eEFhkyh6C+Xxs6cUNq+Tklr0LE0K83LurKGspKRq6ThxWuDd0kc7XadM+cXzIN4LlBVEVvyu2aPsdZWVlDVtBk2awlx37TOKYex35/zcRw/o1fPHcYuCH34W3YJ8PIipC08kFz3YN290/76e5wpQ5F1gP5qy3tQIFuHTtyjh6LqF05kzV4bcOTnLVF8qiGhV+q2wIN+Fbr+4egVe+sDBMCTjxp6Vo61oVs6L1/qtD4kvQQmMWomq35n6yjTHoI9NEES0/NHRjUGXU8X3Pf9D5NbNJy9HKiaV/Sxs87m37Mw/DqycOWPnw2rSpKOstxe3r5rnypzhvTs2i0eQ6zoUw8QfXGUvzmxZNsvVY8nGsMefRT1cYfaNXRvDnlWJQ694dHTD1qhUcd9XmBu7Z/P5t3wM42bG7l0529V19oqtp54WyTThBvEjeDPv5vc0JyFktSfTdd66069Z0jQ1qdLkkn82iZMTF7pu/vTpi3feyhVgnI/X9/06232uX/irynpTYenz8IAlHtNn+2yLeFOBkv1MEZmiOBGUkyTIF+EbvdymTpu7fI2fn5/f+oP3Posqb+Pem7lCwhoiznibCOLff/9d+OefFAeXh0Ntw/ubx+VxqW2oZU5MxMXLrh7z5i1a3qgsfqPURM+kKytJUR9zIve8TKdQRhDxilVXqoc2cE9GefyavjrKSsoqGnp6GirKyjqOgW/4kquUNXsPdzJUUVJSMZ0Tw0PLwsdrKdP6Bb5DGqphVjjTSsti6KJtB/au93A0U1eT9BDR0ohp1vYuizbtC9nv62KtabPoNhv5cDFgrpOxTNMkMGqlskFStvanKetOOdeUHiJaGu3Z0XB0aJYQE+YcdzGxX3bnuUJSUbwMdfqMHduz10TvTfuupxURJ12YEzHTTsfMaV5g8KFtXiMHL79drphr+UYuE2YGgmSdnmajZ/Pzit2H9vpO7KLPmHDkAx/Dys9ONugw/w9Ry+Vc8TBX13IIfI+IAjg6Ss8x6CNSedPLlt5v/oHzESe2zhs1dX9KfVU1LPXCUGdNY/vefQd7rA3a5j28A40xP7aqyZWmoFE2joMchs/buN2f2U1bu/+M+c4/jlsWGLTCmaFu4XmtUqxRn865dTJ3mB0Udvrohsl2poN3vxMQ/8xrJDKpOJGUE4ax7i6zp/eYFXzl5qVdTDutjmNX7wx/LK486cUNa4hFmPE2EcTa2lpWVRXFIRDRmE1toza1tbVNFETxQSaLtSk7axOXkh7vg3Cbd1spbJAPu3GbtxupbFKDW1Ta3LKs09Nw4VIfcygtr7S6+gKxIGJCTvHHA6PUlZRUTNzPZebmFVe+3+WkoaysNyTweTkiyDw8Sl9ZleF1p0ZylZIyzWp8YNTDxOQcDj6B6EBT0phwumEHkXNzvqVGL/9EnuTPi9P064bMSE0NItWb8PF65gv+qMEwQaJfNy2ZARGhUavAPjtJQ5n24w4CQVTVNrHqKMZ2+LbX+O2OFl1wtezAPJ8au9DWZs51fKpUIamih4qa3eLb0v4NYdKrbsyx0Ojp91xecBVzLdvIZcOsuuZpruW49Z24ASKZB0foGTEjSlE0P2SkTre1LwQYxr+/tNvY2dOsRx7EuzvsKDcTe99nAsEr/x5aP+5MJxnUysePx6phMv54pkhChJm7nTS7/PpE0PRKk02+psnEsCzRtewrHsY0u4WxIhFD8w4O17ReFo9Hwb4xl2HOPF8kzmP1nUW2tt7xfLKfqSKTihNZOWHcKzPohm5R4qdq+emJBpKnuMzFxDVEnPGvL4hfOJz3KR8oDharis1mU9uw2V9YLBa1DYcjN/oqL//rwOGjCscKX/86QSSTxdokv9pHrqTHm9W4zetVFDbIW3/cJnEplU3ylpZ2EvE1AiUlDXGfh0cmiPhNdGYi/qd4DhEt+81FQ1lJxbDn6ClTpkyZPLyrnoqS+vBDeaj4KmXdCeF1T2fBk1V2asr67ld4DRraM197jT6bkxHiOUSUnZUQsX/9Eo+Jjgx1jfGnKonaFoFRq8CL9qArq3XzIygwjWFb4h6LefL6ExuVDD5PTjQzs7S0Yp4vRAlUTNQ47FY9FmAUScendDUaChNlI68Pk/9gmY2G47a6lSA0//AIDbP5f9RgSOp2R22n3ZlCwesN/QbvfBE+yXzymXKUH+9ty1hwi4dhNW/3jTTRs3NZcfjmx0ph44Io08y5F5k6xtKVtyZWGtEoVpDo111ryP5PYive1Rl0A/fLPNE0t61mnwUhp8SEB3t21x59rJjkZ7QJkZGXEy9mjil92kWWWNh+G6vXa1OSvCCS1BBxxv/DgvhXxcGQYwrHSt/1CoK4YPGKmJu3a2r4/3lBLDg8Ql1JSVnbvEv3OvosvFTRYG0av9Nfr/9BTVlr6oUG21P4dxcxNIcFS6dmZAURLX8QMIzBcJqz5UT0w5enZ3bQGnuyvEHTJDZqFbgXmdrKtL5bmrqoglbcXGhLU9V22ilpaESCWN84iJNeEzvXRBNv1s0QxPowa2LnmmpIl8dEdXZ2kqbu9CieWG30x4d/ztw79IfVT3lZe4dYel5nvdvSz5j5u6TjLih8fNJ/umMHLSOHpZfzhE0WRF7kNF2JIDap0kgF8dX6H+oFsSZ6pqG+Gy6IeK5onV2WrKhn9ZEnbJKfmxIZRTnx3uwYYmY/fXfk9QvbJncycw7+iMhfTFxDJBn/7wpio0PmhlL47xfE35laykrK9JnRImnjRk7DF1UMXC/hJVMTt8RKVUmFPi6sTs3EtwiBIApzDgyhKakPP5inuGkB+bC1v0bHJfd4DQRRmLF7oHZP/5c1dcIpaVsv13XXGrgnSxQpmVGrLBAWHB6prqQ+MqSJgsiOX9GNMe3YWa/ORs6H0vFWJJdUxcZBknTkwzZHDcaCmwozoQpBkQmiMHX7AA2G123pg4f/dLW9Rs+NbxBxhVlbzr9wfLLd/Js8DHmzsY+9z5XQMfTRRwvla6UqcaOjNmPxPT5p/KSC2KRKa7Yg4rnStPd9qjAXQvJzUyKjKCfeq+0jfnIPCFy9bGXA0bufeA0uJqwhsox/l4JIJoX/ekHkxy+zVsX/clh/vxrDkKRNvWhK+DLzMKbbptjit9udRKvODKdpC7w8x/frOvF4jpBQEDE+rp4qFl63aySDy+i1bnOCn+NLkMmB/bUMhwc9r0SxmsK4QGczNV2RICIpgQ6aXX0esDEMKX16cGondQ3RLSbMPThcizEP3ziOoWRGmLDghj+T6R/7Wbato6xHe2a5b4iVCoAw+9Iqt3mhr7h1S54HZrv5XZP0jfC7WlXV1uchQYFpuoRmFdZRVM5Fuc/9+xgPP5COoMVRMxjGLseyhfJJVWwcpPnLCh1F1+njfT2Xj2H8woRTv7+sxhSDIl85zQkbb6w/wO9+MYIJK55uG25EHxEsGd1xrnqY9xgyqBMzAp9U4Md7d+49bFCHn3ak4acFqRHbDz8UrS0LMoNH6nfyeSh7P8vHTyqITaq0ZgsinqtxxnQnv3uFuLILy5OfvsfXn8l+Jous+NhoLZvloj2jpOUkeLW+lznzfDGVmhLUEFnGZeP8DgQx9tZdCin81wsixn+zZ7iJqrISrXfAWwTD0M83lvelq+LL0qp4JSMFf2wa10VfTVm0hmLa3yP0JYdYELHK35l0FVovcV8F49/37qimM/LQJ9FkeFIos4uuqroenW45cHHgvF50yZC58IpXdz1NIwbDws751+DlA3TFWocWXpnfVVvT0MLcftn9v0mMkKQdg+hqmhNOy04oIqm7nDRp9r51A8xbCy3U9MYcl4ychFkHhmnTbJc/EFUnkhTQm6Zi6BZVRVxgMqiPOnQvcAC99/oX4v0XBeemdjCd8FuOUC6pfMUhM0nSMWHhH+udrbVpOkZGutqMEWtj8oUKueZT7HNDSx/tYdrrahgY0zW1O43fGldU14EvOz1RV1ljZEg+KtFHYxU1e9FCC4ayEkNmD7DUM7Ds0sWC3sFpZbT8kFmx1EmHzE2pNH5zBREXlrjA8Xb6mgaW1pZ0w84uu8VLGsQ/k0SGCRI39NLStl8tqmCycuInb/tRS4WmTTcyMjaxsO7mNDXgZoFQPqUENUSWcbk4//OC2BS+dUFsbPMJKy8l+WM+u65VVRelvXufXsiu25UhrP6cmZpdxqPews+6OtNUhdZXunwiZBWXyg46BZW5WQUN36BGqvIzsksbLhvXlGamZHzmolRGlZFu3RYqLjlzS4urZGJBKovLZC14pSXiPekYkrylL03FfPb1f7qLRy6pTc0fXiKs3PSsUrlSpQxK4erK3IxP5c1uhAJWXlp6AUvQgqw0s9JadjOyCzPSC6oETfiZODKUU5CaWsghLye0+Mrs7sOCXpWW5GVnZ2WkPDk7v5tGF+Ihb4MaIs54gzhBEP/Ngthq8J6u6U5T7ejVavsEKef/WEnH3R1H7kxq6XOZfWthR1XaD37P/4WbS4F/8PiKmWNmuzSubjcEPyXoJ93+W98j7ZckEMT/piBiaMmNzYsCLiRVtsELrWhp/JmINy2PCa1MighYtDmmFAWN+K5Ay2/79KQzBnn6Bu7cHuAzzZFh67LrWVV7JgkE8T8qiP/sRuWVZKSkKQ6BWsGbE8rK+VT27yuP9ve+9TVSwM3PyGt/x0H8z69vnArZu3PXwZPRz/O47Z2c/5ogIhnHkeTNpEf6EdwmPZTKJjMMt/l4gMom6/TXvPlb5vuotQLgpxyZaG1s06uHw9Jrry/5e++KKxWtEe8brEOwu6JZ6co779p/+nl8QihdHDBBI6c4RaW0nIK3CTdv3EnM4bS2cEhz3qCcyrI/5lS0xehOlIJBe7Na11kD/9HKAZ5XORjQDEHkcrmZWf+f4vjy5QuHw6G24XCqv3z5Qm3D5XKhMqSiLuv7qCWenOoCaEkfruz8VCP7FQmihlJ5fUk/h/kXC/A7IXqmScclceJZQiTl7Nodt4qbJz3C3PApfTwuibbmSAMmCIHiFFmSi+9sGMEwsnYY6GhnpGXkuDQquzVdrMjlXEZP7i/taDzjytfpYskXMPeqh4mNd3wLZ2gFLzYPtu0oi+2QwEQBhnEi3XosvgvTts0RRKC9B69t7YgKb/4EjQ9J2tRbb+xv4n4b8jFogPmsa816hKFlVz27jzue2/oZqb7j1dH458NpopbNz7q8bvnBxFachpLLuWyvbe+g1u+1SeOUK2A8BfoTTpE83gT8RoQSrcr7KPWu++7erjG2fbxjRZteBC/W9hoo3hcJNFEQ0ar02lcrKA70ryS08n0jNpUp6F9vGrFhZ3w3GtfAl5GiUymp76MGzpUwEsdMZAFI67CJHruEBXEhq0Zb0ax/9vYPvluEsp+FbQp9IJKC8tMT9HtueC3AkMyYfRuY3TU7DFu4dl3gpVT8uqr3V/atne/K9Fx76rVkaQVlPQnbHZ1R+jZy+9LZATdLkfdbf+yx8qFkPbE+YEU72Tj5efcP+86Z7r5wXej9fNI+nzBz90Dt/ltTCMauBOliP/ttx+XUsuTLe9fMc5+18sgTGaHjZt49Hug9y9Nnz830D9G7w56K3rGry7mCDF/1MLaSf7+EJE6U9eTErqsZ7MzbIesXuLl7ByfUe7qrTos9vN5r5tw1Rx/mvDy7NeJdwwJGsPJTE/T7bUlMvRXiL7leRpz58T59fhjnvf/6+/JGR+/VLwMH2U89lS0xFKbvHNipYdcXBJGq8Va+o1qjeOSKlj5Fy181YvPXa7T0SSM2le+/i/Im9GWk4FRKIN2V2sCTE4ljJtIASDxEkXZMMmODpnZRt520fvf+S2+r+QnLO0kGhfX/rXl/Zbtbd3WGi+/uPfvCH34WZJyf08feeWVoVPT5zS5WtpKNPvz7S23tJ8+ZMmqG//7w+zncBB97x0DpdgrZgOXthPWnquKWd7McvuZ0zPUzm6eN8o4hdZ7MS/DprG41+XC9k0BRx4kwXXjwdLt+Qyd47wg7s39Obz0T5nnRwBQtj/cfYNhh4MLtJ8J2zXLsatXBUuyZVyatckX1ZmMvXZcw+X4jSZz3l9qYOzqPGjMvMPRYwDiGusSBBfr5jt9Acxtnn32/Hds0qae1pXFvfCe9YgGjuGsE3a4DRspcnygrz4LSpKt7vcf17Nhl2JzAiOeFZGNgdsKqnl3n36j3oY4WhDhbyG3oB0AQ2xZCX0aKTqVkt+nLvzpP6IGJOoDmeezix3vbmM+J4Ynn/IKH6YijFv130F5xKnCXOUaul8TeBNP2DzMfGJTEk47t+vXwfYa/b/Vp32B17f4bnon7o4LHq+wdRK/fKAYsbydzSvB8jT2d+XuTtlFWvQye0llLgzFixbnkKpQ0XaLgh2r1WHavRFKcka50s7mxNRhWGbvAxnjknrfVklk3v27azkeKUIWcy1AWPl6vh7/c1x1IygLPombnmb9nikod33ln6SWa+LzoZmExKSxD3EHjXJ9tbiTRXdkCFr+ZrqVw/W2iGuTmPT4XOHdwJyvHFTcazjnz32zub+X6u+y8rzBtp5MtQScXBBEEsY0g9mWk6KiKVBCJPTBRB4A1x2OX8NP+IbojDolfNuNd9zSVzCbybsw2s14qfi8L71fo4p6tRKlb112nv3d4lJjI4Bldu4mixWciO3nHS0bIwqy9QzourGvFMgHL28md4iSs6WVgNcr/SmqTFkI5HyN9R1iq6zqse1hFki4M416bZWq7rO69Lv69RQxDj6s8tPDYz/rd1j6X/l592d3YXiTscjlXeHAYTo+STRlZWYiyKH29Fi064qzrtAufgtw/VLfehS+af2iEdKpYtoAxcZoVr89oOO8nKHlzZc+SsT9Y2zt7HW04h1pxyc2i3+a3cgN//r3Ftj/BHCIIYvtB4stIUb/IBJHYAxN1AM3y2IUvZ9qtfCR+uzh5c1/98eH4rkH8kwT6406KB1u8mDnm0kXX8t9ctG3H/RqwuY6tZ19xxMsABpPPSoWXf8fLZkjd+oNswPJ2sqdE6zAvji5wNNW3n3kmo0nLxoKMQ84G+lMjWCTpQt5u7lMfPIbmHRqug88+8qI9jBiL7kpVT/DK/wc680KVYs7lHxw6CrpEFie+IjLxdIXkBri10JLhdVfky8jApl6audc963RXtoAxDHkb0MdA8XpZfeZk3A71ZTpad3SYuvrI7fQqopkFNP/YGFPnw/IrWsLMPYM7ipwzAiCI7QOxtylKQZRzv0XigYkigGZ57MInxgwmnxPrU8WZSQa9xe46K89NMZB6ikDebemrN+6kSFTQkuPES+D4QkTfLfV+aC+5GtX775YJWMFO9lSdyH06OdnMfN5NkmE+t6SYXS8Bgser7HRcwoo/E6er4vREfWk+MIyftKW/3oCgFASrDB+n3VXcIxT10EKdRW7+FXIuG+u1mSYKukRWFngW+0hnC/AK1P35eDGGsc5M1OksefRgGCvOu6uuRHdlC1icZoMG18suqjze7j6faupQJH17Bxk4S7xM1M8gHv3Zyj2KBRoIgtiOaypE3qaoBFHeuRKJByaKAMg9RNW5BJObGNOXfPwD4z/06WQyM5or8sD9axcjd8m6Av/eYobB1AtVkh5doINBf9940ZycoOjN23xEumhiKrMth3fZ3WR8uKQfKBOwol3dKSTttLf3ifdckauT80wLfMhY9Txkqde+R3IvCFY/8LG3GLHpVo6om8N+d/QXhtGYYzlC4nThExY0s/HH0/FPPKWfn2Nv1GfNgyrxANhaxynofQ2GcbOv+jjSaebzRROtsjmvSjzi43PijaTX1ltn9NFCASJG9BYJaZwyWWRfZBp298Md3iBvNvXWtJt9Pjkz+e6xJSOs6Rp1volkCxjjJ/gQXt8c0MKjo/UU1+GFmfuHd2ngCBIAQWxrSSTyZUQuiPLOlUg8MFEOmYkdJdW5BBMSr6igeQeH6Qw5gHtcFOkFzWTqWdGWarQ0ekFnbbq1fRfnnSkIxk48xLQ3MGB079mVYeWw6FKedAlmqPha6dRpV+mQWSZgRTuZU7yUUwt+sra06+tg18FmhN/NQlTwanNfTTX5TwLgW1peH5vraK6j38HWxkyPbjc24I7YrxRBuoQ5B4bqDpy7ZCCjg5UF3bDLhG0J0kViJPX4JIaGnmXnTl2GLj8XPN1iVKjIi6NMzvHOtZqpe5Sk16atLPsNsJ92ppPEKZdF/Ouwhq6RIhFCK57scXW0s+0xdNq6iOgNjmYeV7mSlS+ZAhbgRUJ4fTOoiJhKt1VwEshNWNnLKag9vSiAIIIgygwEG3qbopp6VHSuROKYiXSkTuQoSdElGGUCSjI+SL4eLerxlWZ9zPhc5z4M5ZVlp2WVkHuaQouOufSoGx82vWfDLcrMLGRLR7IVVz17z4gk2n0jYBWkfUgvYis0b4V04asTXfGPM/HLcvMqFMsO5ZVmZzX0liWTc15JfkmjW1QaLQuiZ2Te4ZF05xAZ/+YKBdz6Uzcf947otzwOuocgiEC7dIvTdgwetiez5Q2cmxrlO+pH9zOZLe/S4KsTdOkEabsXSEHKhzJJcVQlrPrB2OV4fpu5j+B/2D/acentCvAtBIIItA9IytltEaktV7PqpNirSWX/qMeEr2702/LumxgkIqlHx1tb9Z+8YMXKBS72pp2nn8psu3QJs6O2hT6D3mGLBPF/giq0/DXF8b+av/7Hr2zEhs/6X81fjdgIoIaAr0lNcfq7TxXfzKY7tDL9QdSJ4OATkQlZ1VA7/xZBxD9Uz6qiOCQfqm/EprZRm6Z8qB4AAKA9BfFf5w8RAAAABBEAAAAEEQAAAAQRAAAABBEAAAAEEQAAAAQRAAAABBEAAAAEEQAAAAQRAADgGxXEJnyongMfqgcA4LsQRAAAABBECdXV3PSMTIqDzca7iNQ2HE41m82mtqmGHiIAAN+4IMIcIgAAIIggiAAAgCCCIAIAAIIIgggAAAgiCCIAAAAIIgAAAAgiAAAACCIAAAAIIgAAAAgiAABA6whiLYKw2V8oDoGgtra2ltqmthb/LjO1DYIgUBkAAHzTgggAAACCCAAAAIIIAAAAgggAAACCCHwbIFUF2UUc4Ve9olGEBckvcxt1TSkUCoXfclEKhUL0m0zMN5UwKri5L5MLhd9hK/w/yURXhwSnO8YAAAAASUVORK5CYII=)"
      ]
    },
    {
      "cell_type": "markdown",
      "metadata": {
        "id": "6GFhESQEE7sS"
      },
      "source": [
        "Filter returns only those observations (rows) which satistfy the criteria you pass.\n",
        "\n",
        "To get BTC prices, for example we would pass `filter(ticker == 'BTC')`\n",
        "\n",
        "A common mistake is to use `=` instead of `==`"
      ]
    },
    {
      "cell_type": "code",
      "execution_count": null,
      "metadata": {
        "colab": {
          "base_uri": "https://localhost:8080/",
          "height": 283
        },
        "id": "dT85zD2GFEKm",
        "outputId": "432732af-d9d4-4674-ad72-40d5f93f84b0",
        "vscode": {
          "languageId": "r"
        }
      },
      "outputs": [
        {
          "data": {
            "text/html": [
              "<table class=\"dataframe\">\n",
              "<caption>A tibble: 6 × 4</caption>\n",
              "<thead>\n",
              "\t<tr><th scope=col>ticker</th><th scope=col>date</th><th scope=col>price_usd</th><th scope=col>market_cap</th></tr>\n",
              "\t<tr><th scope=col>&lt;chr&gt;</th><th scope=col>&lt;date&gt;</th><th scope=col>&lt;dbl&gt;</th><th scope=col>&lt;dbl&gt;</th></tr>\n",
              "</thead>\n",
              "<tbody>\n",
              "\t<tr><td>BTC</td><td>2021-06-17</td><td>38018.64</td><td>712367675979</td></tr>\n",
              "\t<tr><td>BTC</td><td>2021-06-18</td><td>35714.31</td><td>669218352696</td></tr>\n",
              "\t<tr><td>BTC</td><td>2021-06-19</td><td>35555.98</td><td>666274332005</td></tr>\n",
              "\t<tr><td>BTC</td><td>2021-06-20</td><td>35599.94</td><td>667121552365</td></tr>\n",
              "\t<tr><td>BTC</td><td>2021-06-21</td><td>31715.16</td><td>594343881161</td></tr>\n",
              "\t<tr><td>BTC</td><td>2021-06-22</td><td>32394.56</td><td>607094219838</td></tr>\n",
              "</tbody>\n",
              "</table>\n"
            ],
            "text/latex": [
              "A tibble: 6 × 4\n",
              "\\begin{tabular}{llll}\n",
              " ticker & date & price\\_usd & market\\_cap\\\\\n",
              " <chr> & <date> & <dbl> & <dbl>\\\\\n",
              "\\hline\n",
              "\t BTC & 2021-06-17 & 38018.64 & 712367675979\\\\\n",
              "\t BTC & 2021-06-18 & 35714.31 & 669218352696\\\\\n",
              "\t BTC & 2021-06-19 & 35555.98 & 666274332005\\\\\n",
              "\t BTC & 2021-06-20 & 35599.94 & 667121552365\\\\\n",
              "\t BTC & 2021-06-21 & 31715.16 & 594343881161\\\\\n",
              "\t BTC & 2021-06-22 & 32394.56 & 607094219838\\\\\n",
              "\\end{tabular}\n"
            ],
            "text/markdown": [
              "\n",
              "A tibble: 6 × 4\n",
              "\n",
              "| ticker &lt;chr&gt; | date &lt;date&gt; | price_usd &lt;dbl&gt; | market_cap &lt;dbl&gt; |\n",
              "|---|---|---|---|\n",
              "| BTC | 2021-06-17 | 38018.64 | 712367675979 |\n",
              "| BTC | 2021-06-18 | 35714.31 | 669218352696 |\n",
              "| BTC | 2021-06-19 | 35555.98 | 666274332005 |\n",
              "| BTC | 2021-06-20 | 35599.94 | 667121552365 |\n",
              "| BTC | 2021-06-21 | 31715.16 | 594343881161 |\n",
              "| BTC | 2021-06-22 | 32394.56 | 607094219838 |\n",
              "\n"
            ],
            "text/plain": [
              "  ticker date       price_usd market_cap  \n",
              "1 BTC    2021-06-17 38018.64  712367675979\n",
              "2 BTC    2021-06-18 35714.31  669218352696\n",
              "3 BTC    2021-06-19 35555.98  666274332005\n",
              "4 BTC    2021-06-20 35599.94  667121552365\n",
              "5 BTC    2021-06-21 31715.16  594343881161\n",
              "6 BTC    2021-06-22 32394.56  607094219838"
            ]
          },
          "metadata": {
            "tags": []
          },
          "output_type": "display_data"
        }
      ],
      "source": [
        "prices %>%\n",
        "  filter(ticker == 'BTC') %>%\n",
        "  tail() # returns the last observations in the table"
      ]
    },
    {
      "cell_type": "markdown",
      "metadata": {
        "id": "SZdNfzmJFYOK"
      },
      "source": [
        "You can use `%in%` to return prices for multiple assets. \n",
        "\n",
        "Pass `filter(ticker %in% vector_of_tickers)`"
      ]
    },
    {
      "cell_type": "code",
      "execution_count": null,
      "metadata": {
        "colab": {
          "base_uri": "https://localhost:8080/",
          "height": 283
        },
        "id": "cqZmvIAiFTn-",
        "outputId": "6b636037-acb6-467f-be9a-3a99eeb1c332",
        "vscode": {
          "languageId": "r"
        }
      },
      "outputs": [
        {
          "data": {
            "text/html": [
              "<table class=\"dataframe\">\n",
              "<caption>A tibble: 6 × 4</caption>\n",
              "<thead>\n",
              "\t<tr><th scope=col>ticker</th><th scope=col>date</th><th scope=col>price_usd</th><th scope=col>market_cap</th></tr>\n",
              "\t<tr><th scope=col>&lt;chr&gt;</th><th scope=col>&lt;date&gt;</th><th scope=col>&lt;dbl&gt;</th><th scope=col>&lt;dbl&gt;</th></tr>\n",
              "</thead>\n",
              "<tbody>\n",
              "\t<tr><td>BTC</td><td>2021-06-20</td><td>35599.942</td><td>667121552365</td></tr>\n",
              "\t<tr><td>ETH</td><td>2021-06-20</td><td> 2242.663</td><td>260988781493</td></tr>\n",
              "\t<tr><td>BTC</td><td>2021-06-21</td><td>31715.160</td><td>594343881161</td></tr>\n",
              "\t<tr><td>ETH</td><td>2021-06-21</td><td> 1900.393</td><td>221182330319</td></tr>\n",
              "\t<tr><td>BTC</td><td>2021-06-22</td><td>32394.556</td><td>607094219838</td></tr>\n",
              "\t<tr><td>ETH</td><td>2021-06-22</td><td> 1867.624</td><td>217393580268</td></tr>\n",
              "</tbody>\n",
              "</table>\n"
            ],
            "text/latex": [
              "A tibble: 6 × 4\n",
              "\\begin{tabular}{llll}\n",
              " ticker & date & price\\_usd & market\\_cap\\\\\n",
              " <chr> & <date> & <dbl> & <dbl>\\\\\n",
              "\\hline\n",
              "\t BTC & 2021-06-20 & 35599.942 & 667121552365\\\\\n",
              "\t ETH & 2021-06-20 &  2242.663 & 260988781493\\\\\n",
              "\t BTC & 2021-06-21 & 31715.160 & 594343881161\\\\\n",
              "\t ETH & 2021-06-21 &  1900.393 & 221182330319\\\\\n",
              "\t BTC & 2021-06-22 & 32394.556 & 607094219838\\\\\n",
              "\t ETH & 2021-06-22 &  1867.624 & 217393580268\\\\\n",
              "\\end{tabular}\n"
            ],
            "text/markdown": [
              "\n",
              "A tibble: 6 × 4\n",
              "\n",
              "| ticker &lt;chr&gt; | date &lt;date&gt; | price_usd &lt;dbl&gt; | market_cap &lt;dbl&gt; |\n",
              "|---|---|---|---|\n",
              "| BTC | 2021-06-20 | 35599.942 | 667121552365 |\n",
              "| ETH | 2021-06-20 |  2242.663 | 260988781493 |\n",
              "| BTC | 2021-06-21 | 31715.160 | 594343881161 |\n",
              "| ETH | 2021-06-21 |  1900.393 | 221182330319 |\n",
              "| BTC | 2021-06-22 | 32394.556 | 607094219838 |\n",
              "| ETH | 2021-06-22 |  1867.624 | 217393580268 |\n",
              "\n"
            ],
            "text/plain": [
              "  ticker date       price_usd market_cap  \n",
              "1 BTC    2021-06-20 35599.942 667121552365\n",
              "2 ETH    2021-06-20  2242.663 260988781493\n",
              "3 BTC    2021-06-21 31715.160 594343881161\n",
              "4 ETH    2021-06-21  1900.393 221182330319\n",
              "5 BTC    2021-06-22 32394.556 607094219838\n",
              "6 ETH    2021-06-22  1867.624 217393580268"
            ]
          },
          "metadata": {
            "tags": []
          },
          "output_type": "display_data"
        }
      ],
      "source": [
        "prices %>% \n",
        "  filter(ticker %in% c('BTC','ETH')) %>%\n",
        "  arrange(date) %>% # don't worry about this for now, we'll get it next.\n",
        "  tail() "
      ]
    },
    {
      "cell_type": "markdown",
      "metadata": {
        "id": "R8VxIwCiGJNV"
      },
      "source": [
        "### The `arrange()` dplyr verb\n",
        "![image.png](data:image/png;base64,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)\n",
        "\n",
        "Arrange reorders the observations (rows) in your data.\n",
        "\n",
        "Here we reorder the data to be in ascending order of market cap."
      ]
    },
    {
      "cell_type": "code",
      "execution_count": null,
      "metadata": {
        "colab": {
          "base_uri": "https://localhost:8080/",
          "height": 283
        },
        "id": "WTTVOb9OFtes",
        "outputId": "258c4f36-b5f2-4a4a-910f-dab2b1aa6d8c",
        "vscode": {
          "languageId": "r"
        }
      },
      "outputs": [
        {
          "data": {
            "text/html": [
              "<table class=\"dataframe\">\n",
              "<caption>A tibble: 6 × 4</caption>\n",
              "<thead>\n",
              "\t<tr><th scope=col>ticker</th><th scope=col>date</th><th scope=col>price_usd</th><th scope=col>market_cap</th></tr>\n",
              "\t<tr><th scope=col>&lt;chr&gt;</th><th scope=col>&lt;date&gt;</th><th scope=col>&lt;dbl&gt;</th><th scope=col>&lt;dbl&gt;</th></tr>\n",
              "</thead>\n",
              "<tbody>\n",
              "\t<tr><td>HBTC</td><td>2019-12-09</td><td>7340.227</td><td>0</td></tr>\n",
              "\t<tr><td>HBTC</td><td>2019-12-10</td><td>7232.092</td><td>0</td></tr>\n",
              "\t<tr><td>HBTC</td><td>2019-12-11</td><td>7200.464</td><td>0</td></tr>\n",
              "\t<tr><td>HBTC</td><td>2019-12-12</td><td>7192.849</td><td>0</td></tr>\n",
              "\t<tr><td>HBTC</td><td>2019-12-13</td><td>7244.904</td><td>0</td></tr>\n",
              "\t<tr><td>HBTC</td><td>2019-12-14</td><td>7071.107</td><td>0</td></tr>\n",
              "</tbody>\n",
              "</table>\n"
            ],
            "text/latex": [
              "A tibble: 6 × 4\n",
              "\\begin{tabular}{llll}\n",
              " ticker & date & price\\_usd & market\\_cap\\\\\n",
              " <chr> & <date> & <dbl> & <dbl>\\\\\n",
              "\\hline\n",
              "\t HBTC & 2019-12-09 & 7340.227 & 0\\\\\n",
              "\t HBTC & 2019-12-10 & 7232.092 & 0\\\\\n",
              "\t HBTC & 2019-12-11 & 7200.464 & 0\\\\\n",
              "\t HBTC & 2019-12-12 & 7192.849 & 0\\\\\n",
              "\t HBTC & 2019-12-13 & 7244.904 & 0\\\\\n",
              "\t HBTC & 2019-12-14 & 7071.107 & 0\\\\\n",
              "\\end{tabular}\n"
            ],
            "text/markdown": [
              "\n",
              "A tibble: 6 × 4\n",
              "\n",
              "| ticker &lt;chr&gt; | date &lt;date&gt; | price_usd &lt;dbl&gt; | market_cap &lt;dbl&gt; |\n",
              "|---|---|---|---|\n",
              "| HBTC | 2019-12-09 | 7340.227 | 0 |\n",
              "| HBTC | 2019-12-10 | 7232.092 | 0 |\n",
              "| HBTC | 2019-12-11 | 7200.464 | 0 |\n",
              "| HBTC | 2019-12-12 | 7192.849 | 0 |\n",
              "| HBTC | 2019-12-13 | 7244.904 | 0 |\n",
              "| HBTC | 2019-12-14 | 7071.107 | 0 |\n",
              "\n"
            ],
            "text/plain": [
              "  ticker date       price_usd market_cap\n",
              "1 HBTC   2019-12-09 7340.227  0         \n",
              "2 HBTC   2019-12-10 7232.092  0         \n",
              "3 HBTC   2019-12-11 7200.464  0         \n",
              "4 HBTC   2019-12-12 7192.849  0         \n",
              "5 HBTC   2019-12-13 7244.904  0         \n",
              "6 HBTC   2019-12-14 7071.107  0         "
            ]
          },
          "metadata": {
            "tags": []
          },
          "output_type": "display_data"
        }
      ],
      "source": [
        "prices %>%\n",
        "  arrange(market_cap) %>%\n",
        "  head()"
      ]
    },
    {
      "cell_type": "markdown",
      "metadata": {
        "id": "LOCxiOBUG1Kl"
      },
      "source": [
        "And we can wrap `desc()` around it to do it in descending order.\n"
      ]
    },
    {
      "cell_type": "code",
      "execution_count": null,
      "metadata": {
        "colab": {
          "base_uri": "https://localhost:8080/",
          "height": 283
        },
        "id": "LXj2o1DbG0Er",
        "outputId": "7b532dca-c29e-40d4-a311-b0f63cde85a9",
        "vscode": {
          "languageId": "r"
        }
      },
      "outputs": [
        {
          "data": {
            "text/html": [
              "<table class=\"dataframe\">\n",
              "<caption>A tibble: 6 × 4</caption>\n",
              "<thead>\n",
              "\t<tr><th scope=col>ticker</th><th scope=col>date</th><th scope=col>price_usd</th><th scope=col>market_cap</th></tr>\n",
              "\t<tr><th scope=col>&lt;chr&gt;</th><th scope=col>&lt;date&gt;</th><th scope=col>&lt;dbl&gt;</th><th scope=col>&lt;dbl&gt;</th></tr>\n",
              "</thead>\n",
              "<tbody>\n",
              "\t<tr><td>YFI</td><td>2021-05-11</td><td>80554.72</td><td>2953619258</td></tr>\n",
              "\t<tr><td>YFI</td><td>2021-05-14</td><td>77983.35</td><td>2859337503</td></tr>\n",
              "\t<tr><td>YFI</td><td>2021-05-18</td><td>72674.50</td><td>2664683282</td></tr>\n",
              "\t<tr><td>YFI</td><td>2021-05-12</td><td>70879.04</td><td>2598850789</td></tr>\n",
              "\t<tr><td>YFI</td><td>2021-05-15</td><td>66997.95</td><td>2456546756</td></tr>\n",
              "\t<tr><td>YFI</td><td>2021-05-13</td><td>65430.67</td><td>2399080792</td></tr>\n",
              "</tbody>\n",
              "</table>\n"
            ],
            "text/latex": [
              "A tibble: 6 × 4\n",
              "\\begin{tabular}{llll}\n",
              " ticker & date & price\\_usd & market\\_cap\\\\\n",
              " <chr> & <date> & <dbl> & <dbl>\\\\\n",
              "\\hline\n",
              "\t YFI & 2021-05-11 & 80554.72 & 2953619258\\\\\n",
              "\t YFI & 2021-05-14 & 77983.35 & 2859337503\\\\\n",
              "\t YFI & 2021-05-18 & 72674.50 & 2664683282\\\\\n",
              "\t YFI & 2021-05-12 & 70879.04 & 2598850789\\\\\n",
              "\t YFI & 2021-05-15 & 66997.95 & 2456546756\\\\\n",
              "\t YFI & 2021-05-13 & 65430.67 & 2399080792\\\\\n",
              "\\end{tabular}\n"
            ],
            "text/markdown": [
              "\n",
              "A tibble: 6 × 4\n",
              "\n",
              "| ticker &lt;chr&gt; | date &lt;date&gt; | price_usd &lt;dbl&gt; | market_cap &lt;dbl&gt; |\n",
              "|---|---|---|---|\n",
              "| YFI | 2021-05-11 | 80554.72 | 2953619258 |\n",
              "| YFI | 2021-05-14 | 77983.35 | 2859337503 |\n",
              "| YFI | 2021-05-18 | 72674.50 | 2664683282 |\n",
              "| YFI | 2021-05-12 | 70879.04 | 2598850789 |\n",
              "| YFI | 2021-05-15 | 66997.95 | 2456546756 |\n",
              "| YFI | 2021-05-13 | 65430.67 | 2399080792 |\n",
              "\n"
            ],
            "text/plain": [
              "  ticker date       price_usd market_cap\n",
              "1 YFI    2021-05-11 80554.72  2953619258\n",
              "2 YFI    2021-05-14 77983.35  2859337503\n",
              "3 YFI    2021-05-18 72674.50  2664683282\n",
              "4 YFI    2021-05-12 70879.04  2598850789\n",
              "5 YFI    2021-05-15 66997.95  2456546756\n",
              "6 YFI    2021-05-13 65430.67  2399080792"
            ]
          },
          "metadata": {
            "tags": []
          },
          "output_type": "display_data"
        }
      ],
      "source": [
        "prices %>%\n",
        "  arrange(desc(price_usd)) %>%\n",
        "  head()"
      ]
    },
    {
      "cell_type": "markdown",
      "metadata": {
        "id": "o1LzDwl1JaJq"
      },
      "source": [
        "We can sort my multiple criteria. Here we are sorting by date descending, then by market_cap ascending. "
      ]
    },
    {
      "cell_type": "code",
      "execution_count": null,
      "metadata": {
        "colab": {
          "base_uri": "https://localhost:8080/",
          "height": 283
        },
        "id": "cbEBqoYrIjah",
        "outputId": "48d7f7b8-8576-42cc-f044-93196d194bcb",
        "vscode": {
          "languageId": "r"
        }
      },
      "outputs": [
        {
          "data": {
            "text/html": [
              "<table class=\"dataframe\">\n",
              "<caption>A tibble: 6 × 4</caption>\n",
              "<thead>\n",
              "\t<tr><th scope=col>ticker</th><th scope=col>date</th><th scope=col>price_usd</th><th scope=col>market_cap</th></tr>\n",
              "\t<tr><th scope=col>&lt;chr&gt;</th><th scope=col>&lt;date&gt;</th><th scope=col>&lt;dbl&gt;</th><th scope=col>&lt;dbl&gt;</th></tr>\n",
              "</thead>\n",
              "<tbody>\n",
              "\t<tr><td>DGX </td><td>2021-06-22</td><td>51.61700000</td><td> 4026126</td></tr>\n",
              "\t<tr><td>TRX </td><td>2021-06-22</td><td> 0.05076883</td><td> 5076883</td></tr>\n",
              "\t<tr><td>SWRV</td><td>2021-06-22</td><td> 0.60244792</td><td> 9053084</td></tr>\n",
              "\t<tr><td>PAY </td><td>2021-06-22</td><td> 0.04881967</td><td>10018688</td></tr>\n",
              "\t<tr><td>ENG </td><td>2021-06-22</td><td> 0.07988675</td><td>11983012</td></tr>\n",
              "\t<tr><td>GRIN</td><td>2021-06-22</td><td> 0.23480949</td><td>17960446</td></tr>\n",
              "</tbody>\n",
              "</table>\n"
            ],
            "text/latex": [
              "A tibble: 6 × 4\n",
              "\\begin{tabular}{llll}\n",
              " ticker & date & price\\_usd & market\\_cap\\\\\n",
              " <chr> & <date> & <dbl> & <dbl>\\\\\n",
              "\\hline\n",
              "\t DGX  & 2021-06-22 & 51.61700000 &  4026126\\\\\n",
              "\t TRX  & 2021-06-22 &  0.05076883 &  5076883\\\\\n",
              "\t SWRV & 2021-06-22 &  0.60244792 &  9053084\\\\\n",
              "\t PAY  & 2021-06-22 &  0.04881967 & 10018688\\\\\n",
              "\t ENG  & 2021-06-22 &  0.07988675 & 11983012\\\\\n",
              "\t GRIN & 2021-06-22 &  0.23480949 & 17960446\\\\\n",
              "\\end{tabular}\n"
            ],
            "text/markdown": [
              "\n",
              "A tibble: 6 × 4\n",
              "\n",
              "| ticker &lt;chr&gt; | date &lt;date&gt; | price_usd &lt;dbl&gt; | market_cap &lt;dbl&gt; |\n",
              "|---|---|---|---|\n",
              "| DGX  | 2021-06-22 | 51.61700000 |  4026126 |\n",
              "| TRX  | 2021-06-22 |  0.05076883 |  5076883 |\n",
              "| SWRV | 2021-06-22 |  0.60244792 |  9053084 |\n",
              "| PAY  | 2021-06-22 |  0.04881967 | 10018688 |\n",
              "| ENG  | 2021-06-22 |  0.07988675 | 11983012 |\n",
              "| GRIN | 2021-06-22 |  0.23480949 | 17960446 |\n",
              "\n"
            ],
            "text/plain": [
              "  ticker date       price_usd   market_cap\n",
              "1 DGX    2021-06-22 51.61700000  4026126  \n",
              "2 TRX    2021-06-22  0.05076883  5076883  \n",
              "3 SWRV   2021-06-22  0.60244792  9053084  \n",
              "4 PAY    2021-06-22  0.04881967 10018688  \n",
              "5 ENG    2021-06-22  0.07988675 11983012  \n",
              "6 GRIN   2021-06-22  0.23480949 17960446  "
            ]
          },
          "metadata": {
            "tags": []
          },
          "output_type": "display_data"
        }
      ],
      "source": [
        "prices %>%\n",
        "  arrange(desc(date), market_cap) %>%\n",
        "  head()"
      ]
    },
    {
      "cell_type": "markdown",
      "metadata": {
        "id": "NbXe8sChJuNc"
      },
      "source": [
        "### The `select()` dplyr verb"
      ]
    },
    {
      "cell_type": "markdown",
      "metadata": {
        "id": "TObRQqXkJye9"
      },
      "source": [
        "![image.png](data:image/png;base64,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)\n",
        "\n",
        "`select()` is used to pull out certain columns from your data.\n",
        "\n",
        "Here we use `select(ticker, date, market_cap)` to pull out just those three columns."
      ]
    },
    {
      "cell_type": "code",
      "execution_count": null,
      "metadata": {
        "colab": {
          "base_uri": "https://localhost:8080/",
          "height": 283
        },
        "id": "yiCLnPPWGs6I",
        "outputId": "733ac98c-85b7-4c9f-bf6d-16b9e6202c20",
        "vscode": {
          "languageId": "r"
        }
      },
      "outputs": [
        {
          "data": {
            "text/html": [
              "<table class=\"dataframe\">\n",
              "<caption>A tibble: 6 × 3</caption>\n",
              "<thead>\n",
              "\t<tr><th scope=col>ticker</th><th scope=col>date</th><th scope=col>market_cap</th></tr>\n",
              "\t<tr><th scope=col>&lt;chr&gt;</th><th scope=col>&lt;date&gt;</th><th scope=col>&lt;dbl&gt;</th></tr>\n",
              "</thead>\n",
              "<tbody>\n",
              "\t<tr><td>1INCH</td><td>2020-12-26</td><td>2428992153</td></tr>\n",
              "\t<tr><td>1INCH</td><td>2020-12-27</td><td>1608525301</td></tr>\n",
              "\t<tr><td>1INCH</td><td>2020-12-28</td><td>1657011227</td></tr>\n",
              "\t<tr><td>1INCH</td><td>2020-12-29</td><td>1340685538</td></tr>\n",
              "\t<tr><td>1INCH</td><td>2020-12-30</td><td>1651959828</td></tr>\n",
              "\t<tr><td>1INCH</td><td>2020-12-31</td><td>2047856106</td></tr>\n",
              "</tbody>\n",
              "</table>\n"
            ],
            "text/latex": [
              "A tibble: 6 × 3\n",
              "\\begin{tabular}{lll}\n",
              " ticker & date & market\\_cap\\\\\n",
              " <chr> & <date> & <dbl>\\\\\n",
              "\\hline\n",
              "\t 1INCH & 2020-12-26 & 2428992153\\\\\n",
              "\t 1INCH & 2020-12-27 & 1608525301\\\\\n",
              "\t 1INCH & 2020-12-28 & 1657011227\\\\\n",
              "\t 1INCH & 2020-12-29 & 1340685538\\\\\n",
              "\t 1INCH & 2020-12-30 & 1651959828\\\\\n",
              "\t 1INCH & 2020-12-31 & 2047856106\\\\\n",
              "\\end{tabular}\n"
            ],
            "text/markdown": [
              "\n",
              "A tibble: 6 × 3\n",
              "\n",
              "| ticker &lt;chr&gt; | date &lt;date&gt; | market_cap &lt;dbl&gt; |\n",
              "|---|---|---|\n",
              "| 1INCH | 2020-12-26 | 2428992153 |\n",
              "| 1INCH | 2020-12-27 | 1608525301 |\n",
              "| 1INCH | 2020-12-28 | 1657011227 |\n",
              "| 1INCH | 2020-12-29 | 1340685538 |\n",
              "| 1INCH | 2020-12-30 | 1651959828 |\n",
              "| 1INCH | 2020-12-31 | 2047856106 |\n",
              "\n"
            ],
            "text/plain": [
              "  ticker date       market_cap\n",
              "1 1INCH  2020-12-26 2428992153\n",
              "2 1INCH  2020-12-27 1608525301\n",
              "3 1INCH  2020-12-28 1657011227\n",
              "4 1INCH  2020-12-29 1340685538\n",
              "5 1INCH  2020-12-30 1651959828\n",
              "6 1INCH  2020-12-31 2047856106"
            ]
          },
          "metadata": {
            "tags": []
          },
          "output_type": "display_data"
        }
      ],
      "source": [
        "prices %>%\n",
        "  select(ticker, date, market_cap) %>%\n",
        "  head()"
      ]
    },
    {
      "cell_type": "markdown",
      "metadata": {
        "id": "LeWICo3dKOqP"
      },
      "source": [
        "You don't always have to name the columns you want. There are a variety of ways to select columns. \n",
        "\n",
        "For example `select(-date)` selects everything *except* date."
      ]
    },
    {
      "cell_type": "code",
      "execution_count": null,
      "metadata": {
        "colab": {
          "base_uri": "https://localhost:8080/",
          "height": 283
        },
        "id": "8ivGrlcgKA4T",
        "outputId": "9a3157e2-3201-440f-c958-723d6f3f5af4",
        "vscode": {
          "languageId": "r"
        }
      },
      "outputs": [
        {
          "data": {
            "text/html": [
              "<table class=\"dataframe\">\n",
              "<caption>A tibble: 6 × 3</caption>\n",
              "<thead>\n",
              "\t<tr><th scope=col>ticker</th><th scope=col>price_usd</th><th scope=col>market_cap</th></tr>\n",
              "\t<tr><th scope=col>&lt;chr&gt;</th><th scope=col>&lt;dbl&gt;</th><th scope=col>&lt;dbl&gt;</th></tr>\n",
              "</thead>\n",
              "<tbody>\n",
              "\t<tr><td>1INCH</td><td>1.6193281</td><td>2428992153</td></tr>\n",
              "\t<tr><td>1INCH</td><td>1.0723502</td><td>1608525301</td></tr>\n",
              "\t<tr><td>1INCH</td><td>1.1046742</td><td>1657011227</td></tr>\n",
              "\t<tr><td>1INCH</td><td>0.8937904</td><td>1340685538</td></tr>\n",
              "\t<tr><td>1INCH</td><td>1.1013066</td><td>1651959828</td></tr>\n",
              "\t<tr><td>1INCH</td><td>1.3652374</td><td>2047856106</td></tr>\n",
              "</tbody>\n",
              "</table>\n"
            ],
            "text/latex": [
              "A tibble: 6 × 3\n",
              "\\begin{tabular}{lll}\n",
              " ticker & price\\_usd & market\\_cap\\\\\n",
              " <chr> & <dbl> & <dbl>\\\\\n",
              "\\hline\n",
              "\t 1INCH & 1.6193281 & 2428992153\\\\\n",
              "\t 1INCH & 1.0723502 & 1608525301\\\\\n",
              "\t 1INCH & 1.1046742 & 1657011227\\\\\n",
              "\t 1INCH & 0.8937904 & 1340685538\\\\\n",
              "\t 1INCH & 1.1013066 & 1651959828\\\\\n",
              "\t 1INCH & 1.3652374 & 2047856106\\\\\n",
              "\\end{tabular}\n"
            ],
            "text/markdown": [
              "\n",
              "A tibble: 6 × 3\n",
              "\n",
              "| ticker &lt;chr&gt; | price_usd &lt;dbl&gt; | market_cap &lt;dbl&gt; |\n",
              "|---|---|---|\n",
              "| 1INCH | 1.6193281 | 2428992153 |\n",
              "| 1INCH | 1.0723502 | 1608525301 |\n",
              "| 1INCH | 1.1046742 | 1657011227 |\n",
              "| 1INCH | 0.8937904 | 1340685538 |\n",
              "| 1INCH | 1.1013066 | 1651959828 |\n",
              "| 1INCH | 1.3652374 | 2047856106 |\n",
              "\n"
            ],
            "text/plain": [
              "  ticker price_usd market_cap\n",
              "1 1INCH  1.6193281 2428992153\n",
              "2 1INCH  1.0723502 1608525301\n",
              "3 1INCH  1.1046742 1657011227\n",
              "4 1INCH  0.8937904 1340685538\n",
              "5 1INCH  1.1013066 1651959828\n",
              "6 1INCH  1.3652374 2047856106"
            ]
          },
          "metadata": {
            "tags": []
          },
          "output_type": "display_data"
        }
      ],
      "source": [
        "prices %>%\n",
        "  select(-date) %>%\n",
        "  head()"
      ]
    },
    {
      "cell_type": "markdown",
      "metadata": {
        "id": "oRj7jCCGKwle"
      },
      "source": [
        "And `select(contains('usd'))` gets all columns which contain the text \"usd\""
      ]
    },
    {
      "cell_type": "code",
      "execution_count": null,
      "metadata": {
        "colab": {
          "base_uri": "https://localhost:8080/",
          "height": 300
        },
        "id": "jzPpI_2IKtvf",
        "outputId": "3613e5f5-8d62-49af-d9f1-57c969c31014",
        "vscode": {
          "languageId": "r"
        }
      },
      "outputs": [
        {
          "data": {
            "text/html": [
              "<table class=\"dataframe\">\n",
              "<caption>A tibble: 6 × 1</caption>\n",
              "<thead>\n",
              "\t<tr><th scope=col>price_usd</th></tr>\n",
              "\t<tr><th scope=col>&lt;dbl&gt;</th></tr>\n",
              "</thead>\n",
              "<tbody>\n",
              "\t<tr><td>1.6193281</td></tr>\n",
              "\t<tr><td>1.0723502</td></tr>\n",
              "\t<tr><td>1.1046742</td></tr>\n",
              "\t<tr><td>0.8937904</td></tr>\n",
              "\t<tr><td>1.1013066</td></tr>\n",
              "\t<tr><td>1.3652374</td></tr>\n",
              "</tbody>\n",
              "</table>\n"
            ],
            "text/latex": [
              "A tibble: 6 × 1\n",
              "\\begin{tabular}{l}\n",
              " price\\_usd\\\\\n",
              " <dbl>\\\\\n",
              "\\hline\n",
              "\t 1.6193281\\\\\n",
              "\t 1.0723502\\\\\n",
              "\t 1.1046742\\\\\n",
              "\t 0.8937904\\\\\n",
              "\t 1.1013066\\\\\n",
              "\t 1.3652374\\\\\n",
              "\\end{tabular}\n"
            ],
            "text/markdown": [
              "\n",
              "A tibble: 6 × 1\n",
              "\n",
              "| price_usd &lt;dbl&gt; |\n",
              "|---|\n",
              "| 1.6193281 |\n",
              "| 1.0723502 |\n",
              "| 1.1046742 |\n",
              "| 0.8937904 |\n",
              "| 1.1013066 |\n",
              "| 1.3652374 |\n",
              "\n"
            ],
            "text/plain": [
              "  price_usd\n",
              "1 1.6193281\n",
              "2 1.0723502\n",
              "3 1.1046742\n",
              "4 0.8937904\n",
              "5 1.1013066\n",
              "6 1.3652374"
            ]
          },
          "metadata": {
            "tags": []
          },
          "output_type": "display_data"
        }
      ],
      "source": [
        "prices %>%\n",
        "  select(contains('usd')) %>%\n",
        "  head()"
      ]
    },
    {
      "cell_type": "markdown",
      "metadata": {
        "id": "HWKhjcVLLRCj"
      },
      "source": [
        "You can find many more examples here https://dplyr.tidyverse.org/reference/select.html\n",
        "\n",
        "### Chaining transformations together\n",
        "\n",
        "![image.png](data:image/png;base64,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)\n",
        "\n",
        "We've now learned enough transformations to see how they can be usefully chained together.\n",
        "\n",
        "The following transformation:\n",
        "\n",
        "*   filters out a single coin\n",
        "*   selects the date and market_cap\n",
        "*   re-arranges by date descending.\n",
        "\n",
        "\n",
        "\n",
        "\n",
        "\n"
      ]
    },
    {
      "cell_type": "code",
      "execution_count": null,
      "metadata": {
        "colab": {
          "base_uri": "https://localhost:8080/",
          "height": 283
        },
        "id": "nHLyuPHILMjg",
        "outputId": "4c5002a1-2bbd-45c9-d7fa-ac89b6918713",
        "vscode": {
          "languageId": "r"
        }
      },
      "outputs": [
        {
          "data": {
            "text/html": [
              "<table class=\"dataframe\">\n",
              "<caption>A tibble: 6 × 2</caption>\n",
              "<thead>\n",
              "\t<tr><th scope=col>date</th><th scope=col>market_cap</th></tr>\n",
              "\t<tr><th scope=col>&lt;date&gt;</th><th scope=col>&lt;dbl&gt;</th></tr>\n",
              "</thead>\n",
              "<tbody>\n",
              "\t<tr><td>2021-06-22</td><td>1524734789</td></tr>\n",
              "\t<tr><td>2021-06-21</td><td>1500096481</td></tr>\n",
              "\t<tr><td>2021-06-20</td><td>1901510411</td></tr>\n",
              "\t<tr><td>2021-06-19</td><td>1690333708</td></tr>\n",
              "\t<tr><td>2021-06-18</td><td>1750977039</td></tr>\n",
              "\t<tr><td>2021-06-17</td><td>1894324367</td></tr>\n",
              "</tbody>\n",
              "</table>\n"
            ],
            "text/latex": [
              "A tibble: 6 × 2\n",
              "\\begin{tabular}{ll}\n",
              " date & market\\_cap\\\\\n",
              " <date> & <dbl>\\\\\n",
              "\\hline\n",
              "\t 2021-06-22 & 1524734789\\\\\n",
              "\t 2021-06-21 & 1500096481\\\\\n",
              "\t 2021-06-20 & 1901510411\\\\\n",
              "\t 2021-06-19 & 1690333708\\\\\n",
              "\t 2021-06-18 & 1750977039\\\\\n",
              "\t 2021-06-17 & 1894324367\\\\\n",
              "\\end{tabular}\n"
            ],
            "text/markdown": [
              "\n",
              "A tibble: 6 × 2\n",
              "\n",
              "| date &lt;date&gt; | market_cap &lt;dbl&gt; |\n",
              "|---|---|\n",
              "| 2021-06-22 | 1524734789 |\n",
              "| 2021-06-21 | 1500096481 |\n",
              "| 2021-06-20 | 1901510411 |\n",
              "| 2021-06-19 | 1690333708 |\n",
              "| 2021-06-18 | 1750977039 |\n",
              "| 2021-06-17 | 1894324367 |\n",
              "\n"
            ],
            "text/plain": [
              "  date       market_cap\n",
              "1 2021-06-22 1524734789\n",
              "2 2021-06-21 1500096481\n",
              "3 2021-06-20 1901510411\n",
              "4 2021-06-19 1690333708\n",
              "5 2021-06-18 1750977039\n",
              "6 2021-06-17 1894324367"
            ]
          },
          "metadata": {
            "tags": []
          },
          "output_type": "display_data"
        }
      ],
      "source": [
        "prices %>% \n",
        "  filter(ticker == 'SUSHI') %>%\n",
        "  select(date, market_cap) %>%\n",
        "  arrange(desc(date)) %>%\n",
        "  head()"
      ]
    },
    {
      "cell_type": "markdown",
      "metadata": {
        "id": "R9RgFDSxMZCG"
      },
      "source": [
        "A lot of things you'll be doing look like this."
      ]
    },
    {
      "cell_type": "markdown",
      "metadata": {
        "id": "HFnBWLu8MdMw"
      },
      "source": [
        "### The `mutate()` dplyr verb\n",
        "\n",
        "![image.png](data:image/png;base64,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)\n",
        "\n",
        "So far we’ve just filtered selected and re-arranged existing data. Now we’re going to look at creating new data.\n",
        "\n",
        "Mutate lets us add variables (columns) to our data. These are usually derived from existing columns.\n",
        "\n",
        "Here we use mutate to create a new column called `log_market_cap`, which is calculated as the log of the `market_cap` variable.\n",
        "\n",
        "`mutate(log_market_cap = log(market_cap))` takes the log of `market_cap` for each row in the data and sticks it as another column on the side of the data."
      ]
    },
    {
      "cell_type": "code",
      "execution_count": null,
      "metadata": {
        "colab": {
          "base_uri": "https://localhost:8080/",
          "height": 283
        },
        "id": "VsvHcNqqNqZw",
        "outputId": "2b74d363-bdd7-42d1-fefe-f470d42e8213",
        "vscode": {
          "languageId": "r"
        }
      },
      "outputs": [
        {
          "data": {
            "text/html": [
              "<table class=\"dataframe\">\n",
              "<caption>A tibble: 6 × 5</caption>\n",
              "<thead>\n",
              "\t<tr><th scope=col>ticker</th><th scope=col>date</th><th scope=col>price_usd</th><th scope=col>market_cap</th><th scope=col>log_market_cap</th></tr>\n",
              "\t<tr><th scope=col>&lt;chr&gt;</th><th scope=col>&lt;date&gt;</th><th scope=col>&lt;dbl&gt;</th><th scope=col>&lt;dbl&gt;</th><th scope=col>&lt;dbl&gt;</th></tr>\n",
              "</thead>\n",
              "<tbody>\n",
              "\t<tr><td>1INCH</td><td>2020-12-26</td><td>1.6193281</td><td>2428992153</td><td>21.61074</td></tr>\n",
              "\t<tr><td>1INCH</td><td>2020-12-27</td><td>1.0723502</td><td>1608525301</td><td>21.19858</td></tr>\n",
              "\t<tr><td>1INCH</td><td>2020-12-28</td><td>1.1046742</td><td>1657011227</td><td>21.22828</td></tr>\n",
              "\t<tr><td>1INCH</td><td>2020-12-29</td><td>0.8937904</td><td>1340685538</td><td>21.01645</td></tr>\n",
              "\t<tr><td>1INCH</td><td>2020-12-30</td><td>1.1013066</td><td>1651959828</td><td>21.22523</td></tr>\n",
              "\t<tr><td>1INCH</td><td>2020-12-31</td><td>1.3652374</td><td>2047856106</td><td>21.44006</td></tr>\n",
              "</tbody>\n",
              "</table>\n"
            ],
            "text/latex": [
              "A tibble: 6 × 5\n",
              "\\begin{tabular}{lllll}\n",
              " ticker & date & price\\_usd & market\\_cap & log\\_market\\_cap\\\\\n",
              " <chr> & <date> & <dbl> & <dbl> & <dbl>\\\\\n",
              "\\hline\n",
              "\t 1INCH & 2020-12-26 & 1.6193281 & 2428992153 & 21.61074\\\\\n",
              "\t 1INCH & 2020-12-27 & 1.0723502 & 1608525301 & 21.19858\\\\\n",
              "\t 1INCH & 2020-12-28 & 1.1046742 & 1657011227 & 21.22828\\\\\n",
              "\t 1INCH & 2020-12-29 & 0.8937904 & 1340685538 & 21.01645\\\\\n",
              "\t 1INCH & 2020-12-30 & 1.1013066 & 1651959828 & 21.22523\\\\\n",
              "\t 1INCH & 2020-12-31 & 1.3652374 & 2047856106 & 21.44006\\\\\n",
              "\\end{tabular}\n"
            ],
            "text/markdown": [
              "\n",
              "A tibble: 6 × 5\n",
              "\n",
              "| ticker &lt;chr&gt; | date &lt;date&gt; | price_usd &lt;dbl&gt; | market_cap &lt;dbl&gt; | log_market_cap &lt;dbl&gt; |\n",
              "|---|---|---|---|---|\n",
              "| 1INCH | 2020-12-26 | 1.6193281 | 2428992153 | 21.61074 |\n",
              "| 1INCH | 2020-12-27 | 1.0723502 | 1608525301 | 21.19858 |\n",
              "| 1INCH | 2020-12-28 | 1.1046742 | 1657011227 | 21.22828 |\n",
              "| 1INCH | 2020-12-29 | 0.8937904 | 1340685538 | 21.01645 |\n",
              "| 1INCH | 2020-12-30 | 1.1013066 | 1651959828 | 21.22523 |\n",
              "| 1INCH | 2020-12-31 | 1.3652374 | 2047856106 | 21.44006 |\n",
              "\n"
            ],
            "text/plain": [
              "  ticker date       price_usd market_cap log_market_cap\n",
              "1 1INCH  2020-12-26 1.6193281 2428992153 21.61074      \n",
              "2 1INCH  2020-12-27 1.0723502 1608525301 21.19858      \n",
              "3 1INCH  2020-12-28 1.1046742 1657011227 21.22828      \n",
              "4 1INCH  2020-12-29 0.8937904 1340685538 21.01645      \n",
              "5 1INCH  2020-12-30 1.1013066 1651959828 21.22523      \n",
              "6 1INCH  2020-12-31 1.3652374 2047856106 21.44006      "
            ]
          },
          "metadata": {
            "tags": []
          },
          "output_type": "display_data"
        }
      ],
      "source": [
        "prices %>%\n",
        "  mutate(log_market_cap = log(market_cap)) %>%\n",
        "  head()"
      ]
    },
    {
      "cell_type": "markdown",
      "metadata": {
        "id": "2x3lnbS3S3tl"
      },
      "source": [
        "### The `summarise()` dplyr verb\n",
        "\n",
        "![image.png](data:image/png;base64,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)\n",
        "\n",
        "`summarise()` summarises all obeservations into a single row.\n",
        "\n",
        "Whereas `mutate` calculated a new measurement for each row in our data, `summarise()` shrinks our data down to only one aggregated observation.\n",
        "\n",
        "For example, here we use `summarise()` to calculate the following aggregations:\n",
        "\n",
        "- the maximum market cap over all our data - using `max()`\n",
        "- a count of the number of rows in our data - using `n()`"
      ]
    },
    {
      "cell_type": "code",
      "execution_count": null,
      "metadata": {
        "colab": {
          "base_uri": "https://localhost:8080/",
          "height": 128
        },
        "id": "y-5mMWiUUBkd",
        "outputId": "8cc0ec4f-bf78-4407-bee4-296f2d742ecf",
        "vscode": {
          "languageId": "r"
        }
      },
      "outputs": [
        {
          "data": {
            "text/html": [
              "<table class=\"dataframe\">\n",
              "<caption>A tibble: 1 × 2</caption>\n",
              "<thead>\n",
              "\t<tr><th scope=col>max_market_cap</th><th scope=col>count</th></tr>\n",
              "\t<tr><th scope=col>&lt;dbl&gt;</th><th scope=col>&lt;int&gt;</th></tr>\n",
              "</thead>\n",
              "<tbody>\n",
              "\t<tr><td>1.185279e+12</td><td>123285</td></tr>\n",
              "</tbody>\n",
              "</table>\n"
            ],
            "text/latex": [
              "A tibble: 1 × 2\n",
              "\\begin{tabular}{ll}\n",
              " max\\_market\\_cap & count\\\\\n",
              " <dbl> & <int>\\\\\n",
              "\\hline\n",
              "\t 1.185279e+12 & 123285\\\\\n",
              "\\end{tabular}\n"
            ],
            "text/markdown": [
              "\n",
              "A tibble: 1 × 2\n",
              "\n",
              "| max_market_cap &lt;dbl&gt; | count &lt;int&gt; |\n",
              "|---|---|\n",
              "| 1.185279e+12 | 123285 |\n",
              "\n"
            ],
            "text/plain": [
              "  max_market_cap count \n",
              "1 1.185279e+12   123285"
            ]
          },
          "metadata": {
            "tags": []
          },
          "output_type": "display_data"
        }
      ],
      "source": [
        "prices %>%\n",
        "  summarise(max_market_cap = max(market_cap),\n",
        "            count = n()) %>%\n",
        "  head()\n"
      ]
    },
    {
      "cell_type": "markdown",
      "metadata": {
        "id": "cCKMD4U1Ugia"
      },
      "source": [
        "It has aggreagated and condensed all our data down to a single summary row."
      ]
    },
    {
      "cell_type": "markdown",
      "metadata": {
        "id": "hIevwlWFUkyE"
      },
      "source": [
        "### The `group_by()` dplyr verb\n",
        "\n",
        "![image.png](data:image/png;base64,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)\n",
        "\n",
        "Summarising the entire data in one go isn't always what you want to do.\n",
        "\n",
        "Often you want to:\n",
        "\n",
        "- group by a variable\n",
        "- then traansform that grouped data.\n",
        "\n",
        "The `group_by()` function tells the `dplyr` verbs to operate on each group one at a time.\n"
      ]
    },
    {
      "cell_type": "markdown",
      "metadata": {
        "id": "6Wu_EnbWXjD3"
      },
      "source": [
        "### Using `group_by()` and `summarise()` together\n",
        "\n",
        "IF we `group_by(ticker)`, then call `summarise()` then dplyr will perform the summary aggregations separately for each ticker. \n",
        "\n",
        "We won't get a single row. \n",
        "We'll get a row for each different ticker in the data set."
      ]
    },
    {
      "cell_type": "code",
      "execution_count": null,
      "metadata": {
        "colab": {
          "base_uri": "https://localhost:8080/",
          "height": 283
        },
        "id": "vS-CQc5tWl1p",
        "outputId": "38602980-88ae-4103-9316-f23c6f800922",
        "vscode": {
          "languageId": "r"
        }
      },
      "outputs": [
        {
          "data": {
            "text/html": [
              "<table class=\"dataframe\">\n",
              "<caption>A tibble: 6 × 2</caption>\n",
              "<thead>\n",
              "\t<tr><th scope=col>ticker</th><th scope=col>mean_market_cap</th></tr>\n",
              "\t<tr><th scope=col>&lt;chr&gt;</th><th scope=col>&lt;dbl&gt;</th></tr>\n",
              "</thead>\n",
              "<tbody>\n",
              "\t<tr><td>1INCH</td><td>5906494906</td></tr>\n",
              "\t<tr><td>AAVE </td><td>4183521339</td></tr>\n",
              "\t<tr><td>ADA  </td><td>8049916391</td></tr>\n",
              "\t<tr><td>ALPHA</td><td> 973312440</td></tr>\n",
              "\t<tr><td>ANT  </td><td>  93397251</td></tr>\n",
              "\t<tr><td>BAL  </td><td>1090832834</td></tr>\n",
              "</tbody>\n",
              "</table>\n"
            ],
            "text/latex": [
              "A tibble: 6 × 2\n",
              "\\begin{tabular}{ll}\n",
              " ticker & mean\\_market\\_cap\\\\\n",
              " <chr> & <dbl>\\\\\n",
              "\\hline\n",
              "\t 1INCH & 5906494906\\\\\n",
              "\t AAVE  & 4183521339\\\\\n",
              "\t ADA   & 8049916391\\\\\n",
              "\t ALPHA &  973312440\\\\\n",
              "\t ANT   &   93397251\\\\\n",
              "\t BAL   & 1090832834\\\\\n",
              "\\end{tabular}\n"
            ],
            "text/markdown": [
              "\n",
              "A tibble: 6 × 2\n",
              "\n",
              "| ticker &lt;chr&gt; | mean_market_cap &lt;dbl&gt; |\n",
              "|---|---|\n",
              "| 1INCH | 5906494906 |\n",
              "| AAVE  | 4183521339 |\n",
              "| ADA   | 8049916391 |\n",
              "| ALPHA |  973312440 |\n",
              "| ANT   |   93397251 |\n",
              "| BAL   | 1090832834 |\n",
              "\n"
            ],
            "text/plain": [
              "  ticker mean_market_cap\n",
              "1 1INCH  5906494906     \n",
              "2 AAVE   4183521339     \n",
              "3 ADA    8049916391     \n",
              "4 ALPHA   973312440     \n",
              "5 ANT      93397251     \n",
              "6 BAL    1090832834     "
            ]
          },
          "metadata": {
            "tags": []
          },
          "output_type": "display_data"
        }
      ],
      "source": [
        "prices %>% \n",
        "  group_by(ticker) %>%\n",
        "  summarise(mean_market_cap = mean(market_cap)) %>%\n",
        "  head()"
      ]
    },
    {
      "cell_type": "markdown",
      "metadata": {
        "id": "AQiw1v8EW9c8"
      },
      "source": [
        "We can also group by multiple variables. In this case, we calculate the mean market cap for each ticker for each year."
      ]
    },
    {
      "cell_type": "code",
      "execution_count": null,
      "metadata": {
        "colab": {
          "base_uri": "https://localhost:8080/",
          "height": 317
        },
        "id": "U6MRPRYvWwra",
        "outputId": "4b510c93-e743-4dbb-87c7-7425e3f2cbff",
        "vscode": {
          "languageId": "r"
        }
      },
      "outputs": [
        {
          "name": "stderr",
          "output_type": "stream",
          "text": [
            "`summarise()` has grouped output by 'ticker'. You can override using the `.groups` argument.\n",
            "\n"
          ]
        },
        {
          "data": {
            "text/html": [
              "<table class=\"dataframe\">\n",
              "<caption>A grouped_df: 6 × 3</caption>\n",
              "<thead>\n",
              "\t<tr><th scope=col>ticker</th><th scope=col>year</th><th scope=col>mean_market_cap</th></tr>\n",
              "\t<tr><th scope=col>&lt;chr&gt;</th><th scope=col>&lt;dbl&gt;</th><th scope=col>&lt;dbl&gt;</th></tr>\n",
              "</thead>\n",
              "<tbody>\n",
              "\t<tr><td>1INCH</td><td>2020</td><td>1789171692</td></tr>\n",
              "\t<tr><td>1INCH</td><td>2021</td><td>6049292243</td></tr>\n",
              "\t<tr><td>AAVE </td><td>2020</td><td>1014805815</td></tr>\n",
              "\t<tr><td>AAVE </td><td>2021</td><td>5703772139</td></tr>\n",
              "\t<tr><td>ADA  </td><td>2017</td><td>9877881359</td></tr>\n",
              "\t<tr><td>ADA  </td><td>2018</td><td>6428593604</td></tr>\n",
              "</tbody>\n",
              "</table>\n"
            ],
            "text/latex": [
              "A grouped\\_df: 6 × 3\n",
              "\\begin{tabular}{lll}\n",
              " ticker & year & mean\\_market\\_cap\\\\\n",
              " <chr> & <dbl> & <dbl>\\\\\n",
              "\\hline\n",
              "\t 1INCH & 2020 & 1789171692\\\\\n",
              "\t 1INCH & 2021 & 6049292243\\\\\n",
              "\t AAVE  & 2020 & 1014805815\\\\\n",
              "\t AAVE  & 2021 & 5703772139\\\\\n",
              "\t ADA   & 2017 & 9877881359\\\\\n",
              "\t ADA   & 2018 & 6428593604\\\\\n",
              "\\end{tabular}\n"
            ],
            "text/markdown": [
              "\n",
              "A grouped_df: 6 × 3\n",
              "\n",
              "| ticker &lt;chr&gt; | year &lt;dbl&gt; | mean_market_cap &lt;dbl&gt; |\n",
              "|---|---|---|\n",
              "| 1INCH | 2020 | 1789171692 |\n",
              "| 1INCH | 2021 | 6049292243 |\n",
              "| AAVE  | 2020 | 1014805815 |\n",
              "| AAVE  | 2021 | 5703772139 |\n",
              "| ADA   | 2017 | 9877881359 |\n",
              "| ADA   | 2018 | 6428593604 |\n",
              "\n"
            ],
            "text/plain": [
              "  ticker year mean_market_cap\n",
              "1 1INCH  2020 1789171692     \n",
              "2 1INCH  2021 6049292243     \n",
              "3 AAVE   2020 1014805815     \n",
              "4 AAVE   2021 5703772139     \n",
              "5 ADA    2017 9877881359     \n",
              "6 ADA    2018 6428593604     "
            ]
          },
          "metadata": {
            "tags": []
          },
          "output_type": "display_data"
        }
      ],
      "source": [
        "prices %>%\n",
        "  mutate(year = year(date)) %>%\n",
        "  group_by(ticker, year) %>%\n",
        "  summarise(mean_market_cap = mean(market_cap)) %>%\n",
        "  head()"
      ]
    },
    {
      "cell_type": "markdown",
      "metadata": {
        "id": "PceFxG3rXn5P"
      },
      "source": [
        "### Using `group_by()` and `mutate()` to do grouped row-level observations\n",
        "\n",
        "We can also use `group_by` with `mutate()` to calculate new variables which are calculated separately for a given variable (or set of variables)\n",
        "\n",
        "You’ll use this nearly every time you do any quant analysis to calculate periodic returns.\n",
        "\n",
        "Here we use `group_by()` with `mutate()` and `lag()` to calculate daily returns. \n",
        "\n",
        "The `group_by()` tells dplyr not to mix up observations from different tickers. If we left it out it would just calculate returns in the order the appear in the dataset, and we'd get some returns trying to be calculated from prices on different tickers."
      ]
    },
    {
      "cell_type": "code",
      "execution_count": null,
      "metadata": {
        "colab": {
          "base_uri": "https://localhost:8080/",
          "height": 283
        },
        "id": "YVa5uvQtXS60",
        "outputId": "519e2728-63d6-4777-b5a7-163df93e3cda",
        "vscode": {
          "languageId": "r"
        }
      },
      "outputs": [
        {
          "data": {
            "text/html": [
              "<table class=\"dataframe\">\n",
              "<caption>A grouped_df: 6 × 5</caption>\n",
              "<thead>\n",
              "\t<tr><th scope=col>ticker</th><th scope=col>date</th><th scope=col>price_usd</th><th scope=col>market_cap</th><th scope=col>simple_returns</th></tr>\n",
              "\t<tr><th scope=col>&lt;chr&gt;</th><th scope=col>&lt;date&gt;</th><th scope=col>&lt;dbl&gt;</th><th scope=col>&lt;dbl&gt;</th><th scope=col>&lt;dbl&gt;</th></tr>\n",
              "</thead>\n",
              "<tbody>\n",
              "\t<tr><td>BTC</td><td>2010-07-18</td><td>0.08584000</td><td>295959.2</td><td>         NA</td></tr>\n",
              "\t<tr><td>BTC</td><td>2010-07-19</td><td>0.08080000</td><td>279285.2</td><td>-0.05871389</td></tr>\n",
              "\t<tr><td>BTC</td><td>2010-07-20</td><td>0.07473573</td><td>259000.4</td><td>-0.07505286</td></tr>\n",
              "\t<tr><td>BTC</td><td>2010-07-21</td><td>0.07919286</td><td>275266.5</td><td> 0.05963859</td></tr>\n",
              "\t<tr><td>BTC</td><td>2010-07-22</td><td>0.05846976</td><td>203749.6</td><td>-0.26167891</td></tr>\n",
              "\t<tr><td>BTC</td><td>2010-07-23</td><td>0.06059287</td><td>211735.7</td><td> 0.03631124</td></tr>\n",
              "</tbody>\n",
              "</table>\n"
            ],
            "text/latex": [
              "A grouped\\_df: 6 × 5\n",
              "\\begin{tabular}{lllll}\n",
              " ticker & date & price\\_usd & market\\_cap & simple\\_returns\\\\\n",
              " <chr> & <date> & <dbl> & <dbl> & <dbl>\\\\\n",
              "\\hline\n",
              "\t BTC & 2010-07-18 & 0.08584000 & 295959.2 &          NA\\\\\n",
              "\t BTC & 2010-07-19 & 0.08080000 & 279285.2 & -0.05871389\\\\\n",
              "\t BTC & 2010-07-20 & 0.07473573 & 259000.4 & -0.07505286\\\\\n",
              "\t BTC & 2010-07-21 & 0.07919286 & 275266.5 &  0.05963859\\\\\n",
              "\t BTC & 2010-07-22 & 0.05846976 & 203749.6 & -0.26167891\\\\\n",
              "\t BTC & 2010-07-23 & 0.06059287 & 211735.7 &  0.03631124\\\\\n",
              "\\end{tabular}\n"
            ],
            "text/markdown": [
              "\n",
              "A grouped_df: 6 × 5\n",
              "\n",
              "| ticker &lt;chr&gt; | date &lt;date&gt; | price_usd &lt;dbl&gt; | market_cap &lt;dbl&gt; | simple_returns &lt;dbl&gt; |\n",
              "|---|---|---|---|---|\n",
              "| BTC | 2010-07-18 | 0.08584000 | 295959.2 |          NA |\n",
              "| BTC | 2010-07-19 | 0.08080000 | 279285.2 | -0.05871389 |\n",
              "| BTC | 2010-07-20 | 0.07473573 | 259000.4 | -0.07505286 |\n",
              "| BTC | 2010-07-21 | 0.07919286 | 275266.5 |  0.05963859 |\n",
              "| BTC | 2010-07-22 | 0.05846976 | 203749.6 | -0.26167891 |\n",
              "| BTC | 2010-07-23 | 0.06059287 | 211735.7 |  0.03631124 |\n",
              "\n"
            ],
            "text/plain": [
              "  ticker date       price_usd  market_cap simple_returns\n",
              "1 BTC    2010-07-18 0.08584000 295959.2            NA   \n",
              "2 BTC    2010-07-19 0.08080000 279285.2   -0.05871389   \n",
              "3 BTC    2010-07-20 0.07473573 259000.4   -0.07505286   \n",
              "4 BTC    2010-07-21 0.07919286 275266.5    0.05963859   \n",
              "5 BTC    2010-07-22 0.05846976 203749.6   -0.26167891   \n",
              "6 BTC    2010-07-23 0.06059287 211735.7    0.03631124   "
            ]
          },
          "metadata": {
            "tags": []
          },
          "output_type": "display_data"
        }
      ],
      "source": [
        "prices %>%\n",
        "  group_by(ticker) %>%\n",
        "  arrange(date) %>%\n",
        "  mutate(simple_returns = price_usd / lag(price_usd) - 1) %>% \n",
        "  head()"
      ]
    },
    {
      "cell_type": "markdown",
      "metadata": {
        "id": "on-WZK4HZWPP"
      },
      "source": [
        "You'll follow this pattern a lot. "
      ]
    },
    {
      "cell_type": "markdown",
      "metadata": {
        "id": "4S-BQyxCbpy2"
      },
      "source": [
        "## Summary\n",
        "\n",
        "Arrange your data in a \"tidy\" fashion such that:\n",
        "\n",
        " - Every column is a variable\n",
        " - Every row is an observation.\n",
        "\n",
        " You can then easily use dplyr to manipulate that data very efficeintly. \n",
        "\n",
        "* A forthcoming lesson will cover wrangling messy data into shape using tidyr. *\n",
        "\n",
        "There are 6 main functions to master in dplyr:\n",
        "\n",
        "\n",
        "*   `filter()` picks outs observations (rows) by some filter criteria\n",
        "*   `arrange()` reorders the observations (rows)\n",
        "*   `select()` picks out the variables (columns)\n",
        "*    `mutate()` creates new variables (columns) by applying transformations to existing variables\n",
        "*    `summarise()` allows you to group and summarise data – reducing the data into a grouped summary with fewer rows\n",
        "\n",
        "`Group_by()` causes the verbs above to act on a group at a time, rather than the whole dataset.\n",
        "\n",
        "\n",
        "\n",
        "\n",
        "\n",
        "\n",
        "\n",
        "\n",
        "\n"
      ]
    },
    {
      "cell_type": "markdown",
      "metadata": {
        "id": "oqb4DBcpdtBU"
      },
      "source": [
        "# Useful Crypto Lab Snippets\n"
      ]
    },
    {
      "cell_type": "markdown",
      "metadata": {
        "id": "I7FJ-DzbfPVZ"
      },
      "source": [
        "### Loading Libraries and Tools"
      ]
    },
    {
      "cell_type": "markdown",
      "metadata": {
        "id": "E_i9yqr6fSh1"
      },
      "source": [
        "### Loading Data"
      ]
    },
    {
      "cell_type": "code",
      "execution_count": null,
      "metadata": {
        "id": "C7tKjiQmyH6P",
        "vscode": {
          "languageId": "r"
        }
      },
      "outputs": [],
      "source": [
        "# snippet: rw load rwrtools v0.4\n",
        "\n",
        "# lists of libraries: rwRtools dependencies (install but don't load) and libs_to_load (install and load)\n",
        "dependencies <- c(\n",
        "  \"pacman\", \"ttr\", \"googleauthr\", \"doparallel\", \"googlecloudstorager\", \n",
        "  \"iterators\", \"R.methodsS3\", \"openssl\", \"foreach\", \"xts\", \"R.oo\", \"feather\", \n",
        "  \"R.utils\"\n",
        ")\n",
        "libs_to_load <- c(\"tidyverse\", \"lubridate\", \"purrr\", \"stringr\", \"zoo\", \"glue\", \"here\")\n",
        "\n",
        "# comment out next two lines if not loading rsims\n",
        "rsims_dependencies <- c(\"stringr\", \"lubridate\", \"roll\", \"Rcpp\")\n",
        "dependencies <- c(dependencies, rsims_dependencies)\n",
        "\n",
        "# capitalisation of call to CRAN may not always match capitalisation of package name (eg library(doParallel) vs sudo apt install r-cran-doparallel).\n",
        "install_from_cran <- gsub(\"^(?!R\\\\.)([\\\\w]+)\", \"\\\\L\\\\1\", unique(c(libs_to_load, dependencies)), perl = TRUE)  # convert to lowercase all letters other than an \"R\" at the start followed by \".\"\n",
        "\n",
        "msg1 <- system2('sudo', args = c('apt-get', 'update'),\n",
        "  stdout = TRUE,\n",
        "  stderr = TRUE,\n",
        "  wait = TRUE\n",
        ")\n",
        "\n",
        "msg2 <- system2(\n",
        "  'sudo', \n",
        "  args = c('apt', 'install', sub('', 'r-cran-', install_from_cran, '-y --fix-missing')),\n",
        "  stdout = TRUE,\n",
        "  stderr = TRUE,\n",
        "  wait = TRUE\n",
        ")\n",
        "\n",
        "pacman::p_load(char = libs_to_load, install = FALSE)\n",
        "\n",
        "# install and load rwRtools from GH (sans dependencies)\n",
        "pacman::p_load_current_gh(\"RWLab/rwRtools\", dependencies = FALSE)\n",
        "\n",
        "# install and load rsims from GH (sans dependencies)\n",
        "pacman::p_load_current_gh(\"Robot-Wealth/rsims\", dependencies = FALSE)\n",
        "\n",
        "# output messages from install - optional, for debugging\n",
        "# msg\n",
        "\n",
        "# Set chart options\n",
        "options(repr.plot.width = 14, repr.plot.height=7)\n",
        "theme_set(theme_bw())\n",
        "theme_update(text = element_text(size = 20))"
      ]
    },
    {
      "cell_type": "code",
      "execution_count": null,
      "metadata": {
        "id": "z84a0XNBfRyL",
        "vscode": {
          "languageId": "r"
        }
      },
      "outputs": [],
      "source": [
        "# snippet: rw data auth v.0.1\n",
        "rwlab_data_auth()"
      ]
    },
    {
      "cell_type": "code",
      "execution_count": null,
      "metadata": {
        "id": "zYB5WQ9ffLlv",
        "vscode": {
          "languageId": "r"
        }
      },
      "outputs": [],
      "source": [
        "# snippet: rw crypto quickstart v.0.1\n",
        "quicksetup(pod = \"Crypto\", path = \".\")\n",
        "prices %>% \n",
        "  head()\n"
      ]
    },
    {
      "cell_type": "markdown",
      "metadata": {
        "id": "0PWMfWvOfc2o"
      },
      "source": [
        "### Calculating periodic returns"
      ]
    },
    {
      "cell_type": "code",
      "execution_count": null,
      "metadata": {
        "id": "INHiCUOEaCIT",
        "vscode": {
          "languageId": "r"
        }
      },
      "outputs": [],
      "source": [
        "# snippet: rw crypto calc periodic returns v.0.1\n",
        "# Calculate log and simple returns at the same periodicity as your data.\n",
        "# Assumes there are no gaps in your data and your price column is price_usd (as it is in default coinmetrics data) \n",
        "returns <- prices %>%\n",
        "  group_by(ticker) %>%\n",
        "  arrange(date) %>%\n",
        "  mutate(log_return = log(price_usd / lag(price_usd, n = 1))) %>%\n",
        "  mutate(simple_return = price_usd / lag(price_usd, n = 1) - 1) %>%\n",
        "  na.omit() "
      ]
    },
    {
      "cell_type": "code",
      "execution_count": null,
      "metadata": {
        "colab": {
          "base_uri": "https://localhost:8080/",
          "height": 283
        },
        "id": "AzvYEJ46gQbQ",
        "outputId": "ef152b22-0e42-45ca-9794-7d1c1510f12f",
        "vscode": {
          "languageId": "r"
        }
      },
      "outputs": [
        {
          "data": {
            "text/html": [
              "<table class=\"dataframe\">\n",
              "<caption>A grouped_df: 6 × 6</caption>\n",
              "<thead>\n",
              "\t<tr><th scope=col>ticker</th><th scope=col>date</th><th scope=col>price_usd</th><th scope=col>market_cap</th><th scope=col>log_return</th><th scope=col>simple_return</th></tr>\n",
              "\t<tr><th scope=col>&lt;chr&gt;</th><th scope=col>&lt;date&gt;</th><th scope=col>&lt;dbl&gt;</th><th scope=col>&lt;dbl&gt;</th><th scope=col>&lt;dbl&gt;</th><th scope=col>&lt;dbl&gt;</th></tr>\n",
              "</thead>\n",
              "<tbody>\n",
              "\t<tr><td>BTC</td><td>2010-07-19</td><td>0.08080000</td><td>279285.2</td><td>-0.06050813</td><td>-0.05871389</td></tr>\n",
              "\t<tr><td>BTC</td><td>2010-07-20</td><td>0.07473573</td><td>259000.4</td><td>-0.07801869</td><td>-0.07505286</td></tr>\n",
              "\t<tr><td>BTC</td><td>2010-07-21</td><td>0.07919286</td><td>275266.5</td><td> 0.05792790</td><td> 0.05963859</td></tr>\n",
              "\t<tr><td>BTC</td><td>2010-07-22</td><td>0.05846976</td><td>203749.6</td><td>-0.30337647</td><td>-0.26167891</td></tr>\n",
              "\t<tr><td>BTC</td><td>2010-07-23</td><td>0.06059287</td><td>211735.7</td><td> 0.03566752</td><td> 0.03631124</td></tr>\n",
              "\t<tr><td>BTC</td><td>2010-07-24</td><td>0.05454000</td><td>191100.0</td><td>-0.10524285</td><td>-0.09989409</td></tr>\n",
              "</tbody>\n",
              "</table>\n"
            ],
            "text/latex": [
              "A grouped\\_df: 6 × 6\n",
              "\\begin{tabular}{llllll}\n",
              " ticker & date & price\\_usd & market\\_cap & log\\_return & simple\\_return\\\\\n",
              " <chr> & <date> & <dbl> & <dbl> & <dbl> & <dbl>\\\\\n",
              "\\hline\n",
              "\t BTC & 2010-07-19 & 0.08080000 & 279285.2 & -0.06050813 & -0.05871389\\\\\n",
              "\t BTC & 2010-07-20 & 0.07473573 & 259000.4 & -0.07801869 & -0.07505286\\\\\n",
              "\t BTC & 2010-07-21 & 0.07919286 & 275266.5 &  0.05792790 &  0.05963859\\\\\n",
              "\t BTC & 2010-07-22 & 0.05846976 & 203749.6 & -0.30337647 & -0.26167891\\\\\n",
              "\t BTC & 2010-07-23 & 0.06059287 & 211735.7 &  0.03566752 &  0.03631124\\\\\n",
              "\t BTC & 2010-07-24 & 0.05454000 & 191100.0 & -0.10524285 & -0.09989409\\\\\n",
              "\\end{tabular}\n"
            ],
            "text/markdown": [
              "\n",
              "A grouped_df: 6 × 6\n",
              "\n",
              "| ticker &lt;chr&gt; | date &lt;date&gt; | price_usd &lt;dbl&gt; | market_cap &lt;dbl&gt; | log_return &lt;dbl&gt; | simple_return &lt;dbl&gt; |\n",
              "|---|---|---|---|---|---|\n",
              "| BTC | 2010-07-19 | 0.08080000 | 279285.2 | -0.06050813 | -0.05871389 |\n",
              "| BTC | 2010-07-20 | 0.07473573 | 259000.4 | -0.07801869 | -0.07505286 |\n",
              "| BTC | 2010-07-21 | 0.07919286 | 275266.5 |  0.05792790 |  0.05963859 |\n",
              "| BTC | 2010-07-22 | 0.05846976 | 203749.6 | -0.30337647 | -0.26167891 |\n",
              "| BTC | 2010-07-23 | 0.06059287 | 211735.7 |  0.03566752 |  0.03631124 |\n",
              "| BTC | 2010-07-24 | 0.05454000 | 191100.0 | -0.10524285 | -0.09989409 |\n",
              "\n"
            ],
            "text/plain": [
              "  ticker date       price_usd  market_cap log_return  simple_return\n",
              "1 BTC    2010-07-19 0.08080000 279285.2   -0.06050813 -0.05871389  \n",
              "2 BTC    2010-07-20 0.07473573 259000.4   -0.07801869 -0.07505286  \n",
              "3 BTC    2010-07-21 0.07919286 275266.5    0.05792790  0.05963859  \n",
              "4 BTC    2010-07-22 0.05846976 203749.6   -0.30337647 -0.26167891  \n",
              "5 BTC    2010-07-23 0.06059287 211735.7    0.03566752  0.03631124  \n",
              "6 BTC    2010-07-24 0.05454000 191100.0   -0.10524285 -0.09989409  "
            ]
          },
          "metadata": {
            "tags": []
          },
          "output_type": "display_data"
        }
      ],
      "source": [
        "returns %>% head()"
      ]
    },
    {
      "cell_type": "markdown",
      "metadata": {
        "id": "B0N4mYE_f0G3"
      },
      "source": [
        "### Plotting Return Histograms"
      ]
    },
    {
      "cell_type": "code",
      "execution_count": null,
      "metadata": {
        "colab": {
          "base_uri": "https://localhost:8080/",
          "height": 437
        },
        "id": "DxqDuCgZf4sG",
        "outputId": "90541685-d68c-494d-87eb-58cbb3167778",
        "vscode": {
          "languageId": "r"
        }
      },
      "outputs": [
        {
          "data": {
            "image/png": "[encoded data removed]",
            "text/plain": [
              "plot without title"
            ]
          },
          "metadata": {
            "image/png": {
              "height": 420,
              "width": 420
            },
            "tags": []
          },
          "output_type": "display_data"
        }
      ],
      "source": [
        "# snippet: rw crytpo plot return histogram v.0.1\n",
        "returns %>%\n",
        "  filter(ticker %in% c('BTC','ETH','XRP')) %>%\n",
        "  ggplot(aes(x = log_return)) +\n",
        "    geom_histogram(position = 'identity', bins = 100) +\n",
        "    ggtitle('Distribution of Log Returns') +\n",
        "    facet_wrap(~ticker)"
      ]
    },
    {
      "cell_type": "markdown",
      "metadata": {
        "id": "PROMVq2Jg5y9"
      },
      "source": [
        "### Scatterplot example"
      ]
    },
    {
      "cell_type": "code",
      "execution_count": null,
      "metadata": {
        "colab": {
          "base_uri": "https://localhost:8080/",
          "height": 471
        },
        "id": "uKA6nsr_g5X2",
        "outputId": "ca2c1506-ba9a-4ac0-b741-73f5290d59a8",
        "vscode": {
          "languageId": "r"
        }
      },
      "outputs": [
        {
          "name": "stderr",
          "output_type": "stream",
          "text": [
            "Warning message:\n",
            "“Removed 3 rows containing missing values (geom_point).”\n"
          ]
        },
        {
          "data": {
            "image/png": "[encoded data removed]",
            "text/plain": [
              "plot without title"
            ]
          },
          "metadata": {
            "image/png": {
              "height": 420,
              "width": 420
            },
            "tags": []
          },
          "output_type": "display_data"
        }
      ],
      "source": [
        "# snippet: rw crypto plot return scatterplot\n",
        "# Just a simple example of creating a scatterplot\n",
        "returns %>%\n",
        "  filter(ticker %in% c('BTC','ETH','XRP')) %>%\n",
        "  mutate(lag_log_return = lag(log_return)) %>%\n",
        "  ggplot(aes(x = log_return, y = lag_log_return)) +\n",
        "    geom_point() + \n",
        "    ggtitle('Returns vs lagged returns') +\n",
        "    facet_wrap(~ticker)"
      ]
    }
  ],
  "metadata": {
    "colab": {
      "authorship_tag": "ABX9TyORjdzBa56XKJ2vm+v3yOuY",
      "collapsed_sections": [],
      "include_colab_link": true,
      "name": "Using R in the Crypto Lab.ipynb",
      "provenance": [],
      "toc_visible": true
    },
    "kernelspec": {
      "display_name": "R",
      "name": "ir"
    },
    "language_info": {
      "name": "R"
    }
  },
  "nbformat": 4,
  "nbformat_minor": 0
}

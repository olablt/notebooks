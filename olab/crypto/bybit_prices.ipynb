{
  "nbformat": 4,
  "nbformat_minor": 0,
  "metadata": {
    "colab": {
      "provenance": [],
      "toc_visible": true
    },
    "kernelspec": {
      "name": "ir",
      "display_name": "R"
    },
    "language_info": {
      "name": "R"
    }
  },
  "cells": [
    {
      "cell_type": "markdown",
      "source": [
        "- https://bybit-exchange.github.io/docs/v5/intro\n",
        "\n",
        "- v5/market/\tCandlestick, orderbook, ticker, platform transaction data, underlying financial rules, risk control rules\n",
        "    - /v5/market/kline\n",
        "    - /v5/market/tickers\n",
        "- v5/order/\tOrder management\n",
        "- v5/position/\tPosition management\n",
        "- v5/account/\tSingle account operations only – unified funding account, rates, etc.\n",
        "- v5/asset/\tOperations across multiple accounts – asset management, fund management, etc.\n"
      ],
      "metadata": {
        "id": "9VKOz8MlN9FD"
      }
    },
    {
      "cell_type": "markdown",
      "source": [
        "## ol import libraries"
      ],
      "metadata": {
        "id": "WjMz2U-IG_Dp"
      }
    },
    {
      "cell_type": "code",
      "source": [
        "library(glue)\n",
        "library(httr)\n",
        "library(jsonlite)\n",
        "library(tidyverse)"
      ],
      "metadata": {
        "id": "0cj75vEVSFcb"
      },
      "execution_count": 2,
      "outputs": []
    },
    {
      "cell_type": "markdown",
      "source": [
        "# ol get_bybit_tickers\n",
        "\n",
        "```R\n",
        "# Example usage linear\n",
        "result <- get_bybit_tickers(category = \"linear\")\n",
        "result\n",
        "\n",
        "# Example usage spot\n",
        "result <- get_bybit_tickers(category = \"spot\")\n",
        "resul\n",
        "```\n"
      ],
      "metadata": {
        "id": "o-liZAMVQH2j"
      }
    },
    {
      "cell_type": "code",
      "source": [
        "\n",
        "# Function to get Bybit tickers\n",
        "get_bybit_tickers <- function(category, ticker = NULL, baseCoin = NULL, expDate = NULL) {\n",
        "  # Base URL for the Bybit API\n",
        "  base_url <- \"https://api.bybit.com/v5/market/tickers\"\n",
        "\n",
        "  # Create a list of parameters\n",
        "  params <- list(category = category)\n",
        "  if (!is.null(ticker)) params$symbol <- ticker\n",
        "  if (!is.null(baseCoin)) params$baseCoin <- baseCoin\n",
        "  if (!is.null(expDate)) params$expDate <- expDate\n",
        "\n",
        "  # Make the GET request\n",
        "  response <- GET(url = base_url, query = params)\n",
        "\n",
        "  # Check if the request was successful\n",
        "  if (response$status_code == 200) {\n",
        "    # Parse the JSON response\n",
        "    data <- fromJSON(content(response, \"text\"), simplifyDataFrame = TRUE)\n",
        "        # Assuming the data of interest is in a list within 'result.list'\n",
        "    if (\"result\" %in% names(data) && \"list\" %in% names(data$result)) {\n",
        "      ticker_data <- as_tibble(data$result$list) %>%\n",
        "        select(\n",
        "          symbol, lastPrice, price24hPcnt, volume24h, turnover24h\n",
        "        ) %>%\n",
        "        rename(\n",
        "          ticker = symbol,\n",
        "          last_price = lastPrice,\n",
        "          price_24h_pct = price24hPcnt,\n",
        "          volume_24h = volume24h,\n",
        "          turnover_24h = turnover24h\n",
        "        ) %>%\n",
        "        mutate (\n",
        "          across(c(last_price, price_24h_pct, volume_24h, turnover_24h), as.numeric)\n",
        "        ) %>%\n",
        "        arrange(desc(turnover_24h))\n",
        "      return(ticker_data)\n",
        "    } else {\n",
        "      stop(\"Unexpected data structure in the response.\")\n",
        "    }\n",
        "    return(data)\n",
        "  } else {\n",
        "    stop(\"Failed to retrieve data: \", response$status_code)\n",
        "  }\n",
        "}\n"
      ],
      "metadata": {
        "id": "dRvs-9j4Q6av"
      },
      "execution_count": null,
      "outputs": []
    },
    {
      "cell_type": "markdown",
      "source": [
        "# Get Market data\n",
        "\n",
        "- https://bybit-exchange.github.io/docs/v5/market/kline\n",
        "\n",
        "GET /v5/market/kline\n",
        "\n",
        "Request Parameters (Parameter\tRequired\tType\tComments)\n",
        "- category\ttrue\tstring\tProduct type. spot,linear,inverse\n",
        "- symbol\ttrue\tstring\tSymbol name\n",
        "- interval\ttrue\tstring\tKline interval. 1,3,5,15,30,60,120,240,360,720,D,M,W\n",
        "- start\tfalse\tinteger\tThe start timestamp (ms)\n",
        "- end\tfalse\tinteger\tThe end timestamp (ms)\n",
        "- limit\tfalse\tinteger\tLimit for data size per page. [1, 1000]. Default: 200"
      ],
      "metadata": {
        "id": "BQxF9n7Lw39_"
      }
    },
    {
      "cell_type": "markdown",
      "source": [
        "## single_bybit_prices simple limited function to get candles"
      ],
      "metadata": {
        "id": "ZkBU9KQR1_7n"
      }
    },
    {
      "cell_type": "code",
      "source": [
        "# Function to get Bybit klines\n",
        "single_bybit_prices <- function(category, symbol, interval, start, end) {\n",
        "  # Base URL for the Bybit API\n",
        "  base_url <- \"https://api.bybit.com/v5/market/kline\"\n",
        "\n",
        "  # Create a list of parameters\n",
        "  params <- list(category = category, symbol = symbol, interval = interval, limit = 1000)\n",
        "  if (!is.null(start)) params$start <- as.numeric(as.POSIXct(start, tz = \"UTC\", format = \"%Y-%m-%d\")) * 1000\n",
        "  if (!is.null(end)) params$end <- as.numeric(as.POSIXct(end, tz = \"UTC\", format = \"%Y-%m-%d\")) * 1000\n",
        "  # if (!is.null(end)) params$end <- as.numeric(as.POSIXct(end, tz = \"UTC\", format = \"%Y-%m-%d\")+ (23 * 3600 + 59 * 60 + 59))  * 1000\n",
        "  # params$limit <- 200\n",
        "\n",
        "  # Make the GET request\n",
        "  response <- GET(url = base_url, query = params)\n",
        "\n",
        "\n",
        "  # Check if the request was successful\n",
        "  if (response$status_code == 200) {\n",
        "    # Parse the JSON response and convert to a data frame\n",
        "    data <- fromJSON(content(response, \"text\"), flatten = TRUE)\n",
        "    # print(data$result$list)\n",
        "\n",
        "    # Assuming the data of interest is in a list within 'result.list'\n",
        "    if (\"result\" %in% names(data) && \"list\" %in% names(data$result)) {\n",
        "      kline_data <- data$result$list\n",
        "      # Set column names\n",
        "      colnames(kline_data) <- c(\"datetime\", \"open\", \"high\", \"low\", \"close\", \"volume\", \"turnover\")\n",
        "      # Convert to tibble\n",
        "      kline_data <- as_tibble(kline_data)\n",
        "      kline_data <- kline_data %>%\n",
        "        mutate(\n",
        "          datetime =  as.POSIXct(as.numeric(datetime) / 1000, origin = \"1970-01-01\", tz = \"UTC\"),\n",
        "          across(c(open, high, low, close, volume, turnover), as.numeric)\n",
        "        ) %>%\n",
        "        arrange(datetime)\n",
        "      print(length(kline_data$datetime))\n",
        "      return(kline_data)\n",
        "    } else {\n",
        "      stop(\"Unexpected data structure in the response.\")\n",
        "    }\n",
        "  } else {\n",
        "    stop(\"Failed to retrieve data: \", response$status_code)\n",
        "  }\n",
        "}\n",
        "\n",
        "# Example usage\n",
        "result <- single_bybit_prices(category = \"spot\", start=\"2023-11-01\", end=\"2023-11-13\", symbol = \"BTCUSDT\", interval = \"1\")\n",
        "print(result)"
      ],
      "metadata": {
        "colab": {
          "base_uri": "https://localhost:8080/"
        },
        "id": "8KGafm1jw20a",
        "outputId": "1a723aaf-83e9-48a8-ef90-366031f0492d"
      },
      "execution_count": null,
      "outputs": [
        {
          "output_type": "stream",
          "name": "stdout",
          "text": [
            "[1] 1000\n",
            "\u001b[90m# A tibble: 1,000 × 7\u001b[39m\n",
            "   datetime              open   high    low  close volume turnover\n",
            "   \u001b[3m\u001b[90m<dttm>\u001b[39m\u001b[23m               \u001b[3m\u001b[90m<dbl>\u001b[39m\u001b[23m  \u001b[3m\u001b[90m<dbl>\u001b[39m\u001b[23m  \u001b[3m\u001b[90m<dbl>\u001b[39m\u001b[23m  \u001b[3m\u001b[90m<dbl>\u001b[39m\u001b[23m  \u001b[3m\u001b[90m<dbl>\u001b[39m\u001b[23m    \u001b[3m\u001b[90m<dbl>\u001b[39m\u001b[23m\n",
            "\u001b[90m 1\u001b[39m 2023-11-12 \u001b[90m07:21:00\u001b[39m \u001b[4m3\u001b[24m\u001b[4m7\u001b[24m150  \u001b[4m3\u001b[24m\u001b[4m7\u001b[24m154  \u001b[4m3\u001b[24m\u001b[4m7\u001b[24m150  \u001b[4m3\u001b[24m\u001b[4m7\u001b[24m154.  1.48    \u001b[4m5\u001b[24m\u001b[4m4\u001b[24m895.\n",
            "\u001b[90m 2\u001b[39m 2023-11-12 \u001b[90m07:22:00\u001b[39m \u001b[4m3\u001b[24m\u001b[4m7\u001b[24m154. \u001b[4m3\u001b[24m\u001b[4m7\u001b[24m161. \u001b[4m3\u001b[24m\u001b[4m7\u001b[24m154. \u001b[4m3\u001b[24m\u001b[4m7\u001b[24m154.  2.55    \u001b[4m9\u001b[24m\u001b[4m4\u001b[24m824.\n",
            "\u001b[90m 3\u001b[39m 2023-11-12 \u001b[90m07:23:00\u001b[39m \u001b[4m3\u001b[24m\u001b[4m7\u001b[24m154. \u001b[4m3\u001b[24m\u001b[4m7\u001b[24m154. \u001b[4m3\u001b[24m\u001b[4m7\u001b[24m146. \u001b[4m3\u001b[24m\u001b[4m7\u001b[24m146.  2.38    \u001b[4m8\u001b[24m\u001b[4m8\u001b[24m548.\n",
            "\u001b[90m 4\u001b[39m 2023-11-12 \u001b[90m07:24:00\u001b[39m \u001b[4m3\u001b[24m\u001b[4m7\u001b[24m146. \u001b[4m3\u001b[24m\u001b[4m7\u001b[24m146. \u001b[4m3\u001b[24m\u001b[4m7\u001b[24m132. \u001b[4m3\u001b[24m\u001b[4m7\u001b[24m135.  0.999   \u001b[4m3\u001b[24m\u001b[4m7\u001b[24m110.\n",
            "\u001b[90m 5\u001b[39m 2023-11-12 \u001b[90m07:25:00\u001b[39m \u001b[4m3\u001b[24m\u001b[4m7\u001b[24m135. \u001b[4m3\u001b[24m\u001b[4m7\u001b[24m135. \u001b[4m3\u001b[24m\u001b[4m7\u001b[24m129. \u001b[4m3\u001b[24m\u001b[4m7\u001b[24m134   1.53    \u001b[4m5\u001b[24m\u001b[4m6\u001b[24m682.\n",
            "\u001b[90m 6\u001b[39m 2023-11-12 \u001b[90m07:26:00\u001b[39m \u001b[4m3\u001b[24m\u001b[4m7\u001b[24m134  \u001b[4m3\u001b[24m\u001b[4m7\u001b[24m134  \u001b[4m3\u001b[24m\u001b[4m7\u001b[24m124. \u001b[4m3\u001b[24m\u001b[4m7\u001b[24m124.  0.658   \u001b[4m2\u001b[24m\u001b[4m4\u001b[24m428.\n",
            "\u001b[90m 7\u001b[39m 2023-11-12 \u001b[90m07:27:00\u001b[39m \u001b[4m3\u001b[24m\u001b[4m7\u001b[24m124. \u001b[4m3\u001b[24m\u001b[4m7\u001b[24m124. \u001b[4m3\u001b[24m\u001b[4m7\u001b[24m118. \u001b[4m3\u001b[24m\u001b[4m7\u001b[24m118.  0.876   \u001b[4m3\u001b[24m\u001b[4m2\u001b[24m534.\n",
            "\u001b[90m 8\u001b[39m 2023-11-12 \u001b[90m07:28:00\u001b[39m \u001b[4m3\u001b[24m\u001b[4m7\u001b[24m118. \u001b[4m3\u001b[24m\u001b[4m7\u001b[24m121. \u001b[4m3\u001b[24m\u001b[4m7\u001b[24m118. \u001b[4m3\u001b[24m\u001b[4m7\u001b[24m121.  1.48    \u001b[4m5\u001b[24m\u001b[4m5\u001b[24m044.\n",
            "\u001b[90m 9\u001b[39m 2023-11-12 \u001b[90m07:29:00\u001b[39m \u001b[4m3\u001b[24m\u001b[4m7\u001b[24m121. \u001b[4m3\u001b[24m\u001b[4m7\u001b[24m125. \u001b[4m3\u001b[24m\u001b[4m7\u001b[24m121. \u001b[4m3\u001b[24m\u001b[4m7\u001b[24m125.  1.77    \u001b[4m6\u001b[24m\u001b[4m5\u001b[24m684.\n",
            "\u001b[90m10\u001b[39m 2023-11-12 \u001b[90m07:30:00\u001b[39m \u001b[4m3\u001b[24m\u001b[4m7\u001b[24m125. \u001b[4m3\u001b[24m\u001b[4m7\u001b[24m125. \u001b[4m3\u001b[24m\u001b[4m7\u001b[24m112. \u001b[4m3\u001b[24m\u001b[4m7\u001b[24m112.  1.03    \u001b[4m3\u001b[24m\u001b[4m8\u001b[24m144.\n",
            "\u001b[90m# ℹ 990 more rows\u001b[39m\n"
          ]
        }
      ]
    },
    {
      "cell_type": "markdown",
      "source": [
        "## single_bybit_prices2 - loop all history"
      ],
      "metadata": {
        "id": "wWum20nk2hHT"
      }
    },
    {
      "cell_type": "code",
      "source": [
        "library(glue)\n",
        "\n",
        "# Function to get Bybit klines\n",
        "single_bybit_prices2 <- function(category, symbol, interval, start, end) {\n",
        "  # Base URL for the Bybit API\n",
        "  base_url <- \"https://api.bybit.com/v5/market/kline\"\n",
        "\n",
        "  start_unix = as.numeric(as.POSIXct(start, tz = \"UTC\", format = \"%Y-%m-%d\")) * 1000\n",
        "  end_unix = as.numeric(as.POSIXct(glue(\"{end} 23:59:59\"), tz = \"UTC\", format = \"%Y-%m-%d %H:%M:%S\")) * 1000\n",
        "  # end_unix = as.numeric(as.POSIXct(end, tz = \"UTC\", format = \"%Y-%m-%d\")+ (23 * 3600 + 59 * 60 + 59))  * 1000\n",
        "\n",
        "  # Create a list of parameters\n",
        "  params <- list(category = category, symbol = symbol, interval = interval, limit = 1000)\n",
        "  params$start <- start_unix\n",
        "  params$end <- end_unix\n",
        "\n",
        "  all_data <- data.frame()\n",
        "\n",
        "  # Loop to fetch data in chunks\n",
        "  repeat {\n",
        "    # Make the GET request\n",
        "    response <- GET(url = base_url, query = params)\n",
        "\n",
        "    # Check if the request was successful\n",
        "    if (response$status_code == 200) {\n",
        "      # Parse the JSON response and convert to a data frame\n",
        "      data <- fromJSON(content(response, \"text\"), flatten = TRUE)\n",
        "      # print(data$result$list)\n",
        "      # break\n",
        "      # Assuming the data of interest is in a list within 'result.list'\n",
        "      if (\"result\" %in% names(data) && \"list\" %in% names(data$result)) {\n",
        "        kline_data <- data$result$list\n",
        "\n",
        "        if (length(kline_data) > 0) {\n",
        "          # Set column names\n",
        "          colnames(kline_data) <- c(\"OpenTime\", \"Open\", \"High\", \"Low\", \"Close\", \"Volume\", \"Turnover\")\n",
        "\n",
        "\n",
        "          # Convert to tibble\n",
        "          kline_data <- as_tibble(kline_data)\n",
        "\n",
        "          kline_data <- kline_data %>%\n",
        "            mutate(\n",
        "              OpenTime =  as.POSIXct(as.numeric(OpenTime) / 1000, origin = \"1970-01-01\", tz = \"UTC\"),\n",
        "              across(c(Open, High, Low, Close, Volume, Turnover), as.numeric)\n",
        "            ) %>%\n",
        "            arrange(OpenTime)\n",
        "\n",
        "\n",
        "\n",
        "          # Add data to all_data\n",
        "          all_data <- rbind(all_data, kline_data)\n",
        "\n",
        "          # Update start time for next request\n",
        "\n",
        "          first_time <- min(kline_data$OpenTime)\n",
        "          last_time <- max(kline_data$OpenTime)\n",
        "          # start_unix <- as.numeric(last_time) * 1000 + 1\n",
        "          # params$start <- start_unix\n",
        "          end_unix <- as.numeric(first_time) * 1000 - 1\n",
        "          params$end <- end_unix\n",
        "\n",
        "          # Break the loop if we've fetched all data\n",
        "          # print(length(kline_data$OpenTime))\n",
        "          # print(as.POSIXct(as.numeric(start_unix) / 1000, origin = \"1970-01-01\", tz = \"UTC\"))\n",
        "          # print(as.POSIXct(as.numeric(end_unix) / 1000, origin = \"1970-01-01\", tz = \"UTC\"))\n",
        "          if (length(kline_data$OpenTime) < params$limit || start_unix > end_unix) {\n",
        "            # print(start_unix > end_unix)\n",
        "            # print(\"breaking\")\n",
        "            break\n",
        "          }\n",
        "        } else {\n",
        "          # no data received\n",
        "          break\n",
        "        }\n",
        "\n",
        "        # return(kline_data)\n",
        "      } else {\n",
        "        warning(\"Unexpected data structure in the response.\")\n",
        "        return(all_data)\n",
        "      }\n",
        "    } else {\n",
        "      # stop(\"Failed to retrieve data: \", response$status_code)\n",
        "      warning(\"Request failed. Status: \", http_status(response)$status_code, \" - \", http_status(response)$reason)\n",
        "      return(all_data)\n",
        "    }\n",
        "  }\n",
        "\n",
        "  if (length(all_data) > 0) {\n",
        "    all_data <- all_data %>%\n",
        "    arrange(OpenTime)\n",
        "  }\n",
        "\n",
        "\n",
        "   return(all_data)\n",
        "}\n",
        "\n",
        "# Example usage\n",
        "result <- single_bybit_prices2(category = \"spot\", start=\"2023-11-01\", end=\"2023-11-02\", symbol = \"BTCUSDT\", interval = \"1\")\n",
        "# print(result)\n",
        "head(result)\n",
        "tail(result)\n",
        "# resul"
      ],
      "metadata": {
        "colab": {
          "base_uri": "https://localhost:8080/",
          "height": 555
        },
        "id": "EnLTcq9d0gR7",
        "outputId": "a01fb3f5-e5b0-4025-b6ef-6cc5da234c88"
      },
      "execution_count": null,
      "outputs": [
        {
          "output_type": "display_data",
          "data": {
            "text/html": [
              "<table class=\"dataframe\">\n",
              "<caption>A tibble: 6 × 7</caption>\n",
              "<thead>\n",
              "\t<tr><th scope=col>OpenTime</th><th scope=col>Open</th><th scope=col>High</th><th scope=col>Low</th><th scope=col>Close</th><th scope=col>Volume</th><th scope=col>Turnover</th></tr>\n",
              "\t<tr><th scope=col>&lt;dttm&gt;</th><th scope=col>&lt;dbl&gt;</th><th scope=col>&lt;dbl&gt;</th><th scope=col>&lt;dbl&gt;</th><th scope=col>&lt;dbl&gt;</th><th scope=col>&lt;dbl&gt;</th><th scope=col>&lt;dbl&gt;</th></tr>\n",
              "</thead>\n",
              "<tbody>\n",
              "\t<tr><td>2023-11-01 00:00:00</td><td>34641.07</td><td>34656.70</td><td>34636.11</td><td>34654.90</td><td>4.753187</td><td>164691.8</td></tr>\n",
              "\t<tr><td>2023-11-01 00:01:00</td><td>34654.90</td><td>34665.23</td><td>34630.17</td><td>34630.17</td><td>7.723151</td><td>267626.6</td></tr>\n",
              "\t<tr><td>2023-11-01 00:02:00</td><td>34630.17</td><td>34637.57</td><td>34623.20</td><td>34637.57</td><td>4.799330</td><td>166204.6</td></tr>\n",
              "\t<tr><td>2023-11-01 00:03:00</td><td>34637.57</td><td>34637.57</td><td>34603.19</td><td>34609.18</td><td>7.156501</td><td>247751.9</td></tr>\n",
              "\t<tr><td>2023-11-01 00:04:00</td><td>34609.18</td><td>34610.00</td><td>34584.26</td><td>34599.99</td><td>4.803048</td><td>166161.1</td></tr>\n",
              "\t<tr><td>2023-11-01 00:05:00</td><td>34599.99</td><td>34605.98</td><td>34587.82</td><td>34591.64</td><td>4.470993</td><td>154688.4</td></tr>\n",
              "</tbody>\n",
              "</table>\n"
            ],
            "text/markdown": "\nA tibble: 6 × 7\n\n| OpenTime &lt;dttm&gt; | Open &lt;dbl&gt; | High &lt;dbl&gt; | Low &lt;dbl&gt; | Close &lt;dbl&gt; | Volume &lt;dbl&gt; | Turnover &lt;dbl&gt; |\n|---|---|---|---|---|---|---|\n| 2023-11-01 00:00:00 | 34641.07 | 34656.70 | 34636.11 | 34654.90 | 4.753187 | 164691.8 |\n| 2023-11-01 00:01:00 | 34654.90 | 34665.23 | 34630.17 | 34630.17 | 7.723151 | 267626.6 |\n| 2023-11-01 00:02:00 | 34630.17 | 34637.57 | 34623.20 | 34637.57 | 4.799330 | 166204.6 |\n| 2023-11-01 00:03:00 | 34637.57 | 34637.57 | 34603.19 | 34609.18 | 7.156501 | 247751.9 |\n| 2023-11-01 00:04:00 | 34609.18 | 34610.00 | 34584.26 | 34599.99 | 4.803048 | 166161.1 |\n| 2023-11-01 00:05:00 | 34599.99 | 34605.98 | 34587.82 | 34591.64 | 4.470993 | 154688.4 |\n\n",
            "text/latex": "A tibble: 6 × 7\n\\begin{tabular}{lllllll}\n OpenTime & Open & High & Low & Close & Volume & Turnover\\\\\n <dttm> & <dbl> & <dbl> & <dbl> & <dbl> & <dbl> & <dbl>\\\\\n\\hline\n\t 2023-11-01 00:00:00 & 34641.07 & 34656.70 & 34636.11 & 34654.90 & 4.753187 & 164691.8\\\\\n\t 2023-11-01 00:01:00 & 34654.90 & 34665.23 & 34630.17 & 34630.17 & 7.723151 & 267626.6\\\\\n\t 2023-11-01 00:02:00 & 34630.17 & 34637.57 & 34623.20 & 34637.57 & 4.799330 & 166204.6\\\\\n\t 2023-11-01 00:03:00 & 34637.57 & 34637.57 & 34603.19 & 34609.18 & 7.156501 & 247751.9\\\\\n\t 2023-11-01 00:04:00 & 34609.18 & 34610.00 & 34584.26 & 34599.99 & 4.803048 & 166161.1\\\\\n\t 2023-11-01 00:05:00 & 34599.99 & 34605.98 & 34587.82 & 34591.64 & 4.470993 & 154688.4\\\\\n\\end{tabular}\n",
            "text/plain": [
              "  OpenTime            Open     High     Low      Close    Volume   Turnover\n",
              "1 2023-11-01 00:00:00 34641.07 34656.70 34636.11 34654.90 4.753187 164691.8\n",
              "2 2023-11-01 00:01:00 34654.90 34665.23 34630.17 34630.17 7.723151 267626.6\n",
              "3 2023-11-01 00:02:00 34630.17 34637.57 34623.20 34637.57 4.799330 166204.6\n",
              "4 2023-11-01 00:03:00 34637.57 34637.57 34603.19 34609.18 7.156501 247751.9\n",
              "5 2023-11-01 00:04:00 34609.18 34610.00 34584.26 34599.99 4.803048 166161.1\n",
              "6 2023-11-01 00:05:00 34599.99 34605.98 34587.82 34591.64 4.470993 154688.4"
            ]
          },
          "metadata": {}
        },
        {
          "output_type": "display_data",
          "data": {
            "text/html": [
              "<table class=\"dataframe\">\n",
              "<caption>A tibble: 6 × 7</caption>\n",
              "<thead>\n",
              "\t<tr><th scope=col>OpenTime</th><th scope=col>Open</th><th scope=col>High</th><th scope=col>Low</th><th scope=col>Close</th><th scope=col>Volume</th><th scope=col>Turnover</th></tr>\n",
              "\t<tr><th scope=col>&lt;dttm&gt;</th><th scope=col>&lt;dbl&gt;</th><th scope=col>&lt;dbl&gt;</th><th scope=col>&lt;dbl&gt;</th><th scope=col>&lt;dbl&gt;</th><th scope=col>&lt;dbl&gt;</th><th scope=col>&lt;dbl&gt;</th></tr>\n",
              "</thead>\n",
              "<tbody>\n",
              "\t<tr><td>2023-11-02 23:54:00</td><td>34920.00</td><td>34920.00</td><td>34919.65</td><td>34919.66</td><td>0.159987</td><td>  5586.712</td></tr>\n",
              "\t<tr><td>2023-11-02 23:55:00</td><td>34919.66</td><td>34923.45</td><td>34910.89</td><td>34923.44</td><td>5.790683</td><td>202181.264</td></tr>\n",
              "\t<tr><td>2023-11-02 23:56:00</td><td>34923.44</td><td>34930.00</td><td>34923.44</td><td>34930.00</td><td>2.568947</td><td> 89722.574</td></tr>\n",
              "\t<tr><td>2023-11-02 23:57:00</td><td>34930.00</td><td>34935.98</td><td>34929.99</td><td>34935.97</td><td>0.844876</td><td> 29512.624</td></tr>\n",
              "\t<tr><td>2023-11-02 23:58:00</td><td>34935.97</td><td>34935.98</td><td>34929.85</td><td>34930.34</td><td>3.156807</td><td>110275.842</td></tr>\n",
              "\t<tr><td>2023-11-02 23:59:00</td><td>34930.34</td><td>34941.12</td><td>34928.91</td><td>34940.76</td><td>2.977211</td><td>104004.877</td></tr>\n",
              "</tbody>\n",
              "</table>\n"
            ],
            "text/markdown": "\nA tibble: 6 × 7\n\n| OpenTime &lt;dttm&gt; | Open &lt;dbl&gt; | High &lt;dbl&gt; | Low &lt;dbl&gt; | Close &lt;dbl&gt; | Volume &lt;dbl&gt; | Turnover &lt;dbl&gt; |\n|---|---|---|---|---|---|---|\n| 2023-11-02 23:54:00 | 34920.00 | 34920.00 | 34919.65 | 34919.66 | 0.159987 |   5586.712 |\n| 2023-11-02 23:55:00 | 34919.66 | 34923.45 | 34910.89 | 34923.44 | 5.790683 | 202181.264 |\n| 2023-11-02 23:56:00 | 34923.44 | 34930.00 | 34923.44 | 34930.00 | 2.568947 |  89722.574 |\n| 2023-11-02 23:57:00 | 34930.00 | 34935.98 | 34929.99 | 34935.97 | 0.844876 |  29512.624 |\n| 2023-11-02 23:58:00 | 34935.97 | 34935.98 | 34929.85 | 34930.34 | 3.156807 | 110275.842 |\n| 2023-11-02 23:59:00 | 34930.34 | 34941.12 | 34928.91 | 34940.76 | 2.977211 | 104004.877 |\n\n",
            "text/latex": "A tibble: 6 × 7\n\\begin{tabular}{lllllll}\n OpenTime & Open & High & Low & Close & Volume & Turnover\\\\\n <dttm> & <dbl> & <dbl> & <dbl> & <dbl> & <dbl> & <dbl>\\\\\n\\hline\n\t 2023-11-02 23:54:00 & 34920.00 & 34920.00 & 34919.65 & 34919.66 & 0.159987 &   5586.712\\\\\n\t 2023-11-02 23:55:00 & 34919.66 & 34923.45 & 34910.89 & 34923.44 & 5.790683 & 202181.264\\\\\n\t 2023-11-02 23:56:00 & 34923.44 & 34930.00 & 34923.44 & 34930.00 & 2.568947 &  89722.574\\\\\n\t 2023-11-02 23:57:00 & 34930.00 & 34935.98 & 34929.99 & 34935.97 & 0.844876 &  29512.624\\\\\n\t 2023-11-02 23:58:00 & 34935.97 & 34935.98 & 34929.85 & 34930.34 & 3.156807 & 110275.842\\\\\n\t 2023-11-02 23:59:00 & 34930.34 & 34941.12 & 34928.91 & 34940.76 & 2.977211 & 104004.877\\\\\n\\end{tabular}\n",
            "text/plain": [
              "  OpenTime            Open     High     Low      Close    Volume   Turnover  \n",
              "1 2023-11-02 23:54:00 34920.00 34920.00 34919.65 34919.66 0.159987   5586.712\n",
              "2 2023-11-02 23:55:00 34919.66 34923.45 34910.89 34923.44 5.790683 202181.264\n",
              "3 2023-11-02 23:56:00 34923.44 34930.00 34923.44 34930.00 2.568947  89722.574\n",
              "4 2023-11-02 23:57:00 34930.00 34935.98 34929.99 34935.97 0.844876  29512.624\n",
              "5 2023-11-02 23:58:00 34935.97 34935.98 34929.85 34930.34 3.156807 110275.842\n",
              "6 2023-11-02 23:59:00 34930.34 34941.12 34928.91 34940.76 2.977211 104004.877"
            ]
          },
          "metadata": {}
        }
      ]
    },
    {
      "cell_type": "markdown",
      "source": [
        "## bybit_prices - get multiple symbols candles history"
      ],
      "metadata": {
        "id": "fHScdmKS2r4o"
      }
    },
    {
      "cell_type": "code",
      "source": [
        "bybit_prices <- function(category = \"spot\", symbols, interval = \"60\", start, end) {\n",
        "  # Helper function for adding a Ticker column and arranging columns\n",
        "  fun <- function(category, symbol, interval, start, end) {\n",
        "    prices <- single_bybit_prices2(\n",
        "      category, symbol, interval, start, end\n",
        "    )\n",
        "    if (length(prices) > 0) {\n",
        "     prices <- prices %>%\n",
        "      mutate(Symbol = symbol) %>%\n",
        "      relocate(Symbol, .after = OpenTime)\n",
        "    } else {\n",
        "      print(glue(\"[bybit_prices] no prices for {symbol}\"))\n",
        "    }\n",
        "    return (prices)\n",
        "  }\n",
        "\n",
        "  symbols %>%\n",
        "    map_dfr(~fun(category, symbol = .x, interval, start, end)) %>%\n",
        "    arrange(OpenTime)\n",
        "}"
      ],
      "metadata": {
        "id": "TBbhj9bAxvR4"
      },
      "execution_count": null,
      "outputs": []
    },
    {
      "cell_type": "code",
      "source": [
        "# symbols <- c(\"BTCUSDT\", \"SOLUSDT\")\n",
        "symbols <- c(\"BTCUSDT\")\n",
        "prices <- bybit_prices(\n",
        "  # category = \"spot\",\n",
        "  symbols = symbols,\n",
        "  interval = \"60\",\n",
        "  start = \"2023-06-01\",\n",
        "  end = \"2023-11-02\"\n",
        ")\n",
        "\n",
        "prices"
      ],
      "metadata": {
        "colab": {
          "base_uri": "https://localhost:8080/",
          "height": 1000
        },
        "id": "E7J4EBCTRD4d",
        "outputId": "40f1a5c9-ef66-4d50-9c22-27383e88db74"
      },
      "execution_count": null,
      "outputs": [
        {
          "output_type": "display_data",
          "data": {
            "text/html": [
              "<table class=\"dataframe\">\n",
              "<caption>A tibble: 3720 × 8</caption>\n",
              "<thead>\n",
              "\t<tr><th scope=col>OpenTime</th><th scope=col>Symbol</th><th scope=col>Open</th><th scope=col>High</th><th scope=col>Low</th><th scope=col>Close</th><th scope=col>Volume</th><th scope=col>Turnover</th></tr>\n",
              "\t<tr><th scope=col>&lt;dttm&gt;</th><th scope=col>&lt;chr&gt;</th><th scope=col>&lt;dbl&gt;</th><th scope=col>&lt;dbl&gt;</th><th scope=col>&lt;dbl&gt;</th><th scope=col>&lt;dbl&gt;</th><th scope=col>&lt;dbl&gt;</th><th scope=col>&lt;dbl&gt;</th></tr>\n",
              "</thead>\n",
              "<tbody>\n",
              "\t<tr><td>2023-06-01 00:00:00</td><td>BTCUSDT</td><td>27211.51</td><td>27352.39</td><td>27027.19</td><td>27067.50</td><td>364.1892</td><td> 9907528</td></tr>\n",
              "\t<tr><td>2023-06-01 01:00:00</td><td>BTCUSDT</td><td>27067.50</td><td>27166.36</td><td>27062.74</td><td>27080.76</td><td>338.3078</td><td> 9174435</td></tr>\n",
              "\t<tr><td>2023-06-01 02:00:00</td><td>BTCUSDT</td><td>27080.76</td><td>27114.38</td><td>26650.45</td><td>26719.38</td><td>707.1064</td><td>18986263</td></tr>\n",
              "\t<tr><td>2023-06-01 03:00:00</td><td>BTCUSDT</td><td>26719.38</td><td>26838.15</td><td>26609.31</td><td>26780.40</td><td>370.9620</td><td> 9915351</td></tr>\n",
              "\t<tr><td>2023-06-01 04:00:00</td><td>BTCUSDT</td><td>26780.40</td><td>26826.01</td><td>26756.93</td><td>26808.40</td><td>129.9128</td><td> 3480179</td></tr>\n",
              "\t<tr><td>2023-06-01 05:00:00</td><td>BTCUSDT</td><td>26808.40</td><td>26865.68</td><td>26790.00</td><td>26849.58</td><td>137.6029</td><td> 3692906</td></tr>\n",
              "\t<tr><td>2023-06-01 06:00:00</td><td>BTCUSDT</td><td>26849.58</td><td>26882.12</td><td>26778.70</td><td>26788.38</td><td>168.4887</td><td> 4523289</td></tr>\n",
              "\t<tr><td>2023-06-01 07:00:00</td><td>BTCUSDT</td><td>26788.38</td><td>26864.38</td><td>26766.00</td><td>26805.48</td><td>139.0436</td><td> 3728814</td></tr>\n",
              "\t<tr><td>2023-06-01 08:00:00</td><td>BTCUSDT</td><td>26805.48</td><td>26920.54</td><td>26791.23</td><td>26913.91</td><td>211.1701</td><td> 5669813</td></tr>\n",
              "\t<tr><td>2023-06-01 09:00:00</td><td>BTCUSDT</td><td>26913.91</td><td>26947.82</td><td>26900.19</td><td>26911.57</td><td>128.9416</td><td> 3471817</td></tr>\n",
              "\t<tr><td>2023-06-01 10:00:00</td><td>BTCUSDT</td><td>26911.57</td><td>26930.38</td><td>26860.00</td><td>26862.03</td><td>111.8461</td><td> 3007515</td></tr>\n",
              "\t<tr><td>2023-06-01 11:00:00</td><td>BTCUSDT</td><td>26862.03</td><td>26904.28</td><td>26843.22</td><td>26894.39</td><td>101.1766</td><td> 2718284</td></tr>\n",
              "\t<tr><td>2023-06-01 12:00:00</td><td>BTCUSDT</td><td>26894.39</td><td>26960.38</td><td>26794.80</td><td>26942.08</td><td>249.4260</td><td> 6707010</td></tr>\n",
              "\t<tr><td>2023-06-01 13:00:00</td><td>BTCUSDT</td><td>26942.08</td><td>26968.34</td><td>26870.19</td><td>26892.03</td><td>206.8328</td><td> 5565883</td></tr>\n",
              "\t<tr><td>2023-06-01 14:00:00</td><td>BTCUSDT</td><td>26892.03</td><td>26977.53</td><td>26837.00</td><td>26896.99</td><td>328.2087</td><td> 8828197</td></tr>\n",
              "\t<tr><td>2023-06-01 15:00:00</td><td>BTCUSDT</td><td>26896.99</td><td>26944.10</td><td>26863.45</td><td>26894.99</td><td>198.4531</td><td> 5339773</td></tr>\n",
              "\t<tr><td>2023-06-01 16:00:00</td><td>BTCUSDT</td><td>26894.99</td><td>27172.48</td><td>26804.48</td><td>27092.55</td><td>467.1546</td><td>12607561</td></tr>\n",
              "\t<tr><td>2023-06-01 17:00:00</td><td>BTCUSDT</td><td>27092.55</td><td>27136.93</td><td>26923.67</td><td>26959.00</td><td>415.0778</td><td>11210196</td></tr>\n",
              "\t<tr><td>2023-06-01 18:00:00</td><td>BTCUSDT</td><td>26959.00</td><td>27047.50</td><td>26941.02</td><td>26965.44</td><td>135.7351</td><td> 3662906</td></tr>\n",
              "\t<tr><td>2023-06-01 19:00:00</td><td>BTCUSDT</td><td>26965.44</td><td>26984.35</td><td>26658.11</td><td>26860.70</td><td>477.4625</td><td>12792729</td></tr>\n",
              "\t<tr><td>2023-06-01 20:00:00</td><td>BTCUSDT</td><td>26860.70</td><td>26918.73</td><td>26831.45</td><td>26863.44</td><td>149.6079</td><td> 4018858</td></tr>\n",
              "\t<tr><td>2023-06-01 21:00:00</td><td>BTCUSDT</td><td>26863.44</td><td>26943.11</td><td>26863.44</td><td>26893.45</td><td>176.1821</td><td> 4742315</td></tr>\n",
              "\t<tr><td>2023-06-01 22:00:00</td><td>BTCUSDT</td><td>26893.45</td><td>26903.46</td><td>26853.45</td><td>26885.02</td><td>129.3089</td><td> 3475165</td></tr>\n",
              "\t<tr><td>2023-06-01 23:00:00</td><td>BTCUSDT</td><td>26885.02</td><td>26885.02</td><td>26715.46</td><td>26815.44</td><td>193.5633</td><td> 5189756</td></tr>\n",
              "\t<tr><td>2023-06-02 00:00:00</td><td>BTCUSDT</td><td>26815.44</td><td>26823.00</td><td>26507.88</td><td>26783.10</td><td>682.4761</td><td>18213249</td></tr>\n",
              "\t<tr><td>2023-06-02 01:00:00</td><td>BTCUSDT</td><td>26783.10</td><td>26847.52</td><td>26717.48</td><td>26809.43</td><td>258.0112</td><td> 6914923</td></tr>\n",
              "\t<tr><td>2023-06-02 02:00:00</td><td>BTCUSDT</td><td>26809.43</td><td>26982.91</td><td>26809.43</td><td>26960.00</td><td>267.7308</td><td> 7206391</td></tr>\n",
              "\t<tr><td>2023-06-02 03:00:00</td><td>BTCUSDT</td><td>26960.00</td><td>27014.26</td><td>26931.46</td><td>27001.45</td><td>145.3226</td><td> 3917990</td></tr>\n",
              "\t<tr><td>2023-06-02 04:00:00</td><td>BTCUSDT</td><td>27001.45</td><td>27113.62</td><td>26951.49</td><td>27069.46</td><td>350.2827</td><td> 9472042</td></tr>\n",
              "\t<tr><td>2023-06-02 05:00:00</td><td>BTCUSDT</td><td>27069.46</td><td>27222.08</td><td>27065.47</td><td>27153.63</td><td>344.4377</td><td> 9347969</td></tr>\n",
              "\t<tr><td>⋮</td><td>⋮</td><td>⋮</td><td>⋮</td><td>⋮</td><td>⋮</td><td>⋮</td><td>⋮</td></tr>\n",
              "\t<tr><td>2023-11-01 18:00:00</td><td>BTCUSDT</td><td>34510.72</td><td>34745.16</td><td>34428.01</td><td>34577.29</td><td> 743.3592</td><td>25693288</td></tr>\n",
              "\t<tr><td>2023-11-01 19:00:00</td><td>BTCUSDT</td><td>34577.29</td><td>34718.44</td><td>34490.01</td><td>34560.03</td><td> 601.3720</td><td>20803427</td></tr>\n",
              "\t<tr><td>2023-11-01 20:00:00</td><td>BTCUSDT</td><td>34560.03</td><td>35499.63</td><td>34536.34</td><td>35420.35</td><td>1597.2857</td><td>55972053</td></tr>\n",
              "\t<tr><td>2023-11-01 21:00:00</td><td>BTCUSDT</td><td>35420.35</td><td>35618.19</td><td>35112.37</td><td>35380.00</td><td>1468.4985</td><td>51919977</td></tr>\n",
              "\t<tr><td>2023-11-01 22:00:00</td><td>BTCUSDT</td><td>35380.00</td><td>35528.43</td><td>35181.49</td><td>35282.93</td><td> 628.9052</td><td>22240175</td></tr>\n",
              "\t<tr><td>2023-11-01 23:00:00</td><td>BTCUSDT</td><td>35282.93</td><td>35461.76</td><td>35222.00</td><td>35420.03</td><td> 356.6474</td><td>12621870</td></tr>\n",
              "\t<tr><td>2023-11-02 00:00:00</td><td>BTCUSDT</td><td>35420.03</td><td>35642.00</td><td>35368.33</td><td>35426.18</td><td> 680.1443</td><td>24126261</td></tr>\n",
              "\t<tr><td>2023-11-02 01:00:00</td><td>BTCUSDT</td><td>35426.18</td><td>35619.58</td><td>35424.35</td><td>35567.03</td><td> 444.9938</td><td>15805671</td></tr>\n",
              "\t<tr><td>2023-11-02 02:00:00</td><td>BTCUSDT</td><td>35567.03</td><td>35987.19</td><td>35517.13</td><td>35673.95</td><td>1360.3812</td><td>48639830</td></tr>\n",
              "\t<tr><td>2023-11-02 03:00:00</td><td>BTCUSDT</td><td>35673.95</td><td>35818.23</td><td>35551.00</td><td>35570.35</td><td> 673.2089</td><td>24009907</td></tr>\n",
              "\t<tr><td>2023-11-02 04:00:00</td><td>BTCUSDT</td><td>35570.35</td><td>35601.33</td><td>35444.87</td><td>35462.35</td><td> 473.5333</td><td>16824555</td></tr>\n",
              "\t<tr><td>2023-11-02 05:00:00</td><td>BTCUSDT</td><td>35462.35</td><td>35480.00</td><td>35150.00</td><td>35196.56</td><td> 854.6028</td><td>30164505</td></tr>\n",
              "\t<tr><td>2023-11-02 06:00:00</td><td>BTCUSDT</td><td>35196.56</td><td>35261.55</td><td>35064.29</td><td>35233.76</td><td> 645.0725</td><td>22695963</td></tr>\n",
              "\t<tr><td>2023-11-02 07:00:00</td><td>BTCUSDT</td><td>35233.76</td><td>35351.99</td><td>35214.35</td><td>35278.34</td><td> 450.6950</td><td>15899262</td></tr>\n",
              "\t<tr><td>2023-11-02 08:00:00</td><td>BTCUSDT</td><td>35278.34</td><td>35321.73</td><td>35092.00</td><td>35318.23</td><td> 413.4702</td><td>14564311</td></tr>\n",
              "\t<tr><td>2023-11-02 09:00:00</td><td>BTCUSDT</td><td>35318.23</td><td>35410.61</td><td>35254.35</td><td>35376.49</td><td> 397.9813</td><td>14066147</td></tr>\n",
              "\t<tr><td>2023-11-02 10:00:00</td><td>BTCUSDT</td><td>35376.49</td><td>35480.00</td><td>35339.64</td><td>35373.01</td><td> 420.2095</td><td>14879887</td></tr>\n",
              "\t<tr><td>2023-11-02 11:00:00</td><td>BTCUSDT</td><td>35373.01</td><td>35439.99</td><td>35310.34</td><td>35379.50</td><td> 307.3827</td><td>10873691</td></tr>\n",
              "\t<tr><td>2023-11-02 12:00:00</td><td>BTCUSDT</td><td>35379.50</td><td>35460.00</td><td>35309.59</td><td>35353.96</td><td> 317.2491</td><td>11225945</td></tr>\n",
              "\t<tr><td>2023-11-02 13:00:00</td><td>BTCUSDT</td><td>35353.96</td><td>35370.00</td><td>34665.00</td><td>34926.34</td><td>1611.0444</td><td>56427597</td></tr>\n",
              "\t<tr><td>2023-11-02 14:00:00</td><td>BTCUSDT</td><td>34926.34</td><td>35020.76</td><td>34718.00</td><td>34926.63</td><td> 876.8207</td><td>30576189</td></tr>\n",
              "\t<tr><td>2023-11-02 15:00:00</td><td>BTCUSDT</td><td>34926.63</td><td>34932.14</td><td>34535.68</td><td>34638.01</td><td>1083.9033</td><td>37615604</td></tr>\n",
              "\t<tr><td>2023-11-02 16:00:00</td><td>BTCUSDT</td><td>34638.01</td><td>34745.03</td><td>34288.57</td><td>34644.34</td><td>1042.9113</td><td>36005463</td></tr>\n",
              "\t<tr><td>2023-11-02 17:00:00</td><td>BTCUSDT</td><td>34644.34</td><td>34779.99</td><td>34552.34</td><td>34769.35</td><td> 517.5943</td><td>17937208</td></tr>\n",
              "\t<tr><td>2023-11-02 18:00:00</td><td>BTCUSDT</td><td>34769.35</td><td>34870.00</td><td>34721.23</td><td>34848.34</td><td> 449.8220</td><td>15656300</td></tr>\n",
              "\t<tr><td>2023-11-02 19:00:00</td><td>BTCUSDT</td><td>34848.34</td><td>35021.53</td><td>34811.56</td><td>35000.10</td><td> 549.0024</td><td>19167002</td></tr>\n",
              "\t<tr><td>2023-11-02 20:00:00</td><td>BTCUSDT</td><td>35000.10</td><td>35101.28</td><td>34819.01</td><td>34905.81</td><td> 891.2979</td><td>31149450</td></tr>\n",
              "\t<tr><td>2023-11-02 21:00:00</td><td>BTCUSDT</td><td>34905.81</td><td>34971.85</td><td>34850.00</td><td>34920.00</td><td> 247.9940</td><td> 8656344</td></tr>\n",
              "\t<tr><td>2023-11-02 22:00:00</td><td>BTCUSDT</td><td>34920.00</td><td>34924.31</td><td>34749.99</td><td>34788.33</td><td> 397.5066</td><td>13839571</td></tr>\n",
              "\t<tr><td>2023-11-02 23:00:00</td><td>BTCUSDT</td><td>34788.33</td><td>34941.12</td><td>34703.33</td><td>34940.76</td><td> 329.3410</td><td>11473825</td></tr>\n",
              "</tbody>\n",
              "</table>\n"
            ],
            "text/markdown": "\nA tibble: 3720 × 8\n\n| OpenTime &lt;dttm&gt; | Symbol &lt;chr&gt; | Open &lt;dbl&gt; | High &lt;dbl&gt; | Low &lt;dbl&gt; | Close &lt;dbl&gt; | Volume &lt;dbl&gt; | Turnover &lt;dbl&gt; |\n|---|---|---|---|---|---|---|---|\n| 2023-06-01 00:00:00 | BTCUSDT | 27211.51 | 27352.39 | 27027.19 | 27067.50 | 364.1892 |  9907528 |\n| 2023-06-01 01:00:00 | BTCUSDT | 27067.50 | 27166.36 | 27062.74 | 27080.76 | 338.3078 |  9174435 |\n| 2023-06-01 02:00:00 | BTCUSDT | 27080.76 | 27114.38 | 26650.45 | 26719.38 | 707.1064 | 18986263 |\n| 2023-06-01 03:00:00 | BTCUSDT | 26719.38 | 26838.15 | 26609.31 | 26780.40 | 370.9620 |  9915351 |\n| 2023-06-01 04:00:00 | BTCUSDT | 26780.40 | 26826.01 | 26756.93 | 26808.40 | 129.9128 |  3480179 |\n| 2023-06-01 05:00:00 | BTCUSDT | 26808.40 | 26865.68 | 26790.00 | 26849.58 | 137.6029 |  3692906 |\n| 2023-06-01 06:00:00 | BTCUSDT | 26849.58 | 26882.12 | 26778.70 | 26788.38 | 168.4887 |  4523289 |\n| 2023-06-01 07:00:00 | BTCUSDT | 26788.38 | 26864.38 | 26766.00 | 26805.48 | 139.0436 |  3728814 |\n| 2023-06-01 08:00:00 | BTCUSDT | 26805.48 | 26920.54 | 26791.23 | 26913.91 | 211.1701 |  5669813 |\n| 2023-06-01 09:00:00 | BTCUSDT | 26913.91 | 26947.82 | 26900.19 | 26911.57 | 128.9416 |  3471817 |\n| 2023-06-01 10:00:00 | BTCUSDT | 26911.57 | 26930.38 | 26860.00 | 26862.03 | 111.8461 |  3007515 |\n| 2023-06-01 11:00:00 | BTCUSDT | 26862.03 | 26904.28 | 26843.22 | 26894.39 | 101.1766 |  2718284 |\n| 2023-06-01 12:00:00 | BTCUSDT | 26894.39 | 26960.38 | 26794.80 | 26942.08 | 249.4260 |  6707010 |\n| 2023-06-01 13:00:00 | BTCUSDT | 26942.08 | 26968.34 | 26870.19 | 26892.03 | 206.8328 |  5565883 |\n| 2023-06-01 14:00:00 | BTCUSDT | 26892.03 | 26977.53 | 26837.00 | 26896.99 | 328.2087 |  8828197 |\n| 2023-06-01 15:00:00 | BTCUSDT | 26896.99 | 26944.10 | 26863.45 | 26894.99 | 198.4531 |  5339773 |\n| 2023-06-01 16:00:00 | BTCUSDT | 26894.99 | 27172.48 | 26804.48 | 27092.55 | 467.1546 | 12607561 |\n| 2023-06-01 17:00:00 | BTCUSDT | 27092.55 | 27136.93 | 26923.67 | 26959.00 | 415.0778 | 11210196 |\n| 2023-06-01 18:00:00 | BTCUSDT | 26959.00 | 27047.50 | 26941.02 | 26965.44 | 135.7351 |  3662906 |\n| 2023-06-01 19:00:00 | BTCUSDT | 26965.44 | 26984.35 | 26658.11 | 26860.70 | 477.4625 | 12792729 |\n| 2023-06-01 20:00:00 | BTCUSDT | 26860.70 | 26918.73 | 26831.45 | 26863.44 | 149.6079 |  4018858 |\n| 2023-06-01 21:00:00 | BTCUSDT | 26863.44 | 26943.11 | 26863.44 | 26893.45 | 176.1821 |  4742315 |\n| 2023-06-01 22:00:00 | BTCUSDT | 26893.45 | 26903.46 | 26853.45 | 26885.02 | 129.3089 |  3475165 |\n| 2023-06-01 23:00:00 | BTCUSDT | 26885.02 | 26885.02 | 26715.46 | 26815.44 | 193.5633 |  5189756 |\n| 2023-06-02 00:00:00 | BTCUSDT | 26815.44 | 26823.00 | 26507.88 | 26783.10 | 682.4761 | 18213249 |\n| 2023-06-02 01:00:00 | BTCUSDT | 26783.10 | 26847.52 | 26717.48 | 26809.43 | 258.0112 |  6914923 |\n| 2023-06-02 02:00:00 | BTCUSDT | 26809.43 | 26982.91 | 26809.43 | 26960.00 | 267.7308 |  7206391 |\n| 2023-06-02 03:00:00 | BTCUSDT | 26960.00 | 27014.26 | 26931.46 | 27001.45 | 145.3226 |  3917990 |\n| 2023-06-02 04:00:00 | BTCUSDT | 27001.45 | 27113.62 | 26951.49 | 27069.46 | 350.2827 |  9472042 |\n| 2023-06-02 05:00:00 | BTCUSDT | 27069.46 | 27222.08 | 27065.47 | 27153.63 | 344.4377 |  9347969 |\n| ⋮ | ⋮ | ⋮ | ⋮ | ⋮ | ⋮ | ⋮ | ⋮ |\n| 2023-11-01 18:00:00 | BTCUSDT | 34510.72 | 34745.16 | 34428.01 | 34577.29 |  743.3592 | 25693288 |\n| 2023-11-01 19:00:00 | BTCUSDT | 34577.29 | 34718.44 | 34490.01 | 34560.03 |  601.3720 | 20803427 |\n| 2023-11-01 20:00:00 | BTCUSDT | 34560.03 | 35499.63 | 34536.34 | 35420.35 | 1597.2857 | 55972053 |\n| 2023-11-01 21:00:00 | BTCUSDT | 35420.35 | 35618.19 | 35112.37 | 35380.00 | 1468.4985 | 51919977 |\n| 2023-11-01 22:00:00 | BTCUSDT | 35380.00 | 35528.43 | 35181.49 | 35282.93 |  628.9052 | 22240175 |\n| 2023-11-01 23:00:00 | BTCUSDT | 35282.93 | 35461.76 | 35222.00 | 35420.03 |  356.6474 | 12621870 |\n| 2023-11-02 00:00:00 | BTCUSDT | 35420.03 | 35642.00 | 35368.33 | 35426.18 |  680.1443 | 24126261 |\n| 2023-11-02 01:00:00 | BTCUSDT | 35426.18 | 35619.58 | 35424.35 | 35567.03 |  444.9938 | 15805671 |\n| 2023-11-02 02:00:00 | BTCUSDT | 35567.03 | 35987.19 | 35517.13 | 35673.95 | 1360.3812 | 48639830 |\n| 2023-11-02 03:00:00 | BTCUSDT | 35673.95 | 35818.23 | 35551.00 | 35570.35 |  673.2089 | 24009907 |\n| 2023-11-02 04:00:00 | BTCUSDT | 35570.35 | 35601.33 | 35444.87 | 35462.35 |  473.5333 | 16824555 |\n| 2023-11-02 05:00:00 | BTCUSDT | 35462.35 | 35480.00 | 35150.00 | 35196.56 |  854.6028 | 30164505 |\n| 2023-11-02 06:00:00 | BTCUSDT | 35196.56 | 35261.55 | 35064.29 | 35233.76 |  645.0725 | 22695963 |\n| 2023-11-02 07:00:00 | BTCUSDT | 35233.76 | 35351.99 | 35214.35 | 35278.34 |  450.6950 | 15899262 |\n| 2023-11-02 08:00:00 | BTCUSDT | 35278.34 | 35321.73 | 35092.00 | 35318.23 |  413.4702 | 14564311 |\n| 2023-11-02 09:00:00 | BTCUSDT | 35318.23 | 35410.61 | 35254.35 | 35376.49 |  397.9813 | 14066147 |\n| 2023-11-02 10:00:00 | BTCUSDT | 35376.49 | 35480.00 | 35339.64 | 35373.01 |  420.2095 | 14879887 |\n| 2023-11-02 11:00:00 | BTCUSDT | 35373.01 | 35439.99 | 35310.34 | 35379.50 |  307.3827 | 10873691 |\n| 2023-11-02 12:00:00 | BTCUSDT | 35379.50 | 35460.00 | 35309.59 | 35353.96 |  317.2491 | 11225945 |\n| 2023-11-02 13:00:00 | BTCUSDT | 35353.96 | 35370.00 | 34665.00 | 34926.34 | 1611.0444 | 56427597 |\n| 2023-11-02 14:00:00 | BTCUSDT | 34926.34 | 35020.76 | 34718.00 | 34926.63 |  876.8207 | 30576189 |\n| 2023-11-02 15:00:00 | BTCUSDT | 34926.63 | 34932.14 | 34535.68 | 34638.01 | 1083.9033 | 37615604 |\n| 2023-11-02 16:00:00 | BTCUSDT | 34638.01 | 34745.03 | 34288.57 | 34644.34 | 1042.9113 | 36005463 |\n| 2023-11-02 17:00:00 | BTCUSDT | 34644.34 | 34779.99 | 34552.34 | 34769.35 |  517.5943 | 17937208 |\n| 2023-11-02 18:00:00 | BTCUSDT | 34769.35 | 34870.00 | 34721.23 | 34848.34 |  449.8220 | 15656300 |\n| 2023-11-02 19:00:00 | BTCUSDT | 34848.34 | 35021.53 | 34811.56 | 35000.10 |  549.0024 | 19167002 |\n| 2023-11-02 20:00:00 | BTCUSDT | 35000.10 | 35101.28 | 34819.01 | 34905.81 |  891.2979 | 31149450 |\n| 2023-11-02 21:00:00 | BTCUSDT | 34905.81 | 34971.85 | 34850.00 | 34920.00 |  247.9940 |  8656344 |\n| 2023-11-02 22:00:00 | BTCUSDT | 34920.00 | 34924.31 | 34749.99 | 34788.33 |  397.5066 | 13839571 |\n| 2023-11-02 23:00:00 | BTCUSDT | 34788.33 | 34941.12 | 34703.33 | 34940.76 |  329.3410 | 11473825 |\n\n",
            "text/latex": "A tibble: 3720 × 8\n\\begin{tabular}{llllllll}\n OpenTime & Symbol & Open & High & Low & Close & Volume & Turnover\\\\\n <dttm> & <chr> & <dbl> & <dbl> & <dbl> & <dbl> & <dbl> & <dbl>\\\\\n\\hline\n\t 2023-06-01 00:00:00 & BTCUSDT & 27211.51 & 27352.39 & 27027.19 & 27067.50 & 364.1892 &  9907528\\\\\n\t 2023-06-01 01:00:00 & BTCUSDT & 27067.50 & 27166.36 & 27062.74 & 27080.76 & 338.3078 &  9174435\\\\\n\t 2023-06-01 02:00:00 & BTCUSDT & 27080.76 & 27114.38 & 26650.45 & 26719.38 & 707.1064 & 18986263\\\\\n\t 2023-06-01 03:00:00 & BTCUSDT & 26719.38 & 26838.15 & 26609.31 & 26780.40 & 370.9620 &  9915351\\\\\n\t 2023-06-01 04:00:00 & BTCUSDT & 26780.40 & 26826.01 & 26756.93 & 26808.40 & 129.9128 &  3480179\\\\\n\t 2023-06-01 05:00:00 & BTCUSDT & 26808.40 & 26865.68 & 26790.00 & 26849.58 & 137.6029 &  3692906\\\\\n\t 2023-06-01 06:00:00 & BTCUSDT & 26849.58 & 26882.12 & 26778.70 & 26788.38 & 168.4887 &  4523289\\\\\n\t 2023-06-01 07:00:00 & BTCUSDT & 26788.38 & 26864.38 & 26766.00 & 26805.48 & 139.0436 &  3728814\\\\\n\t 2023-06-01 08:00:00 & BTCUSDT & 26805.48 & 26920.54 & 26791.23 & 26913.91 & 211.1701 &  5669813\\\\\n\t 2023-06-01 09:00:00 & BTCUSDT & 26913.91 & 26947.82 & 26900.19 & 26911.57 & 128.9416 &  3471817\\\\\n\t 2023-06-01 10:00:00 & BTCUSDT & 26911.57 & 26930.38 & 26860.00 & 26862.03 & 111.8461 &  3007515\\\\\n\t 2023-06-01 11:00:00 & BTCUSDT & 26862.03 & 26904.28 & 26843.22 & 26894.39 & 101.1766 &  2718284\\\\\n\t 2023-06-01 12:00:00 & BTCUSDT & 26894.39 & 26960.38 & 26794.80 & 26942.08 & 249.4260 &  6707010\\\\\n\t 2023-06-01 13:00:00 & BTCUSDT & 26942.08 & 26968.34 & 26870.19 & 26892.03 & 206.8328 &  5565883\\\\\n\t 2023-06-01 14:00:00 & BTCUSDT & 26892.03 & 26977.53 & 26837.00 & 26896.99 & 328.2087 &  8828197\\\\\n\t 2023-06-01 15:00:00 & BTCUSDT & 26896.99 & 26944.10 & 26863.45 & 26894.99 & 198.4531 &  5339773\\\\\n\t 2023-06-01 16:00:00 & BTCUSDT & 26894.99 & 27172.48 & 26804.48 & 27092.55 & 467.1546 & 12607561\\\\\n\t 2023-06-01 17:00:00 & BTCUSDT & 27092.55 & 27136.93 & 26923.67 & 26959.00 & 415.0778 & 11210196\\\\\n\t 2023-06-01 18:00:00 & BTCUSDT & 26959.00 & 27047.50 & 26941.02 & 26965.44 & 135.7351 &  3662906\\\\\n\t 2023-06-01 19:00:00 & BTCUSDT & 26965.44 & 26984.35 & 26658.11 & 26860.70 & 477.4625 & 12792729\\\\\n\t 2023-06-01 20:00:00 & BTCUSDT & 26860.70 & 26918.73 & 26831.45 & 26863.44 & 149.6079 &  4018858\\\\\n\t 2023-06-01 21:00:00 & BTCUSDT & 26863.44 & 26943.11 & 26863.44 & 26893.45 & 176.1821 &  4742315\\\\\n\t 2023-06-01 22:00:00 & BTCUSDT & 26893.45 & 26903.46 & 26853.45 & 26885.02 & 129.3089 &  3475165\\\\\n\t 2023-06-01 23:00:00 & BTCUSDT & 26885.02 & 26885.02 & 26715.46 & 26815.44 & 193.5633 &  5189756\\\\\n\t 2023-06-02 00:00:00 & BTCUSDT & 26815.44 & 26823.00 & 26507.88 & 26783.10 & 682.4761 & 18213249\\\\\n\t 2023-06-02 01:00:00 & BTCUSDT & 26783.10 & 26847.52 & 26717.48 & 26809.43 & 258.0112 &  6914923\\\\\n\t 2023-06-02 02:00:00 & BTCUSDT & 26809.43 & 26982.91 & 26809.43 & 26960.00 & 267.7308 &  7206391\\\\\n\t 2023-06-02 03:00:00 & BTCUSDT & 26960.00 & 27014.26 & 26931.46 & 27001.45 & 145.3226 &  3917990\\\\\n\t 2023-06-02 04:00:00 & BTCUSDT & 27001.45 & 27113.62 & 26951.49 & 27069.46 & 350.2827 &  9472042\\\\\n\t 2023-06-02 05:00:00 & BTCUSDT & 27069.46 & 27222.08 & 27065.47 & 27153.63 & 344.4377 &  9347969\\\\\n\t ⋮ & ⋮ & ⋮ & ⋮ & ⋮ & ⋮ & ⋮ & ⋮\\\\\n\t 2023-11-01 18:00:00 & BTCUSDT & 34510.72 & 34745.16 & 34428.01 & 34577.29 &  743.3592 & 25693288\\\\\n\t 2023-11-01 19:00:00 & BTCUSDT & 34577.29 & 34718.44 & 34490.01 & 34560.03 &  601.3720 & 20803427\\\\\n\t 2023-11-01 20:00:00 & BTCUSDT & 34560.03 & 35499.63 & 34536.34 & 35420.35 & 1597.2857 & 55972053\\\\\n\t 2023-11-01 21:00:00 & BTCUSDT & 35420.35 & 35618.19 & 35112.37 & 35380.00 & 1468.4985 & 51919977\\\\\n\t 2023-11-01 22:00:00 & BTCUSDT & 35380.00 & 35528.43 & 35181.49 & 35282.93 &  628.9052 & 22240175\\\\\n\t 2023-11-01 23:00:00 & BTCUSDT & 35282.93 & 35461.76 & 35222.00 & 35420.03 &  356.6474 & 12621870\\\\\n\t 2023-11-02 00:00:00 & BTCUSDT & 35420.03 & 35642.00 & 35368.33 & 35426.18 &  680.1443 & 24126261\\\\\n\t 2023-11-02 01:00:00 & BTCUSDT & 35426.18 & 35619.58 & 35424.35 & 35567.03 &  444.9938 & 15805671\\\\\n\t 2023-11-02 02:00:00 & BTCUSDT & 35567.03 & 35987.19 & 35517.13 & 35673.95 & 1360.3812 & 48639830\\\\\n\t 2023-11-02 03:00:00 & BTCUSDT & 35673.95 & 35818.23 & 35551.00 & 35570.35 &  673.2089 & 24009907\\\\\n\t 2023-11-02 04:00:00 & BTCUSDT & 35570.35 & 35601.33 & 35444.87 & 35462.35 &  473.5333 & 16824555\\\\\n\t 2023-11-02 05:00:00 & BTCUSDT & 35462.35 & 35480.00 & 35150.00 & 35196.56 &  854.6028 & 30164505\\\\\n\t 2023-11-02 06:00:00 & BTCUSDT & 35196.56 & 35261.55 & 35064.29 & 35233.76 &  645.0725 & 22695963\\\\\n\t 2023-11-02 07:00:00 & BTCUSDT & 35233.76 & 35351.99 & 35214.35 & 35278.34 &  450.6950 & 15899262\\\\\n\t 2023-11-02 08:00:00 & BTCUSDT & 35278.34 & 35321.73 & 35092.00 & 35318.23 &  413.4702 & 14564311\\\\\n\t 2023-11-02 09:00:00 & BTCUSDT & 35318.23 & 35410.61 & 35254.35 & 35376.49 &  397.9813 & 14066147\\\\\n\t 2023-11-02 10:00:00 & BTCUSDT & 35376.49 & 35480.00 & 35339.64 & 35373.01 &  420.2095 & 14879887\\\\\n\t 2023-11-02 11:00:00 & BTCUSDT & 35373.01 & 35439.99 & 35310.34 & 35379.50 &  307.3827 & 10873691\\\\\n\t 2023-11-02 12:00:00 & BTCUSDT & 35379.50 & 35460.00 & 35309.59 & 35353.96 &  317.2491 & 11225945\\\\\n\t 2023-11-02 13:00:00 & BTCUSDT & 35353.96 & 35370.00 & 34665.00 & 34926.34 & 1611.0444 & 56427597\\\\\n\t 2023-11-02 14:00:00 & BTCUSDT & 34926.34 & 35020.76 & 34718.00 & 34926.63 &  876.8207 & 30576189\\\\\n\t 2023-11-02 15:00:00 & BTCUSDT & 34926.63 & 34932.14 & 34535.68 & 34638.01 & 1083.9033 & 37615604\\\\\n\t 2023-11-02 16:00:00 & BTCUSDT & 34638.01 & 34745.03 & 34288.57 & 34644.34 & 1042.9113 & 36005463\\\\\n\t 2023-11-02 17:00:00 & BTCUSDT & 34644.34 & 34779.99 & 34552.34 & 34769.35 &  517.5943 & 17937208\\\\\n\t 2023-11-02 18:00:00 & BTCUSDT & 34769.35 & 34870.00 & 34721.23 & 34848.34 &  449.8220 & 15656300\\\\\n\t 2023-11-02 19:00:00 & BTCUSDT & 34848.34 & 35021.53 & 34811.56 & 35000.10 &  549.0024 & 19167002\\\\\n\t 2023-11-02 20:00:00 & BTCUSDT & 35000.10 & 35101.28 & 34819.01 & 34905.81 &  891.2979 & 31149450\\\\\n\t 2023-11-02 21:00:00 & BTCUSDT & 34905.81 & 34971.85 & 34850.00 & 34920.00 &  247.9940 &  8656344\\\\\n\t 2023-11-02 22:00:00 & BTCUSDT & 34920.00 & 34924.31 & 34749.99 & 34788.33 &  397.5066 & 13839571\\\\\n\t 2023-11-02 23:00:00 & BTCUSDT & 34788.33 & 34941.12 & 34703.33 & 34940.76 &  329.3410 & 11473825\\\\\n\\end{tabular}\n",
            "text/plain": [
              "     OpenTime            Symbol  Open     High     Low      Close    Volume   \n",
              "1    2023-06-01 00:00:00 BTCUSDT 27211.51 27352.39 27027.19 27067.50 364.1892 \n",
              "2    2023-06-01 01:00:00 BTCUSDT 27067.50 27166.36 27062.74 27080.76 338.3078 \n",
              "3    2023-06-01 02:00:00 BTCUSDT 27080.76 27114.38 26650.45 26719.38 707.1064 \n",
              "4    2023-06-01 03:00:00 BTCUSDT 26719.38 26838.15 26609.31 26780.40 370.9620 \n",
              "5    2023-06-01 04:00:00 BTCUSDT 26780.40 26826.01 26756.93 26808.40 129.9128 \n",
              "6    2023-06-01 05:00:00 BTCUSDT 26808.40 26865.68 26790.00 26849.58 137.6029 \n",
              "7    2023-06-01 06:00:00 BTCUSDT 26849.58 26882.12 26778.70 26788.38 168.4887 \n",
              "8    2023-06-01 07:00:00 BTCUSDT 26788.38 26864.38 26766.00 26805.48 139.0436 \n",
              "9    2023-06-01 08:00:00 BTCUSDT 26805.48 26920.54 26791.23 26913.91 211.1701 \n",
              "10   2023-06-01 09:00:00 BTCUSDT 26913.91 26947.82 26900.19 26911.57 128.9416 \n",
              "11   2023-06-01 10:00:00 BTCUSDT 26911.57 26930.38 26860.00 26862.03 111.8461 \n",
              "12   2023-06-01 11:00:00 BTCUSDT 26862.03 26904.28 26843.22 26894.39 101.1766 \n",
              "13   2023-06-01 12:00:00 BTCUSDT 26894.39 26960.38 26794.80 26942.08 249.4260 \n",
              "14   2023-06-01 13:00:00 BTCUSDT 26942.08 26968.34 26870.19 26892.03 206.8328 \n",
              "15   2023-06-01 14:00:00 BTCUSDT 26892.03 26977.53 26837.00 26896.99 328.2087 \n",
              "16   2023-06-01 15:00:00 BTCUSDT 26896.99 26944.10 26863.45 26894.99 198.4531 \n",
              "17   2023-06-01 16:00:00 BTCUSDT 26894.99 27172.48 26804.48 27092.55 467.1546 \n",
              "18   2023-06-01 17:00:00 BTCUSDT 27092.55 27136.93 26923.67 26959.00 415.0778 \n",
              "19   2023-06-01 18:00:00 BTCUSDT 26959.00 27047.50 26941.02 26965.44 135.7351 \n",
              "20   2023-06-01 19:00:00 BTCUSDT 26965.44 26984.35 26658.11 26860.70 477.4625 \n",
              "21   2023-06-01 20:00:00 BTCUSDT 26860.70 26918.73 26831.45 26863.44 149.6079 \n",
              "22   2023-06-01 21:00:00 BTCUSDT 26863.44 26943.11 26863.44 26893.45 176.1821 \n",
              "23   2023-06-01 22:00:00 BTCUSDT 26893.45 26903.46 26853.45 26885.02 129.3089 \n",
              "24   2023-06-01 23:00:00 BTCUSDT 26885.02 26885.02 26715.46 26815.44 193.5633 \n",
              "25   2023-06-02 00:00:00 BTCUSDT 26815.44 26823.00 26507.88 26783.10 682.4761 \n",
              "26   2023-06-02 01:00:00 BTCUSDT 26783.10 26847.52 26717.48 26809.43 258.0112 \n",
              "27   2023-06-02 02:00:00 BTCUSDT 26809.43 26982.91 26809.43 26960.00 267.7308 \n",
              "28   2023-06-02 03:00:00 BTCUSDT 26960.00 27014.26 26931.46 27001.45 145.3226 \n",
              "29   2023-06-02 04:00:00 BTCUSDT 27001.45 27113.62 26951.49 27069.46 350.2827 \n",
              "30   2023-06-02 05:00:00 BTCUSDT 27069.46 27222.08 27065.47 27153.63 344.4377 \n",
              "⋮    ⋮                   ⋮       ⋮        ⋮        ⋮        ⋮        ⋮        \n",
              "3691 2023-11-01 18:00:00 BTCUSDT 34510.72 34745.16 34428.01 34577.29  743.3592\n",
              "3692 2023-11-01 19:00:00 BTCUSDT 34577.29 34718.44 34490.01 34560.03  601.3720\n",
              "3693 2023-11-01 20:00:00 BTCUSDT 34560.03 35499.63 34536.34 35420.35 1597.2857\n",
              "3694 2023-11-01 21:00:00 BTCUSDT 35420.35 35618.19 35112.37 35380.00 1468.4985\n",
              "3695 2023-11-01 22:00:00 BTCUSDT 35380.00 35528.43 35181.49 35282.93  628.9052\n",
              "3696 2023-11-01 23:00:00 BTCUSDT 35282.93 35461.76 35222.00 35420.03  356.6474\n",
              "3697 2023-11-02 00:00:00 BTCUSDT 35420.03 35642.00 35368.33 35426.18  680.1443\n",
              "3698 2023-11-02 01:00:00 BTCUSDT 35426.18 35619.58 35424.35 35567.03  444.9938\n",
              "3699 2023-11-02 02:00:00 BTCUSDT 35567.03 35987.19 35517.13 35673.95 1360.3812\n",
              "3700 2023-11-02 03:00:00 BTCUSDT 35673.95 35818.23 35551.00 35570.35  673.2089\n",
              "3701 2023-11-02 04:00:00 BTCUSDT 35570.35 35601.33 35444.87 35462.35  473.5333\n",
              "3702 2023-11-02 05:00:00 BTCUSDT 35462.35 35480.00 35150.00 35196.56  854.6028\n",
              "3703 2023-11-02 06:00:00 BTCUSDT 35196.56 35261.55 35064.29 35233.76  645.0725\n",
              "3704 2023-11-02 07:00:00 BTCUSDT 35233.76 35351.99 35214.35 35278.34  450.6950\n",
              "3705 2023-11-02 08:00:00 BTCUSDT 35278.34 35321.73 35092.00 35318.23  413.4702\n",
              "3706 2023-11-02 09:00:00 BTCUSDT 35318.23 35410.61 35254.35 35376.49  397.9813\n",
              "3707 2023-11-02 10:00:00 BTCUSDT 35376.49 35480.00 35339.64 35373.01  420.2095\n",
              "3708 2023-11-02 11:00:00 BTCUSDT 35373.01 35439.99 35310.34 35379.50  307.3827\n",
              "3709 2023-11-02 12:00:00 BTCUSDT 35379.50 35460.00 35309.59 35353.96  317.2491\n",
              "3710 2023-11-02 13:00:00 BTCUSDT 35353.96 35370.00 34665.00 34926.34 1611.0444\n",
              "3711 2023-11-02 14:00:00 BTCUSDT 34926.34 35020.76 34718.00 34926.63  876.8207\n",
              "3712 2023-11-02 15:00:00 BTCUSDT 34926.63 34932.14 34535.68 34638.01 1083.9033\n",
              "3713 2023-11-02 16:00:00 BTCUSDT 34638.01 34745.03 34288.57 34644.34 1042.9113\n",
              "3714 2023-11-02 17:00:00 BTCUSDT 34644.34 34779.99 34552.34 34769.35  517.5943\n",
              "3715 2023-11-02 18:00:00 BTCUSDT 34769.35 34870.00 34721.23 34848.34  449.8220\n",
              "3716 2023-11-02 19:00:00 BTCUSDT 34848.34 35021.53 34811.56 35000.10  549.0024\n",
              "3717 2023-11-02 20:00:00 BTCUSDT 35000.10 35101.28 34819.01 34905.81  891.2979\n",
              "3718 2023-11-02 21:00:00 BTCUSDT 34905.81 34971.85 34850.00 34920.00  247.9940\n",
              "3719 2023-11-02 22:00:00 BTCUSDT 34920.00 34924.31 34749.99 34788.33  397.5066\n",
              "3720 2023-11-02 23:00:00 BTCUSDT 34788.33 34941.12 34703.33 34940.76  329.3410\n",
              "     Turnover\n",
              "1     9907528\n",
              "2     9174435\n",
              "3    18986263\n",
              "4     9915351\n",
              "5     3480179\n",
              "6     3692906\n",
              "7     4523289\n",
              "8     3728814\n",
              "9     5669813\n",
              "10    3471817\n",
              "11    3007515\n",
              "12    2718284\n",
              "13    6707010\n",
              "14    5565883\n",
              "15    8828197\n",
              "16    5339773\n",
              "17   12607561\n",
              "18   11210196\n",
              "19    3662906\n",
              "20   12792729\n",
              "21    4018858\n",
              "22    4742315\n",
              "23    3475165\n",
              "24    5189756\n",
              "25   18213249\n",
              "26    6914923\n",
              "27    7206391\n",
              "28    3917990\n",
              "29    9472042\n",
              "30    9347969\n",
              "⋮    ⋮       \n",
              "3691 25693288\n",
              "3692 20803427\n",
              "3693 55972053\n",
              "3694 51919977\n",
              "3695 22240175\n",
              "3696 12621870\n",
              "3697 24126261\n",
              "3698 15805671\n",
              "3699 48639830\n",
              "3700 24009907\n",
              "3701 16824555\n",
              "3702 30164505\n",
              "3703 22695963\n",
              "3704 15899262\n",
              "3705 14564311\n",
              "3706 14066147\n",
              "3707 14879887\n",
              "3708 10873691\n",
              "3709 11225945\n",
              "3710 56427597\n",
              "3711 30576189\n",
              "3712 37615604\n",
              "3713 36005463\n",
              "3714 17937208\n",
              "3715 15656300\n",
              "3716 19167002\n",
              "3717 31149450\n",
              "3718  8656344\n",
              "3719 13839571\n",
              "3720 11473825"
            ]
          },
          "metadata": {}
        }
      ]
    },
    {
      "cell_type": "markdown",
      "source": [
        "# Funding Rate"
      ],
      "metadata": {
        "id": "X0PErScjO1J8"
      }
    },
    {
      "cell_type": "markdown",
      "source": [
        "https://bybit-exchange.github.io/docs/v5/market/history-fund-rate\n",
        "\n",
        "-- Request Parameters (Parameter\tRequired\tType\tComments)\n",
        "- category\ttrue\tstring\tProduct type. linear,inverse\n",
        "- symbol\ttrue\tstring\tSymbol name\n",
        "- startTime\tfalse\tinteger\tThe start timestamp (ms)\n",
        "- endTime\tfalse\tinteger\tThe end timestamp (ms)\n",
        "- limit\tfalse\tinteger\tLimit for data size per page. [1, 200]. Default: 200\n",
        "\n",
        "-- Response Parameters (Parameter\tType\tComments)\n",
        "- category\tstring\tProduct type\n",
        "- list\tarray\tObject\n",
        "- > symbol\tstring\tSymbol name\n",
        "- > fundingRate\tstring\tFunding rate\n",
        "- > fundingRateTimestamp\tstring\tFunding rate timestamp (ms)\n",
        "\n",
        "-- Request Example\n",
        "- GET /v5/market/funding/history?category=linear&symbol=ETHPERP&limit=1 HTTP/1.1\n",
        "- Host: api-testnet.bybit.com\n",
        "\n",
        "```json\n",
        "{\n",
        "    \"retCode\": 0,\n",
        "    \"retMsg\": \"OK\",\n",
        "    \"result\": {\n",
        "        \"category\": \"linear\",\n",
        "        \"list\": [\n",
        "            {\n",
        "                \"symbol\": \"ETHPERP\",\n",
        "                \"fundingRate\": \"0.0001\",\n",
        "                \"fundingRateTimestamp\": \"1672041600000\"\n",
        "            }\n",
        "        ]\n",
        "    },\n",
        "    \"retExtInfo\": {},\n",
        "    \"time\": 1672051897447\n",
        "}\n",
        "```\n"
      ],
      "metadata": {
        "id": "5LHS5xpcO44s"
      }
    },
    {
      "cell_type": "markdown",
      "source": [
        "## single_bybit_funding_rates"
      ],
      "metadata": {
        "id": "XK9AoO-13ASN"
      }
    },
    {
      "cell_type": "code",
      "source": [
        "# Function to get Bybit funding rates\n",
        "single_bybit_funding_rates <- function(category, symbol, start, end) {\n",
        "  # Base URL for the Bybit API (funding history)\n",
        "  base_url <- \"https://api.bybit.com/v5/market/funding/history\"\n",
        "\n",
        "  start_unix = as.numeric(as.POSIXct(start, tz = \"UTC\", format = \"%Y-%m-%d\")) * 1000\n",
        "  end_unix = as.numeric(as.POSIXct(glue(\"{end} 23:59:59\"), tz = \"UTC\", format = \"%Y-%m-%d %H:%M:%S\")) * 1000\n",
        "\n",
        "  # Create a list of parameters\n",
        "  params <- list(category = category, symbol = symbol, limit = 200)\n",
        "  params$startTime <- start_unix\n",
        "  params$endTime <- end_unix\n",
        "\n",
        "  all_data <- data.frame()\n",
        "\n",
        "  repeat {\n",
        "    response <- GET(url = base_url, query = params)\n",
        "\n",
        "    if (response$status_code == 200) {\n",
        "      data <- fromJSON(content(response, \"text\"), flatten = TRUE)\n",
        "\n",
        "      if (\"result\" %in% names(data) && \"list\" %in% names(data$result)) {\n",
        "        funding_data <- data$result$list\n",
        "\n",
        "        if (length(funding_data) > 0) {\n",
        "          funding_data <- as_tibble(funding_data) %>%\n",
        "            mutate(\n",
        "              Time = as.POSIXct(as.numeric(fundingRateTimestamp) / 1000, origin = \"1970-01-01\", tz = \"UTC\"),\n",
        "              Symbol = symbol,\n",
        "              Rate = as.numeric(fundingRate)\n",
        "            ) %>%\n",
        "            arrange(Time) %>%\n",
        "            select(Time, Symbol, Rate)\n",
        "\n",
        "          all_data <- rbind(all_data, funding_data)\n",
        "\n",
        "          first_time <- min(funding_data$Time)\n",
        "          end_unix <- as.numeric(first_time) * 1000 - 1\n",
        "          params$endTime <- end_unix\n",
        "\n",
        "          if (length(funding_data$Time) < params$limit || start_unix > end_unix) {\n",
        "            break\n",
        "          }\n",
        "        } else {\n",
        "          break\n",
        "        }\n",
        "      } else {\n",
        "        warning(\"Unexpected data structure in the response.\")\n",
        "        return(all_data)\n",
        "      }\n",
        "    } else {\n",
        "      warning(\"Request failed. Status: \", http_status(response)$status_code, \" - \", http_status(response)$reason)\n",
        "      return(all_data)\n",
        "    }\n",
        "  }\n",
        "\n",
        "  if (length(all_data) > 0) {\n",
        "    all_data <- all_data %>%\n",
        "    arrange(Time)\n",
        "  }\n",
        "\n",
        "  return(all_data)\n",
        "}\n",
        "\n",
        "# Example usage\n",
        "result <- single_bybit_funding_rates(category = \"linear\", start=\"2022-11-01\", end=\"2023-11-02\", symbol = \"BTCUSDT\")\n",
        "print(result)"
      ],
      "metadata": {
        "colab": {
          "base_uri": "https://localhost:8080/"
        },
        "id": "S8jzh8ijO238",
        "outputId": "2a985b11-2b15-4605-9a69-cca387ee9dae"
      },
      "execution_count": null,
      "outputs": [
        {
          "output_type": "stream",
          "name": "stdout",
          "text": [
            "\u001b[90m# A tibble: 1,101 × 3\u001b[39m\n",
            "   Time                Symbol         Rate\n",
            "   \u001b[3m\u001b[90m<dttm>\u001b[39m\u001b[23m              \u001b[3m\u001b[90m<chr>\u001b[39m\u001b[23m         \u001b[3m\u001b[90m<dbl>\u001b[39m\u001b[23m\n",
            "\u001b[90m 1\u001b[39m 2022-11-01 \u001b[90m00:00:00\u001b[39m BTCUSDT  0.000\u001b[4m0\u001b[24m\u001b[4m0\u001b[24m\u001b[4m0\u001b[24m61\n",
            "\u001b[90m 2\u001b[39m 2022-11-01 \u001b[90m08:00:00\u001b[39m BTCUSDT -\u001b[31m0\u001b[39m\u001b[31m.\u001b[39m\u001b[31m000\u001b[4m0\u001b[24m\u001b[39m\u001b[31m\u001b[4m7\u001b[24m\u001b[4m1\u001b[24m1\u001b[39m \n",
            "\u001b[90m 3\u001b[39m 2022-11-01 \u001b[90m16:00:00\u001b[39m BTCUSDT  0.000\u001b[4m0\u001b[24m\u001b[4m3\u001b[24m\u001b[4m0\u001b[24m5 \n",
            "\u001b[90m 4\u001b[39m 2022-11-02 \u001b[90m00:00:00\u001b[39m BTCUSDT  0.000\u001b[4m0\u001b[24m\u001b[4m6\u001b[24m\u001b[4m3\u001b[24m1 \n",
            "\u001b[90m 5\u001b[39m 2022-11-02 \u001b[90m08:00:00\u001b[39m BTCUSDT  0.000\u001b[4m0\u001b[24m\u001b[4m2\u001b[24m\u001b[4m4\u001b[24m1 \n",
            "\u001b[90m 6\u001b[39m 2022-11-02 \u001b[90m16:00:00\u001b[39m BTCUSDT  0.000\u001b[4m0\u001b[24m\u001b[4m5\u001b[24m\u001b[4m6\u001b[24m6 \n",
            "\u001b[90m 7\u001b[39m 2022-11-03 \u001b[90m00:00:00\u001b[39m BTCUSDT  0.000\u001b[4m0\u001b[24m\u001b[4m7\u001b[24m\u001b[4m3\u001b[24m4 \n",
            "\u001b[90m 8\u001b[39m 2022-11-03 \u001b[90m08:00:00\u001b[39m BTCUSDT -\u001b[31m0\u001b[39m\u001b[31m.\u001b[39m\u001b[31m000\u001b[4m0\u001b[24m\u001b[39m\u001b[31m\u001b[4m2\u001b[24m\u001b[4m0\u001b[24m3\u001b[39m \n",
            "\u001b[90m 9\u001b[39m 2022-11-03 \u001b[90m16:00:00\u001b[39m BTCUSDT  0.000\u001b[4m0\u001b[24m\u001b[4m6\u001b[24m\u001b[4m5\u001b[24m0 \n",
            "\u001b[90m10\u001b[39m 2022-11-04 \u001b[90m00:00:00\u001b[39m BTCUSDT  0.000\u001b[4m0\u001b[24m\u001b[4m4\u001b[24m\u001b[4m4\u001b[24m  \n",
            "\u001b[90m# ℹ 1,091 more rows\u001b[39m\n"
          ]
        }
      ]
    },
    {
      "cell_type": "markdown",
      "source": [
        "## bybit_funding_rates - get multiple symbols funding history"
      ],
      "metadata": {
        "id": "eNqOwKZR3SSx"
      }
    },
    {
      "cell_type": "code",
      "source": [
        "bybit_funding_rates <- function(category = \"linear\", symbols, start, end) {\n",
        "  fun <- function(category, symbol, start, end) {\n",
        "    print(glue(\"Loading Symbol {symbol}\"))\n",
        "    rates <- single_bybit_funding_rates(category, symbol, start, end)\n",
        "    if (length(rates) == 0) {\n",
        "      print(glue(\"[bybit_funding_rates] no rates for {symbol}\"))\n",
        "    }\n",
        "    return(rates)\n",
        "  }\n",
        "\n",
        "  symbols %>%\n",
        "    map_dfr(~fun(category, symbol = .x, start, end)) %>%\n",
        "    arrange(Time)\n",
        "}\n",
        "\n",
        "symbols <- c(\"BTCUSDT\", \"SOLUSDT\")\n",
        "# symbols <- c(\"BTCUSDT\")\n",
        "rates <- bybit_funding_rates(\n",
        "  # category = \"linear\",\n",
        "  symbols = symbols,\n",
        "  start = \"2023-11-01\",\n",
        "  end = \"2023-11-02\"\n",
        ")\n",
        "\n",
        "rates"
      ],
      "metadata": {
        "colab": {
          "base_uri": "https://localhost:8080/",
          "height": 510
        },
        "id": "GbzyM7Ussivo",
        "outputId": "89be7a86-8d49-4c50-e1f4-2ae214db73d4"
      },
      "execution_count": null,
      "outputs": [
        {
          "output_type": "stream",
          "name": "stdout",
          "text": [
            "Loading Symbol BTCUSDT\n",
            "Loading Symbol SOLUSDT\n"
          ]
        },
        {
          "output_type": "display_data",
          "data": {
            "text/html": [
              "<table class=\"dataframe\">\n",
              "<caption>A tibble: 12 × 3</caption>\n",
              "<thead>\n",
              "\t<tr><th scope=col>Time</th><th scope=col>Symbol</th><th scope=col>Rate</th></tr>\n",
              "\t<tr><th scope=col>&lt;dttm&gt;</th><th scope=col>&lt;chr&gt;</th><th scope=col>&lt;dbl&gt;</th></tr>\n",
              "</thead>\n",
              "<tbody>\n",
              "\t<tr><td>2023-11-01 00:00:00</td><td>BTCUSDT</td><td> 0.00010000</td></tr>\n",
              "\t<tr><td>2023-11-01 00:00:00</td><td>SOLUSDT</td><td> 0.00010000</td></tr>\n",
              "\t<tr><td>2023-11-01 08:00:00</td><td>BTCUSDT</td><td> 0.00011930</td></tr>\n",
              "\t<tr><td>2023-11-01 08:00:00</td><td>SOLUSDT</td><td> 0.00003923</td></tr>\n",
              "\t<tr><td>2023-11-01 16:00:00</td><td>BTCUSDT</td><td> 0.00010000</td></tr>\n",
              "\t<tr><td>2023-11-01 16:00:00</td><td>SOLUSDT</td><td>-0.00028010</td></tr>\n",
              "\t<tr><td>2023-11-02 00:00:00</td><td>BTCUSDT</td><td> 0.00014309</td></tr>\n",
              "\t<tr><td>2023-11-02 00:00:00</td><td>SOLUSDT</td><td> 0.00010000</td></tr>\n",
              "\t<tr><td>2023-11-02 08:00:00</td><td>BTCUSDT</td><td> 0.00018541</td></tr>\n",
              "\t<tr><td>2023-11-02 08:00:00</td><td>SOLUSDT</td><td> 0.00010000</td></tr>\n",
              "\t<tr><td>2023-11-02 16:00:00</td><td>BTCUSDT</td><td> 0.00011649</td></tr>\n",
              "\t<tr><td>2023-11-02 16:00:00</td><td>SOLUSDT</td><td> 0.00010000</td></tr>\n",
              "</tbody>\n",
              "</table>\n"
            ],
            "text/markdown": "\nA tibble: 12 × 3\n\n| Time &lt;dttm&gt; | Symbol &lt;chr&gt; | Rate &lt;dbl&gt; |\n|---|---|---|\n| 2023-11-01 00:00:00 | BTCUSDT |  0.00010000 |\n| 2023-11-01 00:00:00 | SOLUSDT |  0.00010000 |\n| 2023-11-01 08:00:00 | BTCUSDT |  0.00011930 |\n| 2023-11-01 08:00:00 | SOLUSDT |  0.00003923 |\n| 2023-11-01 16:00:00 | BTCUSDT |  0.00010000 |\n| 2023-11-01 16:00:00 | SOLUSDT | -0.00028010 |\n| 2023-11-02 00:00:00 | BTCUSDT |  0.00014309 |\n| 2023-11-02 00:00:00 | SOLUSDT |  0.00010000 |\n| 2023-11-02 08:00:00 | BTCUSDT |  0.00018541 |\n| 2023-11-02 08:00:00 | SOLUSDT |  0.00010000 |\n| 2023-11-02 16:00:00 | BTCUSDT |  0.00011649 |\n| 2023-11-02 16:00:00 | SOLUSDT |  0.00010000 |\n\n",
            "text/latex": "A tibble: 12 × 3\n\\begin{tabular}{lll}\n Time & Symbol & Rate\\\\\n <dttm> & <chr> & <dbl>\\\\\n\\hline\n\t 2023-11-01 00:00:00 & BTCUSDT &  0.00010000\\\\\n\t 2023-11-01 00:00:00 & SOLUSDT &  0.00010000\\\\\n\t 2023-11-01 08:00:00 & BTCUSDT &  0.00011930\\\\\n\t 2023-11-01 08:00:00 & SOLUSDT &  0.00003923\\\\\n\t 2023-11-01 16:00:00 & BTCUSDT &  0.00010000\\\\\n\t 2023-11-01 16:00:00 & SOLUSDT & -0.00028010\\\\\n\t 2023-11-02 00:00:00 & BTCUSDT &  0.00014309\\\\\n\t 2023-11-02 00:00:00 & SOLUSDT &  0.00010000\\\\\n\t 2023-11-02 08:00:00 & BTCUSDT &  0.00018541\\\\\n\t 2023-11-02 08:00:00 & SOLUSDT &  0.00010000\\\\\n\t 2023-11-02 16:00:00 & BTCUSDT &  0.00011649\\\\\n\t 2023-11-02 16:00:00 & SOLUSDT &  0.00010000\\\\\n\\end{tabular}\n",
            "text/plain": [
              "   Time                Symbol  Rate       \n",
              "1  2023-11-01 00:00:00 BTCUSDT  0.00010000\n",
              "2  2023-11-01 00:00:00 SOLUSDT  0.00010000\n",
              "3  2023-11-01 08:00:00 BTCUSDT  0.00011930\n",
              "4  2023-11-01 08:00:00 SOLUSDT  0.00003923\n",
              "5  2023-11-01 16:00:00 BTCUSDT  0.00010000\n",
              "6  2023-11-01 16:00:00 SOLUSDT -0.00028010\n",
              "7  2023-11-02 00:00:00 BTCUSDT  0.00014309\n",
              "8  2023-11-02 00:00:00 SOLUSDT  0.00010000\n",
              "9  2023-11-02 08:00:00 BTCUSDT  0.00018541\n",
              "10 2023-11-02 08:00:00 SOLUSDT  0.00010000\n",
              "11 2023-11-02 16:00:00 BTCUSDT  0.00011649\n",
              "12 2023-11-02 16:00:00 SOLUSDT  0.00010000"
            ]
          },
          "metadata": {}
        }
      ]
    },
    {
      "cell_type": "markdown",
      "source": [
        "# Account"
      ],
      "metadata": {
        "id": "7ypjdAFPzT0g"
      }
    },
    {
      "cell_type": "markdown",
      "source": [
        "- USDT Perpetual Trade History https://www.bybit.com/user/assets/order/derivatives/uniform-usdt/trade-history\n",
        "- Spot Trade History https://www.bybit.com/user/assets/order/fed/spot-uta-orders/trade-order/current-order\n",
        "\n"
      ],
      "metadata": {
        "id": "sRO6ogvIzWYc"
      }
    },
    {
      "cell_type": "code",
      "source": [
        "library(httr)\n",
        "library(jsonlite)\n",
        "library(dplyr)\n",
        "library(lubridate)\n",
        "library(openssl)\n",
        "library(digest)\n",
        "\n",
        "api_key <- \"TuaZwcJvnvF2DUzVgo\"\n",
        "api_secret <- \"btWyl1j3kxgqf291IOJyeyH5QYnzdeTywbtV\"\n",
        "\n",
        "# Function to concatenate parameters into a query string\n",
        "concatenate_params <- function(params) {\n",
        "  params_string <- sapply(names(params), function(key) paste0(key, \"=\", params[[key]]), USE.NAMES = FALSE)\n",
        "  paste(params_string, collapse = \"&\")\n",
        "}\n",
        "\n",
        "# Function to generate signature\n",
        "generate_signature <- function(api_key, secret_key, recv_window, query_string) {\n",
        "  timestamp <- as.character(floor(as.numeric(Sys.time()) * 1000))\n",
        "  param_str <- paste0(timestamp, api_key, recv_window, query_string)\n",
        "  hmac(key = secret_key, object = param_str, algo = \"sha256\", serialize = FALSE, raw = FALSE)\n",
        "}"
      ],
      "metadata": {
        "id": "zfvykX7PriXC"
      },
      "execution_count": null,
      "outputs": []
    },
    {
      "cell_type": "markdown",
      "source": [
        "## get_bybit_transaction_logs"
      ],
      "metadata": {
        "id": "96OoEBzDq1l0"
      }
    },
    {
      "cell_type": "markdown",
      "source": [
        "- KAS/USDT Buy FilledValue:9.9989406USDT FilledPrice:0.13407USDT FilledQty:74.58KAS TradingFee:0.07458 KAS\n",
        "- KASUSDT Short Filled:70/70 FilledPrice:0.13392/Market FeeRate:0.055% TradingFee:0.00515592"
      ],
      "metadata": {
        "id": "Yeky3WgB0I2k"
      }
    },
    {
      "cell_type": "markdown",
      "source": [
        "https://bybit-exchange.github.io/docs/v5/account/transaction-log"
      ],
      "metadata": {
        "id": "PrKRM70MNEXo"
      }
    },
    {
      "cell_type": "code",
      "source": [
        "# Function to get Bybit transaction logs with authentication\n",
        "get_bybit_transaction_logs <- function(\n",
        "    category=\"\", currency=\"\", baseCoin=\"\", type=\"\", start=\"\", end=\"\", limit = 50, cursor = \"\") {\n",
        "  base_url <- \"https://api.bybit.com/v5/account/transaction-log\"\n",
        "  recv_window <- \"5000\"\n",
        "  # Prepare query string\n",
        "  params <- list(accountType = \"UNIFIED\", category = category, currency = currency,\n",
        "                 baseCoin = baseCoin, type = type, limit = limit, cursor = cursor)\n",
        "  if (start != \"\") {\n",
        "    params$startTime <- as.numeric(as.POSIXct(start, tz = \"UTC\", format = \"%Y-%m-%d\")) * 1000\n",
        "  }\n",
        "  if (end != \"\") {\n",
        "    params$endTime <- as.numeric(as.POSIXct(end, tz = \"UTC\", format = \"%Y-%m-%d\")) * 1000\n",
        "  }\n",
        "  # Using `keep` to remove empty strings\n",
        "  params <- keep(params, ~ nzchar(.x))\n",
        "  query_string <- concatenate_params(params)\n",
        "  # Generate current timestamp in milliseconds as a character string\n",
        "  timestamp <- as.character(floor(as.numeric(Sys.time()) * 1000))\n",
        "  # Generate signature\n",
        "  signature <- generate_signature(api_key, api_secret, recv_window, query_string)\n",
        "  # Create headers ensuring all values are character strings\n",
        "  headers <- add_headers(`X-BAPI-API-KEY` = as.character(api_key),\n",
        "                         `X-BAPI-SIGN` = as.character(signature),\n",
        "                         `X-BAPI-TIMESTAMP` = as.character(timestamp),\n",
        "                         `X-BAPI-RECV-WINDOW` = as.character(recv_window),\n",
        "                         `Content-Type` = 'application/json')\n",
        "    response <- GET(url = base_url, query = query_string, config = headers)\n",
        "    # print(response)\n",
        "    if (response$status_code == 200) {\n",
        "      # Extract the response body\n",
        "      response_content <- content(response, \"text\")\n",
        "      # Parse the JSON content\n",
        "      parsed_json <- fromJSON(response_content)\n",
        "      # Print the result message\n",
        "      print(parsed_json$retMsg)\n",
        "      transactions_tibble <- as_tibble(parsed_json$result$list)\n",
        "      # Check if 'transactionTime' column exists and tibble is not empty\n",
        "      if (\"transactionTime\" %in% names(transactions_tibble) && nrow(transactions_tibble) > 0) {\n",
        "        transactions_tibble <- transactions_tibble %>%\n",
        "        mutate(transactionTime = as.POSIXct(as.numeric(transactionTime) / 1000, origin = \"1970-01-01\", tz = \"UTC\"))\n",
        "      } else {\n",
        "        print(\"got empty result\")\n",
        "      }\n",
        "      return(transactions_tibble)\n",
        "    } else {\n",
        "      print(\"Error getting bybit response.\")\n",
        "    }\n",
        "}"
      ],
      "metadata": {
        "id": "sbcRmtO0zV0o"
      },
      "execution_count": null,
      "outputs": []
    },
    {
      "cell_type": "code",
      "source": [
        "# Example usage\n",
        "result <- get_bybit_transaction_logs(\n",
        "  # category = \"linear\",\n",
        "  start = \"2023-11-17\",\n",
        "  end = \"2023-11-21\"\n",
        ") %>%\n",
        "  select(-orderLinkId, -orderId, -bonusChange, -id, -tradeId)\n",
        "# print(result)\n",
        "result"
      ],
      "metadata": {
        "colab": {
          "base_uri": "https://localhost:8080/",
          "height": 1000
        },
        "id": "UoeEkzzVrMEi",
        "outputId": "dad71ca6-929c-4653-c644-8807267a43fd"
      },
      "execution_count": null,
      "outputs": [
        {
          "output_type": "stream",
          "name": "stdout",
          "text": [
            "[1] \"OK\"\n"
          ]
        },
        {
          "output_type": "display_data",
          "data": {
            "text/html": [
              "<table class=\"dataframe\">\n",
              "<caption>A tibble: 18 × 15</caption>\n",
              "<thead>\n",
              "\t<tr><th scope=col>symbol</th><th scope=col>side</th><th scope=col>funding</th><th scope=col>fee</th><th scope=col>change</th><th scope=col>cashFlow</th><th scope=col>transactionTime</th><th scope=col>type</th><th scope=col>feeRate</th><th scope=col>size</th><th scope=col>qty</th><th scope=col>cashBalance</th><th scope=col>currency</th><th scope=col>category</th><th scope=col>tradePrice</th></tr>\n",
              "\t<tr><th scope=col>&lt;chr&gt;</th><th scope=col>&lt;chr&gt;</th><th scope=col>&lt;chr&gt;</th><th scope=col>&lt;chr&gt;</th><th scope=col>&lt;chr&gt;</th><th scope=col>&lt;chr&gt;</th><th scope=col>&lt;dttm&gt;</th><th scope=col>&lt;chr&gt;</th><th scope=col>&lt;chr&gt;</th><th scope=col>&lt;chr&gt;</th><th scope=col>&lt;chr&gt;</th><th scope=col>&lt;chr&gt;</th><th scope=col>&lt;chr&gt;</th><th scope=col>&lt;chr&gt;</th><th scope=col>&lt;chr&gt;</th></tr>\n",
              "</thead>\n",
              "<tbody>\n",
              "\t<tr><td>KASUSDT  </td><td>Sell</td><td>0.00091154</td><td>0         </td><td>0.00091154 </td><td>0         </td><td>2023-11-21 00:00:00</td><td>SETTLEMENT </td><td>-0.0001  </td><td>-70</td><td>70   </td><td>149.04072601</td><td>USDT</td><td>linear</td><td>0.13022 </td></tr>\n",
              "\t<tr><td>KASUSDT  </td><td>Sell</td><td>0.0055335 </td><td>0         </td><td>0.0055335  </td><td>0         </td><td>2023-11-20 16:00:00</td><td>SETTLEMENT </td><td>-0.000576</td><td>-70</td><td>70   </td><td>149.03981447</td><td>USDT</td><td>linear</td><td>0.13744 </td></tr>\n",
              "\t<tr><td>KASUSDT  </td><td>Sell</td><td>0.00470558</td><td>0         </td><td>0.00470558 </td><td>0         </td><td>2023-11-20 08:00:00</td><td>SETTLEMENT </td><td>-0.000478</td><td>-70</td><td>70   </td><td>149.03428097</td><td>USDT</td><td>linear</td><td>0.14068 </td></tr>\n",
              "\t<tr><td>KASUSDT  </td><td>Sell</td><td>0.0047615 </td><td>0         </td><td>0.0047615  </td><td>0         </td><td>2023-11-20 00:00:00</td><td>SETTLEMENT </td><td>-0.000474</td><td>-70</td><td>70   </td><td>149.02957539</td><td>USDT</td><td>linear</td><td>0.14369 </td></tr>\n",
              "\t<tr><td>KASUSDT  </td><td>Sell</td><td>0.00100884</td><td>0         </td><td>0.00100884 </td><td>0         </td><td>2023-11-19 16:00:00</td><td>SETTLEMENT </td><td>-0.0001  </td><td>-70</td><td>70   </td><td>149.02481389</td><td>USDT</td><td>linear</td><td>0.14412 </td></tr>\n",
              "\t<tr><td>KASUSDT  </td><td>Sell</td><td>0.00100212</td><td>0         </td><td>0.00100212 </td><td>0         </td><td>2023-11-19 08:00:00</td><td>SETTLEMENT </td><td>-0.0001  </td><td>-70</td><td>70   </td><td>149.02380505</td><td>USDT</td><td>linear</td><td>0.14316 </td></tr>\n",
              "\t<tr><td>KASUSDT  </td><td>Sell</td><td>0.00145813</td><td>0         </td><td>0.00145813 </td><td>0         </td><td>2023-11-19 00:00:00</td><td>SETTLEMENT </td><td>-0.000149</td><td>-70</td><td>70   </td><td>149.02280293</td><td>USDT</td><td>linear</td><td>0.14013 </td></tr>\n",
              "\t<tr><td>KASUSDT  </td><td>Sell</td><td>0.0009436 </td><td>0         </td><td>0.0009436  </td><td>0         </td><td>2023-11-18 16:00:00</td><td>SETTLEMENT </td><td>-0.0001  </td><td>-70</td><td>70   </td><td>149.0213448 </td><td>USDT</td><td>linear</td><td>0.1348  </td></tr>\n",
              "\t<tr><td>KASUSDT  </td><td>Sell</td><td>0         </td><td>0.00515592</td><td>-0.00515592</td><td>0         </td><td>2023-11-18 11:46:03</td><td>TRADE      </td><td>0.00055  </td><td>-70</td><td>70   </td><td>149.0204012 </td><td>USDT</td><td>linear</td><td>0.13392 </td></tr>\n",
              "\t<tr><td>KASUSDT  </td><td>Buy </td><td>0         </td><td>0.07458   </td><td>74.50542   </td><td>74.58     </td><td>2023-11-18 11:45:11</td><td>TRADE      </td><td>0.001    </td><td>0  </td><td>74.58</td><td>74.50542    </td><td>KAS </td><td>spot  </td><td>0.13407 </td></tr>\n",
              "\t<tr><td>KASUSDT  </td><td>Buy </td><td>0         </td><td>0         </td><td>-9.9989406 </td><td>-9.9989406</td><td>2023-11-18 11:45:11</td><td>TRADE      </td><td>0        </td><td>0  </td><td>-9.99</td><td>149.02555712</td><td>USDT</td><td>spot  </td><td>0.13407 </td></tr>\n",
              "\t<tr><td>FITFIUSDT</td><td>Sell</td><td>0         </td><td>0.00055228</td><td>0.00641972 </td><td>0.006972  </td><td>2023-11-17 17:05:21</td><td>TRADE      </td><td>0.00055  </td><td>0  </td><td>166  </td><td>159.02449772</td><td>USDT</td><td>linear</td><td>0.006049</td></tr>\n",
              "\t<tr><td>FITFIUSDT</td><td>Buy </td><td>0         </td><td>0.00054844</td><td>-0.00054844</td><td>0         </td><td>2023-11-17 17:02:06</td><td>TRADE      </td><td>0.00055  </td><td>166</td><td>166  </td><td>159.018078  </td><td>USDT</td><td>linear</td><td>0.006007</td></tr>\n",
              "\t<tr><td>         </td><td>None</td><td>0         </td><td>0         </td><td>157.4499   </td><td>157.4499  </td><td>2023-11-17 12:10:30</td><td>TRANSFER_IN</td><td>0        </td><td>0  </td><td>0    </td><td>159.01862644</td><td>USDT</td><td>      </td><td>0       </td></tr>\n",
              "\t<tr><td>         </td><td>None</td><td>0         </td><td>0         </td><td>1.56868544 </td><td>1.56868544</td><td>2023-11-17 08:58:56</td><td>TRANSFER_IN</td><td>0        </td><td>0  </td><td>0    </td><td>1.56872644  </td><td>USDT</td><td>      </td><td>0       </td></tr>\n",
              "\t<tr><td>         </td><td>None</td><td>0         </td><td>0         </td><td>0.00007885 </td><td>0.00007885</td><td>2023-11-17 08:58:38</td><td>TRANSFER_IN</td><td>0        </td><td>0  </td><td>0    </td><td>0.00007885  </td><td>BTC </td><td>      </td><td>0       </td></tr>\n",
              "\t<tr><td>         </td><td>None</td><td>0         </td><td>0         </td><td>2610.59    </td><td>2610.59   </td><td>2023-11-17 08:58:37</td><td>TRANSFER_IN</td><td>0        </td><td>0  </td><td>0    </td><td>2610.59     </td><td>SHIB</td><td>      </td><td>0       </td></tr>\n",
              "\t<tr><td>         </td><td>None</td><td>0         </td><td>0         </td><td>0.000041   </td><td>0.000041  </td><td>2023-11-17 08:58:37</td><td>TRANSFER_IN</td><td>0        </td><td>0  </td><td>0    </td><td>0.000041    </td><td>USDT</td><td>      </td><td>0       </td></tr>\n",
              "</tbody>\n",
              "</table>\n"
            ],
            "text/markdown": "\nA tibble: 18 × 15\n\n| symbol &lt;chr&gt; | side &lt;chr&gt; | funding &lt;chr&gt; | fee &lt;chr&gt; | change &lt;chr&gt; | cashFlow &lt;chr&gt; | transactionTime &lt;dttm&gt; | type &lt;chr&gt; | feeRate &lt;chr&gt; | size &lt;chr&gt; | qty &lt;chr&gt; | cashBalance &lt;chr&gt; | currency &lt;chr&gt; | category &lt;chr&gt; | tradePrice &lt;chr&gt; |\n|---|---|---|---|---|---|---|---|---|---|---|---|---|---|---|\n| KASUSDT   | Sell | 0.00091154 | 0          | 0.00091154  | 0          | 2023-11-21 00:00:00 | SETTLEMENT  | -0.0001   | -70 | 70    | 149.04072601 | USDT | linear | 0.13022  |\n| KASUSDT   | Sell | 0.0055335  | 0          | 0.0055335   | 0          | 2023-11-20 16:00:00 | SETTLEMENT  | -0.000576 | -70 | 70    | 149.03981447 | USDT | linear | 0.13744  |\n| KASUSDT   | Sell | 0.00470558 | 0          | 0.00470558  | 0          | 2023-11-20 08:00:00 | SETTLEMENT  | -0.000478 | -70 | 70    | 149.03428097 | USDT | linear | 0.14068  |\n| KASUSDT   | Sell | 0.0047615  | 0          | 0.0047615   | 0          | 2023-11-20 00:00:00 | SETTLEMENT  | -0.000474 | -70 | 70    | 149.02957539 | USDT | linear | 0.14369  |\n| KASUSDT   | Sell | 0.00100884 | 0          | 0.00100884  | 0          | 2023-11-19 16:00:00 | SETTLEMENT  | -0.0001   | -70 | 70    | 149.02481389 | USDT | linear | 0.14412  |\n| KASUSDT   | Sell | 0.00100212 | 0          | 0.00100212  | 0          | 2023-11-19 08:00:00 | SETTLEMENT  | -0.0001   | -70 | 70    | 149.02380505 | USDT | linear | 0.14316  |\n| KASUSDT   | Sell | 0.00145813 | 0          | 0.00145813  | 0          | 2023-11-19 00:00:00 | SETTLEMENT  | -0.000149 | -70 | 70    | 149.02280293 | USDT | linear | 0.14013  |\n| KASUSDT   | Sell | 0.0009436  | 0          | 0.0009436   | 0          | 2023-11-18 16:00:00 | SETTLEMENT  | -0.0001   | -70 | 70    | 149.0213448  | USDT | linear | 0.1348   |\n| KASUSDT   | Sell | 0          | 0.00515592 | -0.00515592 | 0          | 2023-11-18 11:46:03 | TRADE       | 0.00055   | -70 | 70    | 149.0204012  | USDT | linear | 0.13392  |\n| KASUSDT   | Buy  | 0          | 0.07458    | 74.50542    | 74.58      | 2023-11-18 11:45:11 | TRADE       | 0.001     | 0   | 74.58 | 74.50542     | KAS  | spot   | 0.13407  |\n| KASUSDT   | Buy  | 0          | 0          | -9.9989406  | -9.9989406 | 2023-11-18 11:45:11 | TRADE       | 0         | 0   | -9.99 | 149.02555712 | USDT | spot   | 0.13407  |\n| FITFIUSDT | Sell | 0          | 0.00055228 | 0.00641972  | 0.006972   | 2023-11-17 17:05:21 | TRADE       | 0.00055   | 0   | 166   | 159.02449772 | USDT | linear | 0.006049 |\n| FITFIUSDT | Buy  | 0          | 0.00054844 | -0.00054844 | 0          | 2023-11-17 17:02:06 | TRADE       | 0.00055   | 166 | 166   | 159.018078   | USDT | linear | 0.006007 |\n| <!----> | None | 0          | 0          | 157.4499    | 157.4499   | 2023-11-17 12:10:30 | TRANSFER_IN | 0         | 0   | 0     | 159.01862644 | USDT | <!----> | 0        |\n| <!----> | None | 0          | 0          | 1.56868544  | 1.56868544 | 2023-11-17 08:58:56 | TRANSFER_IN | 0         | 0   | 0     | 1.56872644   | USDT | <!----> | 0        |\n| <!----> | None | 0          | 0          | 0.00007885  | 0.00007885 | 2023-11-17 08:58:38 | TRANSFER_IN | 0         | 0   | 0     | 0.00007885   | BTC  | <!----> | 0        |\n| <!----> | None | 0          | 0          | 2610.59     | 2610.59    | 2023-11-17 08:58:37 | TRANSFER_IN | 0         | 0   | 0     | 2610.59      | SHIB | <!----> | 0        |\n| <!----> | None | 0          | 0          | 0.000041    | 0.000041   | 2023-11-17 08:58:37 | TRANSFER_IN | 0         | 0   | 0     | 0.000041     | USDT | <!----> | 0        |\n\n",
            "text/latex": "A tibble: 18 × 15\n\\begin{tabular}{lllllllllllllll}\n symbol & side & funding & fee & change & cashFlow & transactionTime & type & feeRate & size & qty & cashBalance & currency & category & tradePrice\\\\\n <chr> & <chr> & <chr> & <chr> & <chr> & <chr> & <dttm> & <chr> & <chr> & <chr> & <chr> & <chr> & <chr> & <chr> & <chr>\\\\\n\\hline\n\t KASUSDT   & Sell & 0.00091154 & 0          & 0.00091154  & 0          & 2023-11-21 00:00:00 & SETTLEMENT  & -0.0001   & -70 & 70    & 149.04072601 & USDT & linear & 0.13022 \\\\\n\t KASUSDT   & Sell & 0.0055335  & 0          & 0.0055335   & 0          & 2023-11-20 16:00:00 & SETTLEMENT  & -0.000576 & -70 & 70    & 149.03981447 & USDT & linear & 0.13744 \\\\\n\t KASUSDT   & Sell & 0.00470558 & 0          & 0.00470558  & 0          & 2023-11-20 08:00:00 & SETTLEMENT  & -0.000478 & -70 & 70    & 149.03428097 & USDT & linear & 0.14068 \\\\\n\t KASUSDT   & Sell & 0.0047615  & 0          & 0.0047615   & 0          & 2023-11-20 00:00:00 & SETTLEMENT  & -0.000474 & -70 & 70    & 149.02957539 & USDT & linear & 0.14369 \\\\\n\t KASUSDT   & Sell & 0.00100884 & 0          & 0.00100884  & 0          & 2023-11-19 16:00:00 & SETTLEMENT  & -0.0001   & -70 & 70    & 149.02481389 & USDT & linear & 0.14412 \\\\\n\t KASUSDT   & Sell & 0.00100212 & 0          & 0.00100212  & 0          & 2023-11-19 08:00:00 & SETTLEMENT  & -0.0001   & -70 & 70    & 149.02380505 & USDT & linear & 0.14316 \\\\\n\t KASUSDT   & Sell & 0.00145813 & 0          & 0.00145813  & 0          & 2023-11-19 00:00:00 & SETTLEMENT  & -0.000149 & -70 & 70    & 149.02280293 & USDT & linear & 0.14013 \\\\\n\t KASUSDT   & Sell & 0.0009436  & 0          & 0.0009436   & 0          & 2023-11-18 16:00:00 & SETTLEMENT  & -0.0001   & -70 & 70    & 149.0213448  & USDT & linear & 0.1348  \\\\\n\t KASUSDT   & Sell & 0          & 0.00515592 & -0.00515592 & 0          & 2023-11-18 11:46:03 & TRADE       & 0.00055   & -70 & 70    & 149.0204012  & USDT & linear & 0.13392 \\\\\n\t KASUSDT   & Buy  & 0          & 0.07458    & 74.50542    & 74.58      & 2023-11-18 11:45:11 & TRADE       & 0.001     & 0   & 74.58 & 74.50542     & KAS  & spot   & 0.13407 \\\\\n\t KASUSDT   & Buy  & 0          & 0          & -9.9989406  & -9.9989406 & 2023-11-18 11:45:11 & TRADE       & 0         & 0   & -9.99 & 149.02555712 & USDT & spot   & 0.13407 \\\\\n\t FITFIUSDT & Sell & 0          & 0.00055228 & 0.00641972  & 0.006972   & 2023-11-17 17:05:21 & TRADE       & 0.00055   & 0   & 166   & 159.02449772 & USDT & linear & 0.006049\\\\\n\t FITFIUSDT & Buy  & 0          & 0.00054844 & -0.00054844 & 0          & 2023-11-17 17:02:06 & TRADE       & 0.00055   & 166 & 166   & 159.018078   & USDT & linear & 0.006007\\\\\n\t           & None & 0          & 0          & 157.4499    & 157.4499   & 2023-11-17 12:10:30 & TRANSFER\\_IN & 0         & 0   & 0     & 159.01862644 & USDT &        & 0       \\\\\n\t           & None & 0          & 0          & 1.56868544  & 1.56868544 & 2023-11-17 08:58:56 & TRANSFER\\_IN & 0         & 0   & 0     & 1.56872644   & USDT &        & 0       \\\\\n\t           & None & 0          & 0          & 0.00007885  & 0.00007885 & 2023-11-17 08:58:38 & TRANSFER\\_IN & 0         & 0   & 0     & 0.00007885   & BTC  &        & 0       \\\\\n\t           & None & 0          & 0          & 2610.59     & 2610.59    & 2023-11-17 08:58:37 & TRANSFER\\_IN & 0         & 0   & 0     & 2610.59      & SHIB &        & 0       \\\\\n\t           & None & 0          & 0          & 0.000041    & 0.000041   & 2023-11-17 08:58:37 & TRANSFER\\_IN & 0         & 0   & 0     & 0.000041     & USDT &        & 0       \\\\\n\\end{tabular}\n",
            "text/plain": [
              "   symbol    side funding    fee        change      cashFlow  \n",
              "1  KASUSDT   Sell 0.00091154 0          0.00091154  0         \n",
              "2  KASUSDT   Sell 0.0055335  0          0.0055335   0         \n",
              "3  KASUSDT   Sell 0.00470558 0          0.00470558  0         \n",
              "4  KASUSDT   Sell 0.0047615  0          0.0047615   0         \n",
              "5  KASUSDT   Sell 0.00100884 0          0.00100884  0         \n",
              "6  KASUSDT   Sell 0.00100212 0          0.00100212  0         \n",
              "7  KASUSDT   Sell 0.00145813 0          0.00145813  0         \n",
              "8  KASUSDT   Sell 0.0009436  0          0.0009436   0         \n",
              "9  KASUSDT   Sell 0          0.00515592 -0.00515592 0         \n",
              "10 KASUSDT   Buy  0          0.07458    74.50542    74.58     \n",
              "11 KASUSDT   Buy  0          0          -9.9989406  -9.9989406\n",
              "12 FITFIUSDT Sell 0          0.00055228 0.00641972  0.006972  \n",
              "13 FITFIUSDT Buy  0          0.00054844 -0.00054844 0         \n",
              "14           None 0          0          157.4499    157.4499  \n",
              "15           None 0          0          1.56868544  1.56868544\n",
              "16           None 0          0          0.00007885  0.00007885\n",
              "17           None 0          0          2610.59     2610.59   \n",
              "18           None 0          0          0.000041    0.000041  \n",
              "   transactionTime     type        feeRate   size qty   cashBalance  currency\n",
              "1  2023-11-21 00:00:00 SETTLEMENT  -0.0001   -70  70    149.04072601 USDT    \n",
              "2  2023-11-20 16:00:00 SETTLEMENT  -0.000576 -70  70    149.03981447 USDT    \n",
              "3  2023-11-20 08:00:00 SETTLEMENT  -0.000478 -70  70    149.03428097 USDT    \n",
              "4  2023-11-20 00:00:00 SETTLEMENT  -0.000474 -70  70    149.02957539 USDT    \n",
              "5  2023-11-19 16:00:00 SETTLEMENT  -0.0001   -70  70    149.02481389 USDT    \n",
              "6  2023-11-19 08:00:00 SETTLEMENT  -0.0001   -70  70    149.02380505 USDT    \n",
              "7  2023-11-19 00:00:00 SETTLEMENT  -0.000149 -70  70    149.02280293 USDT    \n",
              "8  2023-11-18 16:00:00 SETTLEMENT  -0.0001   -70  70    149.0213448  USDT    \n",
              "9  2023-11-18 11:46:03 TRADE       0.00055   -70  70    149.0204012  USDT    \n",
              "10 2023-11-18 11:45:11 TRADE       0.001     0    74.58 74.50542     KAS     \n",
              "11 2023-11-18 11:45:11 TRADE       0         0    -9.99 149.02555712 USDT    \n",
              "12 2023-11-17 17:05:21 TRADE       0.00055   0    166   159.02449772 USDT    \n",
              "13 2023-11-17 17:02:06 TRADE       0.00055   166  166   159.018078   USDT    \n",
              "14 2023-11-17 12:10:30 TRANSFER_IN 0         0    0     159.01862644 USDT    \n",
              "15 2023-11-17 08:58:56 TRANSFER_IN 0         0    0     1.56872644   USDT    \n",
              "16 2023-11-17 08:58:38 TRANSFER_IN 0         0    0     0.00007885   BTC     \n",
              "17 2023-11-17 08:58:37 TRANSFER_IN 0         0    0     2610.59      SHIB    \n",
              "18 2023-11-17 08:58:37 TRANSFER_IN 0         0    0     0.000041     USDT    \n",
              "   category tradePrice\n",
              "1  linear   0.13022   \n",
              "2  linear   0.13744   \n",
              "3  linear   0.14068   \n",
              "4  linear   0.14369   \n",
              "5  linear   0.14412   \n",
              "6  linear   0.14316   \n",
              "7  linear   0.14013   \n",
              "8  linear   0.1348    \n",
              "9  linear   0.13392   \n",
              "10 spot     0.13407   \n",
              "11 spot     0.13407   \n",
              "12 linear   0.006049  \n",
              "13 linear   0.006007  \n",
              "14          0         \n",
              "15          0         \n",
              "16          0         \n",
              "17          0         \n",
              "18          0         "
            ]
          },
          "metadata": {}
        }
      ]
    },
    {
      "cell_type": "markdown",
      "source": [
        "## get_bybit_positions"
      ],
      "metadata": {
        "id": "m2r5Ufu0rQlW"
      }
    },
    {
      "cell_type": "code",
      "source": [
        "# Function to get Bybit transaction logs with authentication\n",
        "get_bybit_positions <- function(\n",
        "    category, symbol=\"\", baseCoin=\"\", settleCoin=\"\", limit = 20, cursor = \"\") {\n",
        "  base_url <- \"https://api.bybit.com/v5/position/list\"\n",
        "  recv_window <- \"5000\"\n",
        "\n",
        "  # Prepare query string\n",
        "  params <- list(category = category, symbol = symbol,\n",
        "                 baseCoin = baseCoin, settleCoin = settleCoin,\n",
        "                 limit = limit, cursor = cursor)\n",
        "  # Using `keep` to remove empty strings\n",
        "  params <- keep(params, ~ nzchar(.x))\n",
        "  query_string <- concatenate_params(params)\n",
        "\n",
        "  # Generate current timestamp in milliseconds as a character string\n",
        "  timestamp <- as.character(floor(as.numeric(Sys.time()) * 1000))\n",
        "  # Generate signature\n",
        "  signature <- generate_signature(api_key, api_secret, recv_window, query_string)\n",
        "\n",
        "  # Create headers ensuring all values are character strings\n",
        "  headers <- add_headers(`X-BAPI-API-KEY` = as.character(api_key),\n",
        "                         `X-BAPI-SIGN` = as.character(signature),\n",
        "                         `X-BAPI-TIMESTAMP` = as.character(timestamp),\n",
        "                         `X-BAPI-RECV-WINDOW` = as.character(recv_window),\n",
        "                         `Content-Type` = 'application/json')\n",
        "\n",
        "    response <- GET(url = base_url, query = query_string, config = headers)\n",
        "\n",
        "    if (response$status_code == 200) {\n",
        "      # Assuming 'response' is the object you received from the GET request\n",
        "      response_content <- content(response, \"text\")\n",
        "      # Parse the JSON content\n",
        "      parsed_json <- fromJSON(response_content)\n",
        "      print(parsed_json$retMsg)\n",
        "      # Accessing specific parts of the parsed JSON\n",
        "      # For example, if you want to convert the 'list' inside 'result' to a data frame\n",
        "      # transactions <- as.data.frame(parsed_json$result$list)\n",
        "      result <- as_tibble(parsed_json$result$list)\n",
        "      # transactions_tibble <- transactions_tibble %>%\n",
        "      # mutate(transactionTime = as.POSIXct(as.numeric(transactionTime) / 1000, origin = \"1970-01-01\", tz = \"UTC\"))\n",
        "      result\n",
        "    } else {\n",
        "      print(\"Error getting bybit response.\")\n",
        "    }\n",
        "}\n",
        "\n",
        "# Example usage\n",
        "result <- get_bybit_positions(\n",
        "  category = \"linear\",\n",
        "  settleCoin = \"USDT\"\n",
        ")\n",
        "# print(result)\n",
        "result"
      ],
      "metadata": {
        "colab": {
          "base_uri": "https://localhost:8080/",
          "height": 35
        },
        "id": "EVshhY42rQfZ",
        "outputId": "47e46ab6-9ed7-4697-ee75-d695bea2f865"
      },
      "execution_count": null,
      "outputs": [
        {
          "output_type": "stream",
          "name": "stdout",
          "text": [
            "[1] \"OK\"\n"
          ]
        },
        {
          "output_type": "display_data",
          "data": {
            "text/html": [],
            "text/markdown": "",
            "text/latex": "",
            "text/plain": [
              "<0 x 0 matrix>"
            ]
          },
          "metadata": {}
        }
      ]
    },
    {
      "cell_type": "markdown",
      "source": [
        "## get_bybit_order_history"
      ],
      "metadata": {
        "id": "MVFX9MLSuGWy"
      }
    },
    {
      "cell_type": "markdown",
      "source": [
        "https://bybit-exchange.github.io/docs/v5/order/order-list"
      ],
      "metadata": {
        "id": "t0s5ewLoKyrS"
      }
    },
    {
      "cell_type": "code",
      "source": [
        "get_bybit_order_history <- function(\n",
        "    category, symbol=\"\", baseCoin=\"\", settleCoin=\"\",\n",
        "    orderId=\"\", orderLinkId=\"\", orderFilter=\"\", orderStatus=\"\",\n",
        "    startTime=\"\", endTime=\"\",\n",
        "    limit = 20, cursor = \"\") {\n",
        "  base_url <- \"https://api.bybit.com/v5/order/history\"\n",
        "  if (startTime != \"\") {\n",
        "    start_unix <- as.numeric(as.POSIXct(startTime, tz = \"UTC\", format = \"%Y-%m-%d\")) * 1000\n",
        "    end_unix <- as.numeric(as.POSIXct(endTime, tz = \"UTC\", format = \"%Y-%m-%d\")) * 1000\n",
        "  }\n",
        "\n",
        "  recv_window <- \"5000\"\n",
        "\n",
        "  # Prepare query string\n",
        "  params <- list(category = category, symbol = symbol,\n",
        "                 baseCoin = baseCoin, settleCoin = settleCoin,\n",
        "                 orderId=orderId, orderLinkId=orderLinkId,\n",
        "                 orderFilter=orderFilter, orderStatus=orderStatus,\n",
        "                 startTime=startTime, endTime=endTime,\n",
        "                 limit = limit, cursor = cursor)\n",
        "  # Using `keep` to remove empty strings\n",
        "  params <- keep(params, ~ nzchar(.x))\n",
        "  query_string <- concatenate_params(params)\n",
        "\n",
        "  # Generate current timestamp in milliseconds as a character string\n",
        "  timestamp <- as.character(floor(as.numeric(Sys.time()) * 1000))\n",
        "  # Generate signature\n",
        "  signature <- generate_signature(api_key, api_secret, recv_window, query_string)\n",
        "\n",
        "  # Create headers ensuring all values are character strings\n",
        "  headers <- add_headers(`X-BAPI-API-KEY` = as.character(api_key),\n",
        "                         `X-BAPI-SIGN` = as.character(signature),\n",
        "                         `X-BAPI-TIMESTAMP` = as.character(timestamp),\n",
        "                         `X-BAPI-RECV-WINDOW` = as.character(recv_window),\n",
        "                         `Content-Type` = 'application/json')\n",
        "\n",
        "    response <- GET(url = base_url, query = query_string, config = headers)\n",
        "\n",
        "    if (response$status_code == 200) {\n",
        "      # Assuming 'response' is the object you received from the GET request\n",
        "      response_content <- content(response, \"text\")\n",
        "      # Parse the JSON content\n",
        "      parsed_json <- fromJSON(response_content)\n",
        "      print(parsed_json$retMsg)\n",
        "      # Accessing specific parts of the parsed JSON\n",
        "      # For example, if you want to convert the 'list' inside 'result' to a data frame\n",
        "      # transactions <- as.data.frame(parsed_json$result$list)\n",
        "      result <- as_tibble(parsed_json$result$list)\n",
        "      # transactions_tibble <- transactions_tibble %>%\n",
        "      # mutate(transactionTime = as.POSIXct(as.numeric(transactionTime) / 1000, origin = \"1970-01-01\", tz = \"UTC\"))\n",
        "      result\n",
        "    } else {\n",
        "      print(\"Error getting bybit response.\")\n",
        "    }\n",
        "}\n",
        "\n",
        "# Example usage\n",
        "result <- get_bybit_order_history(\n",
        "  category = \"linear\",\n",
        "  # settleCoin = \"USDT\"\n",
        ")\n",
        "# print(result)\n",
        "result"
      ],
      "metadata": {
        "colab": {
          "base_uri": "https://localhost:8080/",
          "height": 525
        },
        "id": "FdBT_0XkuGRd",
        "outputId": "daa27123-7485-4d76-faf9-9c5f42518e4a"
      },
      "execution_count": null,
      "outputs": [
        {
          "output_type": "stream",
          "name": "stdout",
          "text": [
            "[1] \"OK\"\n"
          ]
        },
        {
          "output_type": "display_data",
          "data": {
            "text/html": [
              "<table class=\"dataframe\">\n",
              "<caption>A tibble: 8 × 42</caption>\n",
              "<thead>\n",
              "\t<tr><th scope=col>symbol</th><th scope=col>orderType</th><th scope=col>orderLinkId</th><th scope=col>slLimitPrice</th><th scope=col>orderId</th><th scope=col>cancelType</th><th scope=col>avgPrice</th><th scope=col>stopOrderType</th><th scope=col>lastPriceOnCreated</th><th scope=col>orderStatus</th><th scope=col>⋯</th><th scope=col>slTriggerBy</th><th scope=col>leavesQty</th><th scope=col>closeOnTrigger</th><th scope=col>placeType</th><th scope=col>cumExecQty</th><th scope=col>reduceOnly</th><th scope=col>qty</th><th scope=col>stopLoss</th><th scope=col>smpOrderId</th><th scope=col>triggerBy</th></tr>\n",
              "\t<tr><th scope=col>&lt;chr&gt;</th><th scope=col>&lt;chr&gt;</th><th scope=col>&lt;chr&gt;</th><th scope=col>&lt;chr&gt;</th><th scope=col>&lt;chr&gt;</th><th scope=col>&lt;chr&gt;</th><th scope=col>&lt;chr&gt;</th><th scope=col>&lt;chr&gt;</th><th scope=col>&lt;chr&gt;</th><th scope=col>&lt;chr&gt;</th><th scope=col>⋯</th><th scope=col>&lt;chr&gt;</th><th scope=col>&lt;chr&gt;</th><th scope=col>&lt;lgl&gt;</th><th scope=col>&lt;chr&gt;</th><th scope=col>&lt;chr&gt;</th><th scope=col>&lt;lgl&gt;</th><th scope=col>&lt;chr&gt;</th><th scope=col>&lt;chr&gt;</th><th scope=col>&lt;chr&gt;</th><th scope=col>&lt;chr&gt;</th></tr>\n",
              "</thead>\n",
              "<tbody>\n",
              "\t<tr><td>BTCUSDT</td><td>Market</td><td></td><td>0</td><td>e5efb80b-e1bd-4395-b084-b88d2a9358dd</td><td>UNKNOWN</td><td>70071  </td><td></td><td>70071.1</td><td>Filled</td><td>⋯</td><td></td><td>0</td><td> TRUE</td><td></td><td>0.001</td><td> TRUE</td><td>0.001</td><td></td><td></td><td></td></tr>\n",
              "\t<tr><td>BTCUSDT</td><td>Limit </td><td></td><td>0</td><td>cee270e3-cd4a-4002-8ad4-1ba305e4b3bf</td><td>UNKNOWN</td><td>70494.1</td><td></td><td>70808  </td><td>Filled</td><td>⋯</td><td></td><td>0</td><td>FALSE</td><td></td><td>0.001</td><td>FALSE</td><td>0.001</td><td></td><td></td><td></td></tr>\n",
              "\t<tr><td>BTCUSDT</td><td>Market</td><td></td><td>0</td><td>40a352f3-f0ed-4aca-8caf-90f7294f7ba7</td><td>UNKNOWN</td><td>71848.8</td><td></td><td>71850  </td><td>Filled</td><td>⋯</td><td></td><td>0</td><td> TRUE</td><td></td><td>0.001</td><td> TRUE</td><td>0.001</td><td></td><td></td><td></td></tr>\n",
              "\t<tr><td>BTCUSDT</td><td>Market</td><td></td><td>0</td><td>69da2ed3-b41a-42e2-9060-d875345558fa</td><td>UNKNOWN</td><td>71842.1</td><td></td><td>71842.1</td><td>Filled</td><td>⋯</td><td></td><td>0</td><td>FALSE</td><td></td><td>0.001</td><td>FALSE</td><td>0.001</td><td></td><td></td><td></td></tr>\n",
              "\t<tr><td>BTCUSDT</td><td>Market</td><td></td><td>0</td><td>a8aec6e2-6de5-4edc-b3e9-cc483a764b1e</td><td>UNKNOWN</td><td>71927  </td><td></td><td>71927.1</td><td>Filled</td><td>⋯</td><td></td><td>0</td><td> TRUE</td><td></td><td>0.001</td><td> TRUE</td><td>0.001</td><td></td><td></td><td></td></tr>\n",
              "\t<tr><td>BTCUSDT</td><td>Limit </td><td></td><td>0</td><td>a89fc5a7-a065-4741-aa24-641fc18e0d80</td><td>UNKNOWN</td><td>71945  </td><td></td><td>71945  </td><td>Filled</td><td>⋯</td><td></td><td>0</td><td>FALSE</td><td></td><td>0.001</td><td>FALSE</td><td>0.001</td><td></td><td></td><td></td></tr>\n",
              "\t<tr><td>BTCUSDT</td><td>Market</td><td></td><td>0</td><td>c57454dd-4527-4a52-a696-387b6a6f58a4</td><td>UNKNOWN</td><td>72140  </td><td></td><td>72140.1</td><td>Filled</td><td>⋯</td><td></td><td>0</td><td> TRUE</td><td></td><td>0.001</td><td> TRUE</td><td>0.001</td><td></td><td></td><td></td></tr>\n",
              "\t<tr><td>BTCUSDT</td><td>Limit </td><td></td><td>0</td><td>076534fb-329a-4b2d-997b-3a909abcd9dd</td><td>UNKNOWN</td><td>72166.1</td><td></td><td>72166  </td><td>Filled</td><td>⋯</td><td></td><td>0</td><td>FALSE</td><td></td><td>0.001</td><td>FALSE</td><td>0.001</td><td></td><td></td><td></td></tr>\n",
              "</tbody>\n",
              "</table>\n"
            ],
            "text/markdown": "\nA tibble: 8 × 42\n\n| symbol &lt;chr&gt; | orderType &lt;chr&gt; | orderLinkId &lt;chr&gt; | slLimitPrice &lt;chr&gt; | orderId &lt;chr&gt; | cancelType &lt;chr&gt; | avgPrice &lt;chr&gt; | stopOrderType &lt;chr&gt; | lastPriceOnCreated &lt;chr&gt; | orderStatus &lt;chr&gt; | ⋯ ⋯ | slTriggerBy &lt;chr&gt; | leavesQty &lt;chr&gt; | closeOnTrigger &lt;lgl&gt; | placeType &lt;chr&gt; | cumExecQty &lt;chr&gt; | reduceOnly &lt;lgl&gt; | qty &lt;chr&gt; | stopLoss &lt;chr&gt; | smpOrderId &lt;chr&gt; | triggerBy &lt;chr&gt; |\n|---|---|---|---|---|---|---|---|---|---|---|---|---|---|---|---|---|---|---|---|---|\n| BTCUSDT | Market | <!----> | 0 | e5efb80b-e1bd-4395-b084-b88d2a9358dd | UNKNOWN | 70071   | <!----> | 70071.1 | Filled | ⋯ | <!----> | 0 |  TRUE | <!----> | 0.001 |  TRUE | 0.001 | <!----> | <!----> | <!----> |\n| BTCUSDT | Limit  | <!----> | 0 | cee270e3-cd4a-4002-8ad4-1ba305e4b3bf | UNKNOWN | 70494.1 | <!----> | 70808   | Filled | ⋯ | <!----> | 0 | FALSE | <!----> | 0.001 | FALSE | 0.001 | <!----> | <!----> | <!----> |\n| BTCUSDT | Market | <!----> | 0 | 40a352f3-f0ed-4aca-8caf-90f7294f7ba7 | UNKNOWN | 71848.8 | <!----> | 71850   | Filled | ⋯ | <!----> | 0 |  TRUE | <!----> | 0.001 |  TRUE | 0.001 | <!----> | <!----> | <!----> |\n| BTCUSDT | Market | <!----> | 0 | 69da2ed3-b41a-42e2-9060-d875345558fa | UNKNOWN | 71842.1 | <!----> | 71842.1 | Filled | ⋯ | <!----> | 0 | FALSE | <!----> | 0.001 | FALSE | 0.001 | <!----> | <!----> | <!----> |\n| BTCUSDT | Market | <!----> | 0 | a8aec6e2-6de5-4edc-b3e9-cc483a764b1e | UNKNOWN | 71927   | <!----> | 71927.1 | Filled | ⋯ | <!----> | 0 |  TRUE | <!----> | 0.001 |  TRUE | 0.001 | <!----> | <!----> | <!----> |\n| BTCUSDT | Limit  | <!----> | 0 | a89fc5a7-a065-4741-aa24-641fc18e0d80 | UNKNOWN | 71945   | <!----> | 71945   | Filled | ⋯ | <!----> | 0 | FALSE | <!----> | 0.001 | FALSE | 0.001 | <!----> | <!----> | <!----> |\n| BTCUSDT | Market | <!----> | 0 | c57454dd-4527-4a52-a696-387b6a6f58a4 | UNKNOWN | 72140   | <!----> | 72140.1 | Filled | ⋯ | <!----> | 0 |  TRUE | <!----> | 0.001 |  TRUE | 0.001 | <!----> | <!----> | <!----> |\n| BTCUSDT | Limit  | <!----> | 0 | 076534fb-329a-4b2d-997b-3a909abcd9dd | UNKNOWN | 72166.1 | <!----> | 72166   | Filled | ⋯ | <!----> | 0 | FALSE | <!----> | 0.001 | FALSE | 0.001 | <!----> | <!----> | <!----> |\n\n",
            "text/latex": "A tibble: 8 × 42\n\\begin{tabular}{lllllllllllllllllllll}\n symbol & orderType & orderLinkId & slLimitPrice & orderId & cancelType & avgPrice & stopOrderType & lastPriceOnCreated & orderStatus & ⋯ & slTriggerBy & leavesQty & closeOnTrigger & placeType & cumExecQty & reduceOnly & qty & stopLoss & smpOrderId & triggerBy\\\\\n <chr> & <chr> & <chr> & <chr> & <chr> & <chr> & <chr> & <chr> & <chr> & <chr> & ⋯ & <chr> & <chr> & <lgl> & <chr> & <chr> & <lgl> & <chr> & <chr> & <chr> & <chr>\\\\\n\\hline\n\t BTCUSDT & Market &  & 0 & e5efb80b-e1bd-4395-b084-b88d2a9358dd & UNKNOWN & 70071   &  & 70071.1 & Filled & ⋯ &  & 0 &  TRUE &  & 0.001 &  TRUE & 0.001 &  &  & \\\\\n\t BTCUSDT & Limit  &  & 0 & cee270e3-cd4a-4002-8ad4-1ba305e4b3bf & UNKNOWN & 70494.1 &  & 70808   & Filled & ⋯ &  & 0 & FALSE &  & 0.001 & FALSE & 0.001 &  &  & \\\\\n\t BTCUSDT & Market &  & 0 & 40a352f3-f0ed-4aca-8caf-90f7294f7ba7 & UNKNOWN & 71848.8 &  & 71850   & Filled & ⋯ &  & 0 &  TRUE &  & 0.001 &  TRUE & 0.001 &  &  & \\\\\n\t BTCUSDT & Market &  & 0 & 69da2ed3-b41a-42e2-9060-d875345558fa & UNKNOWN & 71842.1 &  & 71842.1 & Filled & ⋯ &  & 0 & FALSE &  & 0.001 & FALSE & 0.001 &  &  & \\\\\n\t BTCUSDT & Market &  & 0 & a8aec6e2-6de5-4edc-b3e9-cc483a764b1e & UNKNOWN & 71927   &  & 71927.1 & Filled & ⋯ &  & 0 &  TRUE &  & 0.001 &  TRUE & 0.001 &  &  & \\\\\n\t BTCUSDT & Limit  &  & 0 & a89fc5a7-a065-4741-aa24-641fc18e0d80 & UNKNOWN & 71945   &  & 71945   & Filled & ⋯ &  & 0 & FALSE &  & 0.001 & FALSE & 0.001 &  &  & \\\\\n\t BTCUSDT & Market &  & 0 & c57454dd-4527-4a52-a696-387b6a6f58a4 & UNKNOWN & 72140   &  & 72140.1 & Filled & ⋯ &  & 0 &  TRUE &  & 0.001 &  TRUE & 0.001 &  &  & \\\\\n\t BTCUSDT & Limit  &  & 0 & 076534fb-329a-4b2d-997b-3a909abcd9dd & UNKNOWN & 72166.1 &  & 72166   & Filled & ⋯ &  & 0 & FALSE &  & 0.001 & FALSE & 0.001 &  &  & \\\\\n\\end{tabular}\n",
            "text/plain": [
              "  symbol  orderType orderLinkId slLimitPrice\n",
              "1 BTCUSDT Market                0           \n",
              "2 BTCUSDT Limit                 0           \n",
              "3 BTCUSDT Market                0           \n",
              "4 BTCUSDT Market                0           \n",
              "5 BTCUSDT Market                0           \n",
              "6 BTCUSDT Limit                 0           \n",
              "7 BTCUSDT Market                0           \n",
              "8 BTCUSDT Limit                 0           \n",
              "  orderId                              cancelType avgPrice stopOrderType\n",
              "1 e5efb80b-e1bd-4395-b084-b88d2a9358dd UNKNOWN    70071                 \n",
              "2 cee270e3-cd4a-4002-8ad4-1ba305e4b3bf UNKNOWN    70494.1               \n",
              "3 40a352f3-f0ed-4aca-8caf-90f7294f7ba7 UNKNOWN    71848.8               \n",
              "4 69da2ed3-b41a-42e2-9060-d875345558fa UNKNOWN    71842.1               \n",
              "5 a8aec6e2-6de5-4edc-b3e9-cc483a764b1e UNKNOWN    71927                 \n",
              "6 a89fc5a7-a065-4741-aa24-641fc18e0d80 UNKNOWN    71945                 \n",
              "7 c57454dd-4527-4a52-a696-387b6a6f58a4 UNKNOWN    72140                 \n",
              "8 076534fb-329a-4b2d-997b-3a909abcd9dd UNKNOWN    72166.1               \n",
              "  lastPriceOnCreated orderStatus ⋯ slTriggerBy leavesQty closeOnTrigger\n",
              "1 70071.1            Filled      ⋯             0          TRUE         \n",
              "2 70808              Filled      ⋯             0         FALSE         \n",
              "3 71850              Filled      ⋯             0          TRUE         \n",
              "4 71842.1            Filled      ⋯             0         FALSE         \n",
              "5 71927.1            Filled      ⋯             0          TRUE         \n",
              "6 71945              Filled      ⋯             0         FALSE         \n",
              "7 72140.1            Filled      ⋯             0          TRUE         \n",
              "8 72166              Filled      ⋯             0         FALSE         \n",
              "  placeType cumExecQty reduceOnly qty   stopLoss smpOrderId triggerBy\n",
              "1           0.001       TRUE      0.001                              \n",
              "2           0.001      FALSE      0.001                              \n",
              "3           0.001       TRUE      0.001                              \n",
              "4           0.001      FALSE      0.001                              \n",
              "5           0.001       TRUE      0.001                              \n",
              "6           0.001      FALSE      0.001                              \n",
              "7           0.001       TRUE      0.001                              \n",
              "8           0.001      FALSE      0.001                              "
            ]
          },
          "metadata": {}
        }
      ]
    },
    {
      "cell_type": "markdown",
      "source": [
        "## get_bybit_balance"
      ],
      "metadata": {
        "id": "hqopAKPfya2I"
      }
    },
    {
      "cell_type": "code",
      "source": [
        "get_bybit_balance <- function(\n",
        "    memberId=\"\", accountType=\"UNIFIED\", coin=\"\", withBonus=\"\") {\n",
        "  base_url <- \"https://api.bybit.com/v5/asset/transfer/query-account-coins-balance\"\n",
        "  # if (startTime != \"\") {\n",
        "  #   start_unix <- as.numeric(as.POSIXct(startTime, tz = \"UTC\", format = \"%Y-%m-%d\")) * 1000\n",
        "  #   end_unix <- as.numeric(as.POSIXct(endTime, tz = \"UTC\", format = \"%Y-%m-%d\")) * 1000\n",
        "  # }\n",
        "\n",
        "  recv_window <- \"5000\"\n",
        "\n",
        "  # Prepare query string\n",
        "  params <- list(memberId = memberId, accountType = accountType,\n",
        "                 coin = coin, withBonus = withBonus)\n",
        "  # Using `keep` to remove empty strings\n",
        "  params <- keep(params, ~ nzchar(.x))\n",
        "  query_string <- concatenate_params(params)\n",
        "\n",
        "  # Generate current timestamp in milliseconds as a character string\n",
        "  timestamp <- as.character(floor(as.numeric(Sys.time()) * 1000))\n",
        "  # Generate signature\n",
        "  signature <- generate_signature(api_key, api_secret, recv_window, query_string)\n",
        "\n",
        "  # Create headers ensuring all values are character strings\n",
        "  headers <- add_headers(`X-BAPI-API-KEY` = as.character(api_key),\n",
        "                         `X-BAPI-SIGN` = as.character(signature),\n",
        "                         `X-BAPI-TIMESTAMP` = as.character(timestamp),\n",
        "                         `X-BAPI-RECV-WINDOW` = as.character(recv_window),\n",
        "                         `Content-Type` = 'application/json')\n",
        "\n",
        "    response <- GET(url = base_url, query = query_string, config = headers)\n",
        "\n",
        "    if (response$status_code == 200) {\n",
        "      # Assuming 'response' is the object you received from the GET request\n",
        "      response_content <- content(response, \"text\")\n",
        "      # Parse the JSON content\n",
        "      parsed_json <- fromJSON(response_content)\n",
        "      print(parsed_json$retMsg)\n",
        "      # Accessing specific parts of the parsed JSON\n",
        "      # For example, if you want to convert the 'list' inside 'result' to a data frame\n",
        "      # transactions <- as.data.frame(parsed_json$result$list)\n",
        "      result <- as_tibble(parsed_json$result$list)\n",
        "      # transactions_tibble <- transactions_tibble %>%\n",
        "      # mutate(transactionTime = as.POSIXct(as.numeric(transactionTime) / 1000, origin = \"1970-01-01\", tz = \"UTC\"))\n",
        "      result\n",
        "    } else {\n",
        "      print(\"Error getting bybit response.\")\n",
        "    }\n",
        "}\n",
        "\n",
        "# Example usage\n",
        "result <- get_bybit_balance(\n",
        "  # accountType = \"CONTRACT\"\n",
        ")\n",
        "# print(result)\n",
        "result"
      ],
      "metadata": {
        "colab": {
          "base_uri": "https://localhost:8080/",
          "height": 35
        },
        "id": "FAA39aRoyaxG",
        "outputId": "13a922dd-49c2-42f6-ed92-efb301361af0"
      },
      "execution_count": null,
      "outputs": [
        {
          "output_type": "stream",
          "name": "stdout",
          "text": [
            "[1] \"Permission denied, please check your API key permissions.\"\n"
          ]
        },
        {
          "output_type": "display_data",
          "data": {
            "text/html": [],
            "text/markdown": "",
            "text/latex": "",
            "text/plain": [
              "<0 x 0 matrix>"
            ]
          },
          "metadata": {}
        }
      ]
    }
  ]
}